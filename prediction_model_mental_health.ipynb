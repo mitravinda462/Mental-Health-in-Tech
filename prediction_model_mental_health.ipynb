{
  "cells": [
    {
      "cell_type": "code",
      "execution_count": null,
      "metadata": {
        "id": "bYvv6kuQP1pf"
      },
      "outputs": [],
      "source": [
        "import pandas as pd\n",
        "import numpy as np\n",
        "import seaborn as sns\n",
        "import matplotlib.pyplot as plt\n",
        "%matplotlib inline\n",
        "from sklearn.model_selection import train_test_split\n",
        "import warnings\n",
        "warnings.filterwarnings('ignore')\n",
        "import missingno as msno\n",
        "from sklearn.preprocessing import LabelEncoder\n",
        "import plotly.graph_objects as go\n",
        "import plotly.express as px\n",
        "\n",
        "#df=pd.read_csv(\"mental_health.csv\")\n",
        "df17=pd.read_csv(\"OSMI 2017.csv\")\n",
        "df18=pd.read_csv(\"OSMI 2018.csv\")\n",
        "df19=pd.read_csv(\"OSMI 2019.csv\")\n",
        "df20=pd.read_csv(\"OSMI 2020.csv\")\n",
        "df21=pd.read_csv(\"OSMI 2021.csv\")"
      ]
    },
    {
      "cell_type": "code",
      "execution_count": null,
      "metadata": {
        "id": "-M0Pb7mQil8K"
      },
      "outputs": [],
      "source": [
        "from sklearn.preprocessing import StandardScaler\n",
        "from sklearn import metrics"
      ]
    },
    {
      "cell_type": "markdown",
      "metadata": {
        "id": "O7Tk6Fa7SgOV"
      },
      "source": [
        "Indepedent variables that can be used: Age, gender, family history and benefits offered by employer\n"
      ]
    },
    {
      "cell_type": "code",
      "execution_count": null,
      "metadata": {
        "colab": {
          "base_uri": "https://localhost:8080/"
        },
        "id": "7nx7wVvxQnH6",
        "outputId": "65e30017-c7f9-4b20-bf56-900e1f1d7e98"
      },
      "outputs": [
        {
          "name": "stdout",
          "output_type": "stream",
          "text": [
            "Are you self-employed?\n",
            "How many employees does your company or organization have?\n",
            "Is your employer primarily a tech company/organization?\n",
            "Is your primary role within your company related to tech/IT?\n",
            "Does your employer provide mental health benefits as part of healthcare coverage?\n",
            "Do you know the options for mental health care available under your employer-provided coverage?\n",
            "Has your employer ever formally discussed mental health (for example, as part of a wellness campaign or other official communication)?\n",
            "Does your employer offer resources to learn more about mental health concerns and options for seeking help?\n",
            "Is your anonymity protected if you choose to take advantage of mental health or substance abuse treatment resources provided by your employer?\n",
            "If a mental health issue prompted you to request a medical leave from work, asking for that leave would be:\n",
            "Do you think that discussing a mental health disorder with your employer would have negative consequences?\n",
            "Do you think that discussing a physical health issue with your employer would have negative consequences?\n",
            "Would you feel comfortable discussing a mental health disorder with your coworkers?\n",
            "Would you feel comfortable discussing a mental health disorder with your direct supervisor(s)?\n",
            "Do you feel that your employer takes mental health as seriously as physical health?\n",
            "Have you heard of or observed negative consequences for co-workers who have been open about mental health issues in your workplace?\n",
            "Do you have medical coverage (private insurance or state-provided) which includes treatment of  mental health issues?\n",
            "Do you know local or online resources to seek help for a mental health disorder?\n",
            "If you have been diagnosed or treated for a mental health disorder, do you ever reveal this to clients or business contacts?\n",
            "If you have revealed a mental health issue to a client or business contact, do you believe this has impacted you negatively?\n",
            "If you have been diagnosed or treated for a mental health disorder, do you ever reveal this to coworkers or employees?\n",
            "If you have revealed a mental health issue to a coworker or employee, do you believe this has impacted you negatively?\n",
            "Do you believe your productivity is ever affected by a mental health issue?\n",
            "If yes, what percentage of your work time (time performing primary or secondary job functions) is affected by a mental health issue?\n",
            "Do you have previous employers?\n",
            "Have your previous employers provided mental health benefits?\n",
            "Were you aware of the options for mental health care provided by your previous employers?\n",
            "Did your previous employers ever formally discuss mental health (as part of a wellness campaign or other official communication)?\n",
            "Did your previous employers provide resources to learn more about mental health issues and how to seek help?\n",
            "Was your anonymity protected if you chose to take advantage of mental health or substance abuse treatment resources with previous employers?\n",
            "Do you think that discussing a mental health disorder with previous employers would have negative consequences?\n",
            "Do you think that discussing a physical health issue with previous employers would have negative consequences?\n",
            "Would you have been willing to discuss a mental health issue with your previous co-workers?\n",
            "Would you have been willing to discuss a mental health issue with your direct supervisor(s)?\n",
            "Did you feel that your previous employers took mental health as seriously as physical health?\n",
            "Did you hear of or observe negative consequences for co-workers with mental health issues in your previous workplaces?\n",
            "Would you be willing to bring up a physical health issue with a potential employer in an interview?\n",
            "Why or why not?\n",
            "Would you bring up a mental health issue with a potential employer in an interview?\n",
            "Why or why not?.1\n",
            "Do you feel that being identified as a person with a mental health issue would hurt your career?\n",
            "Do you think that team members/co-workers would view you more negatively if they knew you suffered from a mental health issue?\n",
            "How willing would you be to share with friends and family that you have a mental illness?\n",
            "Have you observed or experienced an unsupportive or badly handled response to a mental health issue in your current or previous workplace?\n",
            "Have your observations of how another individual who discussed a mental health disorder made you less likely to reveal a mental health issue yourself in your current workplace?\n",
            "Do you have a family history of mental illness?\n",
            "Have you had a mental health disorder in the past?\n",
            "Do you currently have a mental health disorder?\n",
            "If yes, what condition(s) have you been diagnosed with?\n",
            "If maybe, what condition(s) do you believe you have?\n",
            "Have you been diagnosed with a mental health condition by a medical professional?\n",
            "If so, what condition(s) were you diagnosed with?\n",
            "Have you ever sought treatment for a mental health issue from a mental health professional?\n",
            "If you have a mental health issue, do you feel that it interferes with your work when being treated effectively?\n",
            "If you have a mental health issue, do you feel that it interferes with your work when NOT being treated effectively?\n",
            "What is your age?\n",
            "What is your gender?\n",
            "What country do you live in?\n",
            "What US state or territory do you live in?\n",
            "What country do you work in?\n",
            "What US state or territory do you work in?\n",
            "Which of the following best describes your work position?\n",
            "Do you work remotely?\n"
          ]
        }
      ],
      "source": [
        "for col in df.columns:\n",
        "    print(col)"
      ]
    },
    {
      "cell_type": "code",
      "execution_count": null,
      "metadata": {
        "id": "jLQnbjwsRNgf"
      },
      "outputs": [],
      "source": [
        "\n",
        "renamed_columns=[\"Self_employed\",\"Total_employees\",\"Tech_organization\",\"IT_Tech\",\"Mental_health_coverage\",\"Awareness_of_options_under_coverage\",\"Employers_discussion_on_mental_health\",\"Resources_and_options_for_help\",\"Anomity_of_employees_using_mental_health_resources\",\"Mental_issue_related_leave\",\"Discussing_mental_health_neg_consequences\",\"Discussing_physical_health_neg_consequences\",\"Comfort_discussing_with_coworkers\",\"Comfort_discussing_with_supervisor\",\"Employer_seriousness_on_mental_health\",\"Negative_consequences_of_coworkers_with_mental_health_disorder\",\"Medical_coverage\",\"Aware_of_local_online_resources\",\"Reveal_condition_to_clients_business_contacts\",\"Consequence_if_revealed_health_issue_to_client_or_business_contact\",'Diagnosed_but_not_revealed_with_coworkers_employees','negimpact_reveal_coworker','prod_affect_mental_issue','percent_worktime_affected','have_prev_empl','prev_empl_mental_benefits','aware_benefits_prev_empl','formal_discuss_mental_health_premp','premp_provide_resources_learn_seekhelp','anonymity_protect_premp_choose_resources','neg_eff_discuss_mental_health_premp','neg_eff_discuss_phy_health_premp','willing_discuss_issue_prev_coworkers','willing_discuss_issue_dir_supervisors','premp_took_menhealth_seriously_as_phyhealth','neg_comments_abt_coworkers_with_menissues_prev_workplace','bring_phyhealth_issue_with_potential_empl_interview','phy_y_ynot','bring_menhealth_issue_with_potential_empl_interview','men_y_ynot','hurt_carrer_if_identified_as_person_with_mental_issue','more_neg_view_from_coworker_if_know_abt_men_issue','share_w_friends_fam','workplace_response','other_exp_in_workplace','fam_hist','past_mh','curr_mh','diagnosed','maybe_diagnosed','diagnosed_prof','diagnosed_prof_mh','treatment_mh_prof','work_interference_treatment','work_interference_no_treatment','age','gender','country_live','us_state_live','country_work','us_state_work','work_pos','remote']\n",
        "df.columns=renamed_columns"
      ]
    },
    {
      "cell_type": "code",
      "execution_count": null,
      "metadata": {
        "colab": {
          "base_uri": "https://localhost:8080/"
        },
        "id": "9lnYMHdMRSpe",
        "outputId": "2670e469-0fae-48b7-dfdc-768eefad29c1"
      },
      "outputs": [
        {
          "name": "stdout",
          "output_type": "stream",
          "text": [
            "['IT_Tech', 'Medical_coverage', 'Aware_of_local_online_resources', 'Reveal_condition_to_clients_business_contacts', 'Consequence_if_revealed_health_issue_to_client_or_business_contact', 'Diagnosed_but_not_revealed_with_coworkers_employees', 'negimpact_reveal_coworker', 'prod_affect_mental_issue', 'percent_worktime_affected', 'other_exp_in_workplace', 'diagnosed', 'maybe_diagnosed', 'diagnosed_prof_mh']\n"
          ]
        }
      ],
      "source": [
        "\n",
        "to_drop_columns=[i for i in df.columns if df[i].isna().sum()>df.shape[0]/2]\n",
        "print(to_drop_columns)\n",
        "df.drop(to_drop_columns,axis=1,inplace=True)"
      ]
    },
    {
      "cell_type": "code",
      "execution_count": null,
      "metadata": {
        "id": "VxAl5wyqRVFW"
      },
      "outputs": [],
      "source": [
        "#gender has 70 different classes. Encoding them to fewer classes for ease of calculation:\n",
        "#male:1, female:2, anything else:3\n",
        "df['gender'].replace(to_replace = ['Male', 'male', 'Male ', 'M', 'm',\n",
        "       'man', 'Cis male', 'Male.', 'male 9:1 female, roughly', 'Male (cis)', 'Man', 'Sex is male',\n",
        "       'cis male', 'Malr', 'Dude', \"I'm a man why didn't you make this a drop down question. You should of asked sex? And I would of answered yes please. Seriously how much text can this take? \",\n",
        "       'mail', 'M|', 'Male/genderqueer', 'male ',\n",
        "       'Cis Male', 'Male (trans, FtM)',\n",
        "       'cisdude', 'cis man', 'MALE'], value = 1, inplace = True)\n",
        "\n",
        "df['gender'].replace(to_replace = ['Female', 'female', 'I identify as female.', 'female ',\n",
        "       'Female assigned at birth ', 'F', 'Woman', 'fm', 'f', 'Cis female ', 'Transitioned, M2F',\n",
        "       'Genderfluid (born female)', 'Female or Multi-Gender Femme', 'Female ', 'woman', 'female/woman','Cisgender Female', 'fem', 'Female (props for making this a freeform field, though)',\n",
        "       ' Female', 'Cis-woman', 'female-bodied; no feelings about gender',\n",
        "       'AFAB'], value = 2, inplace = True)\n",
        "\n",
        "df['gender'].replace(to_replace = ['Bigender', 'non-binary', 'Other/Transfeminine',\n",
        "       'Androgynous', 'Other', 'nb masculine',\n",
        "       'none of your business', 'genderqueer', 'Human', 'Genderfluid',\n",
        "       'Enby', 'genderqueer woman', 'mtf', 'Queer', 'Agender', 'Fluid',\n",
        "       'Nonbinary', 'human', 'Unicorn', 'Genderqueer',\n",
        "       'Genderflux demi-girl', 'Transgender woman','NaN'], value = 3, inplace = True)\n",
        "#Change all non-responses to 3\n",
        "df['gender'].replace(to_replace=[np.NaN], value=3,inplace=True)"
      ]
    },
    {
      "cell_type": "code",
      "execution_count": null,
      "metadata": {
        "id": "oaHhT5U-RXrG"
      },
      "outputs": [],
      "source": [
        "#columns 'phy_y_ynot' and 'men_y_ynot' mainly contain comments which aren't of much use for our problem definition\n",
        "# hence, we drop the columns 'phy_y_ynot' and 'men_y_ynot'\n",
        "df.drop(labels ='phy_y_ynot', axis = 1, inplace = True)\n",
        "df.drop(labels ='men_y_ynot', axis = 1, inplace = True)\n",
        "\n",
        "# dealing with missing values in 'prev_empl_mental_benefits'\n",
        "# from previous operation, we see that, whenever the value for have_prev_empl = 0, then the value for 'prev_empl_mental_benefits' = Nan\n",
        "# hence replacing the nans with \"Not Applicable\"\n",
        "df['prev_empl_mental_benefits'].fillna('Not Applicable',inplace= True)\n",
        "df['prev_empl_mental_benefits'].unique()\n",
        "\n",
        "# the same observation was found for the missing values in columns from formal_discuss_mental_health_premp' to'neg_comments_abt_coworkers_with_menissues_prev_workplace'\n",
        "# replacing missing values \n",
        "# whenever the value for have_prev_empl = 0, then the value in the other col= Nan\n",
        "# hence replacing the nans with \"Not Applicable\"\n",
        "df['aware_benefits_prev_empl'].fillna('Not Applicable',inplace= True)\n",
        "df['formal_discuss_mental_health_premp'].fillna('Not Applicable',inplace= True)\n",
        "df['premp_provide_resources_learn_seekhelp'].fillna('Not Applicable',inplace= True)\n",
        "df['anonymity_protect_premp_choose_resources'].fillna('Not Applicable',inplace= True)\n",
        "df['neg_eff_discuss_mental_health_premp'].fillna('Not Applicable',inplace= True)\n",
        "df['neg_eff_discuss_phy_health_premp'].fillna('Not Applicable',inplace= True)\n",
        "df['willing_discuss_issue_dir_supervisors'].fillna('Not Applicable',inplace= True)\n",
        "df['willing_discuss_issue_prev_coworkers'].fillna('Not Applicable',inplace= True) \n",
        "df['premp_took_menhealth_seriously_as_phyhealth'].fillna('Not Applicable',inplace= True)\n",
        "df['neg_comments_abt_coworkers_with_menissues_prev_workplace'].fillna('Not Applicable',inplace= True)\n",
        "\n",
        "#Acronyms of countries with long names (United states of america)\n",
        "df['country_live'].replace(to_replace = ['United States of America'], value = 'USA', inplace = True)\n",
        "df['country_live'].replace(to_replace = ['United Kingdom'], value = 'UK', inplace = True)\n",
        "df['country_work'].replace(to_replace = ['United States of America'], value = 'USA', inplace = True)\n",
        "df['country_work'].replace(to_replace = ['United Kingdom'], value = 'UK', inplace = True)\n",
        "\n",
        "#Removing age outliers (323,3,etc). Replace such ages with the mean of all ages\n",
        "mean_age = df[(df['age'] >= 18) | (df['age'] <= 80)]['age'].mean()\n",
        "df['age'].replace(to_replace = df[(df['age'] < 18) | (df['age'] > 75)]['age'].tolist(),\n",
        "                          value = mean_age, inplace = True)\n",
        "#df=df.dropna()"
      ]
    },
    {
      "cell_type": "code",
      "execution_count": null,
      "metadata": {
        "colab": {
          "base_uri": "https://localhost:8080/"
        },
        "id": "PocyF1DsRb-W",
        "outputId": "0a66eec9-6a6e-48a3-b815-b49ca1a2cccf"
      },
      "outputs": [
        {
          "data": {
            "text/plain": [
              "5415"
            ]
          },
          "execution_count": 8,
          "metadata": {},
          "output_type": "execute_result"
        }
      ],
      "source": [
        "df.isnull().sum().sum()"
      ]
    },
    {
      "cell_type": "code",
      "execution_count": null,
      "metadata": {
        "colab": {
          "base_uri": "https://localhost:8080/"
        },
        "id": "n2W4ipWbcN7o",
        "outputId": "bac04b0e-63d3-41b5-e7c6-f1ef476f0063"
      },
      "outputs": [
        {
          "name": "stdout",
          "output_type": "stream",
          "text": [
            "Total_employees\n",
            "Tech_organization\n",
            "Mental_health_coverage\n",
            "Awareness_of_options_under_coverage\n",
            "Employers_discussion_on_mental_health\n",
            "Resources_and_options_for_help\n",
            "Anomity_of_employees_using_mental_health_resources\n",
            "Mental_issue_related_leave\n",
            "Discussing_mental_health_neg_consequences\n",
            "Discussing_physical_health_neg_consequences\n",
            "Comfort_discussing_with_coworkers\n",
            "Comfort_discussing_with_supervisor\n",
            "Employer_seriousness_on_mental_health\n",
            "Negative_consequences_of_coworkers_with_mental_health_disorder\n",
            "workplace_response\n",
            "us_state_live\n",
            "us_state_work\n"
          ]
        }
      ],
      "source": [
        "\n",
        "#Remaining columns with null values\n",
        "for i in df.columns:\n",
        "    if(df[i].isnull().values.any()):\n",
        "        print(i)"
      ]
    },
    {
      "cell_type": "code",
      "execution_count": null,
      "metadata": {
        "id": "nqEaVDy4cUQ7"
      },
      "outputs": [],
      "source": [
        "#It is seen that the people who are self employed have missing values in the corresponding rows of the column Total_employees \n",
        "# hence the missing values were imputed with '1-5' as most of the self employed people had a total of 1-5 employees\n",
        "df['Total_employees']=df['Total_employees'].replace(to_replace=np.nan,value='1-5')\n",
        "#Missing values in Tech_organization column is replaced by the mode of the same column\n",
        "df['Tech_organization']=df['Tech_organization'].replace(to_replace=np.nan,value=1)\n",
        "#Grouping the remaining columns with respect to 'Self_employed' column \n",
        "#and imputing the missing values in each column with the modes of that column corresponding to each group.\n",
        "for column in df.columns:\n",
        "    if column!='Self_employed':\n",
        "        df[column]= df.groupby(['Self_employed'], sort=False)[column].apply(lambda x: x.fillna(x.mode()))"
      ]
    },
    {
      "cell_type": "code",
      "execution_count": null,
      "metadata": {
        "colab": {
          "base_uri": "https://localhost:8080/"
        },
        "id": "nEZWbh6eK9_p",
        "outputId": "f7c9ec96-0a0b-4b2d-fb5e-f0ecd2a32f46"
      },
      "outputs": [
        {
          "name": "stdout",
          "output_type": "stream",
          "text": [
            "1433\n"
          ]
        },
        {
          "data": {
            "text/plain": [
              "array(['UK', 'USA', 'Canada', 'Germany', 'Netherlands', 'Czech Republic',\n",
              "       'Lithuania', 'Australia', 'France', 'Venezuela', 'Poland',\n",
              "       'Belgium', 'Brazil', 'Denmark', 'Sweden', 'Russia', 'Spain',\n",
              "       'India', 'Mexico', 'Switzerland', 'Norway', 'Argentina', 'Ireland',\n",
              "       'Italy', 'Finland', 'Colombia', 'Costa Rica', 'Vietnam',\n",
              "       'Bulgaria', 'New Zealand', 'South Africa', 'Slovakia', 'Austria',\n",
              "       'Bangladesh', 'Algeria', 'Pakistan', 'Afghanistan', 'Greece',\n",
              "       'Romania', 'Other', 'Brunei', 'Japan', 'Iran', 'Hungary', 'Israel',\n",
              "       'Ecuador', 'Bosnia and Herzegovina', 'China', 'Chile', 'Guatemala',\n",
              "       'Taiwan', 'Serbia', 'Estonia'], dtype=object)"
            ]
          },
          "execution_count": 11,
          "metadata": {},
          "output_type": "execute_result"
        }
      ],
      "source": [
        "print(df.shape[0])\n",
        "df['country_live'].unique()"
      ]
    },
    {
      "cell_type": "code",
      "execution_count": null,
      "metadata": {
        "colab": {
          "base_uri": "https://localhost:8080/",
          "height": 557
        },
        "id": "9zL1l0cCLxWj",
        "outputId": "538a321a-f5a2-4f0d-b4ff-6df2ae58d52e"
      },
      "outputs": [
        {
          "data": {
            "text/html": [
              "\n",
              "  <div id=\"df-76357508-5ed6-4839-b340-2dc73faa5ae4\">\n",
              "    <div class=\"colab-df-container\">\n",
              "      <div>\n",
              "<style scoped>\n",
              "    .dataframe tbody tr th:only-of-type {\n",
              "        vertical-align: middle;\n",
              "    }\n",
              "\n",
              "    .dataframe tbody tr th {\n",
              "        vertical-align: top;\n",
              "    }\n",
              "\n",
              "    .dataframe thead th {\n",
              "        text-align: right;\n",
              "    }\n",
              "</style>\n",
              "<table border=\"1\" class=\"dataframe\">\n",
              "  <thead>\n",
              "    <tr style=\"text-align: right;\">\n",
              "      <th></th>\n",
              "      <th>Self_employed</th>\n",
              "      <th>Total_employees</th>\n",
              "      <th>Tech_organization</th>\n",
              "      <th>Mental_health_coverage</th>\n",
              "      <th>Awareness_of_options_under_coverage</th>\n",
              "      <th>Employers_discussion_on_mental_health</th>\n",
              "      <th>Resources_and_options_for_help</th>\n",
              "      <th>Anomity_of_employees_using_mental_health_resources</th>\n",
              "      <th>Mental_issue_related_leave</th>\n",
              "      <th>Discussing_mental_health_neg_consequences</th>\n",
              "      <th>...</th>\n",
              "      <th>work_interference_treatment</th>\n",
              "      <th>work_interference_no_treatment</th>\n",
              "      <th>age</th>\n",
              "      <th>gender</th>\n",
              "      <th>country_live</th>\n",
              "      <th>us_state_live</th>\n",
              "      <th>country_work</th>\n",
              "      <th>us_state_work</th>\n",
              "      <th>work_pos</th>\n",
              "      <th>remote</th>\n",
              "    </tr>\n",
              "  </thead>\n",
              "  <tbody>\n",
              "    <tr>\n",
              "      <th>0</th>\n",
              "      <td>0</td>\n",
              "      <td>26-100</td>\n",
              "      <td>1.0</td>\n",
              "      <td>Not eligible for coverage / N/A</td>\n",
              "      <td>No</td>\n",
              "      <td>No</td>\n",
              "      <td>No</td>\n",
              "      <td>I don't know</td>\n",
              "      <td>Very easy</td>\n",
              "      <td>No</td>\n",
              "      <td>...</td>\n",
              "      <td>Not applicable to me</td>\n",
              "      <td>Not applicable to me</td>\n",
              "      <td>39.0</td>\n",
              "      <td>1.0</td>\n",
              "      <td>UK</td>\n",
              "      <td>California</td>\n",
              "      <td>UK</td>\n",
              "      <td>California</td>\n",
              "      <td>Back-end Developer</td>\n",
              "      <td>Sometimes</td>\n",
              "    </tr>\n",
              "    <tr>\n",
              "      <th>1</th>\n",
              "      <td>0</td>\n",
              "      <td>6-25</td>\n",
              "      <td>1.0</td>\n",
              "      <td>No</td>\n",
              "      <td>Yes</td>\n",
              "      <td>Yes</td>\n",
              "      <td>Yes</td>\n",
              "      <td>Yes</td>\n",
              "      <td>Somewhat easy</td>\n",
              "      <td>No</td>\n",
              "      <td>...</td>\n",
              "      <td>Rarely</td>\n",
              "      <td>Sometimes</td>\n",
              "      <td>29.0</td>\n",
              "      <td>1.0</td>\n",
              "      <td>USA</td>\n",
              "      <td>Illinois</td>\n",
              "      <td>USA</td>\n",
              "      <td>Illinois</td>\n",
              "      <td>Back-end Developer|Front-end Developer</td>\n",
              "      <td>Never</td>\n",
              "    </tr>\n",
              "    <tr>\n",
              "      <th>2</th>\n",
              "      <td>0</td>\n",
              "      <td>6-25</td>\n",
              "      <td>1.0</td>\n",
              "      <td>No</td>\n",
              "      <td>NaN</td>\n",
              "      <td>No</td>\n",
              "      <td>No</td>\n",
              "      <td>I don't know</td>\n",
              "      <td>Neither easy nor difficult</td>\n",
              "      <td>Maybe</td>\n",
              "      <td>...</td>\n",
              "      <td>Not applicable to me</td>\n",
              "      <td>Not applicable to me</td>\n",
              "      <td>38.0</td>\n",
              "      <td>1.0</td>\n",
              "      <td>UK</td>\n",
              "      <td>NaN</td>\n",
              "      <td>UK</td>\n",
              "      <td>NaN</td>\n",
              "      <td>Back-end Developer</td>\n",
              "      <td>Always</td>\n",
              "    </tr>\n",
              "    <tr>\n",
              "      <th>3</th>\n",
              "      <td>1</td>\n",
              "      <td>1-5</td>\n",
              "      <td>1.0</td>\n",
              "      <td>NaN</td>\n",
              "      <td>NaN</td>\n",
              "      <td>NaN</td>\n",
              "      <td>NaN</td>\n",
              "      <td>NaN</td>\n",
              "      <td>NaN</td>\n",
              "      <td>NaN</td>\n",
              "      <td>...</td>\n",
              "      <td>Sometimes</td>\n",
              "      <td>Sometimes</td>\n",
              "      <td>43.0</td>\n",
              "      <td>1.0</td>\n",
              "      <td>UK</td>\n",
              "      <td>NaN</td>\n",
              "      <td>UK</td>\n",
              "      <td>NaN</td>\n",
              "      <td>Supervisor/Team Lead</td>\n",
              "      <td>Sometimes</td>\n",
              "    </tr>\n",
              "    <tr>\n",
              "      <th>4</th>\n",
              "      <td>0</td>\n",
              "      <td>6-25</td>\n",
              "      <td>0.0</td>\n",
              "      <td>Yes</td>\n",
              "      <td>Yes</td>\n",
              "      <td>No</td>\n",
              "      <td>No</td>\n",
              "      <td>No</td>\n",
              "      <td>Neither easy nor difficult</td>\n",
              "      <td>Yes</td>\n",
              "      <td>...</td>\n",
              "      <td>Sometimes</td>\n",
              "      <td>Sometimes</td>\n",
              "      <td>43.0</td>\n",
              "      <td>2.0</td>\n",
              "      <td>USA</td>\n",
              "      <td>Illinois</td>\n",
              "      <td>USA</td>\n",
              "      <td>Illinois</td>\n",
              "      <td>Executive Leadership|Supervisor/Team Lead|Dev ...</td>\n",
              "      <td>Sometimes</td>\n",
              "    </tr>\n",
              "    <tr>\n",
              "      <th>...</th>\n",
              "      <td>...</td>\n",
              "      <td>...</td>\n",
              "      <td>...</td>\n",
              "      <td>...</td>\n",
              "      <td>...</td>\n",
              "      <td>...</td>\n",
              "      <td>...</td>\n",
              "      <td>...</td>\n",
              "      <td>...</td>\n",
              "      <td>...</td>\n",
              "      <td>...</td>\n",
              "      <td>...</td>\n",
              "      <td>...</td>\n",
              "      <td>...</td>\n",
              "      <td>...</td>\n",
              "      <td>...</td>\n",
              "      <td>...</td>\n",
              "      <td>...</td>\n",
              "      <td>...</td>\n",
              "      <td>...</td>\n",
              "      <td>...</td>\n",
              "    </tr>\n",
              "    <tr>\n",
              "      <th>1428</th>\n",
              "      <td>1</td>\n",
              "      <td>1-5</td>\n",
              "      <td>1.0</td>\n",
              "      <td>NaN</td>\n",
              "      <td>NaN</td>\n",
              "      <td>NaN</td>\n",
              "      <td>NaN</td>\n",
              "      <td>NaN</td>\n",
              "      <td>NaN</td>\n",
              "      <td>NaN</td>\n",
              "      <td>...</td>\n",
              "      <td>Not applicable to me</td>\n",
              "      <td>Not applicable to me</td>\n",
              "      <td>34.0</td>\n",
              "      <td>2.0</td>\n",
              "      <td>USA</td>\n",
              "      <td>New York</td>\n",
              "      <td>USA</td>\n",
              "      <td>New York</td>\n",
              "      <td>Other</td>\n",
              "      <td>Sometimes</td>\n",
              "    </tr>\n",
              "    <tr>\n",
              "      <th>1429</th>\n",
              "      <td>1</td>\n",
              "      <td>1-5</td>\n",
              "      <td>1.0</td>\n",
              "      <td>NaN</td>\n",
              "      <td>NaN</td>\n",
              "      <td>NaN</td>\n",
              "      <td>NaN</td>\n",
              "      <td>NaN</td>\n",
              "      <td>NaN</td>\n",
              "      <td>NaN</td>\n",
              "      <td>...</td>\n",
              "      <td>Sometimes</td>\n",
              "      <td>Often</td>\n",
              "      <td>56.0</td>\n",
              "      <td>1.0</td>\n",
              "      <td>USA</td>\n",
              "      <td>California</td>\n",
              "      <td>Afghanistan</td>\n",
              "      <td>NaN</td>\n",
              "      <td>Support</td>\n",
              "      <td>Sometimes</td>\n",
              "    </tr>\n",
              "    <tr>\n",
              "      <th>1430</th>\n",
              "      <td>0</td>\n",
              "      <td>100-500</td>\n",
              "      <td>1.0</td>\n",
              "      <td>Yes</td>\n",
              "      <td>Yes</td>\n",
              "      <td>Yes</td>\n",
              "      <td>Yes</td>\n",
              "      <td>I don't know</td>\n",
              "      <td>Somewhat difficult</td>\n",
              "      <td>Maybe</td>\n",
              "      <td>...</td>\n",
              "      <td>Rarely</td>\n",
              "      <td>Sometimes</td>\n",
              "      <td>52.0</td>\n",
              "      <td>1.0</td>\n",
              "      <td>USA</td>\n",
              "      <td>Georgia</td>\n",
              "      <td>USA</td>\n",
              "      <td>Georgia</td>\n",
              "      <td>Back-end Developer</td>\n",
              "      <td>Sometimes</td>\n",
              "    </tr>\n",
              "    <tr>\n",
              "      <th>1431</th>\n",
              "      <td>0</td>\n",
              "      <td>100-500</td>\n",
              "      <td>0.0</td>\n",
              "      <td>I don't know</td>\n",
              "      <td>I am not sure</td>\n",
              "      <td>No</td>\n",
              "      <td>Yes</td>\n",
              "      <td>I don't know</td>\n",
              "      <td>Somewhat difficult</td>\n",
              "      <td>Maybe</td>\n",
              "      <td>...</td>\n",
              "      <td>Sometimes</td>\n",
              "      <td>Often</td>\n",
              "      <td>30.0</td>\n",
              "      <td>2.0</td>\n",
              "      <td>USA</td>\n",
              "      <td>Nebraska</td>\n",
              "      <td>USA</td>\n",
              "      <td>Nebraska</td>\n",
              "      <td>DevOps/SysAdmin</td>\n",
              "      <td>Sometimes</td>\n",
              "    </tr>\n",
              "    <tr>\n",
              "      <th>1432</th>\n",
              "      <td>0</td>\n",
              "      <td>100-500</td>\n",
              "      <td>1.0</td>\n",
              "      <td>Yes</td>\n",
              "      <td>No</td>\n",
              "      <td>No</td>\n",
              "      <td>No</td>\n",
              "      <td>I don't know</td>\n",
              "      <td>Very difficult</td>\n",
              "      <td>Maybe</td>\n",
              "      <td>...</td>\n",
              "      <td>Not applicable to me</td>\n",
              "      <td>Often</td>\n",
              "      <td>25.0</td>\n",
              "      <td>3.0</td>\n",
              "      <td>Canada</td>\n",
              "      <td>NaN</td>\n",
              "      <td>Canada</td>\n",
              "      <td>NaN</td>\n",
              "      <td>Other</td>\n",
              "      <td>Sometimes</td>\n",
              "    </tr>\n",
              "  </tbody>\n",
              "</table>\n",
              "<p>1433 rows × 48 columns</p>\n",
              "</div>\n",
              "      <button class=\"colab-df-convert\" onclick=\"convertToInteractive('df-76357508-5ed6-4839-b340-2dc73faa5ae4')\"\n",
              "              title=\"Convert this dataframe to an interactive table.\"\n",
              "              style=\"display:none;\">\n",
              "        \n",
              "  <svg xmlns=\"http://www.w3.org/2000/svg\" height=\"24px\"viewBox=\"0 0 24 24\"\n",
              "       width=\"24px\">\n",
              "    <path d=\"M0 0h24v24H0V0z\" fill=\"none\"/>\n",
              "    <path d=\"M18.56 5.44l.94 2.06.94-2.06 2.06-.94-2.06-.94-.94-2.06-.94 2.06-2.06.94zm-11 1L8.5 8.5l.94-2.06 2.06-.94-2.06-.94L8.5 2.5l-.94 2.06-2.06.94zm10 10l.94 2.06.94-2.06 2.06-.94-2.06-.94-.94-2.06-.94 2.06-2.06.94z\"/><path d=\"M17.41 7.96l-1.37-1.37c-.4-.4-.92-.59-1.43-.59-.52 0-1.04.2-1.43.59L10.3 9.45l-7.72 7.72c-.78.78-.78 2.05 0 2.83L4 21.41c.39.39.9.59 1.41.59.51 0 1.02-.2 1.41-.59l7.78-7.78 2.81-2.81c.8-.78.8-2.07 0-2.86zM5.41 20L4 18.59l7.72-7.72 1.47 1.35L5.41 20z\"/>\n",
              "  </svg>\n",
              "      </button>\n",
              "      \n",
              "  <style>\n",
              "    .colab-df-container {\n",
              "      display:flex;\n",
              "      flex-wrap:wrap;\n",
              "      gap: 12px;\n",
              "    }\n",
              "\n",
              "    .colab-df-convert {\n",
              "      background-color: #E8F0FE;\n",
              "      border: none;\n",
              "      border-radius: 50%;\n",
              "      cursor: pointer;\n",
              "      display: none;\n",
              "      fill: #1967D2;\n",
              "      height: 32px;\n",
              "      padding: 0 0 0 0;\n",
              "      width: 32px;\n",
              "    }\n",
              "\n",
              "    .colab-df-convert:hover {\n",
              "      background-color: #E2EBFA;\n",
              "      box-shadow: 0px 1px 2px rgba(60, 64, 67, 0.3), 0px 1px 3px 1px rgba(60, 64, 67, 0.15);\n",
              "      fill: #174EA6;\n",
              "    }\n",
              "\n",
              "    [theme=dark] .colab-df-convert {\n",
              "      background-color: #3B4455;\n",
              "      fill: #D2E3FC;\n",
              "    }\n",
              "\n",
              "    [theme=dark] .colab-df-convert:hover {\n",
              "      background-color: #434B5C;\n",
              "      box-shadow: 0px 1px 3px 1px rgba(0, 0, 0, 0.15);\n",
              "      filter: drop-shadow(0px 1px 2px rgba(0, 0, 0, 0.3));\n",
              "      fill: #FFFFFF;\n",
              "    }\n",
              "  </style>\n",
              "\n",
              "      <script>\n",
              "        const buttonEl =\n",
              "          document.querySelector('#df-76357508-5ed6-4839-b340-2dc73faa5ae4 button.colab-df-convert');\n",
              "        buttonEl.style.display =\n",
              "          google.colab.kernel.accessAllowed ? 'block' : 'none';\n",
              "\n",
              "        async function convertToInteractive(key) {\n",
              "          const element = document.querySelector('#df-76357508-5ed6-4839-b340-2dc73faa5ae4');\n",
              "          const dataTable =\n",
              "            await google.colab.kernel.invokeFunction('convertToInteractive',\n",
              "                                                     [key], {});\n",
              "          if (!dataTable) return;\n",
              "\n",
              "          const docLinkHtml = 'Like what you see? Visit the ' +\n",
              "            '<a target=\"_blank\" href=https://colab.research.google.com/notebooks/data_table.ipynb>data table notebook</a>'\n",
              "            + ' to learn more about interactive tables.';\n",
              "          element.innerHTML = '';\n",
              "          dataTable['output_type'] = 'display_data';\n",
              "          await google.colab.output.renderOutput(dataTable, element);\n",
              "          const docLink = document.createElement('div');\n",
              "          docLink.innerHTML = docLinkHtml;\n",
              "          element.appendChild(docLink);\n",
              "        }\n",
              "      </script>\n",
              "    </div>\n",
              "  </div>\n",
              "  "
            ],
            "text/plain": [
              "      Self_employed Total_employees  Tech_organization  \\\n",
              "0                 0          26-100                1.0   \n",
              "1                 0            6-25                1.0   \n",
              "2                 0            6-25                1.0   \n",
              "3                 1             1-5                1.0   \n",
              "4                 0            6-25                0.0   \n",
              "...             ...             ...                ...   \n",
              "1428              1             1-5                1.0   \n",
              "1429              1             1-5                1.0   \n",
              "1430              0         100-500                1.0   \n",
              "1431              0         100-500                0.0   \n",
              "1432              0         100-500                1.0   \n",
              "\n",
              "               Mental_health_coverage Awareness_of_options_under_coverage  \\\n",
              "0     Not eligible for coverage / N/A                                  No   \n",
              "1                                  No                                 Yes   \n",
              "2                                  No                                 NaN   \n",
              "3                                 NaN                                 NaN   \n",
              "4                                 Yes                                 Yes   \n",
              "...                               ...                                 ...   \n",
              "1428                              NaN                                 NaN   \n",
              "1429                              NaN                                 NaN   \n",
              "1430                              Yes                                 Yes   \n",
              "1431                     I don't know                       I am not sure   \n",
              "1432                              Yes                                  No   \n",
              "\n",
              "     Employers_discussion_on_mental_health Resources_and_options_for_help  \\\n",
              "0                                       No                             No   \n",
              "1                                      Yes                            Yes   \n",
              "2                                       No                             No   \n",
              "3                                      NaN                            NaN   \n",
              "4                                       No                             No   \n",
              "...                                    ...                            ...   \n",
              "1428                                   NaN                            NaN   \n",
              "1429                                   NaN                            NaN   \n",
              "1430                                   Yes                            Yes   \n",
              "1431                                    No                            Yes   \n",
              "1432                                    No                             No   \n",
              "\n",
              "     Anomity_of_employees_using_mental_health_resources  \\\n",
              "0                                          I don't know   \n",
              "1                                                   Yes   \n",
              "2                                          I don't know   \n",
              "3                                                   NaN   \n",
              "4                                                    No   \n",
              "...                                                 ...   \n",
              "1428                                                NaN   \n",
              "1429                                                NaN   \n",
              "1430                                       I don't know   \n",
              "1431                                       I don't know   \n",
              "1432                                       I don't know   \n",
              "\n",
              "      Mental_issue_related_leave Discussing_mental_health_neg_consequences  \\\n",
              "0                      Very easy                                        No   \n",
              "1                  Somewhat easy                                        No   \n",
              "2     Neither easy nor difficult                                     Maybe   \n",
              "3                            NaN                                       NaN   \n",
              "4     Neither easy nor difficult                                       Yes   \n",
              "...                          ...                                       ...   \n",
              "1428                         NaN                                       NaN   \n",
              "1429                         NaN                                       NaN   \n",
              "1430          Somewhat difficult                                     Maybe   \n",
              "1431          Somewhat difficult                                     Maybe   \n",
              "1432              Very difficult                                     Maybe   \n",
              "\n",
              "      ... work_interference_treatment work_interference_no_treatment   age  \\\n",
              "0     ...        Not applicable to me           Not applicable to me  39.0   \n",
              "1     ...                      Rarely                      Sometimes  29.0   \n",
              "2     ...        Not applicable to me           Not applicable to me  38.0   \n",
              "3     ...                   Sometimes                      Sometimes  43.0   \n",
              "4     ...                   Sometimes                      Sometimes  43.0   \n",
              "...   ...                         ...                            ...   ...   \n",
              "1428  ...        Not applicable to me           Not applicable to me  34.0   \n",
              "1429  ...                   Sometimes                          Often  56.0   \n",
              "1430  ...                      Rarely                      Sometimes  52.0   \n",
              "1431  ...                   Sometimes                          Often  30.0   \n",
              "1432  ...        Not applicable to me                          Often  25.0   \n",
              "\n",
              "     gender country_live  us_state_live country_work us_state_work  \\\n",
              "0       1.0           UK     California           UK    California   \n",
              "1       1.0          USA       Illinois          USA      Illinois   \n",
              "2       1.0           UK            NaN           UK           NaN   \n",
              "3       1.0           UK            NaN           UK           NaN   \n",
              "4       2.0          USA       Illinois          USA      Illinois   \n",
              "...     ...          ...            ...          ...           ...   \n",
              "1428    2.0          USA       New York          USA      New York   \n",
              "1429    1.0          USA     California  Afghanistan           NaN   \n",
              "1430    1.0          USA        Georgia          USA       Georgia   \n",
              "1431    2.0          USA       Nebraska          USA      Nebraska   \n",
              "1432    3.0       Canada            NaN       Canada           NaN   \n",
              "\n",
              "                                               work_pos     remote  \n",
              "0                                    Back-end Developer  Sometimes  \n",
              "1                Back-end Developer|Front-end Developer      Never  \n",
              "2                                    Back-end Developer     Always  \n",
              "3                                  Supervisor/Team Lead  Sometimes  \n",
              "4     Executive Leadership|Supervisor/Team Lead|Dev ...  Sometimes  \n",
              "...                                                 ...        ...  \n",
              "1428                                              Other  Sometimes  \n",
              "1429                                            Support  Sometimes  \n",
              "1430                                 Back-end Developer  Sometimes  \n",
              "1431                                    DevOps/SysAdmin  Sometimes  \n",
              "1432                                              Other  Sometimes  \n",
              "\n",
              "[1433 rows x 48 columns]"
            ]
          },
          "execution_count": 12,
          "metadata": {},
          "output_type": "execute_result"
        }
      ],
      "source": [
        "\n",
        "df_no_drp = df\n",
        "df_no_drp"
      ]
    },
    {
      "cell_type": "code",
      "execution_count": null,
      "metadata": {
        "id": "9hFJakBIcdub"
      },
      "outputs": [],
      "source": [
        "#Dropping remainig rows which still contained missing values\n",
        "df=df.dropna()"
      ]
    },
    {
      "cell_type": "code",
      "execution_count": null,
      "metadata": {
        "colab": {
          "base_uri": "https://localhost:8080/"
        },
        "id": "1uo9XiPqcdxv",
        "outputId": "c1bd9f16-7d2a-47b1-8eb8-e412da808197"
      },
      "outputs": [
        {
          "data": {
            "text/plain": [
              "0"
            ]
          },
          "execution_count": 14,
          "metadata": {},
          "output_type": "execute_result"
        }
      ],
      "source": [
        "df.isnull().sum().sum()"
      ]
    },
    {
      "cell_type": "code",
      "execution_count": null,
      "metadata": {
        "id": "Sz-xW6dgRhCl"
      },
      "outputs": [],
      "source": [
        "\n",
        "\n",
        "#Encoding\n",
        "No_of_pos=[]\n",
        "for i in df['work_pos']:\n",
        "    No_of_pos.append(i.count('|')+1)\n",
        "df['No_of_pos']=No_of_pos\n",
        "df.drop(labels ='work_pos', axis = 1, inplace = True)"
      ]
    },
    {
      "cell_type": "code",
      "execution_count": null,
      "metadata": {
        "id": "VVpvwceARkOa"
      },
      "outputs": [],
      "source": [
        "encode={\n",
        "    'Total_employees' : [['26-100', '6-25', '0','More than 1000' ,'100-500', '500-1000', '1-5'],[3,2,0,6,4,5,1]],\n",
        "    'Mental_health_coverage' : [['Not eligible for coverage / N/A' ,'No', 'Yes', \"I don't know\"],[0,2,3,1]],\n",
        "    'Awareness_of_options_under_coverage' : [['Yes', 'No', 'I am not sure'],[2,1,0]],\n",
        "    'Employers_discussion_on_mental_health' : [['Yes' ,'No',\"I don't know\"],[2,1,0]],\n",
        "    'Resources_and_options_for_help' : [['Yes', 'No', \"I don't know\"],[2,1,0]],\n",
        "    'Anomity_of_employees_using_mental_health_resources' : [['Yes', 'No', \"I don't know\"],[2,1,0]],\n",
        "    'Mental_issue_related_leave' : [['Somewhat easy' ,'Neither easy nor difficult', 'Very easy', 'Very difficult', 'Somewhat difficult', \"I don't know\"],[4,2,5,0,1,3]],\n",
        "    'Discussing_mental_health_neg_consequences' : [['No', 'Yes', 'Maybe'],[2,0,1]],\n",
        "    'Discussing_physical_health_neg_consequences' : [['No', 'Maybe','Yes'],[2,1,0]],\n",
        "    'Comfort_discussing_with_coworkers' : [['Maybe', 'Yes', 'No'],[1,2,0]],\n",
        "    'Comfort_discussing_with_supervisor' : [['Yes', 'No', 'Maybe'],[2,0,1]],\n",
        "    'Employer_seriousness_on_mental_health' : [['Yes', 'No', \"I don't know\"],[2,0,1]],\n",
        "    'Negative_consequences_of_coworkers_with_mental_health_disorder' : [['No','Yes'],[1,0]],\n",
        "    'prev_empl_mental_benefits' : [['Yes, they all did', \"I don't know\", 'Some did', 'No, none did', 'Not Applicable'],[4,2,3,0,1]],\n",
        "    'aware_benefits_prev_empl' : [['I was aware of some', 'N/A (not currently aware)', 'Yes, I was aware of all of them', 'No, I only became aware later', 'Not Applicable'],[3,2,4,0,1]],\n",
        "    'formal_discuss_mental_health_premp' : [['None did', 'Some did', 'Not Applicable', \"I don't know\", 'Yes, they all did'],[0,3,1,2,4]],\n",
        "    'premp_provide_resources_learn_seekhelp' : [['Some did', 'None did', 'Not Applicable', 'Yes, they all did'],[2,0,1,3]],\n",
        "    'anonymity_protect_premp_choose_resources' : [['Yes, always', \"I don't know\", 'Sometimes', 'No', 'Not Applicable'],[4,2,3,0,1]],\n",
        "    'neg_eff_discuss_mental_health_premp' : [['None of them', 'Some of them','Yes, all of them', \"I don't know\", 'Not Applicable'],[4,1,0,2,3]],\n",
        "    'neg_eff_discuss_phy_health_premp' : [['None of them', 'Some of them', 'Yes, all of them', 'Not Applicable'],[3,1,0,2]],\n",
        "    'willing_discuss_issue_prev_coworkers'  : [['No, at none of my previous employers', 'Some of my previous employers', 'Yes, at all of my previous employers', 'Not Applicable'],[0,1,3,2]],\n",
        "    'willing_discuss_issue_dir_supervisors' : [['Some of my previous employers','Yes, at all of my previous employers', 'No, at none of my previous employers', \"I don't know\", 'Not Applicable'],[3,4,0,1,2]],\n",
        "    'premp_took_menhealth_seriously_as_phyhealth' :[[\"I don't know\",'Some did','None did','Yes, they all did','Not Applicable'],[0,2,1,3,0]],\n",
        "    'neg_comments_abt_coworkers_with_menissues_prev_workplace':[['None of them','Some of them','Not Applicable','Yes, all of them'],[1,2,0,3]],\n",
        "    'bring_phyhealth_issue_with_potential_empl_interview'   :   [['Maybe','Yes','No'],[1,2,0]],\n",
        "    'bring_menhealth_issue_with_potential_empl_interview'   :   [['Maybe', 'No', 'Yes'],[1,0,2]],\n",
        "    'hurt_carrer_if_identified_as_person_with_mental_issue'   :   [['Maybe', \"No, I don't think it would\", 'Yes, I think it would',\n",
        "    'No, it has not', 'Yes, it has'],[1,0,2,0,2]],\n",
        "    'more_neg_view_from_coworker_if_know_abt_men_issue'   :   [[\"No, I don't think they would\", 'Maybe', 'Yes, they do',\n",
        "    'Yes, I think they would', 'No, they do not'],[0,1,2,2,0]],\n",
        "    'share_w_friends_fam'   :   [['Somewhat open', 'Neutral', 'Not applicable to me (I do not have a mental illness)', 'Very open',\n",
        "    'Not open at all', 'Somewhat not open'],[4,3,0,5,1,2]],\n",
        "    'workplace_response'   :   [['No', 'Maybe/Not sure', 'Yes, I experienced', 'Yes, I observed', np.nan],[0,1,2,2,1]],\n",
        "    'fam_hist'   :   [['No', 'Yes', \"I don't know\"],[0,2,1]],\n",
        "    'past_mh'   :   [['Yes', 'Maybe', 'No'],[2,1,0]],\n",
        "    'curr_mh'   :   [['No', 'Yes', 'Maybe'],[0,2,1]],\n",
        "    'diagnosed_prof'   :   [['Yes', 'No'],[1,0]],\n",
        "    'work_interference_treatment'   :   [['Not applicable to me', 'Rarely', 'Sometimes', 'Never', 'Often'],[0,2,3,1,4]],\n",
        "    'work_interference_no_treatment'   :   [['Not applicable to me', 'Sometimes', 'Often', 'Rarely', 'Never'],[0,3,4,2,1]],\n",
        "    'remote'   :   [['Sometimes','Never','Always'],[1,0,2]]\n",
        "}\n"
      ]
    },
    {
      "cell_type": "code",
      "execution_count": null,
      "metadata": {
        "id": "7Dl8YFwRRl7M"
      },
      "outputs": [],
      "source": [
        "indexNames = df[~(df['Self_employed'] == 0)].index\n",
        "fill=['0',0,'Not eligible for coverage / N/A','No','No','No',\"I don't know\",\"Somewhat easy\",\"No\",\"No\",\"Maybe\",\"Yes\",\"I don't know\",\"No\"]\n",
        "for i in indexNames:\n",
        "    df.iloc[i,[1,2,3,4,5,6,7,8,9,10,11,12,13,14]]=fill"
      ]
    },
    {
      "cell_type": "code",
      "execution_count": null,
      "metadata": {
        "id": "wpTfxYA5Rnxd"
      },
      "outputs": [],
      "source": [
        "for i in encode.keys():\n",
        "    df[i]=df[i].replace(to_replace=encode[i][0],value=encode[i][1])"
      ]
    },
    {
      "cell_type": "code",
      "execution_count": null,
      "metadata": {
        "id": "uswCI68GZ_lj"
      },
      "outputs": [],
      "source": [
        "#Dividing the stated of the USA into 4 divisions\n",
        "north_east=['Pennsylvania','New York','Rhode Island','Maine','New Jersey','New Hampshire','Massachusetts','Vermont','Connecticut']\n",
        "south=['Delaware','District of Columbia','Texas','Louisiana','Oklahoma','Alabama','Kentucky','Virginia','South Carolina','Maryland','West Virginia','North Carolina','Georgia','Florida','Tennessee']\n",
        "mid_west=['Illinois','Indiana','Minnesota','Iowa','Ohio','Michigan','Wisconsin','Missouri','Nebraska','North Dakota','South Dakota','Kansas']\n",
        "west=['California','Montana','Oregon','New Mexico','Alaska','Washington','Nevada','Arizona','Utah','Colorado','Hawaii','Idaho']"
      ]
    },
    {
      "cell_type": "code",
      "execution_count": null,
      "metadata": {
        "id": "bLPQr6l2dB45"
      },
      "outputs": [],
      "source": [
        "#Encoding columns - us_state_live and us_state_work\n",
        "# north_east=1, mid_west=2, west=3, south=4\n",
        "df['us_state_live'].replace(to_replace = north_east, value =1, inplace = True)\n",
        "df['us_state_live'].replace(to_replace = mid_west, value =2, inplace = True)\n",
        "df['us_state_live'].replace(to_replace = west,value =3, inplace = True)\n",
        "df['us_state_live'].replace(to_replace = south, value =4, inplace = True)"
      ]
    },
    {
      "cell_type": "code",
      "execution_count": null,
      "metadata": {
        "id": "j4XGp17edB7g"
      },
      "outputs": [],
      "source": [
        "df['us_state_work'].replace(to_replace = north_east, value =1, inplace = True)\n",
        "df['us_state_work'].replace(to_replace = mid_west, value =2, inplace = True)\n",
        "df['us_state_work'].replace(to_replace = west,value =3, inplace = True)\n",
        "df['us_state_work'].replace(to_replace = south, value =4, inplace = True)"
      ]
    },
    {
      "cell_type": "code",
      "execution_count": null,
      "metadata": {
        "id": "ExNdz9C-dB-J"
      },
      "outputs": [],
      "source": [
        "#Encoding country_live and country_work\n",
        "# USA=0 UK=1\n",
        "df['country_live'].replace(to_replace = 'USA', value =0, inplace = True)\n",
        "df['country_live'].replace(to_replace = 'UK', value =1, inplace = True)\n",
        "df['country_work'].replace(to_replace = 'USA',value =0, inplace = True)\n",
        "df['country_work'].replace(to_replace = 'UK', value =1, inplace = True)"
      ]
    },
    {
      "cell_type": "code",
      "execution_count": null,
      "metadata": {
        "colab": {
          "base_uri": "https://localhost:8080/"
        },
        "id": "-XhQTky9dCBE",
        "outputId": "eb64d1c1-ef41-447a-96c0-c3412945aa68"
      },
      "outputs": [
        {
          "name": "stdout",
          "output_type": "stream",
          "text": [
            "Self_employed  :  [0]\n",
            "Total_employees  :  [3 2 6 4 5 1]\n",
            "Tech_organization  :  [1. 0.]\n",
            "Mental_health_coverage  :  [0 2 3 1]\n",
            "Awareness_of_options_under_coverage  :  [1 2 0]\n",
            "Employers_discussion_on_mental_health  :  [1 2 0]\n",
            "Resources_and_options_for_help  :  [1 2 0]\n",
            "Anomity_of_employees_using_mental_health_resources  :  [0 2 1]\n",
            "Mental_issue_related_leave  :  [5 4 2 0 1 3]\n",
            "Discussing_mental_health_neg_consequences  :  [2 0 1]\n",
            "Discussing_physical_health_neg_consequences  :  [2 1 0]\n",
            "Comfort_discussing_with_coworkers  :  [1 2 0]\n",
            "Comfort_discussing_with_supervisor  :  [2 0 1]\n",
            "Employer_seriousness_on_mental_health  :  [1 2 0]\n",
            "Negative_consequences_of_coworkers_with_mental_health_disorder  :  [1 0]\n",
            "have_prev_empl  :  [1 0]\n",
            "prev_empl_mental_benefits  :  [0 4 2 3 1]\n",
            "aware_benefits_prev_empl  :  [2 3 4 0 1]\n",
            "formal_discuss_mental_health_premp  :  [2 0 3 1 4]\n",
            "premp_provide_resources_learn_seekhelp  :  [0 2 1 3]\n",
            "anonymity_protect_premp_choose_resources  :  [2 4 3 0 1]\n",
            "neg_eff_discuss_mental_health_premp  :  [1 4 0 2 3]\n",
            "neg_eff_discuss_phy_health_premp  :  [3 1 0 2]\n",
            "willing_discuss_issue_prev_coworkers  :  [1 0 3 2]\n",
            "willing_discuss_issue_dir_supervisors  :  [3 4 0 1 2]\n",
            "premp_took_menhealth_seriously_as_phyhealth  :  [0 2 1 3]\n",
            "neg_comments_abt_coworkers_with_menissues_prev_workplace  :  [1 2 0 3]\n",
            "bring_phyhealth_issue_with_potential_empl_interview  :  [1 2 0]\n",
            "bring_menhealth_issue_with_potential_empl_interview  :  [1 0 2]\n",
            "hurt_carrer_if_identified_as_person_with_mental_issue  :  [1 0 2]\n",
            "more_neg_view_from_coworker_if_know_abt_men_issue  :  [0 1 2]\n",
            "share_w_friends_fam  :  [4 0 5 1 3 2]\n",
            "workplace_response  :  [0 2 1]\n",
            "fam_hist  :  [0 2 1]\n",
            "past_mh  :  [2 0 1]\n",
            "curr_mh  :  [0 2 1]\n",
            "diagnosed_prof  :  [1 0]\n",
            "treatment_mh_prof  :  [0 1]\n",
            "work_interference_treatment  :  [0 2 3 1 4]\n",
            "work_interference_no_treatment  :  [0 3 4 2 1]\n",
            "age  :  [39.         29.         43.         30.         37.         44.\n",
            " 28.         34.         35.         52.         31.         40.\n",
            " 41.         33.         45.         27.         36.         46.\n",
            " 24.         26.         23.         32.         51.         38.\n",
            " 42.         25.         55.         21.         22.         49.\n",
            " 20.         54.         50.         47.         34.28611305 57.\n",
            " 61.         19.         62.         53.         58.         66.\n",
            " 59.         63.         48.         74.         70.         56.        ]\n",
            "gender  :  [1. 2. 3.]\n",
            "country_live  :  [1 0]\n",
            "us_state_live  :  [3 2 4 1]\n",
            "country_work  :  [1 0]\n",
            "us_state_work  :  [3 2 4 1]\n",
            "remote  :  [1 0 2]\n",
            "No_of_pos  :  [ 1  2  7  3  4  5  6 10  9]\n",
            "48\n"
          ]
        }
      ],
      "source": [
        "#Unique values in each column\n",
        "for i in df.columns:\n",
        "    print(i,\" : \",df[i].unique())\n",
        "print(len(df.columns))"
      ]
    },
    {
      "cell_type": "code",
      "execution_count": null,
      "metadata": {
        "id": "YL9Qsj_mc-Yd"
      },
      "outputs": [],
      "source": [
        "df.to_csv('prepro_clean_mental_health.csv')"
      ]
    },
    {
      "cell_type": "code",
      "execution_count": null,
      "metadata": {
        "id": "IGWffGvgU_r0"
      },
      "outputs": [],
      "source": [
        "#MODELS"
      ]
    },
    {
      "cell_type": "code",
      "execution_count": null,
      "metadata": {
        "id": "iMgYeT4RVCjl"
      },
      "outputs": [],
      "source": [
        "from sklearn.ensemble import RandomForestClassifier, AdaBoostClassifier, GradientBoostingClassifier\n",
        "from xgboost.sklearn import XGBClassifier\n",
        "from sklearn.linear_model import LogisticRegression\n",
        "from sklearn.tree import DecisionTreeClassifier\n",
        "from sklearn.neighbors import KNeighborsClassifier"
      ]
    },
    {
      "cell_type": "code",
      "execution_count": null,
      "metadata": {
        "id": "vu64eW3uUBAs"
      },
      "outputs": [],
      "source": [
        "X = df.drop('diagnosed_prof', axis = 1)\n",
        "Y = df['diagnosed_prof']"
      ]
    },
    {
      "cell_type": "code",
      "execution_count": null,
      "metadata": {
        "colab": {
          "base_uri": "https://localhost:8080/"
        },
        "id": "s3kABkrDUXOq",
        "outputId": "d0c79eed-01f2-4041-9a54-4b9ef04f49aa"
      },
      "outputs": [
        {
          "data": {
            "text/plain": [
              "(657, 47)"
            ]
          },
          "execution_count": 26,
          "metadata": {},
          "output_type": "execute_result"
        }
      ],
      "source": [
        "X.shape"
      ]
    },
    {
      "cell_type": "code",
      "execution_count": null,
      "metadata": {
        "id": "TzAFxuF2UYCN"
      },
      "outputs": [],
      "source": [
        "X_train, X_test, Y_train, Y_test = train_test_split(X,Y,stratify = Y,test_size = 0.3,random_state = 2222)"
      ]
    },
    {
      "cell_type": "code",
      "execution_count": null,
      "metadata": {
        "colab": {
          "base_uri": "https://localhost:8080/"
        },
        "id": "e_AHEi6uUvmu",
        "outputId": "bd3e4118-9e8d-40cd-f09d-111e58b1be7a"
      },
      "outputs": [
        {
          "data": {
            "text/plain": [
              "7       1\n",
              "264     0\n",
              "578     0\n",
              "846     1\n",
              "121     0\n",
              "       ..\n",
              "1241    0\n",
              "316     0\n",
              "188     1\n",
              "667     1\n",
              "666     1\n",
              "Name: diagnosed_prof, Length: 198, dtype: int64"
            ]
          },
          "execution_count": 28,
          "metadata": {},
          "output_type": "execute_result"
        }
      ],
      "source": [
        "Y_test"
      ]
    },
    {
      "cell_type": "code",
      "execution_count": null,
      "metadata": {
        "id": "1xb942kxUxy9"
      },
      "outputs": [],
      "source": [
        "rf = RandomForestClassifier(random_state = 2222)\n",
        "logreg = LogisticRegression()\n",
        "tree = DecisionTreeClassifier(random_state = 2222)\n",
        "knn = KNeighborsClassifier()\n",
        "ada = AdaBoostClassifier(random_state = 2222)\n",
        "grad = GradientBoostingClassifier(random_state = 2222)\n",
        "xgboost = XGBClassifier(random_state = 2222)"
      ]
    },
    {
      "cell_type": "markdown",
      "metadata": {
        "id": "hBUHftwbh3aG"
      },
      "source": [
        "KNN"
      ]
    },
    {
      "cell_type": "code",
      "execution_count": null,
      "metadata": {
        "id": "BBOfn6rjiCXn"
      },
      "outputs": [],
      "source": [
        "K = [] \n",
        "training = [] \n",
        "test = [] \n",
        "scores = {}\n",
        "scaler = StandardScaler()\n",
        "X_train = scaler.fit_transform(X_train)\n",
        "X_test=scaler.fit_transform(X_test)\n",
        "for k in range(2, 25): \n",
        "    clf = KNeighborsClassifier(n_neighbors = k) \n",
        "    clf.fit(X_train, Y_train) \n",
        "  \n",
        "    training_score = clf.score(X_train, Y_train) \n",
        "    test_score = clf.score(X_test, Y_test) \n",
        "    K.append(k) \n",
        "  \n",
        "    training.append(training_score) \n",
        "    test.append(test_score) \n",
        "    scores[k] = [training_score, test_score] "
      ]
    },
    {
      "cell_type": "code",
      "execution_count": null,
      "metadata": {
        "colab": {
          "base_uri": "https://localhost:8080/"
        },
        "id": "CE8dt7pKiJZn",
        "outputId": "f68835d6-f636-4e71-9fad-527a6b9469d9"
      },
      "outputs": [
        {
          "name": "stdout",
          "output_type": "stream",
          "text": [
            "2 : [0.8976034858387799, 0.8080808080808081]\n",
            "3 : [0.9193899782135077, 0.8888888888888888]\n",
            "4 : [0.9172113289760349, 0.8838383838383839]\n",
            "5 : [0.8997821350762527, 0.8838383838383839]\n",
            "6 : [0.8888888888888888, 0.8888888888888888]\n",
            "7 : [0.8867102396514162, 0.8838383838383839]\n",
            "8 : [0.8888888888888888, 0.898989898989899]\n",
            "9 : [0.8736383442265795, 0.8888888888888888]\n",
            "10 : [0.8736383442265795, 0.8939393939393939]\n",
            "11 : [0.8736383442265795, 0.8838383838383839]\n",
            "12 : [0.8801742919389978, 0.8939393939393939]\n",
            "13 : [0.8758169934640523, 0.8787878787878788]\n",
            "14 : [0.8714596949891068, 0.8838383838383839]\n",
            "15 : [0.8779956427015251, 0.8686868686868687]\n",
            "16 : [0.8714596949891068, 0.8838383838383839]\n",
            "17 : [0.869281045751634, 0.8939393939393939]\n",
            "18 : [0.8714596949891068, 0.8939393939393939]\n",
            "19 : [0.8714596949891068, 0.8939393939393939]\n",
            "20 : [0.8714596949891068, 0.898989898989899]\n",
            "21 : [0.869281045751634, 0.898989898989899]\n",
            "22 : [0.8758169934640523, 0.8939393939393939]\n",
            "23 : [0.869281045751634, 0.8838383838383839]\n",
            "24 : [0.8736383442265795, 0.8838383838383839]\n"
          ]
        }
      ],
      "source": [
        "for keys, values in scores.items(): \n",
        "    print(keys, ':', values)"
      ]
    },
    {
      "cell_type": "code",
      "execution_count": null,
      "metadata": {
        "colab": {
          "base_uri": "https://localhost:8080/",
          "height": 543
        },
        "id": "4JTk054Vj5lO",
        "outputId": "ed2a5907-eb25-4a66-e644-4f8c1b101be0"
      },
      "outputs": [
        {
          "name": "stdout",
          "output_type": "stream",
          "text": [
            "Mean Absolute Error: 0.10101010101010101\n",
            "Mean Squared Error: 0.10101010101010101\n",
            "Root Mean Squared Error: 0.3178208630818641\n",
            "accuracy =  89.8989898989899\n",
            "p =  0.924812030075188\n",
            "r =  0.8823529411764706\n",
            "f1 =  0.8926829268292682\n",
            "              precision    recall  f1-score   support\n",
            "\n",
            "           0       1.00      0.76      0.87        85\n",
            "           1       0.85      1.00      0.92       113\n",
            "\n",
            "    accuracy                           0.90       198\n",
            "   macro avg       0.92      0.88      0.89       198\n",
            "weighted avg       0.91      0.90      0.90       198\n",
            "\n"
          ]
        },
        {
          "data": {
            "image/png": "[encoded data removed]",
            "text/plain": [
              "<Figure size 432x288 with 1 Axes>"
            ]
          },
          "metadata": {
            "needs_background": "light"
          },
          "output_type": "display_data"
        }
      ],
      "source": [
        "knn = KNeighborsClassifier(n_neighbors=21)\n",
        "knn.fit(X_train,Y_train)\n",
        "Y_pred_knn = knn.predict(X_test)\n",
        "# Making the Confusion Matrix \n",
        "from sklearn.metrics import confusion_matrix\n",
        "cm_knn = confusion_matrix(Y_test, Y_pred_knn)\n",
        "#evaluation\n",
        "from sklearn import metrics\n",
        "print('Mean Absolute Error:', metrics.mean_absolute_error(Y_test, Y_pred_knn))\n",
        "print('Mean Squared Error:', metrics.mean_squared_error(Y_test, Y_pred_knn))\n",
        "print('Root Mean Squared Error:', np.sqrt(metrics.mean_squared_error(Y_test, Y_pred_knn)))\n",
        "#precision, recall, f1 score, accuracy \n",
        "from sklearn.metrics import accuracy_score, f1_score, precision_score, recall_score, classification_report\n",
        "accuracy_knn=accuracy_score(Y_test, Y_pred_knn)\n",
        "f1_knn=f1_score(Y_test, Y_pred_knn, average=\"macro\")\n",
        "p_knn=precision_score(Y_test, Y_pred_knn, average=\"macro\")\n",
        "r_knn=recall_score(Y_test, Y_pred_knn, average=\"macro\")\n",
        "print(\"accuracy = \",100*accuracy_knn)\n",
        "print(\"p = \",p_knn)\n",
        "print(\"r = \",r_knn)\n",
        "print(\"f1 = \",f1_knn)\n",
        "print(classification_report(Y_test, Y_pred_knn))\n",
        "# Plot ROC curve\n",
        "fpr_knn, tpr_knn, _ = metrics.roc_curve(Y_test,  Y_pred_knn)\n",
        "auc_knn = metrics.roc_auc_score(Y_test,  Y_pred_knn)\n",
        "plt.plot(fpr_knn,tpr_knn,label=\"data 1, auc=\"+str(auc_knn))\n",
        "plt.legend(loc=4)\n",
        "plt.show()"
      ]
    },
    {
      "cell_type": "markdown",
      "metadata": {
        "id": "t0Ujsd31aWhG"
      },
      "source": [
        "Logistic Regression"
      ]
    },
    {
      "cell_type": "code",
      "execution_count": null,
      "metadata": {
        "colab": {
          "base_uri": "https://localhost:8080/",
          "height": 543
        },
        "id": "u-gqxgWpaZkr",
        "outputId": "3aa0adbc-2771-4db0-ecd2-628d0a375973"
      },
      "outputs": [
        {
          "name": "stdout",
          "output_type": "stream",
          "text": [
            "Mean Absolute Error: 0.08585858585858586\n",
            "Mean Squared Error: 0.08585858585858586\n",
            "Root Mean Squared Error: 0.2930163576638442\n",
            "accuracy =  91.41414141414141\n",
            "p =  0.9265873015873016\n",
            "r =  0.902915148360229\n",
            "f1 =  0.9102950190549797\n",
            "              precision    recall  f1-score   support\n",
            "\n",
            "           0       0.97      0.82      0.89        85\n",
            "           1       0.88      0.98      0.93       113\n",
            "\n",
            "    accuracy                           0.91       198\n",
            "   macro avg       0.93      0.90      0.91       198\n",
            "weighted avg       0.92      0.91      0.91       198\n",
            "\n"
          ]
        },
        {
          "data": {
            "image/png": "[encoded data removed]",
            "text/plain": [
              "<Figure size 432x288 with 1 Axes>"
            ]
          },
          "metadata": {
            "needs_background": "light"
          },
          "output_type": "display_data"
        }
      ],
      "source": [
        "logreg.fit(X_train,Y_train)\n",
        "Y_pred_lg = logreg.predict(X_test)\n",
        "# Making the Confusion Matrix \n",
        "from sklearn.metrics import confusion_matrix\n",
        "cm_lg = confusion_matrix(Y_test, Y_pred_lg)\n",
        "#evaluation\n",
        "from sklearn import metrics\n",
        "print('Mean Absolute Error:', metrics.mean_absolute_error(Y_test, Y_pred_lg))\n",
        "print('Mean Squared Error:', metrics.mean_squared_error(Y_test, Y_pred_lg))\n",
        "print('Root Mean Squared Error:', np.sqrt(metrics.mean_squared_error(Y_test, Y_pred_lg)))\n",
        "#precision, recall, f1 score, accuracy \n",
        "from sklearn.metrics import accuracy_score, f1_score, precision_score, recall_score, classification_report\n",
        "accuracy_lg=accuracy_score(Y_test, Y_pred_lg)\n",
        "f1_lg=f1_score(Y_test, Y_pred_lg, average=\"macro\")\n",
        "p_lg=precision_score(Y_test, Y_pred_lg, average=\"macro\")\n",
        "r_lg=recall_score(Y_test, Y_pred_lg, average=\"macro\")\n",
        "print(\"accuracy = \",100*accuracy_lg)\n",
        "print(\"p = \",p_lg)\n",
        "print(\"r = \",r_lg)\n",
        "print(\"f1 = \",f1_lg)\n",
        "print(classification_report(Y_test, Y_pred_lg))\n",
        "# Plot ROC curve\n",
        "fpr_lg, tpr_lg, _ = metrics.roc_curve(Y_test,  Y_pred_lg)\n",
        "auc_lg = metrics.roc_auc_score(Y_test,  Y_pred_lg)\n",
        "plt.plot(fpr_lg,tpr_lg,label=\"data 1, auc=\"+str(auc_lg))\n",
        "plt.legend(loc=4)\n",
        "plt.show()"
      ]
    },
    {
      "cell_type": "markdown",
      "metadata": {
        "id": "hIWe7BFdsERr"
      },
      "source": [
        "Decision trees"
      ]
    },
    {
      "cell_type": "code",
      "execution_count": null,
      "metadata": {
        "colab": {
          "base_uri": "https://localhost:8080/",
          "height": 543
        },
        "id": "kMFG6KWZ3Lkm",
        "outputId": "f180ba9c-671c-4bae-a9aa-1b55f7a94008"
      },
      "outputs": [
        {
          "name": "stdout",
          "output_type": "stream",
          "text": [
            "Mean Absolute Error: 0.14646464646464646\n",
            "Mean Squared Error: 0.14646464646464646\n",
            "Root Mean Squared Error: 0.38270699819136633\n",
            "accuracy =  85.35353535353535\n",
            "p =  0.8611111111111112\n",
            "r =  0.8410723581467985\n",
            "f1 =  0.8469738560349651\n",
            "              precision    recall  f1-score   support\n",
            "\n",
            "           0       0.89      0.75      0.82        85\n",
            "           1       0.83      0.93      0.88       113\n",
            "\n",
            "    accuracy                           0.85       198\n",
            "   macro avg       0.86      0.84      0.85       198\n",
            "weighted avg       0.86      0.85      0.85       198\n",
            "\n"
          ]
        },
        {
          "data": {
            "image/png": "[encoded data removed]",
            "text/plain": [
              "<Figure size 432x288 with 1 Axes>"
            ]
          },
          "metadata": {
            "needs_background": "light"
          },
          "output_type": "display_data"
        }
      ],
      "source": [
        "tree.fit(X_train,Y_train)\n",
        "Y_pred_tree = tree.predict(X_test)\n",
        "# Making the Confusion Matrix \n",
        "from sklearn.metrics import confusion_matrix\n",
        "cm_tree = confusion_matrix(Y_test, Y_pred_tree)\n",
        "#evaluation\n",
        "from sklearn import metrics\n",
        "print('Mean Absolute Error:', metrics.mean_absolute_error(Y_test, Y_pred_tree))\n",
        "print('Mean Squared Error:', metrics.mean_squared_error(Y_test, Y_pred_tree))\n",
        "print('Root Mean Squared Error:', np.sqrt(metrics.mean_squared_error(Y_test, Y_pred_tree)))\n",
        "#precision, recall, f1 score, accuracy \n",
        "from sklearn.metrics import accuracy_score, f1_score, precision_score, recall_score, classification_report\n",
        "accuracy_tree=accuracy_score(Y_test, Y_pred_tree)\n",
        "f1_tree=f1_score(Y_test, Y_pred_tree, average=\"macro\")\n",
        "p_tree=precision_score(Y_test, Y_pred_tree, average=\"macro\")\n",
        "r_tree=recall_score(Y_test, Y_pred_tree, average=\"macro\")\n",
        "print(\"accuracy = \",100*accuracy_tree)\n",
        "print(\"p = \",p_tree)\n",
        "print(\"r = \",r_tree)\n",
        "print(\"f1 = \",f1_tree)\n",
        "print(classification_report(Y_test, Y_pred_tree))\n",
        "# Plot ROC curve\n",
        "fpr_tree, tpr_tree, _ = metrics.roc_curve(Y_test,  Y_pred_tree)\n",
        "auc_tree = metrics.roc_auc_score(Y_test,  Y_pred_tree)\n",
        "plt.plot(fpr_tree,tpr_tree,label=\"data 1, auc=\"+str(auc_tree))\n",
        "plt.legend(loc=4)\n",
        "plt.show()"
      ]
    },
    {
      "cell_type": "markdown",
      "metadata": {
        "id": "llp-p3kcbKCQ"
      },
      "source": [
        "RANDOM FOREST"
      ]
    },
    {
      "cell_type": "code",
      "execution_count": null,
      "metadata": {
        "colab": {
          "base_uri": "https://localhost:8080/"
        },
        "id": "GQxWDoCyVh92",
        "outputId": "21292acd-51b5-415e-e7ac-199c65b8b012"
      },
      "outputs": [
        {
          "data": {
            "text/plain": [
              "RandomForestClassifier(random_state=2222)"
            ]
          },
          "execution_count": 35,
          "metadata": {},
          "output_type": "execute_result"
        }
      ],
      "source": [
        "rf.fit(X_train,Y_train)"
      ]
    },
    {
      "cell_type": "code",
      "execution_count": null,
      "metadata": {
        "id": "VQ4xFMtsWWd3"
      },
      "outputs": [],
      "source": [
        "Y_pred = rf.predict(X_test)"
      ]
    },
    {
      "cell_type": "code",
      "execution_count": null,
      "metadata": {
        "id": "MIUotLtgWoVy"
      },
      "outputs": [],
      "source": [
        "# Making the Confusion Matrix \n",
        "\n",
        "from sklearn.metrics import confusion_matrix\n",
        "cm = confusion_matrix(Y_test, Y_pred)"
      ]
    },
    {
      "cell_type": "code",
      "execution_count": null,
      "metadata": {
        "colab": {
          "base_uri": "https://localhost:8080/"
        },
        "id": "xza3ai2OR-pM",
        "outputId": "73c70063-8b41-4adc-e2ae-4bc377550332"
      },
      "outputs": [
        {
          "data": {
            "text/plain": [
              "array([[ 68,  17],\n",
              "       [  0, 113]])"
            ]
          },
          "execution_count": 38,
          "metadata": {},
          "output_type": "execute_result"
        }
      ],
      "source": [
        "cm"
      ]
    },
    {
      "cell_type": "code",
      "execution_count": null,
      "metadata": {
        "colab": {
          "base_uri": "https://localhost:8080/"
        },
        "id": "f0TDzY5-Sgzu",
        "outputId": "3bcebe4f-dcd7-4b6c-8ba8-e009ba8a2234"
      },
      "outputs": [
        {
          "name": "stdout",
          "output_type": "stream",
          "text": [
            "Mean Absolute Error: 0.08585858585858586\n",
            "Mean Squared Error: 0.08585858585858586\n",
            "Root Mean Squared Error: 0.2930163576638442\n"
          ]
        }
      ],
      "source": [
        "#evaluation\n",
        "from sklearn import metrics\n",
        "\n",
        "print('Mean Absolute Error:', metrics.mean_absolute_error(Y_test, Y_pred))\n",
        "print('Mean Squared Error:', metrics.mean_squared_error(Y_test, Y_pred))\n",
        "print('Root Mean Squared Error:', np.sqrt(metrics.mean_squared_error(Y_test, Y_pred)))"
      ]
    },
    {
      "cell_type": "code",
      "execution_count": null,
      "metadata": {
        "colab": {
          "base_uri": "https://localhost:8080/"
        },
        "id": "ZNm34rZTTB2V",
        "outputId": "bed78cd4-8180-456d-c68b-02230b040c39"
      },
      "outputs": [
        {
          "name": "stdout",
          "output_type": "stream",
          "text": [
            "accuracy =  91.41414141414141\n",
            "p =  0.9346153846153846\n",
            "r =  0.9\n",
            "f1 =  0.9094650205761317\n",
            "              precision    recall  f1-score   support\n",
            "\n",
            "           0       1.00      0.80      0.89        85\n",
            "           1       0.87      1.00      0.93       113\n",
            "\n",
            "    accuracy                           0.91       198\n",
            "   macro avg       0.93      0.90      0.91       198\n",
            "weighted avg       0.93      0.91      0.91       198\n",
            "\n"
          ]
        }
      ],
      "source": [
        "#precision, recall, f1 score, accuracy \n",
        "from sklearn.metrics import accuracy_score, f1_score, precision_score, recall_score, classification_report\n",
        "accuracy=accuracy_score(Y_test, Y_pred)\n",
        "f1=f1_score(Y_test, Y_pred, average=\"macro\")\n",
        "p=precision_score(Y_test, Y_pred, average=\"macro\")\n",
        "r=recall_score(Y_test, Y_pred, average=\"macro\")\n",
        "print(\"accuracy = \",100*accuracy)\n",
        "print(\"p = \",p)\n",
        "print(\"r = \",r)\n",
        "print(\"f1 = \",f1)\n",
        "print(classification_report(Y_test, Y_pred))"
      ]
    },
    {
      "cell_type": "code",
      "execution_count": null,
      "metadata": {
        "colab": {
          "base_uri": "https://localhost:8080/",
          "height": 574
        },
        "id": "EKjkXGCETesg",
        "outputId": "0eaa38e3-5ea5-4b68-91ee-c20d7f4a24f3"
      },
      "outputs": [
        {
          "data": {
            "image/png": "[encoded data removed]",
            "text/plain": [
              "<Figure size 1152x504 with 2 Axes>"
            ]
          },
          "metadata": {
            "needs_background": "light"
          },
          "output_type": "display_data"
        }
      ],
      "source": [
        "# Build the plot\n",
        "import matplotlib.pyplot as plt\n",
        "import seaborn as sns\n",
        "plt.figure(figsize=(16,7))\n",
        "sns.set(font_scale=1.4)\n",
        "sns.heatmap(cm, annot=True, annot_kws={'size':10},\n",
        "            cmap=plt.cm.Greens, linewidths=0.2)\n",
        "# Add labels to the plot\n",
        "class_names = ['Predicted to have a mental health issue', 'Predicted to not have any mental health issues']\n",
        "tick_marks = np.arange(len(class_names))\n",
        "tick_marks2 = tick_marks + 0.5\n",
        "plt.xticks(tick_marks, class_names, rotation=25)\n",
        "plt.yticks(tick_marks2, class_names, rotation=0)\n",
        "plt.xlabel('Predicted label')\n",
        "plt.ylabel('True label')\n",
        "plt.title('Confusion Matrix for Random Forest Model')\n",
        "plt.show()"
      ]
    },
    {
      "cell_type": "code",
      "execution_count": null,
      "metadata": {
        "colab": {
          "base_uri": "https://localhost:8080/",
          "height": 273
        },
        "id": "TpvqZWpAZADE",
        "outputId": "4eb6b950-ddd4-4a23-a1a6-01803fdde55e"
      },
      "outputs": [
        {
          "data": {
            "image/png": "[encoded data removed]",
            "text/plain": [
              "<Figure size 432x288 with 1 Axes>"
            ]
          },
          "metadata": {},
          "output_type": "display_data"
        }
      ],
      "source": [
        "# Plot ROC curve\n",
        "fpr, tpr, _ = metrics.roc_curve(Y_test,  Y_pred)\n",
        "auc = metrics.roc_auc_score(Y_test,  Y_pred)\n",
        "plt.plot(fpr,tpr,label=\"data 1, auc=\"+str(auc))\n",
        "plt.legend(loc=4)\n",
        "plt.show()\n"
      ]
    },
    {
      "cell_type": "markdown",
      "metadata": {
        "id": "zp0GnLTDbbKS"
      },
      "source": [
        "ADABOOST"
      ]
    },
    {
      "cell_type": "code",
      "execution_count": null,
      "metadata": {
        "colab": {
          "base_uri": "https://localhost:8080/"
        },
        "id": "zBZgeoE_baKr",
        "outputId": "0296a86c-8f60-4e34-c54c-e48facb99c1e"
      },
      "outputs": [
        {
          "data": {
            "text/plain": [
              "array([[ 74,  11],\n",
              "       [ 12, 101]])"
            ]
          },
          "execution_count": 43,
          "metadata": {},
          "output_type": "execute_result"
        }
      ],
      "source": [
        "ada.fit(X_train,Y_train)\n",
        "Y_pred_ada = ada.predict(X_test)\n",
        "# Making the Confusion Matrix \n",
        "from sklearn.metrics import confusion_matrix\n",
        "cm_ada = confusion_matrix(Y_test, Y_pred_ada)\n",
        "cm_ada"
      ]
    },
    {
      "cell_type": "code",
      "execution_count": null,
      "metadata": {
        "colab": {
          "base_uri": "https://localhost:8080/"
        },
        "id": "IkP1GJY-bPM7",
        "outputId": "80890472-fb17-402d-e12b-4f4e039d708b"
      },
      "outputs": [
        {
          "name": "stdout",
          "output_type": "stream",
          "text": [
            "Mean Absolute Error: 0.11616161616161616\n",
            "Mean Squared Error: 0.11616161616161616\n",
            "Root Mean Squared Error: 0.3408249054303634\n"
          ]
        }
      ],
      "source": [
        "#evaluation\n",
        "from sklearn import metrics\n",
        "print('Mean Absolute Error:', metrics.mean_absolute_error(Y_test, Y_pred_ada))\n",
        "print('Mean Squared Error:', metrics.mean_squared_error(Y_test, Y_pred_ada))\n",
        "print('Root Mean Squared Error:', np.sqrt(metrics.mean_squared_error(Y_test, Y_pred_ada)))"
      ]
    },
    {
      "cell_type": "code",
      "execution_count": null,
      "metadata": {
        "colab": {
          "base_uri": "https://localhost:8080/"
        },
        "id": "sP35sN15ZDr5",
        "outputId": "2a374f3b-8610-4931-ca16-7dc3289ec441"
      },
      "outputs": [
        {
          "name": "stdout",
          "output_type": "stream",
          "text": [
            "accuracy =  88.38383838383838\n",
            "p =  0.881125415282392\n",
            "r =  0.8821967725143154\n",
            "f1 =  0.8816374269005848\n",
            "              precision    recall  f1-score   support\n",
            "\n",
            "           0       0.86      0.87      0.87        85\n",
            "           1       0.90      0.89      0.90       113\n",
            "\n",
            "    accuracy                           0.88       198\n",
            "   macro avg       0.88      0.88      0.88       198\n",
            "weighted avg       0.88      0.88      0.88       198\n",
            "\n"
          ]
        }
      ],
      "source": [
        "#precision, recall, f1 score, accuracy \n",
        "from sklearn.metrics import accuracy_score, f1_score, precision_score, recall_score, classification_report\n",
        "accuracy_ada=accuracy_score(Y_test, Y_pred_ada)\n",
        "f1_ada=f1_score(Y_test, Y_pred_ada, average=\"macro\")\n",
        "p_ada=precision_score(Y_test, Y_pred_ada, average=\"macro\")\n",
        "r_ada=recall_score(Y_test, Y_pred_ada, average=\"macro\")\n",
        "print(\"accuracy = \",100*accuracy_ada)\n",
        "print(\"p = \",p_ada)\n",
        "print(\"r = \",r_ada)\n",
        "print(\"f1 = \",f1_ada)\n",
        "print(classification_report(Y_test, Y_pred_ada))"
      ]
    },
    {
      "cell_type": "code",
      "execution_count": null,
      "metadata": {
        "colab": {
          "base_uri": "https://localhost:8080/",
          "height": 273
        },
        "id": "CuGefqYbcwt8",
        "outputId": "67a25649-a7ac-4feb-fbc3-e4ce8482448d"
      },
      "outputs": [
        {
          "data": {
            "image/png": "[encoded data removed]",
            "text/plain": [
              "<Figure size 432x288 with 1 Axes>"
            ]
          },
          "metadata": {},
          "output_type": "display_data"
        }
      ],
      "source": [
        "# Plot ROC curve\n",
        "fpr_ada, tpr_ada, _ = metrics.roc_curve(Y_test,  Y_pred_ada)\n",
        "auc_ada = metrics.roc_auc_score(Y_test,  Y_pred_ada)\n",
        "plt.plot(fpr_ada,tpr_ada,label=\"data 1, auc=\"+str(auc_ada))\n",
        "plt.legend(loc=4)\n",
        "plt.show()\n"
      ]
    },
    {
      "cell_type": "markdown",
      "metadata": {
        "id": "CV4tE1BzdHDb"
      },
      "source": [
        "XGBOOST"
      ]
    },
    {
      "cell_type": "code",
      "execution_count": null,
      "metadata": {
        "colab": {
          "base_uri": "https://localhost:8080/",
          "height": 551
        },
        "id": "UtY8P_svdFwi",
        "outputId": "4d6e3d86-a47d-495f-d071-f089e27ccde4"
      },
      "outputs": [
        {
          "name": "stdout",
          "output_type": "stream",
          "text": [
            "Mean Absolute Error: 0.06565656565656566\n",
            "Mean Squared Error: 0.06565656565656566\n",
            "Root Mean Squared Error: 0.25623537159526916\n",
            "accuracy =  93.43434343434343\n",
            "p =  0.9448561464690497\n",
            "r =  0.9249869859448203\n",
            "f1 =  0.9316933365177932\n",
            "              precision    recall  f1-score   support\n",
            "\n",
            "           0       0.99      0.86      0.92        85\n",
            "           1       0.90      0.99      0.95       113\n",
            "\n",
            "    accuracy                           0.93       198\n",
            "   macro avg       0.94      0.92      0.93       198\n",
            "weighted avg       0.94      0.93      0.93       198\n",
            "\n"
          ]
        },
        {
          "data": {
            "image/png": "[encoded data removed]",
            "text/plain": [
              "<Figure size 432x288 with 1 Axes>"
            ]
          },
          "metadata": {},
          "output_type": "display_data"
        }
      ],
      "source": [
        "xgboost.fit(X_train,Y_train)\n",
        "Y_pred_xg = xgboost.predict(X_test)\n",
        "# Making the Confusion Matrix \n",
        "from sklearn.metrics import confusion_matrix\n",
        "cm_xg = confusion_matrix(Y_test, Y_pred_xg)\n",
        "#evaluation\n",
        "from sklearn import metrics\n",
        "print('Mean Absolute Error:', metrics.mean_absolute_error(Y_test, Y_pred_xg))\n",
        "print('Mean Squared Error:', metrics.mean_squared_error(Y_test, Y_pred_xg))\n",
        "print('Root Mean Squared Error:', np.sqrt(metrics.mean_squared_error(Y_test, Y_pred_xg)))\n",
        "#precision, recall, f1 score, accuracy \n",
        "from sklearn.metrics import accuracy_score, f1_score, precision_score, recall_score, classification_report\n",
        "accuracy_xg=accuracy_score(Y_test, Y_pred_xg)\n",
        "f1_xg=f1_score(Y_test, Y_pred_xg, average=\"macro\")\n",
        "p_xg=precision_score(Y_test, Y_pred_xg, average=\"macro\")\n",
        "r_xg=recall_score(Y_test, Y_pred_xg, average=\"macro\")\n",
        "print(\"accuracy = \",100*accuracy_xg)\n",
        "print(\"p = \",p_xg)\n",
        "print(\"r = \",r_xg)\n",
        "print(\"f1 = \",f1_xg)\n",
        "print(classification_report(Y_test, Y_pred_xg))\n",
        "# Plot ROC curve\n",
        "fpr_xg, tpr_xg, _ = metrics.roc_curve(Y_test,  Y_pred_xg)\n",
        "auc_xg = metrics.roc_auc_score(Y_test,  Y_pred_xg)\n",
        "plt.plot(fpr_xg,tpr_xg,label=\"data 1, auc=\"+str(auc_xg))\n",
        "plt.legend(loc=4)\n",
        "plt.show()"
      ]
    },
    {
      "cell_type": "markdown",
      "metadata": {
        "id": "YoLCthaQarKp"
      },
      "source": [
        "GRADIENT BOOSTING CLASSIFIER"
      ]
    },
    {
      "cell_type": "code",
      "execution_count": null,
      "metadata": {
        "colab": {
          "base_uri": "https://localhost:8080/",
          "height": 593
        },
        "id": "JO4tllx5dCOq",
        "outputId": "7f17f1b6-69d1-4207-bacc-d0f699d5ce79"
      },
      "outputs": [
        {
          "name": "stdout",
          "output_type": "stream",
          "text": [
            "Mean Absolute Error: 0.06060606060606061\n",
            "Mean Squared Error: 0.06060606060606061\n",
            "Root Mean Squared Error: 0.24618298195866548\n",
            "accuracy =  93.93939393939394\n",
            "p =  0.9486178861788618\n",
            "r =  0.9308693388859969\n",
            "f1 =  0.9370762711864407\n",
            "              precision    recall  f1-score   support\n",
            "\n",
            "           0       0.99      0.87      0.93        85\n",
            "           1       0.91      0.99      0.95       113\n",
            "\n",
            "    accuracy                           0.94       198\n",
            "   macro avg       0.95      0.93      0.94       198\n",
            "weighted avg       0.94      0.94      0.94       198\n",
            "\n"
          ]
        },
        {
          "data": {
            "image/png": "[encoded data removed]",
            "text/plain": [
              "<Figure size 432x288 with 1 Axes>"
            ]
          },
          "metadata": {},
          "output_type": "display_data"
        }
      ],
      "source": [
        "grad.fit(X_train,Y_train)\n",
        "Y_pred_grad = grad.predict(X_test)\n",
        "# Making the Confusion Matrix \n",
        "from sklearn.metrics import confusion_matrix\n",
        "cm_grad = confusion_matrix(Y_test, Y_pred_grad)\n",
        "#evaluation\n",
        "from sklearn import metrics\n",
        "print('Mean Absolute Error:', metrics.mean_absolute_error(Y_test, Y_pred_grad))\n",
        "print('Mean Squared Error:', metrics.mean_squared_error(Y_test, Y_pred_grad))\n",
        "print('Root Mean Squared Error:', np.sqrt(metrics.mean_squared_error(Y_test, Y_pred_grad)))\n",
        "#precision, recall, f1 score, accuracy \n",
        "from sklearn.metrics import accuracy_score, f1_score, precision_score, recall_score, classification_report\n",
        "accuracy_grad=accuracy_score(Y_test, Y_pred_grad)\n",
        "f1_grad=f1_score(Y_test, Y_pred_grad, average=\"macro\")\n",
        "p_grad=precision_score(Y_test, Y_pred_grad, average=\"macro\")\n",
        "r_grad=recall_score(Y_test, Y_pred_grad, average=\"macro\")\n",
        "print(\"accuracy = \",100*accuracy_grad)\n",
        "print(\"p = \",p_grad)\n",
        "print(\"r = \",r_grad)\n",
        "print(\"f1 = \",f1_grad)\n",
        "print(classification_report(Y_test, Y_pred_grad))\n",
        "# Plot ROC curve\n",
        "fpr_grad, tpr_grad, _ = metrics.roc_curve(Y_test,  Y_pred_grad)\n",
        "auc_grad = metrics.roc_auc_score(Y_test,  Y_pred_grad)\n",
        "plt.plot(fpr_grad,tpr_grad,label=\"auc=\"+str(round(auc_grad,2)))\n",
        "plt.legend(loc=4)\n",
        "plt.title('ROC curve')\n",
        "plt.xlabel('False Positive Rate')\n",
        "plt.ylabel('True Positive Rate')\n",
        "plt.savefig('grad_boost_roc.png')\n",
        "plt.show()\n"
      ]
    },
    {
      "cell_type": "code",
      "execution_count": null,
      "metadata": {
        "id": "HFN80FYrbKKE"
      },
      "outputs": [],
      "source": []
    },
    {
      "cell_type": "markdown",
      "metadata": {
        "id": "VOG2mzmXGx_j"
      },
      "source": [
        "K FOLD CROSS VALIDATION"
      ]
    },
    {
      "cell_type": "code",
      "execution_count": null,
      "metadata": {
        "id": "_jhO8tDTsoCl"
      },
      "outputs": [],
      "source": [
        "rf = RandomForestClassifier(random_state = 2222)\n",
        "logreg = LogisticRegression()\n",
        "tree = DecisionTreeClassifier(random_state = 2222)\n",
        "knn = KNeighborsClassifier()\n",
        "ada = AdaBoostClassifier(random_state = 2222)\n",
        "grad = GradientBoostingClassifier(random_state = 2222)\n",
        "xgboost = XGBClassifier(random_state = 2222)"
      ]
    },
    {
      "cell_type": "code",
      "execution_count": null,
      "metadata": {
        "colab": {
          "base_uri": "https://localhost:8080/"
        },
        "id": "AGHIPU2EGz2-",
        "outputId": "d175e31a-2d2d-46fb-8c56-41e2db42003c"
      },
      "outputs": [
        {
          "name": "stdout",
          "output_type": "stream",
          "text": [
            "Cross Validation Scores are [0.81818182 0.84848485 0.84848485 0.87878788 0.84848485 0.81818182\n",
            " 0.90909091 0.93939394 0.81818182 0.90909091 0.81818182 0.9375\n",
            " 0.875      0.90625   ]\n",
            "Average Cross Validation score :86.9521103896104+/- 4.30699155912631\n"
          ]
        }
      ],
      "source": [
        "from sklearn.model_selection import cross_val_score,KFold\n",
        "from sklearn.model_selection import StratifiedKFold\n",
        "\n",
        "kf = StratifiedKFold(n_splits=14, shuffle=True, random_state=1)\n",
        "\n",
        "logreg_score = cross_val_score(logreg, X_train, Y_train, cv = kf)\n",
        "print(\"Cross Validation Scores are {}\".format(logreg_score))\n",
        "print(\"Average Cross Validation score :{}+/- {}\".format(logreg_score.mean()*100,logreg_score.std()*100))"
      ]
    },
    {
      "cell_type": "code",
      "execution_count": null,
      "metadata": {
        "colab": {
          "base_uri": "https://localhost:8080/"
        },
        "id": "7D0vs3VI_-wb",
        "outputId": "7aec4588-0be7-4e9e-e4bf-5949c523b76a"
      },
      "outputs": [
        {
          "name": "stdout",
          "output_type": "stream",
          "text": [
            "Cross Validation Scores are [0.81818182 0.87878788 0.84848485 0.93939394 0.90909091 0.87878788\n",
            " 0.90909091 0.93939394 0.87878788 0.87878788 0.87878788 0.90625\n",
            " 0.84375    0.9375    ]\n",
            "Average Cross Validation score :0.8889339826839827\n",
            "Average Cross Validation score :88.89339826839827+/- 3.561884630767643\n"
          ]
        }
      ],
      "source": [
        "kf = StratifiedKFold(n_splits=14, shuffle=True, random_state=1)\n",
        "rf_score=cross_val_score(rf,X_train, Y_train,cv=kf)\n",
        "print(\"Cross Validation Scores are {}\".format(rf_score))\n",
        "print(\"Average Cross Validation score :{}\".format(rf_score.mean()))\n",
        "print(\"Average Cross Validation score :{}+/- {}\".format(rf_score.mean()*100,rf_score.std()*100))"
      ]
    },
    {
      "cell_type": "code",
      "execution_count": null,
      "metadata": {
        "colab": {
          "base_uri": "https://localhost:8080/"
        },
        "id": "zMElFI_E4VRW",
        "outputId": "11ae8f82-8923-4694-9faa-d57dee98da1c"
      },
      "outputs": [
        {
          "name": "stdout",
          "output_type": "stream",
          "text": [
            "Cross Validation Scores are [0.75757576 0.87878788 0.78787879 0.87878788 0.84848485 0.84848485\n",
            " 0.84848485 0.78787879 0.90909091 0.84848485 0.87878788 0.8125\n",
            " 0.8125     0.96875   ]\n",
            "Average Cross Validation score :0.8476055194805194\n",
            "Average Cross Validation score :84.76055194805194+/- 5.283482869827194\n"
          ]
        }
      ],
      "source": [
        "kf = StratifiedKFold(n_splits=14, shuffle=True, random_state=1)\n",
        "tree_score=cross_val_score(tree,X_train, Y_train,cv=kf)\n",
        "print(\"Cross Validation Scores are {}\".format(tree_score))\n",
        "print(\"Average Cross Validation score :{}\".format(tree_score.mean()))\n",
        "print(\"Average Cross Validation score :{}+/- {}\".format(tree_score.mean()*100,tree_score.std()*100))"
      ]
    },
    {
      "cell_type": "code",
      "execution_count": null,
      "metadata": {
        "colab": {
          "base_uri": "https://localhost:8080/"
        },
        "id": "IZ3qnShL4W4d",
        "outputId": "a15da55a-907b-4a5a-9d4a-9d0c675d6a50"
      },
      "outputs": [
        {
          "name": "stdout",
          "output_type": "stream",
          "text": [
            "Cross Validation Scores are [0.87878788 0.87878788 0.78787879 0.87878788 0.84848485 0.72727273\n",
            " 0.93939394 0.90909091 0.87878788 0.84848485 0.81818182 0.78125\n",
            " 0.875      0.90625   ]\n",
            "Average Cross Validation score :85.40313852813853+/- 5.5435994228149434\n"
          ]
        }
      ],
      "source": [
        "kf = StratifiedKFold(n_splits=14, shuffle=True, random_state=1)\n",
        "knn_score=cross_val_score(knn,X_train, Y_train,cv=kf)\n",
        "print(\"Cross Validation Scores are {}\".format(knn_score))\n",
        "print(\"Average Cross Validation score :{}+/- {}\".format(knn_score.mean()*100,knn_score.std()*100))"
      ]
    },
    {
      "cell_type": "code",
      "execution_count": null,
      "metadata": {
        "colab": {
          "base_uri": "https://localhost:8080/"
        },
        "id": "KVvmeeJO4YAl",
        "outputId": "714817bb-c0ce-4adb-a994-b3a5266031ae"
      },
      "outputs": [
        {
          "name": "stdout",
          "output_type": "stream",
          "text": [
            "Cross Validation Scores are [0.84848485 0.87878788 0.75757576 0.84848485 0.81818182 0.78787879\n",
            " 0.90909091 0.93939394 0.84848485 0.84848485 0.84848485 0.90625\n",
            " 0.90625    0.90625   ]\n",
            "Average Cross Validation score :86.08630952380952+/- 4.897302928757536\n"
          ]
        }
      ],
      "source": [
        "\n",
        "kf = StratifiedKFold(n_splits=14, shuffle=True, random_state=1)\n",
        "ada_score=cross_val_score(ada,X_train, Y_train,cv=kf)\n",
        "print(\"Cross Validation Scores are {}\".format(ada_score))\n",
        "print(\"Average Cross Validation score :{}+/- {}\".format(ada_score.mean()*100,ada_score.std()*100))"
      ]
    },
    {
      "cell_type": "code",
      "execution_count": null,
      "metadata": {
        "colab": {
          "base_uri": "https://localhost:8080/"
        },
        "id": "1SnbWeEc4YpI",
        "outputId": "857e7e95-7025-4bc9-e5ec-bf5bd756975b"
      },
      "outputs": [
        {
          "name": "stdout",
          "output_type": "stream",
          "text": [
            "Cross Validation Scores are [0.90909091 0.87878788 0.84848485 0.93939394 0.87878788 0.81818182\n",
            " 0.90909091 0.90909091 0.87878788 0.87878788 0.87878788 0.90625\n",
            " 0.875      0.9375    ]\n",
            "Average Cross Validation score :88.90016233766235+/- 3.1366980991876807\n"
          ]
        }
      ],
      "source": [
        "kf = StratifiedKFold(n_splits=14, shuffle=True, random_state=1)\n",
        "grad_score=cross_val_score(grad,X_train, Y_train,cv=kf)\n",
        "print(\"Cross Validation Scores are {}\".format(grad_score))\n",
        "print(\"Average Cross Validation score :{}+/- {}\".format(grad_score.mean()*100,grad_score.std()*100))"
      ]
    },
    {
      "cell_type": "code",
      "execution_count": null,
      "metadata": {
        "colab": {
          "base_uri": "https://localhost:8080/"
        },
        "id": "xiFxJ3XU4vQi",
        "outputId": "be55a35a-0b80-4388-e061-c58f2e77b6a6"
      },
      "outputs": [
        {
          "name": "stdout",
          "output_type": "stream",
          "text": [
            "Cross Validation Scores are [0.84848485 0.87878788 0.84848485 0.90909091 0.87878788 0.78787879\n",
            " 0.93939394 0.90909091 0.87878788 0.87878788 0.84848485 0.9375\n",
            " 0.84375    0.9375    ]\n",
            "Average Cross Validation score :88.03436147186147+/- 4.1932701630312925\n"
          ]
        }
      ],
      "source": [
        "kf = StratifiedKFold(n_splits=14, shuffle=True, random_state=1)\n",
        "xgboost_score=cross_val_score(xgboost,X_train, Y_train,cv=kf)\n",
        "print(\"Cross Validation Scores are {}\".format(xgboost_score))\n",
        "print(\"Average Cross Validation score :{}+/- {}\".format(xgboost_score.mean()*100,xgboost_score.std()*100))"
      ]
    },
    {
      "cell_type": "markdown",
      "metadata": {
        "id": "BggXfBShhXBg"
      },
      "source": [
        "**CLUSTERING**"
      ]
    },
    {
      "cell_type": "code",
      "execution_count": null,
      "metadata": {
        "id": "sovgxYbph-At"
      },
      "outputs": [],
      "source": [
        "from sklearn.mixture import GaussianMixture\n",
        "from sklearn.mixture import GaussianMixture\n",
        "from sklearn.metrics import silhouette_samples, silhouette_score\n",
        "from sklearn.cluster import KMeans\n",
        "from yellowbrick.cluster import SilhouetteVisualizer\n",
        "from yellowbrick.datasets import load_nfl\n",
        "from sklearn.metrics import pairwise_distances\n",
        "from sklearn.metrics import davies_bouldin_score\n",
        "from sklearn.preprocessing import StandardScaler\n",
        "from yellowbrick.cluster import KElbowVisualizer"
      ]
    },
    {
      "cell_type": "markdown",
      "metadata": {
        "id": "eIaTR5WJ0lzH"
      },
      "source": [
        "KMEANS CLUSTERING"
      ]
    },
    {
      "cell_type": "code",
      "execution_count": null,
      "metadata": {
        "colab": {
          "base_uri": "https://localhost:8080/",
          "height": 376
        },
        "id": "vm8E8_tx0p4v",
        "outputId": "6d8526f2-60f5-4d51-8d32-4b6da605809a"
      },
      "outputs": [
        {
          "data": {
            "image/png": "[encoded data removed]",
            "text/plain": [
              "<Figure size 576x396 with 1 Axes>"
            ]
          },
          "metadata": {},
          "output_type": "display_data"
        }
      ],
      "source": [
        "#KMeans\n",
        "wcss = []\n",
        "scaler=StandardScaler()\n",
        "X=scaler.fit_transform(df)\n",
        "#kmeans_model = KMeans(max_iter=600,n_clusters=3, random_state=42)\n",
        "for i in range(1, 6):\n",
        "    kmeans = KMeans(n_clusters=i, init='k-means++', max_iter=600, n_init=1, random_state=0)\n",
        "    kmeans.fit(X)\n",
        "    #kmeans.fit(X)\n",
        "    wcss.append(kmeans.inertia_)\n",
        "plt.plot(range(1, 6), wcss)\n",
        "plt.title('Elbow Method')\n",
        "plt.xlabel('Number of clusters')\n",
        "plt.ylabel('WCSS')\n",
        "plt.show()"
      ]
    },
    {
      "cell_type": "code",
      "execution_count": null,
      "metadata": {
        "colab": {
          "base_uri": "https://localhost:8080/",
          "height": 393
        },
        "id": "Bh0Fqifb0-bQ",
        "outputId": "5be58002-02ce-4837-a52f-c8d4652541ca"
      },
      "outputs": [
        {
          "data": {
            "image/png": "[encoded data removed]",
            "text/plain": [
              "<Figure size 576x396 with 1 Axes>"
            ]
          },
          "metadata": {},
          "output_type": "display_data"
        },
        {
          "data": {
            "text/plain": [
              "<matplotlib.axes._subplots.AxesSubplot at 0x7f2d8c768e10>"
            ]
          },
          "execution_count": 33,
          "metadata": {},
          "output_type": "execute_result"
        }
      ],
      "source": [
        "model = KMeans()\n",
        "#X = scaler.fit_transform(X)\n",
        "visualizer = KElbowVisualizer(model, k=(2,6), metric='calinski_harabasz', timings=False)\n",
        "visualizer.fit(X)        # Fit the data to the visualizer\n",
        "visualizer.show()        # Finalize and render the figure"
      ]
    },
    {
      "cell_type": "markdown",
      "metadata": {},
      "source": [
        "K Means Evaluation"
      ]
    },
    {
      "cell_type": "code",
      "execution_count": null,
      "metadata": {
        "colab": {
          "base_uri": "https://localhost:8080/",
          "height": 445
        },
        "id": "g56nRuiP2Nmr",
        "outputId": "cef32327-0faa-4daf-a887-95a7f5dd2fd9"
      },
      "outputs": [
        {
          "name": "stdout",
          "output_type": "stream",
          "text": [
            "Sum of sqaured errors SSE:  42406.22745239889\n",
            "Silhouette score: 0.33409330026232703\n",
            "calinski_harabasz_score: 424.529\n",
            "1.1387430743901628\n"
          ]
        },
        {
          "data": {
            "image/png": "[encoded data removed]",
            "text/plain": [
              "<Figure size 576x396 with 1 Axes>"
            ]
          },
          "metadata": {},
          "output_type": "display_data"
        }
      ],
      "source": [
        "# K-Means evaluation\n",
        "kmeans2 = KMeans(n_clusters=2, random_state=1).fit(df)\n",
        "# we store the cluster labels\n",
        "kmeans_labels2 = kmeans2.labels_\n",
        "sse= kmeans2.inertia_\n",
        "score1 = silhouette_score(df, kmeans_labels2, metric='euclidean')\n",
        "score3=metrics.calinski_harabasz_score(df, kmeans_labels2)\n",
        "print(\"Sum of sqaured errors SSE: \",sse)\n",
        "print(\"Silhouette score:\",score1)\n",
        "print('calinski_harabasz_score: %.3f' % score3)\n",
        "print(davies_bouldin_score(df, kmeans_labels2))\n",
        "from sklearn.decomposition import PCA\n",
        "\n"
      ]
    },
    {
      "cell_type": "markdown",
      "metadata": {},
      "source": [
        "Run PCA on the data and reduce the dimensions in pca_num_components dimensions"
      ]
    },
    {
      "cell_type": "code",
      "execution_count": null,
      "metadata": {},
      "outputs": [],
      "source": [
        "reduced_data = PCA(n_components=2).fit_transform(df)\n",
        "results = pd.DataFrame(reduced_data,columns=['pca1','pca2'])\n",
        "sns.scatterplot(x=\"pca1\", y=\"pca2\", hue=kmeans_labels2, data=results)\n",
        "plt.title('K-means Clustering with 2 dimensions')\n",
        "plt.show()"
      ]
    },
    {
      "cell_type": "code",
      "execution_count": null,
      "metadata": {
        "colab": {
          "base_uri": "https://localhost:8080/",
          "height": 445
        },
        "id": "4jFUyq1ISx-I",
        "outputId": "423d15a9-96ab-45b3-96f9-d75e71b6ef17"
      },
      "outputs": [
        {
          "ename": "",
          "evalue": "",
          "output_type": "error",
          "traceback": [
            "\u001b[1;31mJupyter cannot be started. Error attempting to locate Jupyter: Running cells with 'Python 3.10.6 64-bit' requires notebook package.\n",
            "\u001b[1;31mRun the following command to install 'jupyter and notebook' into the Python environment. \n",
            "\u001b[1;31mCommand: 'python -m pip install jupyter notebook -U\n",
            "\u001b[1;31mor\n",
            "\u001b[1;31mconda install jupyter notebook -U'\n",
            "Click <a href='https://aka.ms/installJupyterForVSCode'>here</a> for more info."
          ]
        }
      ],
      "source": [
        "kmeans3 = KMeans(n_clusters=3, random_state=1).fit(df)\n",
        "kmeans_labels3 = kmeans3.labels_\n",
        "sse= kmeans3.inertia_\n",
        "score1 = silhouette_score(df, kmeans_labels3, metric='euclidean')\n",
        "score3=metrics.calinski_harabasz_score(df, kmeans_labels3)\n",
        "print(\"Sum of sqaured errors SSE: \",sse)\n",
        "print(\"Silhouette score:\",score1)\n",
        "print('calinski_harabasz_score: %.3f' % score3)\n",
        "print(davies_bouldin_score(df, kmeans_labels3))"
      ]
    },
    {
      "cell_type": "markdown",
      "metadata": {},
      "source": [
        "Running PCA on the data and reduce the dimensions in pca_num_components dimensions"
      ]
    },
    {
      "cell_type": "code",
      "execution_count": null,
      "metadata": {},
      "outputs": [],
      "source": [
        "reduced_data = PCA(n_components=2).fit_transform(df)\n",
        "results = pd.DataFrame(reduced_data,columns=['pca1','pca2'])\n",
        "sns.scatterplot(x=\"pca1\", y=\"pca2\", hue=kmeans_labels3, data=results)\n",
        "plt.title('K-means Clustering')\n",
        "plt.savefig('kmeans.png')\n",
        "plt.show()"
      ]
    },
    {
      "cell_type": "markdown",
      "metadata": {
        "id": "n3MGX1OBhfIg"
      },
      "source": [
        "GAUSSIAN MIXTURE MODELS"
      ]
    },
    {
      "cell_type": "code",
      "execution_count": null,
      "metadata": {
        "colab": {
          "base_uri": "https://localhost:8080/",
          "height": 428
        },
        "id": "PmAKywmvhaB6",
        "outputId": "c83b2ac2-6e78-41db-d36a-a3f987407b12"
      },
      "outputs": [
        {
          "ename": "",
          "evalue": "",
          "output_type": "error",
          "traceback": [
            "\u001b[1;31mJupyter cannot be started. Error attempting to locate Jupyter: Running cells with 'Python 3.10.6 64-bit' requires notebook package.\n",
            "\u001b[1;31mRun the following command to install 'jupyter and notebook' into the Python environment. \n",
            "\u001b[1;31mCommand: 'python -m pip install jupyter notebook -U\n",
            "\u001b[1;31mor\n",
            "\u001b[1;31mconda install jupyter notebook -U'\n",
            "Click <a href='https://aka.ms/installJupyterForVSCode'>here</a> for more info."
          ]
        }
      ],
      "source": [
        "\n",
        "gmm_model2 = GaussianMixture(n_components=2)\n",
        "gmm_model3 = GaussianMixture(n_components=3)\n",
        "gmm_model2.fit(df)\n",
        "gmm_model3.fit(df)\n",
        "# we store the cluster labels\n",
        "gmm_labels2 = gmm_model2.predict(df)\n",
        "#sse= gmm_model2.inertia_\n",
        "score1 = silhouette_score(df, gmm_labels2, metric='euclidean')\n",
        "score3=metrics.calinski_harabasz_score(df, gmm_labels2)\n",
        "#print(\"Sum of sqaured errors SSE: \",sse)\n",
        "print(\"Silhouette score:\",score1)\n",
        "print('calinski_harabasz_score: %.3f' % score3)\n",
        "print('davies_bouldin_score :',davies_bouldin_score(df, gmm_labels2))\n",
        "sns.scatterplot(x=\"pca1\", y=\"pca2\", hue=gmm_labels2, data=results)\n",
        "plt.title('GMM with 2 dimensions')\n",
        "plt.show()\n"
      ]
    },
    {
      "cell_type": "code",
      "execution_count": null,
      "metadata": {
        "colab": {
          "base_uri": "https://localhost:8080/",
          "height": 428
        },
        "id": "cCnpPYBbhj0N",
        "outputId": "f4f24a5c-3856-4863-b795-713cc77818bf"
      },
      "outputs": [
        {
          "ename": "",
          "evalue": "",
          "output_type": "error",
          "traceback": [
            "\u001b[1;31mJupyter cannot be started. Error attempting to locate Jupyter: Running cells with 'Python 3.10.6 64-bit' requires notebook package.\n",
            "\u001b[1;31mRun the following command to install 'jupyter and notebook' into the Python environment. \n",
            "\u001b[1;31mCommand: 'python -m pip install jupyter notebook -U\n",
            "\u001b[1;31mor\n",
            "\u001b[1;31mconda install jupyter notebook -U'\n",
            "Click <a href='https://aka.ms/installJupyterForVSCode'>here</a> for more info."
          ]
        }
      ],
      "source": [
        "# we store the cluster labels\n",
        "gmm_labels3=gmm_model3.predict(df)\n",
        "#sse= gmm_model2.inertia_\n",
        "score1 = silhouette_score(df, gmm_labels3, metric='euclidean')\n",
        "score3=metrics.calinski_harabasz_score(df, gmm_labels3)\n",
        "#print(\"Sum of sqaured errors SSE: \",sse)\n",
        "print(\"Silhouette score:\",score1)\n",
        "print('calinski_harabasz_score: %.3f' % score3)\n",
        "print('davies_bouldin_score :',davies_bouldin_score(df, gmm_labels3))\n",
        "sns.scatterplot(x=\"pca1\", y=\"pca2\", hue=gmm_labels3, data=results)\n",
        "plt.title('Gaussian Mixture Models')\n",
        "plt.savefig('gmm.png')\n",
        "plt.show()\n"
      ]
    },
    {
      "cell_type": "markdown",
      "metadata": {
        "id": "aZZzsCQMsIX5"
      },
      "source": [
        "SPECTRAL CLUSTERING"
      ]
    },
    {
      "cell_type": "code",
      "execution_count": null,
      "metadata": {
        "colab": {
          "base_uri": "https://localhost:8080/",
          "height": 428
        },
        "id": "QGeYzz6lll3X",
        "outputId": "dc1d6752-bec9-4b36-b6b2-5ada2298973b"
      },
      "outputs": [
        {
          "ename": "",
          "evalue": "",
          "output_type": "error",
          "traceback": [
            "\u001b[1;31mJupyter cannot be started. Error attempting to locate Jupyter: Running cells with 'Python 3.10.6 64-bit' requires notebook package.\n",
            "\u001b[1;31mRun the following command to install 'jupyter and notebook' into the Python environment. \n",
            "\u001b[1;31mCommand: 'python -m pip install jupyter notebook -U\n",
            "\u001b[1;31mor\n",
            "\u001b[1;31mconda install jupyter notebook -U'\n",
            "Click <a href='https://aka.ms/installJupyterForVSCode'>here</a> for more info."
          ]
        }
      ],
      "source": [
        "from sklearn.cluster import SpectralClustering\n",
        "spectral_cluster_model3= SpectralClustering(\n",
        "    n_clusters=3, \n",
        "    random_state=25, \n",
        "    n_neighbors=8, \n",
        "    affinity='nearest_neighbors'\n",
        ")\n",
        "spectral_cluster_model2= SpectralClustering(\n",
        "    n_clusters=2, \n",
        "    random_state=25, \n",
        "    n_neighbors=8, \n",
        "    affinity='nearest_neighbors'\n",
        ")\n",
        "spectral_cluster_model2.fit(df)\n",
        "spectral_cluster_model3.fit(df)\n",
        "sc_labels2=spectral_cluster_model2.labels_\n",
        "\n",
        "score1 = silhouette_score(df, sc_labels2, metric='euclidean')\n",
        "score3=metrics.calinski_harabasz_score(df, sc_labels2)\n",
        "\n",
        "print(\"Silhouette score:\",score1)\n",
        "print('calinski_harabasz_score: %.3f' % score3)\n",
        "print('davies_bouldin_score :',davies_bouldin_score(df, sc_labels2))\n",
        "reduced_data = PCA(n_components=2).fit_transform(df)\n",
        "results = pd.DataFrame(reduced_data,columns=['pca1','pca2'])\n",
        "sns.scatterplot(x=\"pca1\", y=\"pca2\", hue=sc_labels2, data=results)\n",
        "plt.title('Spectral Clustering in 2 dimensions')\n",
        "plt.show()"
      ]
    },
    {
      "cell_type": "code",
      "execution_count": null,
      "metadata": {
        "colab": {
          "base_uri": "https://localhost:8080/",
          "height": 428
        },
        "id": "26B3UdTTviTl",
        "outputId": "3253b1c6-d681-45d0-afdd-e738c761348f"
      },
      "outputs": [
        {
          "ename": "",
          "evalue": "",
          "output_type": "error",
          "traceback": [
            "\u001b[1;31mJupyter cannot be started. Error attempting to locate Jupyter: Running cells with 'Python 3.10.6 64-bit' requires notebook package.\n",
            "\u001b[1;31mRun the following command to install 'jupyter and notebook' into the Python environment. \n",
            "\u001b[1;31mCommand: 'python -m pip install jupyter notebook -U\n",
            "\u001b[1;31mor\n",
            "\u001b[1;31mconda install jupyter notebook -U'\n",
            "Click <a href='https://aka.ms/installJupyterForVSCode'>here</a> for more info."
          ]
        }
      ],
      "source": [
        "sc_labels3=spectral_cluster_model3.labels_\n",
        "#sse= gmm_model2.inertia_\n",
        "score1 = silhouette_score(df, sc_labels3, metric='euclidean')\n",
        "score3=metrics.calinski_harabasz_score(df, sc_labels3)\n",
        "#print(\"Sum of sqaured errors SSE: \",sse)\n",
        "print(\"Silhouette score:\",score1)\n",
        "print('calinski_harabasz_score: %.3f' % score3)\n",
        "print('davies_bouldin_score :',davies_bouldin_score(df, sc_labels3))\n",
        "sns.scatterplot(x=\"pca1\", y=\"pca2\", hue=sc_labels3, data=results)\n",
        "plt.title('Spectral Clustering')\n",
        "plt.savefig('spc.png')\n",
        "plt.show()\n"
      ]
    },
    {
      "cell_type": "code",
      "execution_count": null,
      "metadata": {
        "id": "8-03A1d-Adn3"
      },
      "outputs": [
        {
          "ename": "",
          "evalue": "",
          "output_type": "error",
          "traceback": [
            "\u001b[1;31mJupyter cannot be started. Error attempting to locate Jupyter: Running cells with 'Python 3.10.6 64-bit' requires notebook package.\n",
            "\u001b[1;31mRun the following command to install 'jupyter and notebook' into the Python environment. \n",
            "\u001b[1;31mCommand: 'python -m pip install jupyter notebook -U\n",
            "\u001b[1;31mor\n",
            "\u001b[1;31mconda install jupyter notebook -U'\n",
            "Click <a href='https://aka.ms/installJupyterForVSCode'>here</a> for more info."
          ]
        }
      ],
      "source": [
        "# from yellowbrick.cluster import silhouette_visualizer\n",
        "\n",
        "# # Use the quick method and immediately show the figure\n",
        "# silhouette_visualizer(spectral_cluster_model3, df, colors='yellowbrick')"
      ]
    },
    {
      "cell_type": "markdown",
      "metadata": {
        "id": "AinW-Wm1ZML1"
      },
      "source": [
        "DBSCAN"
      ]
    },
    {
      "cell_type": "code",
      "execution_count": null,
      "metadata": {
        "id": "s8MKuaSbVCmZ"
      },
      "outputs": [
        {
          "ename": "",
          "evalue": "",
          "output_type": "error",
          "traceback": [
            "\u001b[1;31mJupyter cannot be started. Error attempting to locate Jupyter: Running cells with 'Python 3.10.6 64-bit' requires notebook package.\n",
            "\u001b[1;31mRun the following command to install 'jupyter and notebook' into the Python environment. \n",
            "\u001b[1;31mCommand: 'python -m pip install jupyter notebook -U\n",
            "\u001b[1;31mor\n",
            "\u001b[1;31mconda install jupyter notebook -U'\n",
            "Click <a href='https://aka.ms/installJupyterForVSCode'>here</a> for more info."
          ]
        }
      ],
      "source": [
        "from sklearn.cluster import DBSCAN\n",
        "\n",
        "Data_DBSCAN = df\n",
        "from sklearn.neighbors import NearestNeighbors\n",
        "nbrs=NearestNeighbors().fit(Data_DBSCAN)\n",
        "distances, indices = nbrs.kneighbors(Data_DBSCAN,20)\n",
        "kDis = distances[:,10]\n",
        "kDis.sort()\n",
        "kDis = kDis[range(len(kDis)-1,0,-1)]\n",
        "plt.plot(range(0,len(kDis)),kDis)\n",
        "plt.xlabel('Distance')\n",
        "plt.ylabel('eps')\n",
        "plt.show()\n",
        "##\n",
        "db_model = DBSCAN(eps=0.025, min_samples=3).fit(Data_DBSCAN)\n",
        "#, algorithm='ball_tree', metric='minkowski', leaf_size=90, p=2).fit(df)\n",
        "core_samples_mask = np.zeros_like(db_model.labels_, dtype=bool)\n",
        "core_samples_mask[db_model.core_sample_indices_] = True\n",
        "db_labels = db_model.labels_\n",
        "# Number of clusters in labels, ignoring noise if present.\n",
        "n_clusters_ = len(set(db_labels)) - (1 if -1 in db_labels else 0)\n",
        "print(db_labels) "
      ]
    },
    {
      "cell_type": "code",
      "execution_count": null,
      "metadata": {
        "id": "M8c3DbIfv8YZ"
      },
      "outputs": [
        {
          "ename": "",
          "evalue": "",
          "output_type": "error",
          "traceback": [
            "\u001b[1;31mJupyter cannot be started. Error attempting to locate Jupyter: Running cells with 'Python 3.10.6 64-bit' requires notebook package.\n",
            "\u001b[1;31mRun the following command to install 'jupyter and notebook' into the Python environment. \n",
            "\u001b[1;31mCommand: 'python -m pip install jupyter notebook -U\n",
            "\u001b[1;31mor\n",
            "\u001b[1;31mconda install jupyter notebook -U'\n",
            "Click <a href='https://aka.ms/installJupyterForVSCode'>here</a> for more info."
          ]
        }
      ],
      "source": [
        "#n_clusters_"
      ]
    },
    {
      "cell_type": "markdown",
      "metadata": {
        "id": "24fMYG1t23L3"
      },
      "source": [
        "BIRCH"
      ]
    },
    {
      "cell_type": "code",
      "execution_count": null,
      "metadata": {
        "colab": {
          "base_uri": "https://localhost:8080/",
          "height": 428
        },
        "id": "f8ivrOaM241G",
        "outputId": "8412f5ec-4dfb-49f0-fce3-e4acf026123a"
      },
      "outputs": [
        {
          "ename": "",
          "evalue": "",
          "output_type": "error",
          "traceback": [
            "\u001b[1;31mJupyter cannot be started. Error attempting to locate Jupyter: Running cells with 'Python 3.10.6 64-bit' requires notebook package.\n",
            "\u001b[1;31mRun the following command to install 'jupyter and notebook' into the Python environment. \n",
            "\u001b[1;31mCommand: 'python -m pip install jupyter notebook -U\n",
            "\u001b[1;31mor\n",
            "\u001b[1;31mconda install jupyter notebook -U'\n",
            "Click <a href='https://aka.ms/installJupyterForVSCode'>here</a> for more info."
          ]
        }
      ],
      "source": [
        "from numpy import unique\n",
        "from numpy import where\n",
        "from matplotlib import pyplot\n",
        "from sklearn.datasets import make_classification\n",
        "from sklearn.cluster import Birch\n",
        "\n",
        "\n",
        "# define the model\n",
        "birch_model = Birch(threshold=0.03, n_clusters=3)\n",
        "\n",
        "# train the model\n",
        "birch_model.fit(df)\n",
        "birch_labels3=birch_model.labels_\n",
        "#sse= gmm_model2.inertia_\n",
        "score1 = silhouette_score(df, birch_labels3, metric='euclidean')\n",
        "score3=metrics.calinski_harabasz_score(df, birch_labels3)\n",
        "#print(\"Sum of sqaured errors SSE: \",sse)\n",
        "print(\"Silhouette score:\",score1)\n",
        "print('calinski_harabasz_score: %.3f' % score3)\n",
        "print('davies_bouldin_score :',davies_bouldin_score(df, birch_labels3))\n",
        "sns.scatterplot(x=\"pca1\", y=\"pca2\", hue=birch_labels3, data=results)\n",
        "plt.title('BIRCH clustering')\n",
        "plt.savefig('birch.png')\n",
        "plt.show()\n",
        "\n",
        "# # assign each data point to a cluster\n",
        "# birch_result = birch_model.predict(df)\n",
        "\n",
        "# # get all of the unique clusters\n",
        "# birch_clusters = unique(birch_result)\n",
        "\n",
        "# # plot the BIRCH clusters\n",
        "# for birch_cluster in birch_clusters:\n",
        "#     # get data points that fall in this cluster\n",
        "#     index = where(birch_result == birch_clusters)\n",
        "#     # make the plot\n",
        "#     pyplot.scatter(training_data[index, 0], training_data[index, 1])\n",
        "\n",
        "# # show the BIRCH plot\n",
        "# pyplot.show()\n"
      ]
    },
    {
      "cell_type": "code",
      "execution_count": null,
      "metadata": {
        "id": "L3FO8sOW244c"
      },
      "outputs": [
        {
          "ename": "",
          "evalue": "",
          "output_type": "error",
          "traceback": [
            "\u001b[1;31mJupyter cannot be started. Error attempting to locate Jupyter: Running cells with 'Python 3.10.6 64-bit' requires notebook package.\n",
            "\u001b[1;31mRun the following command to install 'jupyter and notebook' into the Python environment. \n",
            "\u001b[1;31mCommand: 'python -m pip install jupyter notebook -U\n",
            "\u001b[1;31mor\n",
            "\u001b[1;31mconda install jupyter notebook -U'\n",
            "Click <a href='https://aka.ms/installJupyterForVSCode'>here</a> for more info."
          ]
        }
      ],
      "source": []
    },
    {
      "cell_type": "markdown",
      "metadata": {
        "id": "jx5pXRCEeAb2"
      },
      "source": [
        "K-MEDOIDS/ PAM"
      ]
    },
    {
      "cell_type": "code",
      "execution_count": null,
      "metadata": {
        "colab": {
          "base_uri": "https://localhost:8080/"
        },
        "id": "N-ve1tK3g6Vx",
        "outputId": "e91b1a22-082c-448d-eb7c-d4ee640349f5"
      },
      "outputs": [
        {
          "ename": "",
          "evalue": "",
          "output_type": "error",
          "traceback": [
            "\u001b[1;31mJupyter cannot be started. Error attempting to locate Jupyter: Running cells with 'Python 3.10.6 64-bit' requires notebook package.\n",
            "\u001b[1;31mRun the following command to install 'jupyter and notebook' into the Python environment. \n",
            "\u001b[1;31mCommand: 'python -m pip install jupyter notebook -U\n",
            "\u001b[1;31mor\n",
            "\u001b[1;31mconda install jupyter notebook -U'\n",
            "Click <a href='https://aka.ms/installJupyterForVSCode'>here</a> for more info."
          ]
        }
      ],
      "source": [
        "!pip install scikit-learn-extra"
      ]
    },
    {
      "cell_type": "code",
      "execution_count": null,
      "metadata": {
        "colab": {
          "base_uri": "https://localhost:8080/"
        },
        "id": "qa5-vPDtd9Og",
        "outputId": "d31cf037-d2ce-4657-ba7d-967e71fc8444"
      },
      "outputs": [
        {
          "ename": "",
          "evalue": "",
          "output_type": "error",
          "traceback": [
            "\u001b[1;31mJupyter cannot be started. Error attempting to locate Jupyter: Running cells with 'Python 3.10.6 64-bit' requires notebook package.\n",
            "\u001b[1;31mRun the following command to install 'jupyter and notebook' into the Python environment. \n",
            "\u001b[1;31mCommand: 'python -m pip install jupyter notebook -U\n",
            "\u001b[1;31mor\n",
            "\u001b[1;31mconda install jupyter notebook -U'\n",
            "Click <a href='https://aka.ms/installJupyterForVSCode'>here</a> for more info."
          ]
        }
      ],
      "source": [
        "from sklearn_extra.cluster import KMedoids\n",
        "kmedoids_euc_3 = KMedoids(n_clusters=3, metric='euclidean', method='pam', init='k-medoids++', max_iter=300, random_state=None)\n",
        "kmedoids_euc_3.fit(df)\n",
        "kmedoids_euc_labels3 = kmedoids_euc_3.labels_\n",
        "\n",
        "#sse= gmm_model2.inertia_\n",
        "score1 = silhouette_score(df, kmedoids_euc_labels3, metric='euclidean')\n",
        "score3=metrics.calinski_harabasz_score(df, kmedoids_euc_labels3)\n",
        "#print(\"Sum of sqaured errors SSE: \",sse)\n",
        "print(\"Silhouette score:\",score1)\n",
        "print('calinski_harabasz_score: %.3f' % score3)\n",
        "print('davies_bouldin_score :',davies_bouldin_score(df, kmedoids_euc_labels3))\n"
      ]
    },
    {
      "cell_type": "code",
      "execution_count": null,
      "metadata": {
        "colab": {
          "base_uri": "https://localhost:8080/"
        },
        "id": "C9zl0sLZkLdM",
        "outputId": "a95bfa9b-1993-4bc2-8043-ad9365af400c"
      },
      "outputs": [
        {
          "ename": "",
          "evalue": "",
          "output_type": "error",
          "traceback": [
            "\u001b[1;31mJupyter cannot be started. Error attempting to locate Jupyter: Running cells with 'Python 3.10.6 64-bit' requires notebook package.\n",
            "\u001b[1;31mRun the following command to install 'jupyter and notebook' into the Python environment. \n",
            "\u001b[1;31mCommand: 'python -m pip install jupyter notebook -U\n",
            "\u001b[1;31mor\n",
            "\u001b[1;31mconda install jupyter notebook -U'\n",
            "Click <a href='https://aka.ms/installJupyterForVSCode'>here</a> for more info."
          ]
        }
      ],
      "source": [
        "kmedoids_euc_2 = KMedoids(n_clusters=2, metric='euclidean', method='pam', init='heuristic', max_iter=1000, random_state=None)\n",
        "kmedoids_euc_2.fit(df)\n",
        "kmedoids_euc_labels2 = kmedoids_euc_2.labels_\n",
        "\n",
        "#sse= gmm_model2.inertia_\n",
        "score1 = silhouette_score(df, kmedoids_euc_labels2, metric='euclidean')\n",
        "score3=metrics.calinski_harabasz_score(df, kmedoids_euc_labels2)\n",
        "#print(\"Sum of sqaured errors SSE: \",sse)\n",
        "print(\"Silhouette score:\",score1)\n",
        "print('calinski_harabasz_score: %.3f' % score3)\n",
        "print('davies_bouldin_score :',davies_bouldin_score(df, kmedoids_euc_labels2))"
      ]
    },
    {
      "cell_type": "code",
      "execution_count": null,
      "metadata": {
        "colab": {
          "base_uri": "https://localhost:8080/",
          "height": 376
        },
        "id": "6eHPYAWcapEv",
        "outputId": "cde9102e-902f-4572-874f-33bd42421b64"
      },
      "outputs": [
        {
          "ename": "",
          "evalue": "",
          "output_type": "error",
          "traceback": [
            "\u001b[1;31mJupyter cannot be started. Error attempting to locate Jupyter: Running cells with 'Python 3.10.6 64-bit' requires notebook package.\n",
            "\u001b[1;31mRun the following command to install 'jupyter and notebook' into the Python environment. \n",
            "\u001b[1;31mCommand: 'python -m pip install jupyter notebook -U\n",
            "\u001b[1;31mor\n",
            "\u001b[1;31mconda install jupyter notebook -U'\n",
            "Click <a href='https://aka.ms/installJupyterForVSCode'>here</a> for more info."
          ]
        }
      ],
      "source": [
        "sns.scatterplot(x=\"pca1\", y=\"pca2\", hue=kmedoids_euc_labels2, data=results)\n",
        "plt.title('PAM with 2 dimensions')\n",
        "plt.show()"
      ]
    },
    {
      "cell_type": "code",
      "execution_count": null,
      "metadata": {
        "colab": {
          "base_uri": "https://localhost:8080/",
          "height": 376
        },
        "id": "6i7Vs7T2kDEw",
        "outputId": "3ed83b48-b99e-4220-f41f-4aaae7a652c4"
      },
      "outputs": [
        {
          "ename": "",
          "evalue": "",
          "output_type": "error",
          "traceback": [
            "\u001b[1;31mJupyter cannot be started. Error attempting to locate Jupyter: Running cells with 'Python 3.10.6 64-bit' requires notebook package.\n",
            "\u001b[1;31mRun the following command to install 'jupyter and notebook' into the Python environment. \n",
            "\u001b[1;31mCommand: 'python -m pip install jupyter notebook -U\n",
            "\u001b[1;31mor\n",
            "\u001b[1;31mconda install jupyter notebook -U'\n",
            "Click <a href='https://aka.ms/installJupyterForVSCode'>here</a> for more info."
          ]
        }
      ],
      "source": [
        "sns.scatterplot(x=\"pca1\", y=\"pca2\", hue=kmedoids_euc_labels3, data=results)\n",
        "plt.title('PAM clustering')\n",
        "plt.savefig('pam.png')\n",
        "plt.show()\n"
      ]
    },
    {
      "cell_type": "markdown",
      "metadata": {
        "id": "9AmQnb5klWZd"
      },
      "source": [
        "CLARA"
      ]
    },
    {
      "cell_type": "code",
      "execution_count": null,
      "metadata": {
        "colab": {
          "base_uri": "https://localhost:8080/"
        },
        "id": "TVsbVzXbl1li",
        "outputId": "871a91ce-d581-4192-e050-c274b94c1815"
      },
      "outputs": [
        {
          "ename": "",
          "evalue": "",
          "output_type": "error",
          "traceback": [
            "\u001b[1;31mJupyter cannot be started. Error attempting to locate Jupyter: Running cells with 'Python 3.10.6 64-bit' requires notebook package.\n",
            "\u001b[1;31mRun the following command to install 'jupyter and notebook' into the Python environment. \n",
            "\u001b[1;31mCommand: 'python -m pip install jupyter notebook -U\n",
            "\u001b[1;31mor\n",
            "\u001b[1;31mconda install jupyter notebook -U'\n",
            "Click <a href='https://aka.ms/installJupyterForVSCode'>here</a> for more info."
          ]
        }
      ],
      "source": [
        "!pip install pyclustering"
      ]
    },
    {
      "cell_type": "code",
      "execution_count": null,
      "metadata": {
        "id": "R4RqLS-tlS1F"
      },
      "outputs": [
        {
          "ename": "",
          "evalue": "",
          "output_type": "error",
          "traceback": [
            "\u001b[1;31mJupyter cannot be started. Error attempting to locate Jupyter: Running cells with 'Python 3.10.6 64-bit' requires notebook package.\n",
            "\u001b[1;31mRun the following command to install 'jupyter and notebook' into the Python environment. \n",
            "\u001b[1;31mCommand: 'python -m pip install jupyter notebook -U\n",
            "\u001b[1;31mor\n",
            "\u001b[1;31mconda install jupyter notebook -U'\n",
            "Click <a href='https://aka.ms/installJupyterForVSCode'>here</a> for more info."
          ]
        }
      ],
      "source": [
        "# from pyclustering.cluster.clarans import clarans\n",
        "# from pyclustering.utils import timedcall\n",
        "# clarans_model2 = clarans(X, 3, 6, 4)\n",
        "# #clarans_model2.process()\n",
        "# (tks, res) = timedcall(clarans_model2.process);\n",
        "# #Print the execution time\n",
        "# print(\"Execution time : \", tks, \"\\n\");\n",
        "# #returns the clusters \n",
        "# clst = clarans_model2.get_clusters(); \n",
        "# med = clarans_obj.get_medoids();\n",
        "# print(\"Index of clusters' points :\\n\",clst)\n",
        "# print(\"\\nLabel class of each point :\\n \",bc_dataset.target)\n",
        "# print(\"\\nIndex of the best medoids : \",med)\n",
        "# #clarans_clusters = clarans_model2.get_clusters();\n",
        "# #clarans_labels2 = clarans_model2.labels_\n",
        "# #clarans_clusters"
      ]
    },
    {
      "cell_type": "markdown",
      "metadata": {
        "id": "pCev3sJujJP1"
      },
      "source": [
        "KMEANS++"
      ]
    },
    {
      "cell_type": "code",
      "execution_count": null,
      "metadata": {
        "colab": {
          "base_uri": "https://localhost:8080/",
          "height": 445
        },
        "id": "5VUj0gEuqQGQ",
        "outputId": "132555a6-858d-4d50-99d6-e66fdb5f8822"
      },
      "outputs": [
        {
          "ename": "",
          "evalue": "",
          "output_type": "error",
          "traceback": [
            "\u001b[1;31mJupyter cannot be started. Error attempting to locate Jupyter: Running cells with 'Python 3.10.6 64-bit' requires notebook package.\n",
            "\u001b[1;31mRun the following command to install 'jupyter and notebook' into the Python environment. \n",
            "\u001b[1;31mCommand: 'python -m pip install jupyter notebook -U\n",
            "\u001b[1;31mor\n",
            "\u001b[1;31mconda install jupyter notebook -U'\n",
            "Click <a href='https://aka.ms/installJupyterForVSCode'>here</a> for more info."
          ]
        }
      ],
      "source": [
        "km_plus2 = KMeans(n_clusters=2, init='k-means++', n_init=10, max_iter=1000).fit(df)\n",
        "# we store the cluster labels\n",
        "kmplus_labels2 = km_plus2.labels_\n",
        "sse= km_plus2.inertia_\n",
        "score1 = silhouette_score(df, kmplus_labels2, metric='euclidean')\n",
        "score3=metrics.calinski_harabasz_score(df, kmplus_labels2)\n",
        "print(\"Sum of sqaured errors SSE: \",sse)\n",
        "print(\"Silhouette score:\",score1)\n",
        "print('calinski_harabasz_score: %.3f' % score3)\n",
        "print(davies_bouldin_score(df, kmplus_labels2))\n",
        "from sklearn.decomposition import PCA\n",
        "### Run PCA on the data and reduce the dimensions in pca_num_components dimensions\n",
        "\n",
        "sns.scatterplot(x=\"pca1\", y=\"pca2\", hue=kmplus_labels2, data=results)\n",
        "plt.title('K-means++ Clustering with 2 dimensions')\n",
        "plt.show()"
      ]
    },
    {
      "cell_type": "code",
      "execution_count": null,
      "metadata": {
        "colab": {
          "base_uri": "https://localhost:8080/",
          "height": 445
        },
        "id": "SzPxdA7xvqHm",
        "outputId": "c742811d-8673-4a0c-f7e7-fe914f5e476e"
      },
      "outputs": [
        {
          "ename": "",
          "evalue": "",
          "output_type": "error",
          "traceback": [
            "\u001b[1;31mJupyter cannot be started. Error attempting to locate Jupyter: Running cells with 'Python 3.10.6 64-bit' requires notebook package.\n",
            "\u001b[1;31mRun the following command to install 'jupyter and notebook' into the Python environment. \n",
            "\u001b[1;31mCommand: 'python -m pip install jupyter notebook -U\n",
            "\u001b[1;31mor\n",
            "\u001b[1;31mconda install jupyter notebook -U'\n",
            "Click <a href='https://aka.ms/installJupyterForVSCode'>here</a> for more info."
          ]
        }
      ],
      "source": [
        "km_plus3 = KMeans(n_clusters=3, init='k-means++', n_init=10, max_iter=1000).fit(df)\n",
        "# we store the cluster labels\n",
        "kmplus_labels3 = km_plus3.labels_\n",
        "sse= km_plus3.inertia_\n",
        "score1 = silhouette_score(df, kmplus_labels3, metric='euclidean')\n",
        "score3=metrics.calinski_harabasz_score(df, kmplus_labels3)\n",
        "print(\"Sum of sqaured errors SSE: \",sse)\n",
        "print(\"Silhouette score:\",score1)\n",
        "print('calinski_harabasz_score: %.3f' % score3)\n",
        "print(davies_bouldin_score(df, kmplus_labels3))\n",
        "from sklearn.decomposition import PCA\n",
        "### Run PCA on the data and reduce the dimensions in pca_num_components dimensions\n",
        "\n",
        "sns.scatterplot(x=\"pca1\", y=\"pca2\", hue=kmplus_labels3, data=results)\n",
        "plt.title('K-means++ Clustering')\n",
        "plt.savefig('kmeans++.png')\n",
        "plt.show()\n"
      ]
    },
    {
      "cell_type": "markdown",
      "metadata": {
        "id": "er62D2mDlna6"
      },
      "source": [
        "KMODES"
      ]
    },
    {
      "cell_type": "code",
      "execution_count": null,
      "metadata": {
        "colab": {
          "base_uri": "https://localhost:8080/"
        },
        "id": "ghHlW1Y5mCNa",
        "outputId": "bc3532ff-a2dd-424b-ac9b-4db54f24b886"
      },
      "outputs": [
        {
          "ename": "",
          "evalue": "",
          "output_type": "error",
          "traceback": [
            "\u001b[1;31mJupyter cannot be started. Error attempting to locate Jupyter: Running cells with 'Python 3.10.6 64-bit' requires notebook package.\n",
            "\u001b[1;31mRun the following command to install 'jupyter and notebook' into the Python environment. \n",
            "\u001b[1;31mCommand: 'python -m pip install jupyter notebook -U\n",
            "\u001b[1;31mor\n",
            "\u001b[1;31mconda install jupyter notebook -U'\n",
            "Click <a href='https://aka.ms/installJupyterForVSCode'>here</a> for more info."
          ]
        }
      ],
      "source": [
        "!pip install kmodes"
      ]
    },
    {
      "cell_type": "code",
      "execution_count": null,
      "metadata": {
        "colab": {
          "base_uri": "https://localhost:8080/",
          "height": 428
        },
        "id": "wWtbf7-WqjLD",
        "outputId": "0e097e39-eb39-4617-8b46-85da6869a818"
      },
      "outputs": [
        {
          "ename": "",
          "evalue": "",
          "output_type": "error",
          "traceback": [
            "\u001b[1;31mJupyter cannot be started. Error attempting to locate Jupyter: Running cells with 'Python 3.10.6 64-bit' requires notebook package.\n",
            "\u001b[1;31mRun the following command to install 'jupyter and notebook' into the Python environment. \n",
            "\u001b[1;31mCommand: 'python -m pip install jupyter notebook -U\n",
            "\u001b[1;31mor\n",
            "\u001b[1;31mconda install jupyter notebook -U'\n",
            "Click <a href='https://aka.ms/installJupyterForVSCode'>here</a> for more info."
          ]
        }
      ],
      "source": [
        "from kmodes.kmodes import KModes\n",
        "kmodes_model2 = KModes(n_clusters=2).fit(df)\n",
        "# we store the cluster labels\n",
        "kmodes_labels2 = kmodes_model2.labels_\n",
        "#sse= kmodes_model2.inertia_\n",
        "score1 = silhouette_score(df, kmodes_labels2, metric='euclidean')\n",
        "score3=metrics.calinski_harabasz_score(df, kmodes_labels2)\n",
        "#print(\"Sum of sqaured errors SSE: \",sse)\n",
        "print(\"Silhouette score:\",score1)\n",
        "print('calinski_harabasz_score: %.3f' % score3)\n",
        "print(davies_bouldin_score(df, kmodes_labels2))\n",
        "from sklearn.decomposition import PCA\n",
        "### Run PCA on the data and reduce the dimensions in pca_num_components dimensions\n",
        "\n",
        "sns.scatterplot(x=\"pca1\", y=\"pca2\", hue=kmodes_labels2, data=results)\n",
        "plt.title('Kmodes Clustering with 2 dimensions')\n",
        "plt.show()"
      ]
    },
    {
      "cell_type": "code",
      "execution_count": null,
      "metadata": {
        "colab": {
          "base_uri": "https://localhost:8080/",
          "height": 428
        },
        "id": "_xGr-X6Ev0qF",
        "outputId": "4d8fde87-66aa-4aa5-bfc0-798194d6d9fe"
      },
      "outputs": [
        {
          "ename": "",
          "evalue": "",
          "output_type": "error",
          "traceback": [
            "\u001b[1;31mJupyter cannot be started. Error attempting to locate Jupyter: Running cells with 'Python 3.10.6 64-bit' requires notebook package.\n",
            "\u001b[1;31mRun the following command to install 'jupyter and notebook' into the Python environment. \n",
            "\u001b[1;31mCommand: 'python -m pip install jupyter notebook -U\n",
            "\u001b[1;31mor\n",
            "\u001b[1;31mconda install jupyter notebook -U'\n",
            "Click <a href='https://aka.ms/installJupyterForVSCode'>here</a> for more info."
          ]
        }
      ],
      "source": [
        "from kmodes.kmodes import KModes\n",
        "kmodes_model3 = KModes(n_clusters=3).fit(df)\n",
        "# we store the cluster labels\n",
        "kmodes_labels3 = kmodes_model3.labels_\n",
        "#sse= kmodes_model2.inertia_\n",
        "score1 = silhouette_score(df, kmodes_labels3, metric='euclidean')\n",
        "score3=metrics.calinski_harabasz_score(df, kmodes_labels3)\n",
        "#print(\"Sum of sqaured errors SSE: \",sse)\n",
        "print(\"Silhouette score:\",score1)\n",
        "print('calinski_harabasz_score: %.3f' % score3)\n",
        "print(davies_bouldin_score(df, kmodes_labels3))\n",
        "from sklearn.decomposition import PCA\n",
        "### Run PCA on the data and reduce the dimensions in pca_num_components dimensions\n",
        "\n",
        "sns.scatterplot(x=\"pca1\", y=\"pca2\", hue=kmodes_labels3, data=results)\n",
        "plt.title('Kmodes Clustering')\n",
        "plt.savefig('kmodes.png')\n",
        "plt.show()\n"
      ]
    },
    {
      "cell_type": "code",
      "execution_count": null,
      "metadata": {
        "id": "_MeiKqfynz2K"
      },
      "outputs": [
        {
          "ename": "",
          "evalue": "",
          "output_type": "error",
          "traceback": [
            "\u001b[1;31mJupyter cannot be started. Error attempting to locate Jupyter: Running cells with 'Python 3.10.6 64-bit' requires notebook package.\n",
            "\u001b[1;31mRun the following command to install 'jupyter and notebook' into the Python environment. \n",
            "\u001b[1;31mCommand: 'python -m pip install jupyter notebook -U\n",
            "\u001b[1;31mor\n",
            "\u001b[1;31mconda install jupyter notebook -U'\n",
            "Click <a href='https://aka.ms/installJupyterForVSCode'>here</a> for more info."
          ]
        }
      ],
      "source": []
    },
    {
      "cell_type": "markdown",
      "metadata": {
        "id": "dLmpvC0NzSHQ"
      },
      "source": [
        "K PROTOTYPE "
      ]
    },
    {
      "cell_type": "code",
      "execution_count": null,
      "metadata": {
        "id": "IHq0T5VGzUnS"
      },
      "outputs": [
        {
          "ename": "",
          "evalue": "",
          "output_type": "error",
          "traceback": [
            "\u001b[1;31mJupyter cannot be started. Error attempting to locate Jupyter: Running cells with 'Python 3.10.6 64-bit' requires notebook package.\n",
            "\u001b[1;31mRun the following command to install 'jupyter and notebook' into the Python environment. \n",
            "\u001b[1;31mCommand: 'python -m pip install jupyter notebook -U\n",
            "\u001b[1;31mor\n",
            "\u001b[1;31mconda install jupyter notebook -U'\n",
            "Click <a href='https://aka.ms/installJupyterForVSCode'>here</a> for more info."
          ]
        }
      ],
      "source": [
        "# from kmodes.kprototypes import KPrototypes\n",
        "# kproto3 = KPrototypes(n_clusters=3, init='Huang', verbose=0, random_state=42,max_iter=20, n_init=50,n_jobs=-2,gamma=.25) \n",
        "# kproto3.fit_predict(df)\n",
        "# # we store the cluster labels\n",
        "# kproto_labels3 = kproto3.labels_\n",
        "# #sse= kmodes_model2.inertia_\n",
        "# score1 = silhouette_score(df, kproto_labels3, metric='euclidean')\n",
        "# score3=metrics.calinski_harabasz_score(df, kproto_labels3)\n",
        "# #print(\"Sum of sqaured errors SSE: \",sse)\n",
        "# print(\"Silhouette score:\",score1)\n",
        "# print('calinski_harabasz_score: %.3f' % score3)\n",
        "# print(davies_bouldin_score(df, kproto_labels3))\n",
        "# from sklearn.decomposition import PCA\n",
        "# ### Run PCA on the data and reduce the dimensions in pca_num_components dimensions\n",
        "\n",
        "# sns.scatterplot(x=\"pca1\", y=\"pca2\", hue=kproto_labels3, data=results)\n",
        "# plt.title('Kmodes Clustering with 2 dimensions')\n",
        "# plt.show()"
      ]
    },
    {
      "cell_type": "markdown",
      "metadata": {
        "id": "MmVC6arzNiKz"
      },
      "source": [
        "AFFINITY PROPAGATION"
      ]
    },
    {
      "cell_type": "code",
      "execution_count": null,
      "metadata": {
        "id": "ANPwoESzz1Rh"
      },
      "outputs": [
        {
          "ename": "",
          "evalue": "",
          "output_type": "error",
          "traceback": [
            "\u001b[1;31mJupyter cannot be started. Error attempting to locate Jupyter: Running cells with 'Python 3.10.6 64-bit' requires notebook package.\n",
            "\u001b[1;31mRun the following command to install 'jupyter and notebook' into the Python environment. \n",
            "\u001b[1;31mCommand: 'python -m pip install jupyter notebook -U\n",
            "\u001b[1;31mor\n",
            "\u001b[1;31mconda install jupyter notebook -U'\n",
            "Click <a href='https://aka.ms/installJupyterForVSCode'>here</a> for more info."
          ]
        }
      ],
      "source": [
        "# from sklearn.datasets import make_classification\n",
        "# from sklearn.cluster import AffinityPropagation\n",
        "\n",
        "# # define the model\n",
        "# aff_prop_model = AffinityPropagation(damping=0.9)\n",
        "\n",
        "# # train the model\n",
        "# aff_prop_model.fit(df)\n",
        "\n",
        "# aff_prop_lables=aff_prop_model.labels_\n",
        "# #sse= gmm_model2.inertia_\n",
        "# score1 = silhouette_score(df, aff_prop_lables, metric='euclidean')\n",
        "# score3=metrics.calinski_harabasz_score(df, aff_prop_lables)\n",
        "# #print(\"Sum of sqaured errors SSE: \",sse)\n",
        "# print(\"Silhouette score:\",score1)\n",
        "# print('calinski_harabasz_score: %.3f' % score3)\n",
        "# print('davies_bouldin_score :',davies_bouldin_score(df, aff_prop_lables))\n",
        "# sns.scatterplot(x=\"pca1\", y=\"pca2\", hue=aff_prop_lables, data=results)\n",
        "# plt.title('AFFNINITY PROPAGATION with 2 dimensions')\n",
        "# plt.show()"
      ]
    },
    {
      "cell_type": "markdown",
      "metadata": {
        "id": "ff9L0LxYPBwz"
      },
      "source": [
        "AGGLOMORATIVE HEIRARCHY CLUSTERING"
      ]
    },
    {
      "cell_type": "code",
      "execution_count": null,
      "metadata": {
        "colab": {
          "base_uri": "https://localhost:8080/",
          "height": 428
        },
        "id": "gqdmEFmcOF2a",
        "outputId": "8782e303-0fe3-4019-8f29-2e9946c3194a"
      },
      "outputs": [
        {
          "ename": "",
          "evalue": "",
          "output_type": "error",
          "traceback": [
            "\u001b[1;31mJupyter cannot be started. Error attempting to locate Jupyter: Running cells with 'Python 3.10.6 64-bit' requires notebook package.\n",
            "\u001b[1;31mRun the following command to install 'jupyter and notebook' into the Python environment. \n",
            "\u001b[1;31mCommand: 'python -m pip install jupyter notebook -U\n",
            "\u001b[1;31mor\n",
            "\u001b[1;31mconda install jupyter notebook -U'\n",
            "Click <a href='https://aka.ms/installJupyterForVSCode'>here</a> for more info."
          ]
        }
      ],
      "source": [
        "from sklearn.cluster import AgglomerativeClustering\n",
        "\n",
        "# define the model\n",
        "agglomerative_model = AgglomerativeClustering(n_clusters=3)\n",
        "\n",
        "# assign each data point to a cluster\n",
        "agglomerative_model.fit(df)\n",
        "\n",
        "agg_lables=agglomerative_model.labels_\n",
        "#sse= gmm_model2.inertia_\n",
        "score1 = silhouette_score(df, agg_lables, metric='euclidean')\n",
        "score3=metrics.calinski_harabasz_score(df, agg_lables)\n",
        "#print(\"Sum of sqaured errors SSE: \",sse)\n",
        "print(\"Silhouette score:\",score1)\n",
        "print('calinski_harabasz_score: %.3f' % score3)\n",
        "print('davies_bouldin_score :',davies_bouldin_score(df, agg_lables))\n",
        "sns.scatterplot(x=\"pca1\", y=\"pca2\", hue=agg_lables, data=results)\n",
        "plt.title('AGGLOMORATIVE HEIRARCHY CLUSTERING')\n",
        "plt.savefig('agg.png')\n",
        "plt.show()\n"
      ]
    },
    {
      "cell_type": "markdown",
      "metadata": {
        "id": "6OHiBW-hDx--"
      },
      "source": [
        "RISK SCORE CALCULATION"
      ]
    },
    {
      "cell_type": "code",
      "execution_count": null,
      "metadata": {
        "colab": {
          "base_uri": "https://localhost:8080/"
        },
        "id": "yLjqCaKlPZzP",
        "outputId": "72817ebf-3d5f-41d6-9e8e-4fc50ab295d9"
      },
      "outputs": [
        {
          "ename": "",
          "evalue": "",
          "output_type": "error",
          "traceback": [
            "\u001b[1;31mJupyter cannot be started. Error attempting to locate Jupyter: Running cells with 'Python 3.10.6 64-bit' requires notebook package.\n",
            "\u001b[1;31mRun the following command to install 'jupyter and notebook' into the Python environment. \n",
            "\u001b[1;31mCommand: 'python -m pip install jupyter notebook -U\n",
            "\u001b[1;31mor\n",
            "\u001b[1;31mconda install jupyter notebook -U'\n",
            "Click <a href='https://aka.ms/installJupyterForVSCode'>here</a> for more info."
          ]
        }
      ],
      "source": [
        "#Calculating risk scores for each cluster using the classifications for curr_mh and diagnosed_prof\n",
        "#we make 3 different clusters\n",
        "#sc_labels3\n",
        "#kmplus_labels3\n",
        "cluster1 = [x[0] for x, value in np.ndenumerate(sc_labels3) if value==0]\n",
        "cluster2=[x[0] for x, value in np.ndenumerate(sc_labels3) if value==1]\n",
        "cluster3=[x[0] for x, value in np.ndenumerate(sc_labels3) if value==2]\n",
        "cluster1_risk=0\n",
        "total_high=0\n",
        "for i in range(len(cluster1)) :\n",
        "    diagnosed=df.iloc[cluster1[i], 36]\n",
        "    curr_mh=df.iloc[cluster1[i], 35]\n",
        "    if(curr_mh==2 and diagnosed==1):\n",
        "        cluster1_risk+=7\n",
        "    if(curr_mh==2 and diagnosed==0):\n",
        "        cluster1_risk+=2\n",
        "    if(curr_mh==1 and diagnosed==1):\n",
        "        cluster1_risk+=2\n",
        "    if(curr_mh==1 and diagnosed==0):\n",
        "        cluster1_risk+=0.5\n",
        "    if(curr_mh==0 and diagnosed==1):\n",
        "        cluster1_risk+=0.25\n",
        "cluster2_risk=0\n",
        "for i in range(len(cluster2)) : \n",
        "    diagnosed=df.iloc[cluster2[i], 36]\n",
        "    curr_mh=df.iloc[cluster2[i], 35]\n",
        "    if(curr_mh==2 and diagnosed==1):\n",
        "        cluster2_risk+=7\n",
        "    if(curr_mh==2 and diagnosed==0):\n",
        "        cluster2_risk+=2\n",
        "    if(curr_mh==1 and diagnosed==1):\n",
        "        cluster2_risk+=2\n",
        "    if(curr_mh==1 and diagnosed==0):\n",
        "        cluster2_risk+=0.5\n",
        "    if(curr_mh==0 and diagnosed==1):\n",
        "        cluster2_risk+=0.25\n",
        "cluster3_risk=0\n",
        "for i in range(len(cluster3)) : \n",
        "    diagnosed=df.iloc[cluster3[i], 36]\n",
        "    curr_mh=df.iloc[cluster3[i], 35]\n",
        "    if(curr_mh==2 and diagnosed==1):\n",
        "        cluster3_risk+=7\n",
        "    if(curr_mh==2 and diagnosed==0):\n",
        "        cluster3_risk+=2\n",
        "    if(curr_mh==1 and diagnosed==1):\n",
        "        cluster3_risk+=2\n",
        "    if(curr_mh==1 and diagnosed==0):\n",
        "        cluster3_risk+=0.5\n",
        "    if(curr_mh==0 and diagnosed==1):\n",
        "        cluster3_risk+=0.25\n",
        "#The risks for each cluster are used to identify which cluster is high, low, med\n",
        "print('cluster1:',cluster1_risk)\n",
        "print('cluster2:',cluster2_risk)\n",
        "print('cluster3:',cluster3_risk)\n",
        "print(cluster1)\n",
        "print(cluster2)\n",
        "print(cluster3)"
      ]
    },
    {
      "cell_type": "code",
      "execution_count": null,
      "metadata": {
        "colab": {
          "base_uri": "https://localhost:8080/"
        },
        "id": "TEnTQgSKkUF4",
        "outputId": "0b39baa8-3a91-4002-db46-5c5228a6117a"
      },
      "outputs": [
        {
          "ename": "",
          "evalue": "",
          "output_type": "error",
          "traceback": [
            "\u001b[1;31mJupyter cannot be started. Error attempting to locate Jupyter: Running cells with 'Python 3.10.6 64-bit' requires notebook package.\n",
            "\u001b[1;31mRun the following command to install 'jupyter and notebook' into the Python environment. \n",
            "\u001b[1;31mCommand: 'python -m pip install jupyter notebook -U\n",
            "\u001b[1;31mor\n",
            "\u001b[1;31mconda install jupyter notebook -U'\n",
            "Click <a href='https://aka.ms/installJupyterForVSCode'>here</a> for more info."
          ]
        }
      ],
      "source": [
        "#Calculating risk scores for each cluster using the classifications for curr_mh and diagnosed_prof\n",
        "#we make 3 different clusters\n",
        "#sc_labels3\n",
        "#kmplus_labels3\n",
        "cluster1 = [x[0] for x, value in np.ndenumerate(sc_labels3) if value==0]\n",
        "cluster2=[x[0] for x, value in np.ndenumerate(sc_labels3) if value==1]\n",
        "cluster3=[x[0] for x, value in np.ndenumerate(sc_labels3) if value==2]\n",
        "cluster1_risk=0\n",
        "total_high=0\n",
        "for i in range(len(cluster1)) :\n",
        "    diagnosed=df.iloc[cluster1[i], 36]\n",
        "    curr_mh=df.iloc[cluster1[i], 35]\n",
        "    if(diagnosed==1):\n",
        "        cluster1_risk+=1\n",
        "    # if(curr_mh==2 and diagnosed==0):\n",
        "    #     cluster1_risk+=2\n",
        "    # if(curr_mh==1 and diagnosed==1):\n",
        "    #     cluster1_risk+=2\n",
        "    # if(curr_mh==1 and diagnosed==0):\n",
        "    #     cluster1_risk+=0.5\n",
        "    # if(curr_mh==0 and diagnosed==1):\n",
        "    #     cluster1_risk+=0.25\n",
        "cluster2_risk=0\n",
        "for i in range(len(cluster2)) : \n",
        "    diagnosed=df.iloc[cluster2[i], 36]\n",
        "    curr_mh=df.iloc[cluster2[i], 35]\n",
        "    if(diagnosed==1):\n",
        "        cluster2_risk+=1\n",
        "    # if(curr_mh==2 and diagnosed==0):\n",
        "    #     cluster2_risk+=2\n",
        "    # if(curr_mh==1 and diagnosed==1):\n",
        "    #     cluster2_risk+=2\n",
        "    # if(curr_mh==1 and diagnosed==0):\n",
        "    #     cluster2_risk+=0.5\n",
        "    # if(curr_mh==0 and diagnosed==1):\n",
        "    #     cluster2_risk+=0.25\n",
        "cluster3_risk=0\n",
        "for i in range(len(cluster3)) : \n",
        "    diagnosed=df.iloc[cluster3[i], 36]\n",
        "    curr_mh=df.iloc[cluster3[i], 35]\n",
        "    if(diagnosed==1):\n",
        "        cluster3_risk+=1\n",
        "    # if(curr_mh==2 and diagnosed==0):\n",
        "    #     cluster3_risk+=2\n",
        "    # if(curr_mh==1 and diagnosed==1):\n",
        "    #     cluster3_risk+=2\n",
        "    # if(curr_mh==1 and diagnosed==0):\n",
        "    #     cluster3_risk+=0.5\n",
        "    # if(curr_mh==0 and diagnosed==1):\n",
        "    #     cluster3_risk+=0.25\n",
        "#The risks for each cluster are used to identify which cluster is high, low, med\n",
        "print('cluster1:',cluster1_risk)\n",
        "print('cluster2:',cluster2_risk)\n",
        "print('cluster3:',cluster3_risk)\n",
        "print(cluster1)\n",
        "print(cluster2)\n",
        "print(cluster3)"
      ]
    },
    {
      "cell_type": "code",
      "execution_count": null,
      "metadata": {
        "id": "I5zDjAU9ktIb"
      },
      "outputs": [
        {
          "ename": "",
          "evalue": "",
          "output_type": "error",
          "traceback": [
            "\u001b[1;31mJupyter cannot be started. Error attempting to locate Jupyter: Running cells with 'Python 3.10.6 64-bit' requires notebook package.\n",
            "\u001b[1;31mRun the following command to install 'jupyter and notebook' into the Python environment. \n",
            "\u001b[1;31mCommand: 'python -m pip install jupyter notebook -U\n",
            "\u001b[1;31mor\n",
            "\u001b[1;31mconda install jupyter notebook -U'\n",
            "Click <a href='https://aka.ms/installJupyterForVSCode'>here</a> for more info."
          ]
        }
      ],
      "source": [
        "# cluster1: 123\n",
        "# cluster2: 143\n",
        "# cluster3: 18"
      ]
    },
    {
      "cell_type": "code",
      "execution_count": null,
      "metadata": {
        "colab": {
          "base_uri": "https://localhost:8080/"
        },
        "id": "L2EPuuJdEg70",
        "outputId": "5f8d50e9-1716-43c0-d71a-ce997a91cd91"
      },
      "outputs": [
        {
          "ename": "",
          "evalue": "",
          "output_type": "error",
          "traceback": [
            "\u001b[1;31mJupyter cannot be started. Error attempting to locate Jupyter: Running cells with 'Python 3.10.6 64-bit' requires notebook package.\n",
            "\u001b[1;31mRun the following command to install 'jupyter and notebook' into the Python environment. \n",
            "\u001b[1;31mCommand: 'python -m pip install jupyter notebook -U\n",
            "\u001b[1;31mor\n",
            "\u001b[1;31mconda install jupyter notebook -U'\n",
            "Click <a href='https://aka.ms/installJupyterForVSCode'>here</a> for more info."
          ]
        }
      ],
      "source": [
        "#Classifying clusters as high, row and medium risks using cluster risks\n",
        "import sys\n",
        "cluster_risks=[[cluster1,cluster1_risk],[cluster2,cluster2_risk],[cluster3,cluster3_risk]]\n",
        "high_risk=0\n",
        "total=3\n",
        "low_risk = sys.maxsize\n",
        "high_risk_index=0\n",
        "low_risk_index=0\n",
        "high_risk_class=cluster_risks[0][0]\n",
        "low_risk_class=cluster_risks[0][0]\n",
        "for i in range(0,len(cluster_risks)):\n",
        "    if(high_risk<=cluster_risks[i][1]):\n",
        "        high_risk_class=cluster_risks[i][0]\n",
        "        high_risk_index=i\n",
        "        high_risk=cluster_risks[i][1]\n",
        "total-=high_risk_index\n",
        "print(total)\n",
        "for i in range(0,len(cluster_risks)):\n",
        "    if(low_risk>=cluster_risks[i][1]):\n",
        "        low_risk_class=cluster_risks[i][0]\n",
        "        low_risk_index = i\n",
        "        low_risk=cluster_risks[i][1]\n",
        "total = total - low_risk_index\n",
        "med_risk_class=cluster_risks[total][0]\n",
        "print(high_risk_class)\n",
        "print(med_risk_class)\n",
        "print(low_risk_class) "
      ]
    },
    {
      "cell_type": "code",
      "execution_count": null,
      "metadata": {
        "colab": {
          "base_uri": "https://localhost:8080/"
        },
        "id": "zi2LqPZfIwcC",
        "outputId": "18138173-4ad1-4ebe-ecfd-c9513f3dd6bc"
      },
      "outputs": [
        {
          "ename": "",
          "evalue": "",
          "output_type": "error",
          "traceback": [
            "\u001b[1;31mJupyter cannot be started. Error attempting to locate Jupyter: Running cells with 'Python 3.10.6 64-bit' requires notebook package.\n",
            "\u001b[1;31mRun the following command to install 'jupyter and notebook' into the Python environment. \n",
            "\u001b[1;31mCommand: 'python -m pip install jupyter notebook -U\n",
            "\u001b[1;31mor\n",
            "\u001b[1;31mconda install jupyter notebook -U'\n",
            "Click <a href='https://aka.ms/installJupyterForVSCode'>here</a> for more info."
          ]
        }
      ],
      "source": [
        "print(high_risk_index)\n",
        "#print(med_risk_index)\n",
        "print(low_risk_index)"
      ]
    },
    {
      "cell_type": "code",
      "execution_count": null,
      "metadata": {
        "id": "G0N6XpVlpDks"
      },
      "outputs": [
        {
          "ename": "",
          "evalue": "",
          "output_type": "error",
          "traceback": [
            "\u001b[1;31mJupyter cannot be started. Error attempting to locate Jupyter: Running cells with 'Python 3.10.6 64-bit' requires notebook package.\n",
            "\u001b[1;31mRun the following command to install 'jupyter and notebook' into the Python environment. \n",
            "\u001b[1;31mCommand: 'python -m pip install jupyter notebook -U\n",
            "\u001b[1;31mor\n",
            "\u001b[1;31mconda install jupyter notebook -U'\n",
            "Click <a href='https://aka.ms/installJupyterForVSCode'>here</a> for more info."
          ]
        }
      ],
      "source": [
        "tot_high_risk=len(high_risk_class)\n",
        "tot_med_risk=len(med_risk_class)\n",
        "tot_low_risk=len(low_risk_class)"
      ]
    },
    {
      "cell_type": "code",
      "execution_count": null,
      "metadata": {
        "colab": {
          "base_uri": "https://localhost:8080/",
          "height": 35
        },
        "id": "W4zUKKzrKjh-",
        "outputId": "aa594025-5de2-43ff-b0ec-53e09ec5ef82"
      },
      "outputs": [
        {
          "ename": "",
          "evalue": "",
          "output_type": "error",
          "traceback": [
            "\u001b[1;31mJupyter cannot be started. Error attempting to locate Jupyter: Running cells with 'Python 3.10.6 64-bit' requires notebook package.\n",
            "\u001b[1;31mRun the following command to install 'jupyter and notebook' into the Python environment. \n",
            "\u001b[1;31mCommand: 'python -m pip install jupyter notebook -U\n",
            "\u001b[1;31mor\n",
            "\u001b[1;31mconda install jupyter notebook -U'\n",
            "Click <a href='https://aka.ms/installJupyterForVSCode'>here</a> for more info."
          ]
        }
      ],
      "source": [
        "df.columns[33]"
      ]
    },
    {
      "cell_type": "markdown",
      "metadata": {
        "id": "I13b3YChLi2C"
      },
      "source": [
        "INFERENCES"
      ]
    },
    {
      "cell_type": "markdown",
      "metadata": {
        "id": "T8yM-yVbPHpB"
      },
      "source": [
        "supportiveness statistics for osmi 2016"
      ]
    },
    {
      "cell_type": "code",
      "execution_count": null,
      "metadata": {
        "colab": {
          "base_uri": "https://localhost:8080/"
        },
        "id": "AR69H5plPOMT",
        "outputId": "26018db1-1e0b-498b-a40c-60759fca5b4a"
      },
      "outputs": [
        {
          "ename": "",
          "evalue": "",
          "output_type": "error",
          "traceback": [
            "\u001b[1;31mJupyter cannot be started. Error attempting to locate Jupyter: Running cells with 'Python 3.10.6 64-bit' requires notebook package.\n",
            "\u001b[1;31mRun the following command to install 'jupyter and notebook' into the Python environment. \n",
            "\u001b[1;31mCommand: 'python -m pip install jupyter notebook -U\n",
            "\u001b[1;31mor\n",
            "\u001b[1;31mconda install jupyter notebook -U'\n",
            "Click <a href='https://aka.ms/installJupyterForVSCode'>here</a> for more info."
          ]
        }
      ],
      "source": [
        "#mental helath benefits as part of health coverage\n",
        "mh_cov_yes=df_no_drp[df_no_drp['Mental_health_coverage']=='Yes']['Mental_health_coverage'].count()\n",
        "mh_cov_no=df_no_drp[df_no_drp['Mental_health_coverage']=='No']['Mental_health_coverage'].count()\n",
        "print(mh_cov_yes/len(df_no_drp['Mental_health_coverage'])*100, mh_cov_no/len(df_no_drp['Mental_health_coverage'])*100)"
      ]
    },
    {
      "cell_type": "code",
      "execution_count": null,
      "metadata": {
        "colab": {
          "base_uri": "https://localhost:8080/"
        },
        "id": "pJ0Se2oxPOPB",
        "outputId": "8ae4ff2d-b7e3-4086-9df5-f95f0cdc130c"
      },
      "outputs": [
        {
          "ename": "",
          "evalue": "",
          "output_type": "error",
          "traceback": [
            "\u001b[1;31mJupyter cannot be started. Error attempting to locate Jupyter: Running cells with 'Python 3.10.6 64-bit' requires notebook package.\n",
            "\u001b[1;31mRun the following command to install 'jupyter and notebook' into the Python environment. \n",
            "\u001b[1;31mCommand: 'python -m pip install jupyter notebook -U\n",
            "\u001b[1;31mor\n",
            "\u001b[1;31mconda install jupyter notebook -U'\n",
            "Click <a href='https://aka.ms/installJupyterForVSCode'>here</a> for more info."
          ]
        }
      ],
      "source": [
        "#formal discussion\n",
        "form_dis_yes=df_no_drp[df_no_drp['Employers_discussion_on_mental_health']=='Yes']['Employers_discussion_on_mental_health'].count()\n",
        "form_dis_no=df_no_drp[df_no_drp['Employers_discussion_on_mental_health']=='No']['Employers_discussion_on_mental_health'].count()\n",
        "print(form_dis_yes/len(df_no_drp['Employers_discussion_on_mental_health'])*100, form_dis_no/len(df_no_drp['Employers_discussion_on_mental_health'])*100)"
      ]
    },
    {
      "cell_type": "code",
      "execution_count": null,
      "metadata": {
        "colab": {
          "base_uri": "https://localhost:8080/"
        },
        "id": "m9sGTsNePOSQ",
        "outputId": "e3a45d2c-8723-4b0b-e76f-0286a38f1135"
      },
      "outputs": [
        {
          "ename": "",
          "evalue": "",
          "output_type": "error",
          "traceback": [
            "\u001b[1;31mJupyter cannot be started. Error attempting to locate Jupyter: Running cells with 'Python 3.10.6 64-bit' requires notebook package.\n",
            "\u001b[1;31mRun the following command to install 'jupyter and notebook' into the Python environment. \n",
            "\u001b[1;31mCommand: 'python -m pip install jupyter notebook -U\n",
            "\u001b[1;31mor\n",
            "\u001b[1;31mconda install jupyter notebook -U'\n",
            "Click <a href='https://aka.ms/installJupyterForVSCode'>here</a> for more info."
          ]
        }
      ],
      "source": [
        "#employer offer resources to learn more about mental health concerns and options for seeking help\n",
        "res_help_yes=df_no_drp[df_no_drp['Resources_and_options_for_help']=='Yes']['Resources_and_options_for_help'].count()\n",
        "res_help_no=df_no_drp[df_no_drp['Resources_and_options_for_help']=='No']['Resources_and_options_for_help'].count()\n",
        "print(res_help_yes/len(df_no_drp['Resources_and_options_for_help'])*100, res_help_no/len(df_no_drp['Resources_and_options_for_help'])*100)"
      ]
    },
    {
      "cell_type": "code",
      "execution_count": null,
      "metadata": {
        "colab": {
          "base_uri": "https://localhost:8080/",
          "height": 36
        },
        "id": "wpnEDv5LSeJj",
        "outputId": "cc57237b-33d1-4f66-b6df-1a6a5af3d7b7"
      },
      "outputs": [
        {
          "ename": "",
          "evalue": "",
          "output_type": "error",
          "traceback": [
            "\u001b[1;31mJupyter cannot be started. Error attempting to locate Jupyter: Running cells with 'Python 3.10.6 64-bit' requires notebook package.\n",
            "\u001b[1;31mRun the following command to install 'jupyter and notebook' into the Python environment. \n",
            "\u001b[1;31mCommand: 'python -m pip install jupyter notebook -U\n",
            "\u001b[1;31mor\n",
            "\u001b[1;31mconda install jupyter notebook -U'\n",
            "Click <a href='https://aka.ms/installJupyterForVSCode'>here</a> for more info."
          ]
        }
      ],
      "source": [
        "df[df.columns[6]].unique()\n",
        "df.columns[5]"
      ]
    },
    {
      "cell_type": "code",
      "execution_count": null,
      "metadata": {
        "colab": {
          "base_uri": "https://localhost:8080/"
        },
        "id": "3AElRBTHPzPS",
        "outputId": "740a9405-84ce-473b-f33c-a3e78245a96a"
      },
      "outputs": [
        {
          "ename": "",
          "evalue": "",
          "output_type": "error",
          "traceback": [
            "\u001b[1;31mJupyter cannot be started. Error attempting to locate Jupyter: Running cells with 'Python 3.10.6 64-bit' requires notebook package.\n",
            "\u001b[1;31mRun the following command to install 'jupyter and notebook' into the Python environment. \n",
            "\u001b[1;31mCommand: 'python -m pip install jupyter notebook -U\n",
            "\u001b[1;31mor\n",
            "\u001b[1;31mconda install jupyter notebook -U'\n",
            "Click <a href='https://aka.ms/installJupyterForVSCode'>here</a> for more info."
          ]
        }
      ],
      "source": [
        "from collections import Counter\n",
        "a=[]\n",
        "for i in range(len(high_risk_class)) :\n",
        "        a.append(df.iloc[high_risk_class[i],5])\n",
        "b=[]\n",
        "for i in range(len(med_risk_class)) :\n",
        "        b.append(df.iloc[med_risk_class[i],5])\n",
        "c=[]\n",
        "for i in range(len(low_risk_class)) :\n",
        "        c.append(df.iloc[low_risk_class[i],5])\n",
        "\n",
        "print(\"a\",Counter(a)[0])\n",
        "print(Counter(a)[1])\n",
        "print(Counter(a)[2])\n",
        "print(\"b\",Counter(b)[0])\n",
        "print(Counter(b)[1])\n",
        "print(Counter(b)[2])\n",
        "print(\"c\",Counter(c)[0])\n",
        "print(Counter(c)[1])\n",
        "print(Counter(c)[2])"
      ]
    },
    {
      "cell_type": "code",
      "execution_count": null,
      "metadata": {
        "id": "DZcbC1zSV-ww"
      },
      "outputs": [
        {
          "ename": "",
          "evalue": "",
          "output_type": "error",
          "traceback": [
            "\u001b[1;31mJupyter cannot be started. Error attempting to locate Jupyter: Running cells with 'Python 3.10.6 64-bit' requires notebook package.\n",
            "\u001b[1;31mRun the following command to install 'jupyter and notebook' into the Python environment. \n",
            "\u001b[1;31mCommand: 'python -m pip install jupyter notebook -U\n",
            "\u001b[1;31mor\n",
            "\u001b[1;31mconda install jupyter notebook -U'\n",
            "Click <a href='https://aka.ms/installJupyterForVSCode'>here</a> for more info."
          ]
        }
      ],
      "source": [
        "from collections import Counter\n",
        "a=[]\n",
        "for i in range(len(high_risk_class)) :\n",
        "        a.append(df.iloc[high_risk_class[i],6])\n",
        "b=[]\n",
        "for i in range(len(med_risk_class)) :\n",
        "        b.append(df.iloc[med_risk_class[i],6])\n",
        "c=[]\n",
        "for i in range(len(low_risk_class)) :\n",
        "        c.append(df.iloc[low_risk_class[i],6])\n",
        "\n",
        "print(\"a\",Counter(a)[0])\n",
        "print(Counter(a)[1])\n",
        "print(Counter(a)[2])\n",
        "print(\"b\",Counter(b)[0])\n",
        "print(Counter(b)[1])\n",
        "print(Counter(b)[2])\n",
        "print(\"c\",Counter(c)[0])\n",
        "print(Counter(c)[1])\n",
        "print(Counter(c)[2])"
      ]
    },
    {
      "cell_type": "code",
      "execution_count": null,
      "metadata": {
        "colab": {
          "base_uri": "https://localhost:8080/",
          "height": 419
        },
        "id": "1RaJmYV0PzRo",
        "outputId": "c4690b51-22b8-40e9-b97e-537d855ebbda"
      },
      "outputs": [
        {
          "ename": "",
          "evalue": "",
          "output_type": "error",
          "traceback": [
            "\u001b[1;31mJupyter cannot be started. Error attempting to locate Jupyter: Running cells with 'Python 3.10.6 64-bit' requires notebook package.\n",
            "\u001b[1;31mRun the following command to install 'jupyter and notebook' into the Python environment. \n",
            "\u001b[1;31mCommand: 'python -m pip install jupyter notebook -U\n",
            "\u001b[1;31mor\n",
            "\u001b[1;31mconda install jupyter notebook -U'\n",
            "Click <a href='https://aka.ms/installJupyterForVSCode'>here</a> for more info."
          ]
        }
      ],
      "source": [
        "#Proportions of gender based on region\n",
        "# Pie Chart\n",
        "plt.rcParams['font.size'] = 12\n",
        "plt.figure(figsize = (16,8))\n",
        "fig, (ax1,ax2,ax3) = plt.subplots(1,3)\n",
        "fig.set_figheight(6)\n",
        "fig.set_figwidth(20)\n",
        "plt.subplots_adjust(wspace =-0)\n",
        "#fig.suptitle('Social support towards mental health by employers', fontsize = 18, y=1.08)\n",
        "\n",
        "#For Eurpoe\n",
        "labels = 'High Risk','Medium Risk','Low Risk'\n",
        "sizes = [126, 98, 14]\n",
        "colors = ['red', 'yellow', 'green']\n",
        "#explode = (0.1, 0, 0)  # explode 1st slice\n",
        "#plt.pie(sizes, explode=explode, labels=labels, colors=colors,autopct='%1.1f%%', startangle=140)\n",
        "ax1.pie(sizes,  labels=labels, colors=colors, autopct='%1.1f%%', shadow=False, startangle=140)\n",
        "ax1.axis('equal')\n",
        "ax1.set_title('Risk levels of employees whose employers\\ndon\\'t offer resources to learn about mental health\\nconcerns and options for seeking help', pad =3, fontsize =16)\n",
        "\n",
        "\n",
        "#For America\n",
        "labels = 'High Risk','Medium Risk','Low Risk'\n",
        "sizes = [94, 82, 15]\n",
        "colors = ['red', 'yellow', 'green']\n",
        "#explode = (0.1, 0, 0)  # explode 1st slice\n",
        "#plt.pie(sizes, explode=explode, labels=labels, colors=colors,autopct='%1.1f%%', startangle=140)\n",
        "ax2.pie(sizes,  labels=labels, colors=colors, autopct='%1.1f%%', shadow=False, startangle=140)\n",
        "ax2.axis('equal')\n",
        "ax2.set_title('Risk levels of employees who observed\\nor experienced unsupportiveness or\\n badly handled response to mental health issues in workplace', pad =3, fontsize =16)\n",
        "\n",
        "#For Asia Africa and Australia\n",
        "labels = 'High Risk','Medium Risk','Low Risk'\n",
        "sizes = [228, 210, 25]\n",
        "colors = ['red', 'yellow', 'green']\n",
        "#explode = (0.1, 0, 0)  # explode 1st slice\n",
        "#plt.pie(sizes, explode=explode, labels=labels, colors=colors,autopct='%1.1f%%', startangle=140)\n",
        "ax3.pie(sizes,  labels=labels, colors=colors, autopct='%1.1f%%', shadow=False, startangle=140)\n",
        "ax3.axis('equal')\n",
        "ax3.set_title('Risk levels of employees whose employers\\ndo not formally discuss mental health', pad =3, fontsize =16)\n",
        "\n",
        "#ax3.legend(labels=labels, loc=(-2.4,0.5),prop={'size': 11})\n",
        "plt.savefig('social_supp_by_emp.png')"
      ]
    },
    {
      "cell_type": "code",
      "execution_count": null,
      "metadata": {
        "id": "aByVQ7BrPzVE"
      },
      "outputs": [
        {
          "ename": "",
          "evalue": "",
          "output_type": "error",
          "traceback": [
            "\u001b[1;31mJupyter cannot be started. Error attempting to locate Jupyter: Running cells with 'Python 3.10.6 64-bit' requires notebook package.\n",
            "\u001b[1;31mRun the following command to install 'jupyter and notebook' into the Python environment. \n",
            "\u001b[1;31mCommand: 'python -m pip install jupyter notebook -U\n",
            "\u001b[1;31mor\n",
            "\u001b[1;31mconda install jupyter notebook -U'\n",
            "Click <a href='https://aka.ms/installJupyterForVSCode'>here</a> for more info."
          ]
        }
      ],
      "source": []
    },
    {
      "cell_type": "markdown",
      "metadata": {
        "id": "UUsP9ye0LlVO"
      },
      "source": [
        "FAMILIY HISTORY OF MENTAL ILLNESS"
      ]
    },
    {
      "cell_type": "code",
      "execution_count": null,
      "metadata": {
        "colab": {
          "base_uri": "https://localhost:8080/"
        },
        "id": "yaASdjszLCbH",
        "outputId": "0f0e437c-c663-40aa-b99e-affc93336b31"
      },
      "outputs": [
        {
          "ename": "",
          "evalue": "",
          "output_type": "error",
          "traceback": [
            "\u001b[1;31mJupyter cannot be started. Error attempting to locate Jupyter: Running cells with 'Python 3.10.6 64-bit' requires notebook package.\n",
            "\u001b[1;31mRun the following command to install 'jupyter and notebook' into the Python environment. \n",
            "\u001b[1;31mCommand: 'python -m pip install jupyter notebook -U\n",
            "\u001b[1;31mor\n",
            "\u001b[1;31mconda install jupyter notebook -U'\n",
            "Click <a href='https://aka.ms/installJupyterForVSCode'>here</a> for more info."
          ]
        }
      ],
      "source": [
        "#Inferences\n",
        "#Effect of family history (col no=33)\n",
        "fam_hist_high=0;\n",
        "no_fam_hist_high=0;\n",
        "for i in range(len(high_risk_class)) :\n",
        "\n",
        "        if(df.iloc[high_risk_class[i],33]==2):\n",
        "            fam_hist_high+=1\n",
        "        if(df.iloc[high_risk_class[i],33]==0):\n",
        "            no_fam_hist_high+=1\n",
        "\n",
        "fam_hist_med=0;\n",
        "no_fam_hist_med=0\n",
        "for i in range(len(med_risk_class)) :\n",
        "\n",
        "        if(df.iloc[med_risk_class[i],33]==2):\n",
        "            fam_hist_med+=1\n",
        "        if(df.iloc[med_risk_class[i],33]==0):\n",
        "            no_fam_hist_med+=1\n",
        "            \n",
        "fam_hist_low=0;\n",
        "no_fam_hist_low=0\n",
        "for i in range(len(low_risk_class)) :\n",
        "\n",
        "        if(df.iloc[low_risk_class[i],33]==2):\n",
        "            fam_hist_low+=1\n",
        "        if(df.iloc[low_risk_class[i],33]==0):\n",
        "            no_fam_hist_low+=1\n",
        "print(fam_hist_high)\n",
        "print(fam_hist_med)\n",
        "print(fam_hist_low)\n",
        "print(no_fam_hist_high)\n",
        "print(no_fam_hist_med)\n",
        "print(no_fam_hist_low)"
      ]
    },
    {
      "cell_type": "code",
      "execution_count": null,
      "metadata": {
        "colab": {
          "base_uri": "https://localhost:8080/",
          "height": 278
        },
        "id": "PT4vJmBHL1Hx",
        "outputId": "3c517be0-4744-45b2-b8fd-2887eb7d299e"
      },
      "outputs": [
        {
          "ename": "",
          "evalue": "",
          "output_type": "error",
          "traceback": [
            "\u001b[1;31mJupyter cannot be started. Error attempting to locate Jupyter: Running cells with 'Python 3.10.6 64-bit' requires notebook package.\n",
            "\u001b[1;31mRun the following command to install 'jupyter and notebook' into the Python environment. \n",
            "\u001b[1;31mCommand: 'python -m pip install jupyter notebook -U\n",
            "\u001b[1;31mor\n",
            "\u001b[1;31mconda install jupyter notebook -U'\n",
            "Click <a href='https://aka.ms/installJupyterForVSCode'>here</a> for more info."
          ]
        }
      ],
      "source": [
        "#plotting Effect of family history (col no=33) on risk level\n",
        "import matplotlib.pyplot as plt\n",
        "fig = plt.figure(figsize=(5,3))\n",
        "#fig = plt.figure()\n",
        "ax = fig.add_axes([0,0,1,1])\n",
        "risks= ['High Risk', 'Medium Risk', 'Low Risk']\n",
        "level=[fam_hist_high, fam_hist_med, fam_hist_low]\n",
        "ax.bar(risks,level)\n",
        "plt.xlabel('Risk levels')\n",
        "plt.ylabel('Number of employees with\\nfamily history of mental illness')\n",
        "#plt.title('Instances of FAMILY HISTORY OF MENTAL ILLNESS of people at different risk levels')\n",
        "plt.savefig(\"family_hist_risk.jpg\",bbox_inches='tight', dpi=150)\n",
        "plt.show()"
      ]
    },
    {
      "cell_type": "code",
      "execution_count": null,
      "metadata": {
        "colab": {
          "base_uri": "https://localhost:8080/",
          "height": 542
        },
        "id": "ApfCStkmoK2V",
        "outputId": "faf21792-aff8-4ba8-ed69-640734e9cea3"
      },
      "outputs": [
        {
          "ename": "",
          "evalue": "",
          "output_type": "error",
          "traceback": [
            "\u001b[1;31mJupyter cannot be started. Error attempting to locate Jupyter: Running cells with 'Python 3.10.6 64-bit' requires notebook package.\n",
            "\u001b[1;31mRun the following command to install 'jupyter and notebook' into the Python environment. \n",
            "\u001b[1;31mCommand: 'python -m pip install jupyter notebook -U\n",
            "\u001b[1;31mor\n",
            "\u001b[1;31mconda install jupyter notebook -U'\n",
            "Click <a href='https://aka.ms/installJupyterForVSCode'>here</a> for more info."
          ]
        }
      ],
      "source": [
        "import plotly.graph_objects as go\n",
        "risks= ['High Risk', 'Medium Risk', 'Low Risk']\n",
        "level=[fam_hist_high, fam_hist_med, fam_hist_low]\n",
        "fig = go.Figure(data=[go.Bar(name='Family history', x=risks, y=level,text=[str(x) for x in level])])\n",
        "# Change the bar mode\n",
        "\n",
        "fig.update_layout(xaxis_title='Risk-levels', yaxis_title='Number of employees with<br>family history of mental illness')\n",
        "fig.show()"
      ]
    },
    {
      "cell_type": "markdown",
      "metadata": {
        "id": "nDJBIMtKMnAb"
      },
      "source": [
        "WILLINGNESS TO SHARE MENTAL ILLNESS WITH FRIENDS & FAMILY"
      ]
    },
    {
      "cell_type": "code",
      "execution_count": null,
      "metadata": {
        "colab": {
          "base_uri": "https://localhost:8080/"
        },
        "id": "e7uJVT9UMaHk",
        "outputId": "ca7d4591-5ef9-4ea8-da33-fee11664d254"
      },
      "outputs": [
        {
          "ename": "",
          "evalue": "",
          "output_type": "error",
          "traceback": [
            "\u001b[1;31mJupyter cannot be started. Error attempting to locate Jupyter: Running cells with 'Python 3.10.6 64-bit' requires notebook package.\n",
            "\u001b[1;31mRun the following command to install 'jupyter and notebook' into the Python environment. \n",
            "\u001b[1;31mCommand: 'python -m pip install jupyter notebook -U\n",
            "\u001b[1;31mor\n",
            "\u001b[1;31mconda install jupyter notebook -U'\n",
            "Click <a href='https://aka.ms/installJupyterForVSCode'>here</a> for more info."
          ]
        }
      ],
      "source": [
        "#Risk levels for people who dont open up about their illness: (col=31)\n",
        "# share_w_friends_fam = 2 ==> somewhat not open\n",
        "# share_w_friends_fam = 1 ==> not open at all\n",
        "share_high=0;\n",
        "for i in range(len(high_risk_class)) :\n",
        "\n",
        "        # if(df.iloc[high_risk_class[i],31]==1): \n",
        "        #     share_high+=3\n",
        "        if(df.iloc[high_risk_class[i],31]==2 or df.iloc[high_risk_class[i],31]==1):\n",
        "            share_high+=1\n",
        "        \n",
        "#For medium risk\n",
        "share_med=0;\n",
        "for i in range(len(med_risk_class)) :\n",
        "\n",
        "        # if(df.iloc[med_risk_class[i],31]==1):\n",
        "        #     share_med+=3\n",
        "        if(df.iloc[med_risk_class[i],31]==2 or df.iloc[med_risk_class[i],31]==1):\n",
        "            share_med+=1\n",
        "#For low risk\n",
        "share_low=0;\n",
        "for i in range(len(low_risk_class)) :\n",
        "\n",
        "        # if(df.iloc[low_risk_class[i],31]==1):\n",
        "        #     share_low+=3\n",
        "        if(df.iloc[low_risk_class[i],31]==2 or df.iloc[low_risk_class[i],31]==1):\n",
        "            share_low+=1\n",
        "            \n",
        "\n",
        "print(share_high)\n",
        "print(share_med)\n",
        "print(share_low)"
      ]
    },
    {
      "cell_type": "code",
      "execution_count": null,
      "metadata": {
        "id": "JB1AztZIcsb7"
      },
      "outputs": [
        {
          "ename": "",
          "evalue": "",
          "output_type": "error",
          "traceback": [
            "\u001b[1;31mJupyter cannot be started. Error attempting to locate Jupyter: Running cells with 'Python 3.10.6 64-bit' requires notebook package.\n",
            "\u001b[1;31mRun the following command to install 'jupyter and notebook' into the Python environment. \n",
            "\u001b[1;31mCommand: 'python -m pip install jupyter notebook -U\n",
            "\u001b[1;31mor\n",
            "\u001b[1;31mconda install jupyter notebook -U'\n",
            "Click <a href='https://aka.ms/installJupyterForVSCode'>here</a> for more info."
          ]
        }
      ],
      "source": [
        "not_share_high=share_high\n",
        "not_share_med=share_med\n",
        "not_share_low=share_low"
      ]
    },
    {
      "cell_type": "code",
      "execution_count": null,
      "metadata": {
        "colab": {
          "base_uri": "https://localhost:8080/"
        },
        "id": "XUQDdt-icOiR",
        "outputId": "18b6aab2-03bb-4103-ca7b-b67fcdb06d93"
      },
      "outputs": [
        {
          "ename": "",
          "evalue": "",
          "output_type": "error",
          "traceback": [
            "\u001b[1;31mJupyter cannot be started. Error attempting to locate Jupyter: Running cells with 'Python 3.10.6 64-bit' requires notebook package.\n",
            "\u001b[1;31mRun the following command to install 'jupyter and notebook' into the Python environment. \n",
            "\u001b[1;31mCommand: 'python -m pip install jupyter notebook -U\n",
            "\u001b[1;31mor\n",
            "\u001b[1;31mconda install jupyter notebook -U'\n",
            "Click <a href='https://aka.ms/installJupyterForVSCode'>here</a> for more info."
          ]
        }
      ],
      "source": [
        "# #Risk levels for people who dont open up about their illness: (col=31)\n",
        "# # share_w_friends_fam = 2 ==> somewhat not open\n",
        "# # share_w_friends_fam = 1 ==> not open at all\n",
        "# share_high=0;\n",
        "# for i in range(len(high_risk_class)) :\n",
        "\n",
        "#         if(df.iloc[high_risk_class[i],31]==5): \n",
        "#             share_high+=3\n",
        "#         if(df.iloc[high_risk_class[i],31]==4):\n",
        "#             share_high+=1\n",
        "        \n",
        "# #For medium risk\n",
        "# share_med=0;\n",
        "# for i in range(len(med_risk_class)) :\n",
        "\n",
        "#         if(df.iloc[med_risk_class[i],31]==1):\n",
        "#             share_med+=3\n",
        "#         if(df.iloc[med_risk_class[i],31]==2):\n",
        "#             share_med+=1\n",
        "# #For low risk\n",
        "# share_low=0;\n",
        "# for i in range(len(low_risk_class)) :\n",
        "\n",
        "#         if(df.iloc[low_risk_class[i],31]==1):\n",
        "#             share_low+=3\n",
        "#         if(df.iloc[low_risk_class[i],31]==2):\n",
        "#             share_low+=1\n",
        "            \n",
        "\n",
        "# print(share_high)\n",
        "# print(share_med)\n",
        "# print(share_low)"
      ]
    },
    {
      "cell_type": "code",
      "execution_count": null,
      "metadata": {
        "colab": {
          "base_uri": "https://localhost:8080/"
        },
        "id": "p-f9qXOIfVmF",
        "outputId": "e36d7ffb-40c6-4777-f13b-47b1d3d6fabe"
      },
      "outputs": [
        {
          "ename": "",
          "evalue": "",
          "output_type": "error",
          "traceback": [
            "\u001b[1;31mJupyter cannot be started. Error attempting to locate Jupyter: Running cells with 'Python 3.10.6 64-bit' requires notebook package.\n",
            "\u001b[1;31mRun the following command to install 'jupyter and notebook' into the Python environment. \n",
            "\u001b[1;31mCommand: 'python -m pip install jupyter notebook -U\n",
            "\u001b[1;31mor\n",
            "\u001b[1;31mconda install jupyter notebook -U'\n",
            "Click <a href='https://aka.ms/installJupyterForVSCode'>here</a> for more info."
          ]
        }
      ],
      "source": [
        "print(len(high_risk_class))\n",
        "print(len(med_risk_class))\n",
        "print(len(low_risk_class))\n",
        "l=[]\n",
        "for i in range(len(high_risk_class)) :\n",
        "\n",
        "        # if(df.iloc[high_risk_class[i],31]==1): \n",
        "        #     share_high+=3\n",
        "        l.append(df.iloc[high_risk_class[i],31])\n",
        "from collections import Counter\n",
        "print(Counter(l)[5])\n",
        "print(Counter(l)[4])\n",
        "print(Counter(l)[1])\n",
        "print(Counter(l)[2])"
      ]
    },
    {
      "cell_type": "code",
      "execution_count": null,
      "metadata": {
        "colab": {
          "base_uri": "https://localhost:8080/"
        },
        "id": "vqT1GLB8eq8l",
        "outputId": "811a271a-a473-4992-8f45-93ed3b1362be"
      },
      "outputs": [
        {
          "ename": "",
          "evalue": "",
          "output_type": "error",
          "traceback": [
            "\u001b[1;31mJupyter cannot be started. Error attempting to locate Jupyter: Running cells with 'Python 3.10.6 64-bit' requires notebook package.\n",
            "\u001b[1;31mRun the following command to install 'jupyter and notebook' into the Python environment. \n",
            "\u001b[1;31mCommand: 'python -m pip install jupyter notebook -U\n",
            "\u001b[1;31mor\n",
            "\u001b[1;31mconda install jupyter notebook -U'\n",
            "Click <a href='https://aka.ms/installJupyterForVSCode'>here</a> for more info."
          ]
        }
      ],
      "source": [
        "#Risk levels for people who dont open up about their illness: (col=31)\n",
        "# share_w_friends_fam = 2 ==> somewhat not open\n",
        "# share_w_friends_fam = 1 ==> not open at all\n",
        "share_high=0;\n",
        "for i in range(len(high_risk_class)) :\n",
        "\n",
        "        # if(df.iloc[high_risk_class[i],31]==1): \n",
        "        #     share_high+=3\n",
        "        if(df.iloc[high_risk_class[i],31]==5 or df.iloc[high_risk_class[i],31]==4):\n",
        "            share_high+=1\n",
        "        \n",
        "#For medium risk\n",
        "share_med=0;\n",
        "for i in range(len(med_risk_class)) :\n",
        "\n",
        "        # if(df.iloc[med_risk_class[i],31]==1):\n",
        "        #     share_med+=3\n",
        "        if(df.iloc[med_risk_class[i],31]==5 or df.iloc[med_risk_class[i],31]==4):\n",
        "            share_med+=1\n",
        "#For low risk\n",
        "share_low=0;\n",
        "for i in range(len(low_risk_class)) :\n",
        "\n",
        "        # if(df.iloc[low_risk_class[i],31]==1):\n",
        "        #     share_low+=3\n",
        "        if(df.iloc[low_risk_class[i],31]==5 or df.iloc[low_risk_class[i],31]==4):\n",
        "            share_low+=1\n",
        "            \n",
        "\n",
        "print(share_high)\n",
        "print(share_med)\n",
        "print(share_low)"
      ]
    },
    {
      "cell_type": "markdown",
      "metadata": {
        "id": "EQH6VJ6LlkNT"
      },
      "source": [
        "Unsupportiveness or badly handled response to a mental health issue"
      ]
    },
    {
      "cell_type": "code",
      "execution_count": null,
      "metadata": {
        "colab": {
          "base_uri": "https://localhost:8080/"
        },
        "id": "qYgG2whAls2E",
        "outputId": "c70a17f9-c1f7-4420-8539-569b7e9202c4"
      },
      "outputs": [
        {
          "ename": "",
          "evalue": "",
          "output_type": "error",
          "traceback": [
            "\u001b[1;31mJupyter cannot be started. Error attempting to locate Jupyter: Running cells with 'Python 3.10.6 64-bit' requires notebook package.\n",
            "\u001b[1;31mRun the following command to install 'jupyter and notebook' into the Python environment. \n",
            "\u001b[1;31mCommand: 'python -m pip install jupyter notebook -U\n",
            "\u001b[1;31mor\n",
            "\u001b[1;31mconda install jupyter notebook -U'\n",
            "Click <a href='https://aka.ms/installJupyterForVSCode'>here</a> for more info."
          ]
        }
      ],
      "source": [
        "l=[]\n",
        "for i in range(len(high_risk_class)) :\n",
        "\n",
        "        # if(df.iloc[high_risk_class[i],31]==1): \n",
        "        #     share_high+=3\n",
        "        l.append(df_no_drp.iloc[high_risk_class[i],32])\n",
        "from collections import Counter\n",
        "print(Counter(l)['Yes, I observed'])\n",
        "print(Counter(l)['Yes, I experienced'])\n",
        "print(Counter(l)['No'])\n",
        "print(Counter(l)['Maybe/Not sure'])"
      ]
    },
    {
      "cell_type": "code",
      "execution_count": null,
      "metadata": {
        "colab": {
          "base_uri": "https://localhost:8080/"
        },
        "id": "mp5itHG2ls49",
        "outputId": "be62aad8-9422-4879-d2e4-4cc6494e833b"
      },
      "outputs": [
        {
          "ename": "",
          "evalue": "",
          "output_type": "error",
          "traceback": [
            "\u001b[1;31mJupyter cannot be started. Error attempting to locate Jupyter: Running cells with 'Python 3.10.6 64-bit' requires notebook package.\n",
            "\u001b[1;31mRun the following command to install 'jupyter and notebook' into the Python environment. \n",
            "\u001b[1;31mCommand: 'python -m pip install jupyter notebook -U\n",
            "\u001b[1;31mor\n",
            "\u001b[1;31mconda install jupyter notebook -U'\n",
            "Click <a href='https://aka.ms/installJupyterForVSCode'>here</a> for more info."
          ]
        }
      ],
      "source": [
        "l=[]\n",
        "for i in range(len(med_risk_class)) :\n",
        "\n",
        "        # if(df.iloc[high_risk_class[i],31]==1): \n",
        "        #     share_high+=3\n",
        "        l.append(df_no_drp.iloc[med_risk_class[i],32])\n",
        "from collections import Counter\n",
        "print(Counter(l)['Yes, I observed'])\n",
        "print(Counter(l)['Yes, I experienced'])\n",
        "print(Counter(l)['No'])\n",
        "print(Counter(l)['Maybe/Not sure'])"
      ]
    },
    {
      "cell_type": "code",
      "execution_count": null,
      "metadata": {
        "colab": {
          "base_uri": "https://localhost:8080/"
        },
        "id": "aiG1OZwOls70",
        "outputId": "d4fde9ad-4b7e-4200-f2b8-0c9728cbba25"
      },
      "outputs": [
        {
          "ename": "",
          "evalue": "",
          "output_type": "error",
          "traceback": [
            "\u001b[1;31mJupyter cannot be started. Error attempting to locate Jupyter: Running cells with 'Python 3.10.6 64-bit' requires notebook package.\n",
            "\u001b[1;31mRun the following command to install 'jupyter and notebook' into the Python environment. \n",
            "\u001b[1;31mCommand: 'python -m pip install jupyter notebook -U\n",
            "\u001b[1;31mor\n",
            "\u001b[1;31mconda install jupyter notebook -U'\n",
            "Click <a href='https://aka.ms/installJupyterForVSCode'>here</a> for more info."
          ]
        }
      ],
      "source": [
        "l=[]\n",
        "for i in range(len(low_risk_class)) :\n",
        "\n",
        "        # if(df.iloc[high_risk_class[i],31]==1): \n",
        "        #     share_high+=3\n",
        "        l.append(df_no_drp.iloc[low_risk_class[i],32])\n",
        "from collections import Counter\n",
        "print(Counter(l)['Yes, I observed'])\n",
        "print(Counter(l)['Yes, I experienced'])\n",
        "print(Counter(l)['No'])\n",
        "print(Counter(l)['Maybe/Not sure'])"
      ]
    },
    {
      "cell_type": "code",
      "execution_count": null,
      "metadata": {
        "colab": {
          "base_uri": "https://localhost:8080/",
          "height": 330
        },
        "id": "1Vu29gnjls_H",
        "outputId": "8dae8ff7-0f50-4eb9-fef2-ab41edd26d45"
      },
      "outputs": [
        {
          "ename": "",
          "evalue": "",
          "output_type": "error",
          "traceback": [
            "\u001b[1;31mJupyter cannot be started. Error attempting to locate Jupyter: Running cells with 'Python 3.10.6 64-bit' requires notebook package.\n",
            "\u001b[1;31mRun the following command to install 'jupyter and notebook' into the Python environment. \n",
            "\u001b[1;31mCommand: 'python -m pip install jupyter notebook -U\n",
            "\u001b[1;31mor\n",
            "\u001b[1;31mconda install jupyter notebook -U'\n",
            "Click <a href='https://aka.ms/installJupyterForVSCode'>here</a> for more info."
          ]
        }
      ],
      "source": [
        "import matplotlib.pyplot as plt\n",
        "\n",
        "# Data to plot\n",
        "labels = 'High Risk','Medium Risk','Low Risk'\n",
        "sizes = [94, 82, 15]\n",
        "colors = ['red', 'yellow', 'green']\n",
        "explode = (0.1, 0, 0)  # explode 1st slice\n",
        "\n",
        "# Plot\n",
        "plt.pie(sizes, explode=explode, labels=labels, colors=colors,autopct='%1.1f%%', startangle=140)\n",
        "\n",
        "plt.axis('equal')\n",
        "#plt.title(\"Risk levels of people who don't share their mental illness with friends and family\")\n",
        "#plt.savefig(\"dont_share_issue_frnds_fam_risk.jpg\",bbox_inches='tight', dpi=150)\n",
        "plt.savefig('unsupp_risk.jpg')\n",
        "plt.show()"
      ]
    },
    {
      "cell_type": "markdown",
      "metadata": {
        "id": "-cv9dW6ViAk8"
      },
      "source": [
        "Fear of negative consequences on discussing mental health disorder with employer vs risk-levels"
      ]
    },
    {
      "cell_type": "code",
      "execution_count": null,
      "metadata": {
        "colab": {
          "base_uri": "https://localhost:8080/"
        },
        "id": "HIQ-zlJCiJuw",
        "outputId": "9ae50a36-7deb-4813-e4d6-37553c664128"
      },
      "outputs": [
        {
          "ename": "",
          "evalue": "",
          "output_type": "error",
          "traceback": [
            "\u001b[1;31mJupyter cannot be started. Error attempting to locate Jupyter: Running cells with 'Python 3.10.6 64-bit' requires notebook package.\n",
            "\u001b[1;31mRun the following command to install 'jupyter and notebook' into the Python environment. \n",
            "\u001b[1;31mCommand: 'python -m pip install jupyter notebook -U\n",
            "\u001b[1;31mor\n",
            "\u001b[1;31mconda install jupyter notebook -U'\n",
            "Click <a href='https://aka.ms/installJupyterForVSCode'>here</a> for more info."
          ]
        }
      ],
      "source": [
        "print(df.columns[9])\n",
        "df['Discussing_mental_health_neg_consequences'].unique()\n"
      ]
    },
    {
      "cell_type": "code",
      "execution_count": null,
      "metadata": {
        "colab": {
          "base_uri": "https://localhost:8080/"
        },
        "id": "LZxEi-PFiJxc",
        "outputId": "b98a01d2-5947-490d-ee59-5c1bfbe919f2"
      },
      "outputs": [
        {
          "ename": "",
          "evalue": "",
          "output_type": "error",
          "traceback": [
            "\u001b[1;31mJupyter cannot be started. Error attempting to locate Jupyter: Running cells with 'Python 3.10.6 64-bit' requires notebook package.\n",
            "\u001b[1;31mRun the following command to install 'jupyter and notebook' into the Python environment. \n",
            "\u001b[1;31mCommand: 'python -m pip install jupyter notebook -U\n",
            "\u001b[1;31mor\n",
            "\u001b[1;31mconda install jupyter notebook -U'\n",
            "Click <a href='https://aka.ms/installJupyterForVSCode'>here</a> for more info."
          ]
        }
      ],
      "source": [
        "print(len(high_risk_class))\n",
        "print(len(med_risk_class))\n",
        "print(len(low_risk_class))\n",
        "l=[]\n",
        "for i in range(len(high_risk_class)) :\n",
        "\n",
        "        # if(df.iloc[high_risk_class[i],31]==1): \n",
        "        #     share_high+=3\n",
        "        l.append(df.iloc[high_risk_class[i],31])\n",
        "from collections import Counter\n",
        "print(Counter(l)[0])\n",
        "print(Counter(l)[1])\n",
        "print(Counter(l)[2])"
      ]
    },
    {
      "cell_type": "code",
      "execution_count": null,
      "metadata": {
        "colab": {
          "base_uri": "https://localhost:8080/"
        },
        "id": "t5LYelf2iJ0w",
        "outputId": "3789396e-9902-49ef-9cb5-df6f2431849f"
      },
      "outputs": [
        {
          "ename": "",
          "evalue": "",
          "output_type": "error",
          "traceback": [
            "\u001b[1;31mJupyter cannot be started. Error attempting to locate Jupyter: Running cells with 'Python 3.10.6 64-bit' requires notebook package.\n",
            "\u001b[1;31mRun the following command to install 'jupyter and notebook' into the Python environment. \n",
            "\u001b[1;31mCommand: 'python -m pip install jupyter notebook -U\n",
            "\u001b[1;31mor\n",
            "\u001b[1;31mconda install jupyter notebook -U'\n",
            "Click <a href='https://aka.ms/installJupyterForVSCode'>here</a> for more info."
          ]
        }
      ],
      "source": [
        "l=[]\n",
        "for i in range(len(med_risk_class)) :\n",
        "\n",
        "        # if(df.iloc[high_risk_class[i],31]==1): \n",
        "        #     share_high+=3\n",
        "        l.append(df.iloc[med_risk_class[i],31])\n",
        "from collections import Counter\n",
        "print(Counter(l)[0])\n",
        "print(Counter(l)[1])\n",
        "print(Counter(l)[2])"
      ]
    },
    {
      "cell_type": "code",
      "execution_count": null,
      "metadata": {
        "colab": {
          "base_uri": "https://localhost:8080/"
        },
        "id": "c2DIXIbI4Aqb",
        "outputId": "a3ca634f-0d55-4117-a3cd-1ecc382e8c61"
      },
      "outputs": [
        {
          "ename": "",
          "evalue": "",
          "output_type": "error",
          "traceback": [
            "\u001b[1;31mJupyter cannot be started. Error attempting to locate Jupyter: Running cells with 'Python 3.10.6 64-bit' requires notebook package.\n",
            "\u001b[1;31mRun the following command to install 'jupyter and notebook' into the Python environment. \n",
            "\u001b[1;31mCommand: 'python -m pip install jupyter notebook -U\n",
            "\u001b[1;31mor\n",
            "\u001b[1;31mconda install jupyter notebook -U'\n",
            "Click <a href='https://aka.ms/installJupyterForVSCode'>here</a> for more info."
          ]
        }
      ],
      "source": [
        "l=[]\n",
        "for i in range(len(low_risk_class)) :\n",
        "\n",
        "        # if(df.iloc[high_risk_class[i],31]==1): \n",
        "        #     share_high+=3\n",
        "        l.append(df.iloc[low_risk_class[i],31])\n",
        "from collections import Counter\n",
        "print(Counter(l)[0])\n",
        "print(Counter(l)[1])\n",
        "print(Counter(l)[2])"
      ]
    },
    {
      "cell_type": "code",
      "execution_count": null,
      "metadata": {
        "colab": {
          "base_uri": "https://localhost:8080/",
          "height": 330
        },
        "id": "ZBjplB8iMaKB",
        "outputId": "a57c0233-0545-486b-8e82-3d306ce2a8f7"
      },
      "outputs": [
        {
          "ename": "",
          "evalue": "",
          "output_type": "error",
          "traceback": [
            "\u001b[1;31mJupyter cannot be started. Error attempting to locate Jupyter: Running cells with 'Python 3.10.6 64-bit' requires notebook package.\n",
            "\u001b[1;31mRun the following command to install 'jupyter and notebook' into the Python environment. \n",
            "\u001b[1;31mCommand: 'python -m pip install jupyter notebook -U\n",
            "\u001b[1;31mor\n",
            "\u001b[1;31mconda install jupyter notebook -U'\n",
            "Click <a href='https://aka.ms/installJupyterForVSCode'>here</a> for more info."
          ]
        }
      ],
      "source": [
        "import matplotlib.pyplot as plt\n",
        "\n",
        "# Data to plot\n",
        "labels = 'High Risk','Medium Risk','Low Risk'\n",
        "sizes = [share_high, share_med, share_low]\n",
        "colors = ['red', 'yellow', 'green']\n",
        "explode = (0.1, 0, 0)  # explode 1st slice\n",
        "\n",
        "# Plot\n",
        "plt.pie(sizes, explode=explode, labels=labels, colors=colors,autopct='%1.1f%%', startangle=140)\n",
        "\n",
        "plt.axis('equal')\n",
        "#plt.title(\"Risk levels of people who don't share their mental illness with friends and family\")\n",
        "plt.savefig(\"dont_share_issue_frnds_fam_risk.jpg\",bbox_inches='tight', dpi=150)\n",
        "plt.show()"
      ]
    },
    {
      "cell_type": "markdown",
      "metadata": {
        "id": "NU1A1lmI5nrd"
      },
      "source": [
        "Past mental health condition vs risk levels"
      ]
    },
    {
      "cell_type": "code",
      "execution_count": null,
      "metadata": {
        "colab": {
          "base_uri": "https://localhost:8080/"
        },
        "id": "B1JCIg1s5r1f",
        "outputId": "59b14da9-509b-42ef-9bda-77fade7441f6"
      },
      "outputs": [
        {
          "ename": "",
          "evalue": "",
          "output_type": "error",
          "traceback": [
            "\u001b[1;31mJupyter cannot be started. Error attempting to locate Jupyter: Running cells with 'Python 3.10.6 64-bit' requires notebook package.\n",
            "\u001b[1;31mRun the following command to install 'jupyter and notebook' into the Python environment. \n",
            "\u001b[1;31mCommand: 'python -m pip install jupyter notebook -U\n",
            "\u001b[1;31mor\n",
            "\u001b[1;31mconda install jupyter notebook -U'\n",
            "Click <a href='https://aka.ms/installJupyterForVSCode'>here</a> for more info."
          ]
        }
      ],
      "source": [
        "print(len(high_risk_class))\n",
        "print(len(med_risk_class))\n",
        "print(len(low_risk_class))\n",
        "l=[]\n",
        "for i in range(len(high_risk_class)) :\n",
        "\n",
        "        # if(df.iloc[high_risk_class[i],31]==1): \n",
        "        #     share_high+=3\n",
        "        l.append(df.iloc[high_risk_class[i],34])\n",
        "from collections import Counter\n",
        "past_mh_high=Counter(l)[2]\n",
        "print(Counter(l)[0])\n",
        "print(Counter(l)[1])\n",
        "print(Counter(l)[2])"
      ]
    },
    {
      "cell_type": "code",
      "execution_count": null,
      "metadata": {
        "colab": {
          "base_uri": "https://localhost:8080/"
        },
        "id": "Yhzx5-pQ5r36",
        "outputId": "4c2b23e5-31f6-4d07-db0d-5f5702be44da"
      },
      "outputs": [
        {
          "ename": "",
          "evalue": "",
          "output_type": "error",
          "traceback": [
            "\u001b[1;31mJupyter cannot be started. Error attempting to locate Jupyter: Running cells with 'Python 3.10.6 64-bit' requires notebook package.\n",
            "\u001b[1;31mRun the following command to install 'jupyter and notebook' into the Python environment. \n",
            "\u001b[1;31mCommand: 'python -m pip install jupyter notebook -U\n",
            "\u001b[1;31mor\n",
            "\u001b[1;31mconda install jupyter notebook -U'\n",
            "Click <a href='https://aka.ms/installJupyterForVSCode'>here</a> for more info."
          ]
        }
      ],
      "source": [
        "l=[]\n",
        "for i in range(len(low_risk_class)) :\n",
        "\n",
        "        # if(df.iloc[high_risk_class[i],31]==1): \n",
        "        #     share_high+=3\n",
        "        l.append(df.iloc[low_risk_class[i],31])\n",
        "from collections import Counter\n",
        "past_mh_low=Counter(l)[2]\n",
        "print(Counter(l)[0])\n",
        "print(Counter(l)[1])\n",
        "print(Counter(l)[2])"
      ]
    },
    {
      "cell_type": "code",
      "execution_count": null,
      "metadata": {
        "colab": {
          "base_uri": "https://localhost:8080/"
        },
        "id": "3xr9qJEZ5r7p",
        "outputId": "ee65074b-8448-4637-e9ae-f0a496965e57"
      },
      "outputs": [
        {
          "ename": "",
          "evalue": "",
          "output_type": "error",
          "traceback": [
            "\u001b[1;31mJupyter cannot be started. Error attempting to locate Jupyter: Running cells with 'Python 3.10.6 64-bit' requires notebook package.\n",
            "\u001b[1;31mRun the following command to install 'jupyter and notebook' into the Python environment. \n",
            "\u001b[1;31mCommand: 'python -m pip install jupyter notebook -U\n",
            "\u001b[1;31mor\n",
            "\u001b[1;31mconda install jupyter notebook -U'\n",
            "Click <a href='https://aka.ms/installJupyterForVSCode'>here</a> for more info."
          ]
        }
      ],
      "source": [
        "l=[]\n",
        "for i in range(len(med_risk_class)) :\n",
        "\n",
        "        # if(df.iloc[high_risk_class[i],31]==1): \n",
        "        #     share_high+=3\n",
        "        l.append(df.iloc[med_risk_class[i],31])\n",
        "        \n",
        "from collections import Counter\n",
        "past_mh_med=Counter(l)[2]\n",
        "print(Counter(l)[0])\n",
        "print(Counter(l)[1])\n",
        "print(Counter(l)[2])"
      ]
    },
    {
      "cell_type": "code",
      "execution_count": null,
      "metadata": {
        "colab": {
          "base_uri": "https://localhost:8080/",
          "height": 542
        },
        "id": "uoSp2Wjv4gOY",
        "outputId": "a8a1da0e-7329-496e-b1a9-37679d39e61a"
      },
      "outputs": [
        {
          "ename": "",
          "evalue": "",
          "output_type": "error",
          "traceback": [
            "\u001b[1;31mJupyter cannot be started. Error attempting to locate Jupyter: Running cells with 'Python 3.10.6 64-bit' requires notebook package.\n",
            "\u001b[1;31mRun the following command to install 'jupyter and notebook' into the Python environment. \n",
            "\u001b[1;31mCommand: 'python -m pip install jupyter notebook -U\n",
            "\u001b[1;31mor\n",
            "\u001b[1;31mconda install jupyter notebook -U'\n",
            "Click <a href='https://aka.ms/installJupyterForVSCode'>here</a> for more info."
          ]
        }
      ],
      "source": [
        "import plotly.graph_objects as go\n",
        "risks= ['High Risk', 'Medium Risk', 'Low Risk']\n",
        "level=[past_mh_high, past_mh_med, past_mh_low]\n",
        "fig = go.Figure(data=[go.Bar(name='Discussion with employer', x=risks, y=level,text=[str(x) for x in level])])\n",
        "# Change the bar mode\n",
        "\n",
        "fig.update_layout(xaxis_title='Risk-levels', yaxis_title='Number of employees with a<br>mental health disorder in the past')\n",
        "fig.show()"
      ]
    },
    {
      "cell_type": "code",
      "execution_count": null,
      "metadata": {
        "colab": {
          "base_uri": "https://localhost:8080/",
          "height": 336
        },
        "id": "Womfi35J5QXn",
        "outputId": "de8973eb-bcbc-413d-bbe2-66b1ea12d138"
      },
      "outputs": [
        {
          "ename": "",
          "evalue": "",
          "output_type": "error",
          "traceback": [
            "\u001b[1;31mJupyter cannot be started. Error attempting to locate Jupyter: Running cells with 'Python 3.10.6 64-bit' requires notebook package.\n",
            "\u001b[1;31mRun the following command to install 'jupyter and notebook' into the Python environment. \n",
            "\u001b[1;31mCommand: 'python -m pip install jupyter notebook -U\n",
            "\u001b[1;31mor\n",
            "\u001b[1;31mconda install jupyter notebook -U'\n",
            "Click <a href='https://aka.ms/installJupyterForVSCode'>here</a> for more info."
          ]
        }
      ],
      "source": [
        "import matplotlib.pyplot as plt\n",
        "\n",
        "# Data to plot\n",
        "labels = 'High Risk','Medium Risk','Low Risk'\n",
        "sizes = [past_mh_high, past_mh_med, past_mh_low]\n",
        "colors = ['red', 'yellow', 'green']\n",
        "#explode = (0.1, 0, 0)  # explode 1st slice\n",
        "\n",
        "# Plot\n",
        "plt.pie(sizes,  labels=labels, colors=colors,autopct='%1.1f%%', startangle=140)\n",
        "\n",
        "plt.axis('equal')\n",
        "#plt.title(\"Risk levels of people who don't share their mental illness with friends and family\")\n",
        "plt.savefig(\"past_mh_disorder_risk.jpg\",bbox_inches='tight', dpi=150)\n",
        "plt.show()"
      ]
    },
    {
      "cell_type": "markdown",
      "metadata": {
        "id": "q4lcWqyjn8Ld"
      },
      "source": [
        "gender vs risk levels"
      ]
    },
    {
      "cell_type": "code",
      "execution_count": null,
      "metadata": {
        "colab": {
          "base_uri": "https://localhost:8080/"
        },
        "id": "uZ4QxF8Vn-ah",
        "outputId": "52b113fa-9676-47ab-c360-962e00f793d8"
      },
      "outputs": [
        {
          "ename": "",
          "evalue": "",
          "output_type": "error",
          "traceback": [
            "\u001b[1;31mJupyter cannot be started. Error attempting to locate Jupyter: Running cells with 'Python 3.10.6 64-bit' requires notebook package.\n",
            "\u001b[1;31mRun the following command to install 'jupyter and notebook' into the Python environment. \n",
            "\u001b[1;31mCommand: 'python -m pip install jupyter notebook -U\n",
            "\u001b[1;31mor\n",
            "\u001b[1;31mconda install jupyter notebook -U'\n",
            "Click <a href='https://aka.ms/installJupyterForVSCode'>here</a> for more info."
          ]
        }
      ],
      "source": [
        "print(len(high_risk_class))\n",
        "print(len(med_risk_class))\n",
        "print(len(low_risk_class))\n",
        "l=[]\n",
        "for i in range(len(high_risk_class)) :\n",
        "\n",
        "        # if(df.iloc[high_risk_class[i],31]==1): \n",
        "        #     share_high+=3\n",
        "        l.append(df.iloc[high_risk_class[i],41])\n",
        "from collections import Counter\n",
        "fem_high=Counter(l)[2]\n",
        "print(Counter(l)[3])\n",
        "print(Counter(l)[1])\n",
        "print(Counter(l)[2])"
      ]
    },
    {
      "cell_type": "code",
      "execution_count": null,
      "metadata": {
        "colab": {
          "base_uri": "https://localhost:8080/"
        },
        "id": "uTLnmbJgn-dG",
        "outputId": "88ad675c-c46e-458d-a460-64c717133205"
      },
      "outputs": [
        {
          "ename": "",
          "evalue": "",
          "output_type": "error",
          "traceback": [
            "\u001b[1;31mJupyter cannot be started. Error attempting to locate Jupyter: Running cells with 'Python 3.10.6 64-bit' requires notebook package.\n",
            "\u001b[1;31mRun the following command to install 'jupyter and notebook' into the Python environment. \n",
            "\u001b[1;31mCommand: 'python -m pip install jupyter notebook -U\n",
            "\u001b[1;31mor\n",
            "\u001b[1;31mconda install jupyter notebook -U'\n",
            "Click <a href='https://aka.ms/installJupyterForVSCode'>here</a> for more info."
          ]
        }
      ],
      "source": [
        "l=[]\n",
        "for i in range(len(med_risk_class)) :\n",
        "\n",
        "        # if(df.iloc[high_risk_class[i],31]==1): \n",
        "        #     share_high+=3\n",
        "        l.append(df.iloc[med_risk_class[i],31])\n",
        "        \n",
        "from collections import Counter\n",
        "fem_med=Counter(l)[2]\n",
        "print(Counter(l)[3])\n",
        "print(Counter(l)[1])\n",
        "print(Counter(l)[2])"
      ]
    },
    {
      "cell_type": "code",
      "execution_count": null,
      "metadata": {
        "colab": {
          "base_uri": "https://localhost:8080/"
        },
        "id": "7gUf_MASn-gl",
        "outputId": "b730c07e-5e3b-4cae-f79b-d29299a14d16"
      },
      "outputs": [
        {
          "ename": "",
          "evalue": "",
          "output_type": "error",
          "traceback": [
            "\u001b[1;31mJupyter cannot be started. Error attempting to locate Jupyter: Running cells with 'Python 3.10.6 64-bit' requires notebook package.\n",
            "\u001b[1;31mRun the following command to install 'jupyter and notebook' into the Python environment. \n",
            "\u001b[1;31mCommand: 'python -m pip install jupyter notebook -U\n",
            "\u001b[1;31mor\n",
            "\u001b[1;31mconda install jupyter notebook -U'\n",
            "Click <a href='https://aka.ms/installJupyterForVSCode'>here</a> for more info."
          ]
        }
      ],
      "source": [
        "l=[]\n",
        "for i in range(len(low_risk_class)) :\n",
        "\n",
        "        # if(df.iloc[high_risk_class[i],31]==1): \n",
        "        #     share_high+=3\n",
        "        l.append(df.iloc[low_risk_class[i],31])\n",
        "from collections import Counter\n",
        "fem_low=Counter(l)[2]\n",
        "print(Counter(l)[3])\n",
        "print(Counter(l)[1])\n",
        "print(Counter(l)[2])"
      ]
    },
    {
      "cell_type": "code",
      "execution_count": null,
      "metadata": {
        "colab": {
          "base_uri": "https://localhost:8080/",
          "height": 330
        },
        "id": "S9zOwtdJo9lm",
        "outputId": "a550de00-e530-4841-8b19-e7e406cf4c3b"
      },
      "outputs": [
        {
          "ename": "",
          "evalue": "",
          "output_type": "error",
          "traceback": [
            "\u001b[1;31mJupyter cannot be started. Error attempting to locate Jupyter: Running cells with 'Python 3.10.6 64-bit' requires notebook package.\n",
            "\u001b[1;31mRun the following command to install 'jupyter and notebook' into the Python environment. \n",
            "\u001b[1;31mCommand: 'python -m pip install jupyter notebook -U\n",
            "\u001b[1;31mor\n",
            "\u001b[1;31mconda install jupyter notebook -U'\n",
            "Click <a href='https://aka.ms/installJupyterForVSCode'>here</a> for more info."
          ]
        }
      ],
      "source": [
        "import matplotlib.pyplot as plt\n",
        "\n",
        "# Data to plot\n",
        "labels = 'High Risk','Medium Risk','Low Risk'\n",
        "sizes = [fem_high, fem_med, fem_low]\n",
        "colors = ['red', 'yellow', 'green']\n",
        "#explode = (0.1, 0, 0)  # explode 1st slice\n",
        "\n",
        "# Plot\n",
        "plt.pie(sizes,  labels=labels, colors=colors,autopct='%1.1f%%', startangle=140)\n",
        "\n",
        "plt.axis('equal')\n",
        "#plt.title(\"Risk levels of people who don't share their mental illness with friends and family\")\n",
        "plt.savefig(\"female_risk.jpg\",bbox_inches='tight', dpi=150)\n",
        "plt.show()"
      ]
    },
    {
      "cell_type": "markdown",
      "metadata": {
        "id": "i469ub65r_VX"
      },
      "source": [
        "age vs risk"
      ]
    },
    {
      "cell_type": "code",
      "execution_count": null,
      "metadata": {
        "colab": {
          "base_uri": "https://localhost:8080/"
        },
        "id": "ww8X04u6sBH_",
        "outputId": "eb9bff69-d3f4-4931-ff65-fe5d000d003a"
      },
      "outputs": [
        {
          "ename": "",
          "evalue": "",
          "output_type": "error",
          "traceback": [
            "\u001b[1;31mJupyter cannot be started. Error attempting to locate Jupyter: Running cells with 'Python 3.10.6 64-bit' requires notebook package.\n",
            "\u001b[1;31mRun the following command to install 'jupyter and notebook' into the Python environment. \n",
            "\u001b[1;31mCommand: 'python -m pip install jupyter notebook -U\n",
            "\u001b[1;31mor\n",
            "\u001b[1;31mconda install jupyter notebook -U'\n",
            "Click <a href='https://aka.ms/installJupyterForVSCode'>here</a> for more info."
          ]
        }
      ],
      "source": [
        "# print(len(high_risk_class))\n",
        "# print(len(med_risk_class))\n",
        "# print(len(low_risk_class))\n",
        "l=[]\n",
        "for i in range(len(high_risk_class)) :\n",
        "\n",
        "        # if(df.iloc[high_risk_class[i],31]==1): \n",
        "        #     share_high+=3\n",
        "        l.append(df.iloc[high_risk_class[i],40])\n",
        "from collections import Counter\n",
        "print(min(l),max(l))\n",
        "avg_age_high=sum(l)/len(l)\n",
        "l=[]\n",
        "for i in range(len(med_risk_class)) :\n",
        "\n",
        "        # if(df.iloc[high_risk_class[i],31]==1): \n",
        "        #     share_high+=3\n",
        "        l.append(df.iloc[med_risk_class[i],40])\n",
        "print(min(l),max(l))\n",
        "avg_age_med=sum(l)/len(l)\n",
        "l=[]\n",
        "for i in range(len(low_risk_class)) :\n",
        "\n",
        "        # if(df.iloc[high_risk_class[i],31]==1): \n",
        "        #     share_high+=3\n",
        "        l.append(df.iloc[low_risk_class[i],40])\n",
        "print(min(l),max(l))\n",
        "avg_age_low=sum(l)/len(l)\n",
        "print(avg_age_high)\n",
        "print(avg_age_med)\n",
        "print(avg_age_low)\n"
      ]
    },
    {
      "cell_type": "code",
      "execution_count": null,
      "metadata": {
        "id": "q3uUhRhisBLp"
      },
      "outputs": [
        {
          "ename": "",
          "evalue": "",
          "output_type": "error",
          "traceback": [
            "\u001b[1;31mJupyter cannot be started. Error attempting to locate Jupyter: Running cells with 'Python 3.10.6 64-bit' requires notebook package.\n",
            "\u001b[1;31mRun the following command to install 'jupyter and notebook' into the Python environment. \n",
            "\u001b[1;31mCommand: 'python -m pip install jupyter notebook -U\n",
            "\u001b[1;31mor\n",
            "\u001b[1;31mconda install jupyter notebook -U'\n",
            "Click <a href='https://aka.ms/installJupyterForVSCode'>here</a> for more info."
          ]
        }
      ],
      "source": [
        "tot_age_18_25=0\n",
        "tot_age_26_45=0\n",
        "tot_age_46_65=0\n",
        "tot_age_66_75=0\n",
        "\n",
        "age_18_25_high=0\n",
        "age_18_25_med=0\n",
        "age_18_25_low=0\n",
        "\n",
        "age_26_45_high=0\n",
        "age_26_45_med=0\n",
        "age_26_45_low=0\n",
        "\n",
        "age_46_65_high=0\n",
        "age_46_65_med=0\n",
        "age_46_65_low=0\n",
        "\n",
        "age_66_75_high=0\n",
        "age_66_75_med=0\n",
        "age_66_75_low=0\n",
        "for i in range(len(high_risk_class)) :\n",
        "        if(df.iloc[high_risk_class[i],40]>=18 and df.iloc[high_risk_class[i],40]<=25): \n",
        "            tot_age_18_25+=1\n",
        "            age_18_25_high+=1\n",
        "        elif(df.iloc[high_risk_class[i],40]>=26 and df.iloc[high_risk_class[i],40]<=45):\n",
        "          tot_age_26_45+=1\n",
        "          age_26_45_high+=1\n",
        "        elif(df.iloc[high_risk_class[i],40]>=46 and df.iloc[high_risk_class[i],40]<=65):\n",
        "          tot_age_46_65+=1\n",
        "          age_46_65_high+=1\n",
        "        elif(df.iloc[high_risk_class[i],40]>=66 and df.iloc[high_risk_class[i],40]<=75):\n",
        "          tot_age_66_75+=1\n",
        "          age_66_75_high+=1\n",
        "for i in range(len(med_risk_class)) :\n",
        "        if(df.iloc[med_risk_class[i],40]>=18 and df.iloc[med_risk_class[i],40]<=25): \n",
        "            tot_age_18_25+=1\n",
        "            age_18_25_med+=1\n",
        "        elif(df.iloc[med_risk_class[i],40]>=26 and df.iloc[med_risk_class[i],40]<=45):\n",
        "          tot_age_26_45+=1\n",
        "          age_26_45_med+=1\n",
        "        elif(df.iloc[med_risk_class[i],40]>=46 and df.iloc[med_risk_class[i],40]<=65):\n",
        "          tot_age_46_65+=1\n",
        "          age_46_65_med+=1\n",
        "        elif(df.iloc[med_risk_class[i],40]>=66 and df.iloc[med_risk_class[i],40]<=75):\n",
        "          tot_age_66_75+=1\n",
        "          age_66_75_med+=1\n",
        "for i in range(len(low_risk_class)) :\n",
        "        if(df.iloc[low_risk_class[i],40]>=18 and df.iloc[low_risk_class[i],40]<=25): \n",
        "            tot_age_18_25+=1\n",
        "            age_18_25_low+=1\n",
        "        elif(df.iloc[low_risk_class[i],40]>=26 and df.iloc[low_risk_class[i],40]<=45):\n",
        "          tot_age_26_45+=1\n",
        "          age_26_45_low+=1\n",
        "        elif(df.iloc[low_risk_class[i],40]>=46 and df.iloc[low_risk_class[i],40]<=65):\n",
        "          tot_age_46_65+=1\n",
        "          age_46_65_low+=1\n",
        "        elif(df.iloc[low_risk_class[i],40]>=66 and df.iloc[low_risk_class[i],40]<=75):\n",
        "          tot_age_66_75+=1\n",
        "          age_66_75_low+=1\n"
      ]
    },
    {
      "cell_type": "code",
      "execution_count": null,
      "metadata": {
        "id": "SSkrF9zsf2jJ"
      },
      "outputs": [
        {
          "ename": "",
          "evalue": "",
          "output_type": "error",
          "traceback": [
            "\u001b[1;31mJupyter cannot be started. Error attempting to locate Jupyter: Running cells with 'Python 3.10.6 64-bit' requires notebook package.\n",
            "\u001b[1;31mRun the following command to install 'jupyter and notebook' into the Python environment. \n",
            "\u001b[1;31mCommand: 'python -m pip install jupyter notebook -U\n",
            "\u001b[1;31mor\n",
            "\u001b[1;31mconda install jupyter notebook -U'\n",
            "Click <a href='https://aka.ms/installJupyterForVSCode'>here</a> for more info."
          ]
        }
      ],
      "source": [
        "age_high = [age_18_25_high/tot_age_18_25,age_26_45_high/tot_age_26_45, age_46_65_high/tot_age_46_65, age_66_75_high/tot_age_66_75 ]\n",
        "age_med = [age_18_25_med/tot_age_18_25, age_26_45_med/tot_age_26_45, age_46_65_med/tot_age_46_65, age_66_75_med/tot_age_66_75 ]\n",
        "age_low = [age_18_25_low/tot_age_18_25, age_26_45_low/tot_age_26_45, age_46_65_low/tot_age_46_65, age_66_75_low/tot_age_66_75 ]"
      ]
    },
    {
      "cell_type": "code",
      "execution_count": null,
      "metadata": {
        "colab": {
          "base_uri": "https://localhost:8080/"
        },
        "id": "LsqsIHAZYNb9",
        "outputId": "8c09914d-4bc4-4823-951f-8601eec96c6b"
      },
      "outputs": [
        {
          "ename": "",
          "evalue": "",
          "output_type": "error",
          "traceback": [
            "\u001b[1;31mJupyter cannot be started. Error attempting to locate Jupyter: Running cells with 'Python 3.10.6 64-bit' requires notebook package.\n",
            "\u001b[1;31mRun the following command to install 'jupyter and notebook' into the Python environment. \n",
            "\u001b[1;31mCommand: 'python -m pip install jupyter notebook -U\n",
            "\u001b[1;31mor\n",
            "\u001b[1;31mconda install jupyter notebook -U'\n",
            "Click <a href='https://aka.ms/installJupyterForVSCode'>here</a> for more info."
          ]
        }
      ],
      "source": [
        "# print(age_18_25)\n",
        "# print(age_26_45)\n",
        "# print(age_46_65)\n",
        "# print(age_66_75)"
      ]
    },
    {
      "cell_type": "code",
      "execution_count": null,
      "metadata": {
        "id": "6y3iQmYhaB_Q"
      },
      "outputs": [
        {
          "ename": "",
          "evalue": "",
          "output_type": "error",
          "traceback": [
            "\u001b[1;31mJupyter cannot be started. Error attempting to locate Jupyter: Running cells with 'Python 3.10.6 64-bit' requires notebook package.\n",
            "\u001b[1;31mRun the following command to install 'jupyter and notebook' into the Python environment. \n",
            "\u001b[1;31mCommand: 'python -m pip install jupyter notebook -U\n",
            "\u001b[1;31mor\n",
            "\u001b[1;31mconda install jupyter notebook -U'\n",
            "Click <a href='https://aka.ms/installJupyterForVSCode'>here</a> for more info."
          ]
        }
      ],
      "source": [
        "y1=[round(i*100,2) for i in age_high]\n",
        "y2=[round(i*100,2) for i in age_med]\n",
        "y3=[round(i*100,2) for i in age_low]\n",
        "# y4=[round(i*100,2) for i in age_66_75]"
      ]
    },
    {
      "cell_type": "code",
      "execution_count": null,
      "metadata": {
        "colab": {
          "base_uri": "https://localhost:8080/",
          "height": 542
        },
        "id": "5iSs_7cPYLwD",
        "outputId": "d6dbbeb5-2880-4b06-f003-4c0e9388a29c"
      },
      "outputs": [
        {
          "ename": "",
          "evalue": "",
          "output_type": "error",
          "traceback": [
            "\u001b[1;31mJupyter cannot be started. Error attempting to locate Jupyter: Running cells with 'Python 3.10.6 64-bit' requires notebook package.\n",
            "\u001b[1;31mRun the following command to install 'jupyter and notebook' into the Python environment. \n",
            "\u001b[1;31mCommand: 'python -m pip install jupyter notebook -U\n",
            "\u001b[1;31mor\n",
            "\u001b[1;31mconda install jupyter notebook -U'\n",
            "Click <a href='https://aka.ms/installJupyterForVSCode'>here</a> for more info."
          ]
        }
      ],
      "source": [
        "import plotly.graph_objects as go\n",
        "x =['18-25', '26-45', '46-65', '66-75']\n",
        "fig = go.Figure()\n",
        "fig.add_trace(go.Bar(x=x, y=y1, name='High-Risk',text=[str(x)+\"%\" for x in y1], marker_color='red'))\n",
        "fig.add_trace(go.Bar(x=x, y=y2,name='Medium-Risk',text=[str(x)+\"%\"  for x in y2], marker_color='yellow'))\n",
        "fig.add_trace(go.Bar(x=x, y=y3,name='Low-Risk',text=[str(x)+\"%\"  for x in y3], marker_color='green'))\n",
        "fig.update_layout(barmode='stack',  xaxis_title='Age of Employees', yaxis_title='Fraction of employees<br>in different risk levels')\n",
        "#fig.savefig('rating_tech_supp.jpg')\n",
        "fig.show()"
      ]
    },
    {
      "cell_type": "markdown",
      "metadata": {
        "id": "PUa6bE5wEyJg"
      },
      "source": [
        "EFFECT OF REMOTE WORK ON RISK LEVELS"
      ]
    },
    {
      "cell_type": "code",
      "execution_count": null,
      "metadata": {
        "colab": {
          "base_uri": "https://localhost:8080/"
        },
        "id": "6ZuR2xAtMaMo",
        "outputId": "31481191-b8ab-4b13-ccfc-c9a197e6a8fc"
      },
      "outputs": [
        {
          "ename": "",
          "evalue": "",
          "output_type": "error",
          "traceback": [
            "\u001b[1;31mJupyter cannot be started. Error attempting to locate Jupyter: Running cells with 'Python 3.10.6 64-bit' requires notebook package.\n",
            "\u001b[1;31mRun the following command to install 'jupyter and notebook' into the Python environment. \n",
            "\u001b[1;31mCommand: 'python -m pip install jupyter notebook -U\n",
            "\u001b[1;31mor\n",
            "\u001b[1;31mconda install jupyter notebook -U'\n",
            "Click <a href='https://aka.ms/installJupyterForVSCode'>here</a> for more info."
          ]
        }
      ],
      "source": [
        "#If working remote affects their mental health col==46\n",
        "# remote = 2 ==> always\n",
        "# remote = 1 ==> sometimes\n",
        "# remote = 0 ==> never\n",
        "remote_high=0;\n",
        "not_remote_high=0\n",
        "sometime_high=0\n",
        "for i in range(len(high_risk_class)) :\n",
        "\n",
        "        if(df.iloc[high_risk_class[i],46]==2): \n",
        "            remote_high+=1\n",
        "        if(df.iloc[high_risk_class[i],46]==1): \n",
        "            remote_high+=1\n",
        "        if(df.iloc[high_risk_class[i],46]==0): \n",
        "            not_remote_high+=1\n",
        "        # if(df.iloc[high_risk_class[i],46]==1): \n",
        "        #     not_remote_high+=1\n",
        "        \n",
        "        #if(df.iloc[high_risk_class[i],46]==1):\n",
        "         #   remote_high+=0.5\n",
        "        \n",
        "#For medium risk\n",
        "remote_med=0;\n",
        "not_remote_med=0;\n",
        "sometime_med=0\n",
        "for i in range(len(med_risk_class)) :\n",
        "\n",
        "        if(df.iloc[med_risk_class[i],46]==2):\n",
        "            remote_med+=1\n",
        "        if(df.iloc[med_risk_class[i],46]==1):\n",
        "            remote_med+=1\n",
        "        if(df.iloc[med_risk_class[i],46]==0): \n",
        "            not_remote_med+=1\n",
        "        # if(df.iloc[med_risk_class[i],46]==1): \n",
        "        #     not_remote_med+=1\n",
        "        #if(df.iloc[med_risk_class[i],46]==1):\n",
        "         #   remote_med+=0.5\n",
        "#For low risk\n",
        "remote_low=0;\n",
        "not_remote_low=0;\n",
        "sometime_low=0\n",
        "for i in range(len(low_risk_class)) :\n",
        "\n",
        "        if(df.iloc[low_risk_class[i],46]==2):\n",
        "            remote_low+=1\n",
        "        if(df.iloc[low_risk_class[i],46]==1):\n",
        "            remote_low+=1\n",
        "        if(df.iloc[low_risk_class[i],46]==0): \n",
        "            not_remote_low+=1\n",
        "        # if(df.iloc[low_risk_class[i],46]==1):\n",
        "        #     not_remote_low+=1\n",
        "        #if(df.iloc[low_risk_class[i],46]==1):\n",
        "         #   remote_low+=0.5\n",
        "            \n",
        "print(\"REMOTE\")\n",
        "print(remote_high)\n",
        "print(remote_med)\n",
        "print(remote_low)\n",
        "print(\"NOT REMOTE\")\n",
        "print(not_remote_high)\n",
        "print(not_remote_med)\n",
        "print(not_remote_low)\n",
        "# print(\"Sometime\")\n",
        "# print(sometime_high)\n",
        "# print(sometime_med)\n",
        "# print(sometime_low)"
      ]
    },
    {
      "cell_type": "code",
      "execution_count": null,
      "metadata": {
        "colab": {
          "base_uri": "https://localhost:8080/",
          "height": 542
        },
        "id": "1f4jn6qTxZuv",
        "outputId": "2652784f-7fe1-412b-fffb-dbb8d0934dc4"
      },
      "outputs": [
        {
          "ename": "",
          "evalue": "",
          "output_type": "error",
          "traceback": [
            "\u001b[1;31mJupyter cannot be started. Error attempting to locate Jupyter: Running cells with 'Python 3.10.6 64-bit' requires notebook package.\n",
            "\u001b[1;31mRun the following command to install 'jupyter and notebook' into the Python environment. \n",
            "\u001b[1;31mCommand: 'python -m pip install jupyter notebook -U\n",
            "\u001b[1;31mor\n",
            "\u001b[1;31mconda install jupyter notebook -U'\n",
            "Click <a href='https://aka.ms/installJupyterForVSCode'>here</a> for more info."
          ]
        }
      ],
      "source": [
        "import plotly.graph_objects as go\n",
        "risks= ['High Risk', 'Medium Risk', 'Low Risk']\n",
        "level=[remote_high, remote_med, remote_low]\n",
        "fig = go.Figure(data=[go.Bar(name='Discussion with employer', x=risks, y=level,text=[str(x) for x in level])])\n",
        "# Change the bar mode\n",
        "\n",
        "fig.update_layout(xaxis_title='Risk-levels', yaxis_title='Number of employees working remotely')\n",
        "fig.show()"
      ]
    },
    {
      "cell_type": "code",
      "execution_count": null,
      "metadata": {
        "colab": {
          "base_uri": "https://localhost:8080/"
        },
        "id": "HTSGlUkTuV-6",
        "outputId": "4090a1fb-4ace-485b-d58a-0c4cb2c703ec"
      },
      "outputs": [
        {
          "ename": "",
          "evalue": "",
          "output_type": "error",
          "traceback": [
            "\u001b[1;31mJupyter cannot be started. Error attempting to locate Jupyter: Running cells with 'Python 3.10.6 64-bit' requires notebook package.\n",
            "\u001b[1;31mRun the following command to install 'jupyter and notebook' into the Python environment. \n",
            "\u001b[1;31mCommand: 'python -m pip install jupyter notebook -U\n",
            "\u001b[1;31mor\n",
            "\u001b[1;31mconda install jupyter notebook -U'\n",
            "Click <a href='https://aka.ms/installJupyterForVSCode'>here</a> for more info."
          ]
        }
      ],
      "source": [
        "high_risk_work_pat=[remote_high/tot_high_risk,not_remote_high/tot_high_risk,sometime_high/tot_high_risk]\n",
        "print(high_risk_work_pat)\n",
        "med_risk_work_pat=[remote_med/tot_med_risk,not_remote_med/tot_med_risk,sometime_med/tot_med_risk]\n",
        "print(med_risk_work_pat)\n",
        "low_risk_work_pat=[remote_low/tot_low_risk,not_remote_low/tot_low_risk,sometime_low/tot_low_risk]\n",
        "print(low_risk_work_pat)"
      ]
    },
    {
      "cell_type": "code",
      "execution_count": null,
      "metadata": {
        "colab": {
          "base_uri": "https://localhost:8080/"
        },
        "id": "UAYB0AFzv8NO",
        "outputId": "48559b78-3b69-46cc-e116-9e1903648e22"
      },
      "outputs": [
        {
          "ename": "",
          "evalue": "",
          "output_type": "error",
          "traceback": [
            "\u001b[1;31mJupyter cannot be started. Error attempting to locate Jupyter: Running cells with 'Python 3.10.6 64-bit' requires notebook package.\n",
            "\u001b[1;31mRun the following command to install 'jupyter and notebook' into the Python environment. \n",
            "\u001b[1;31mCommand: 'python -m pip install jupyter notebook -U\n",
            "\u001b[1;31mor\n",
            "\u001b[1;31mconda install jupyter notebook -U'\n",
            "Click <a href='https://aka.ms/installJupyterForVSCode'>here</a> for more info."
          ]
        }
      ],
      "source": [
        "high_risk_work_pat=[remote_high/tot_high_risk,not_remote_high/tot_high_risk]\n",
        "print(high_risk_work_pat)\n",
        "med_risk_work_pat=[remote_med/tot_med_risk,not_remote_med/tot_med_risk]\n",
        "print(med_risk_work_pat)\n",
        "low_risk_work_pat=[remote_low/tot_low_risk,not_remote_low/tot_low_risk]\n",
        "print(low_risk_work_pat)"
      ]
    },
    {
      "cell_type": "code",
      "execution_count": null,
      "metadata": {
        "colab": {
          "base_uri": "https://localhost:8080/",
          "height": 643
        },
        "id": "HCu9U8_LMaPO",
        "outputId": "9feccd6c-ce92-49b0-bf33-9de1346b29eb"
      },
      "outputs": [
        {
          "ename": "",
          "evalue": "",
          "output_type": "error",
          "traceback": [
            "\u001b[1;31mJupyter cannot be started. Error attempting to locate Jupyter: Running cells with 'Python 3.10.6 64-bit' requires notebook package.\n",
            "\u001b[1;31mRun the following command to install 'jupyter and notebook' into the Python environment. \n",
            "\u001b[1;31mCommand: 'python -m pip install jupyter notebook -U\n",
            "\u001b[1;31mor\n",
            "\u001b[1;31mconda install jupyter notebook -U'\n",
            "Click <a href='https://aka.ms/installJupyterForVSCode'>here</a> for more info."
          ]
        }
      ],
      "source": [
        "#Risk levels for remote and non-remote workers\n",
        "import matplotlib.pyplot as plt\n",
        "\n",
        "# Data to plot\n",
        "labels = 'High Risk','Medium Risk','Low Risk'\n",
        "sizes = [remote_high, remote_med, remote_low]\n",
        "colors = ['red', 'yellow', 'green']\n",
        "explode = (0.1, 0, 0)  # explode 1st slice\n",
        "\n",
        "# Plot\n",
        "plt.pie(sizes, explode=explode, labels=labels, colors=colors,autopct='%1.1f%%', shadow=True, startangle=140)\n",
        "\n",
        "plt.axis('equal')\n",
        "#plt.title('Risk levels for Remote workers')\n",
        "plt.savefig(\"remote_risk.png\")\n",
        "plt.show()\n",
        "\n",
        "sizes = [not_remote_high, not_remote_med, not_remote_low]\n",
        "colors = ['red', 'yellow', 'green']\n",
        "explode = (0.1, 0, 0)  # explode 1st slice\n",
        "\n",
        "# Plot\n",
        "plt.pie(sizes, explode=explode, labels=labels, colors=colors,autopct='%1.1f%%', shadow=True, startangle=140)\n",
        "\n",
        "plt.axis('equal')\n",
        "#plt.title('Risk levels for Non-Remote workers')\n",
        "plt.savefig(\"non_remote_risk.png\")\n",
        "plt.show()"
      ]
    },
    {
      "cell_type": "markdown",
      "metadata": {
        "id": "zt9-5H0ZSlCe"
      },
      "source": [
        "EFFECT OF NEGATIVE REACTION TO MENTAL ILLNESS (IN WORKPLACE) ON RISK LEVELS"
      ]
    },
    {
      "cell_type": "code",
      "execution_count": null,
      "metadata": {
        "colab": {
          "base_uri": "https://localhost:8080/"
        },
        "id": "R1MhCdcDMaSz",
        "outputId": "65b4c282-ddf6-44bc-a1b2-c5f1f42caa06"
      },
      "outputs": [
        {
          "ename": "",
          "evalue": "",
          "output_type": "error",
          "traceback": [
            "\u001b[1;31mJupyter cannot be started. Error attempting to locate Jupyter: Running cells with 'Python 3.10.6 64-bit' requires notebook package.\n",
            "\u001b[1;31mRun the following command to install 'jupyter and notebook' into the Python environment. \n",
            "\u001b[1;31mCommand: 'python -m pip install jupyter notebook -U\n",
            "\u001b[1;31mor\n",
            "\u001b[1;31mconda install jupyter notebook -U'\n",
            "Click <a href='https://aka.ms/installJupyterForVSCode'>here</a> for more info."
          ]
        }
      ],
      "source": [
        "# Seeing as non-remote workers run such a high risk, we decided to examine the attitudes of their work culture\n",
        "# taking into consideration:  \n",
        "# 1) negative consequences for co-workers who have been open about mental health issues in workplace \n",
        "# 2) unsupportive or badly handled response to a mental health issue in their current or previous workplace\n",
        "# 3) negative consequences for co-workers with mental health issues in previous workplaces\n",
        "# 4) fear of negative consequences on discussing a mental health disorder with employer\n",
        "#col_nos= 14, 30, 32\n",
        "response_risk_high=0\n",
        "for i in range(len(high_risk_class)) :\n",
        "\n",
        "        if(df.iloc[high_risk_class[i],14]==0): \n",
        "            response_risk_high+=5\n",
        "        # if(df.iloc[high_risk_class[i],21]==0):\n",
        "        #     response_risk_high+=1\n",
        "        if(df.iloc[high_risk_class[i],9]==0):\n",
        "            response_risk_high+=2\n",
        "        if(df.iloc[high_risk_class[i],32]==2):\n",
        "            response_risk_high+=7\n",
        "        # if(df.iloc[high_risk_class[i],32]==1):\n",
        "        #     response_risk_high+=1\n",
        "        if(df.iloc[high_risk_class[i],26]==3):\n",
        "            response_risk_high+=3\n",
        "        \n",
        "        \n",
        "#For medium risk\n",
        "response_risk_med=0\n",
        "for i in range(len(med_risk_class)) :\n",
        "\n",
        "        if(df.iloc[med_risk_class[i],14]==0): \n",
        "            response_risk_med+=5\n",
        "        # if(df.iloc[med_risk_class[i],21]==0):\n",
        "        #     response_risk_med+=1\n",
        "        if(df.iloc[med_risk_class[i],9]==0):\n",
        "            response_risk_med+=2\n",
        "        if(df.iloc[med_risk_class[i],32]==2):\n",
        "            response_risk_med+=7\n",
        "        # if(df.iloc[med_risk_class[i],32]==1):\n",
        "        #     response_risk_med+=1\n",
        "        if(df.iloc[med_risk_class[i],26]==3):\n",
        "            response_risk_med+=3\n",
        "       \n",
        "#For low risk\n",
        "response_risk_low=0\n",
        "for i in range(len(low_risk_class)) :\n",
        "\n",
        "        if(df.iloc[low_risk_class[i],14]==0): \n",
        "            response_risk_low+=5\n",
        "        # if(df.iloc[low_risk_class[i],21]==0):\n",
        "        #     response_risk_low+=1\n",
        "        if(df.iloc[low_risk_class[i],9]==0):\n",
        "            response_risk_low+=2\n",
        "        if(df.iloc[low_risk_class[i],32]==2):\n",
        "            response_risk_low+=7\n",
        "        # if(df.iloc[low_risk_class[i],32]==1):\n",
        "        #     response_risk_low+=1\n",
        "        if(df.iloc[low_risk_class[i],26]==3):\n",
        "            response_risk_low+=3\n",
        "       \n",
        "            \n",
        "\n",
        "print(response_risk_high)\n",
        "print(response_risk_med)\n",
        "print(response_risk_low)"
      ]
    },
    {
      "cell_type": "code",
      "execution_count": null,
      "metadata": {
        "colab": {
          "base_uri": "https://localhost:8080/",
          "height": 345
        },
        "id": "6tN1A3r_Sy_6",
        "outputId": "c6b73c0a-cedd-4682-bee7-652c5d3b05b4"
      },
      "outputs": [
        {
          "ename": "",
          "evalue": "",
          "output_type": "error",
          "traceback": [
            "\u001b[1;31mJupyter cannot be started. Error attempting to locate Jupyter: Running cells with 'Python 3.10.6 64-bit' requires notebook package.\n",
            "\u001b[1;31mRun the following command to install 'jupyter and notebook' into the Python environment. \n",
            "\u001b[1;31mCommand: 'python -m pip install jupyter notebook -U\n",
            "\u001b[1;31mor\n",
            "\u001b[1;31mconda install jupyter notebook -U'\n",
            "Click <a href='https://aka.ms/installJupyterForVSCode'>here</a> for more info."
          ]
        }
      ],
      "source": [
        "import matplotlib.pyplot as plt\n",
        "\n",
        "# Data to plot\n",
        "labels = 'High Risk','Medium Risk','Low Risk'\n",
        "sizes = [response_risk_high, response_risk_med, response_risk_low]\n",
        "colors = ['red', 'yellow', 'green']\n",
        "explode = (0.1, 0, 0)  # explode 1st slice\n",
        "\n",
        "# Plot\n",
        "plt.pie(sizes, explode=explode, labels=labels, colors=colors,autopct='%1.1f%%', shadow=True, startangle=140)\n",
        "\n",
        "plt.axis('equal')\n",
        "plt.title('Impact of negative reactions to mental health issues (in workplace) on risk levels')\n",
        "plt.savefig(\"neg_reac_risk.png\")\n",
        "plt.show()"
      ]
    },
    {
      "cell_type": "code",
      "execution_count": null,
      "metadata": {
        "colab": {
          "base_uri": "https://localhost:8080/"
        },
        "id": "GBflMeyWYPq1",
        "outputId": "afc95259-ec2b-43c6-c1f0-ba435f55f8a1"
      },
      "outputs": [
        {
          "ename": "",
          "evalue": "",
          "output_type": "error",
          "traceback": [
            "\u001b[1;31mJupyter cannot be started. Error attempting to locate Jupyter: Running cells with 'Python 3.10.6 64-bit' requires notebook package.\n",
            "\u001b[1;31mRun the following command to install 'jupyter and notebook' into the Python environment. \n",
            "\u001b[1;31mCommand: 'python -m pip install jupyter notebook -U\n",
            "\u001b[1;31mor\n",
            "\u001b[1;31mconda install jupyter notebook -U'\n",
            "Click <a href='https://aka.ms/installJupyterForVSCode'>here</a> for more info."
          ]
        }
      ],
      "source": [
        "print(df.columns[32])\n",
        "#Have you observed or experienced an unsupportive or badly handled response to a mental health issue in your current or previous workplace?\n",
        "print(df.columns[14])\n",
        "#Have you heard of or observed negative consequences for co-workers who have been open about mental health issues in your workplace?\n",
        "print(df.columns[26])\n",
        "#Did you hear of or observe negative consequences for co-workers with mental health issues in your previous workplaces?\n",
        "print(df.columns[9])\n",
        "#Do you think that discussing a mental health disorder with your employer would have negative consequences?"
      ]
    },
    {
      "cell_type": "markdown",
      "metadata": {
        "id": "RLO25kaq3x7p"
      },
      "source": [
        "RISK LEVELS OF PEOPLE WHO HAVE SOUGHT TREATMENT FOR THEIR DIAGNOSED MENTAL HEALTH ISSUE"
      ]
    },
    {
      "cell_type": "code",
      "execution_count": null,
      "metadata": {
        "colab": {
          "base_uri": "https://localhost:8080/"
        },
        "id": "dSZSF2IY38Ql",
        "outputId": "751e3b31-ef57-4ce4-830f-67036e2d671e"
      },
      "outputs": [
        {
          "ename": "",
          "evalue": "",
          "output_type": "error",
          "traceback": [
            "\u001b[1;31mJupyter cannot be started. Error attempting to locate Jupyter: Running cells with 'Python 3.10.6 64-bit' requires notebook package.\n",
            "\u001b[1;31mRun the following command to install 'jupyter and notebook' into the Python environment. \n",
            "\u001b[1;31mCommand: 'python -m pip install jupyter notebook -U\n",
            "\u001b[1;31mor\n",
            "\u001b[1;31mconda install jupyter notebook -U'\n",
            "Click <a href='https://aka.ms/installJupyterForVSCode'>here</a> for more info."
          ]
        }
      ],
      "source": [
        "#RISK LEVELS OF PEOPLE WHO HAVE SOUGHT TREATMENT FOR THEIR DIAGNOSED MENTAL HEALTH ISSUE (col=36, 37)\n",
        "# share_w_friends_fam = 2 ==> somewhat not open\n",
        "# share_w_friends_fam = 1 ==> not open at all\n",
        "treat_high=0;\n",
        "not_treat_high=0\n",
        "for i in range(len(high_risk_class)) :\n",
        "\n",
        "        if(df.iloc[high_risk_class[i],36]==1 and df.iloc[high_risk_class[i],37]==1): \n",
        "            treat_high+=1\n",
        "        if(df.iloc[high_risk_class[i],36]==1 and df.iloc[high_risk_class[i],37]==0):\n",
        "            share_high+=1\n",
        "        \n",
        "#For medium risk\n",
        "treat_med=0;\n",
        "not_treat_med=0;\n",
        "for i in range(len(med_risk_class)) :\n",
        "\n",
        "        if(df.iloc[med_risk_class[i],36]==1 and df.iloc[med_risk_class[i],37]==1):\n",
        "            treat_med+=1\n",
        "        if(df.iloc[med_risk_class[i],36]==1 and df.iloc[med_risk_class[i],37]==0):\n",
        "            not_treat_med+=1\n",
        "#For low risk\n",
        "treat_low=0;\n",
        "not_treat_low=0;\n",
        "for i in range(len(low_risk_class)) :\n",
        "\n",
        "        if(df.iloc[low_risk_class[i],36]==1 and df.iloc[low_risk_class[i],37]==1):\n",
        "            treat_low+=1\n",
        "        if(df.iloc[low_risk_class[i],36]==1 and df.iloc[low_risk_class[i],37]==0):\n",
        "            not_treat_low+=1\n",
        "            \n",
        "print(\"DIAGNOSED AND TREATED\")\n",
        "print(treat_high)\n",
        "print(treat_med)\n",
        "print(treat_low)\n",
        "print(\"DIAGNOSED AND NOT TREATED\")\n",
        "print(not_treat_high)\n",
        "print(not_treat_med)\n",
        "print(not_treat_low)"
      ]
    },
    {
      "cell_type": "code",
      "execution_count": null,
      "metadata": {
        "colab": {
          "base_uri": "https://localhost:8080/"
        },
        "id": "LbI8kpWE4JIc",
        "outputId": "3801ae63-036e-4d26-ca06-29328ff71ee4"
      },
      "outputs": [
        {
          "ename": "",
          "evalue": "",
          "output_type": "error",
          "traceback": [
            "\u001b[1;31mJupyter cannot be started. Error attempting to locate Jupyter: Running cells with 'Python 3.10.6 64-bit' requires notebook package.\n",
            "\u001b[1;31mRun the following command to install 'jupyter and notebook' into the Python environment. \n",
            "\u001b[1;31mCommand: 'python -m pip install jupyter notebook -U\n",
            "\u001b[1;31mor\n",
            "\u001b[1;31mconda install jupyter notebook -U'\n",
            "Click <a href='https://aka.ms/installJupyterForVSCode'>here</a> for more info."
          ]
        }
      ],
      "source": [
        "print(df.columns[36])\n",
        "print(df.columns[37])"
      ]
    },
    {
      "cell_type": "code",
      "execution_count": null,
      "metadata": {
        "colab": {
          "base_uri": "https://localhost:8080/",
          "height": 459
        },
        "id": "sbUMhnHQ4MEY",
        "outputId": "cf32f30f-e9a4-451e-fdbc-745c65bf3313"
      },
      "outputs": [
        {
          "ename": "",
          "evalue": "",
          "output_type": "error",
          "traceback": [
            "\u001b[1;31mJupyter cannot be started. Error attempting to locate Jupyter: Running cells with 'Python 3.10.6 64-bit' requires notebook package.\n",
            "\u001b[1;31mRun the following command to install 'jupyter and notebook' into the Python environment. \n",
            "\u001b[1;31mCommand: 'python -m pip install jupyter notebook -U\n",
            "\u001b[1;31mor\n",
            "\u001b[1;31mconda install jupyter notebook -U'\n",
            "Click <a href='https://aka.ms/installJupyterForVSCode'>here</a> for more info."
          ]
        }
      ],
      "source": [
        "#plotting RISK LEVELS OF PEOPLE WHO HAVE SOUGHT TREATMENT FOR THEIR DIAGNOSED MENTAL HEALTH ISSUE \n",
        "import matplotlib.pyplot as plt\n",
        "fig = plt.figure()\n",
        "ax = fig.add_axes([0,0,1,1])\n",
        "risks= ['High Risk', 'Medium Risk', 'Low Risk']\n",
        "level=[treat_high, treat_med, treat_low]\n",
        "ax.bar(risks,level)\n",
        "plt.title('RISK LEVELS OF PEOPLE WHO HAVE SOUGHT TREATMENT FOR THEIR DIAGNOSED MENTAL HEALTH ISSUE')\n",
        "plt.savefig(\"diag_treat_risk.jpg\",bbox_inches='tight', dpi=150)\n",
        "plt.show()"
      ]
    },
    {
      "cell_type": "markdown",
      "metadata": {
        "id": "i4B1Sbg6TsrC"
      },
      "source": [
        "***PRE AND POST COVID ***"
      ]
    },
    {
      "cell_type": "markdown",
      "metadata": {
        "id": "mJ1TPGx6T2GZ"
      },
      "source": [
        "1. Support provided by tech industry on a scale of (1-5)"
      ]
    },
    {
      "cell_type": "code",
      "execution_count": null,
      "metadata": {
        "id": "e0bq754b7OwO"
      },
      "outputs": [
        {
          "ename": "",
          "evalue": "",
          "output_type": "error",
          "traceback": [
            "\u001b[1;31mJupyter cannot be started. Error attempting to locate Jupyter: Running cells with 'Python 3.10.6 64-bit' requires notebook package.\n",
            "\u001b[1;31mRun the following command to install 'jupyter and notebook' into the Python environment. \n",
            "\u001b[1;31mCommand: 'python -m pip install jupyter notebook -U\n",
            "\u001b[1;31mor\n",
            "\u001b[1;31mconda install jupyter notebook -U'\n",
            "Click <a href='https://aka.ms/installJupyterForVSCode'>here</a> for more info."
          ]
        }
      ],
      "source": [
        "tech_sup17=df17['Overall, how well do you think the tech industry supports employees with mental health issues?']\n",
        "tech_sup18=df18['Overall, how well do you think the tech industry supports employees with mental health issues?']\n",
        "tech_sup19=df19['Overall, how well do you think the tech industry supports employees with mental health issues?']\n",
        "tech_sup20=df20['Overall, how well do you think the tech industry supports employees with mental health issues?']\n",
        "tech_sup21=df21['Overall, how well do you think the tech industry supports employees with mental health issues?']\n",
        "          "
      ]
    },
    {
      "cell_type": "code",
      "execution_count": null,
      "metadata": {
        "colab": {
          "base_uri": "https://localhost:8080/"
        },
        "id": "LrR1l0qPP5zf",
        "outputId": "cd22a324-d3f8-4833-9ac3-713471dae63f"
      },
      "outputs": [
        {
          "ename": "",
          "evalue": "",
          "output_type": "error",
          "traceback": [
            "\u001b[1;31mJupyter cannot be started. Error attempting to locate Jupyter: Running cells with 'Python 3.10.6 64-bit' requires notebook package.\n",
            "\u001b[1;31mRun the following command to install 'jupyter and notebook' into the Python environment. \n",
            "\u001b[1;31mCommand: 'python -m pip install jupyter notebook -U\n",
            "\u001b[1;31mor\n",
            "\u001b[1;31mconda install jupyter notebook -U'\n",
            "Click <a href='https://aka.ms/installJupyterForVSCode'>here</a> for more info."
          ]
        }
      ],
      "source": [
        "aavg17= np.nanmean(np.array(tech_sup17))\n",
        "aavg18= np.nanmean(np.array(tech_sup18))\n",
        "aavg19= np.nanmean(np.array(tech_sup19))\n",
        "aavg20=np.nanmean(np.array(tech_sup20))\n",
        "aavg21= np.nanmean(np.array(tech_sup21))\n",
        "print(aavg17)\n",
        "print(aavg18)\n",
        "print(aavg19)\n",
        "print(aavg20)\n",
        "print(aavg21)"
      ]
    },
    {
      "cell_type": "code",
      "execution_count": null,
      "metadata": {
        "id": "xdm5ATmNUmkY"
      },
      "outputs": [
        {
          "ename": "",
          "evalue": "",
          "output_type": "error",
          "traceback": [
            "\u001b[1;31mJupyter cannot be started. Error attempting to locate Jupyter: Running cells with 'Python 3.10.6 64-bit' requires notebook package.\n",
            "\u001b[1;31mRun the following command to install 'jupyter and notebook' into the Python environment. \n",
            "\u001b[1;31mCommand: 'python -m pip install jupyter notebook -U\n",
            "\u001b[1;31mor\n",
            "\u001b[1;31mconda install jupyter notebook -U'\n",
            "Click <a href='https://aka.ms/installJupyterForVSCode'>here</a> for more info."
          ]
        }
      ],
      "source": [
        "cnt17=[0 for i in range(5)]\n",
        "cnt18=[0 for i in range(5)]\n",
        "cnt19=[0 for i in range(5)]\n",
        "cnt20=[0 for i in range(5)]\n",
        "cnt21=[0 for i in range(5)]"
      ]
    },
    {
      "cell_type": "code",
      "execution_count": null,
      "metadata": {
        "id": "-m2V9ttVUo7l"
      },
      "outputs": [
        {
          "ename": "",
          "evalue": "",
          "output_type": "error",
          "traceback": [
            "\u001b[1;31mJupyter cannot be started. Error attempting to locate Jupyter: Running cells with 'Python 3.10.6 64-bit' requires notebook package.\n",
            "\u001b[1;31mRun the following command to install 'jupyter and notebook' into the Python environment. \n",
            "\u001b[1;31mCommand: 'python -m pip install jupyter notebook -U\n",
            "\u001b[1;31mor\n",
            "\u001b[1;31mconda install jupyter notebook -U'\n",
            "Click <a href='https://aka.ms/installJupyterForVSCode'>here</a> for more info."
          ]
        }
      ],
      "source": [
        "for t in tech_sup17:\n",
        "  if(t==1):\n",
        "    cnt17[0] = cnt17[0] + 1\n",
        "  elif(t==2):\n",
        "    cnt17[1]=cnt17[1]+1\n",
        "  elif(t==3):\n",
        "    cnt17[2]=cnt17[2]+1\n",
        "  elif(t==4):\n",
        "    cnt17[3]=cnt17[3]+1\n",
        "  elif(t==5):\n",
        "    cnt17[4]=cnt17[4]+1 \n",
        "for t in tech_sup18:\n",
        "  if(t==1):\n",
        "    cnt18[0] = cnt18[0] + 1\n",
        "  elif(t==2):\n",
        "    cnt18[1]=cnt18[1]+1\n",
        "  elif(t==3):\n",
        "    cnt18[2]=cnt18[2]+1\n",
        "  elif(t==4):\n",
        "    cnt18[3]=cnt18[3]+1\n",
        "  elif(t==5):\n",
        "    cnt18[4]=cnt18[4]+1 \n",
        "for t in tech_sup19:\n",
        "  if(t==1):\n",
        "    cnt19[0] = cnt19[0] + 1\n",
        "  elif(t==2):\n",
        "    cnt19[1]=cnt19[1]+1\n",
        "  elif(t==3):\n",
        "    cnt19[2]=cnt19[2]+1\n",
        "  elif(t==4):\n",
        "    cnt19[3]=cnt19[3]+1\n",
        "  elif(t==5):\n",
        "    cnt19[4]=cnt19[4]+1 \n",
        "for t in tech_sup20:\n",
        "  if(t==1):\n",
        "    cnt20[0] = cnt20[0] + 1\n",
        "  elif(t==2):\n",
        "    cnt20[1]=cnt20[1]+1\n",
        "  elif(t==3):\n",
        "    cnt20[2]=cnt20[2]+1\n",
        "  elif(t==4):\n",
        "    cnt20[3]=cnt20[3]+1\n",
        "  elif(t==5):\n",
        "    cnt20[4]=cnt20[4]+1 \n",
        "for t in tech_sup21:\n",
        "  if(t==1):\n",
        "    cnt21[0] = cnt21[0] + 1\n",
        "  elif(t==2):\n",
        "    cnt21[1]=cnt21[1]+1\n",
        "  elif(t==3):\n",
        "    cnt21[2]=cnt21[2]+1\n",
        "  elif(t==4):\n",
        "    cnt21[3]=cnt21[3]+1\n",
        "  elif(t==5):\n",
        "    cnt21[4]=cnt21[4]+1 "
      ]
    },
    {
      "cell_type": "code",
      "execution_count": null,
      "metadata": {
        "colab": {
          "base_uri": "https://localhost:8080/"
        },
        "id": "6Ci7BiHqcKui",
        "outputId": "1ddf33d7-84c2-412e-9648-690915217a69"
      },
      "outputs": [
        {
          "ename": "",
          "evalue": "",
          "output_type": "error",
          "traceback": [
            "\u001b[1;31mJupyter cannot be started. Error attempting to locate Jupyter: Running cells with 'Python 3.10.6 64-bit' requires notebook package.\n",
            "\u001b[1;31mRun the following command to install 'jupyter and notebook' into the Python environment. \n",
            "\u001b[1;31mCommand: 'python -m pip install jupyter notebook -U\n",
            "\u001b[1;31mor\n",
            "\u001b[1;31mconda install jupyter notebook -U'\n",
            "Click <a href='https://aka.ms/installJupyterForVSCode'>here</a> for more info."
          ]
        }
      ],
      "source": [
        "print(cnt17)\n",
        "print(cnt18)\n",
        "print(cnt19)\n",
        "print(cnt20)\n",
        "print(cnt21)"
      ]
    },
    {
      "cell_type": "code",
      "execution_count": null,
      "metadata": {
        "id": "9f5m2kzGVk5s"
      },
      "outputs": [
        {
          "ename": "",
          "evalue": "",
          "output_type": "error",
          "traceback": [
            "\u001b[1;31mJupyter cannot be started. Error attempting to locate Jupyter: Running cells with 'Python 3.10.6 64-bit' requires notebook package.\n",
            "\u001b[1;31mRun the following command to install 'jupyter and notebook' into the Python environment. \n",
            "\u001b[1;31mCommand: 'python -m pip install jupyter notebook -U\n",
            "\u001b[1;31mor\n",
            "\u001b[1;31mconda install jupyter notebook -U'\n",
            "Click <a href='https://aka.ms/installJupyterForVSCode'>here</a> for more info."
          ]
        }
      ],
      "source": [
        "sum17=sum(cnt17)\n",
        "sum18=sum(cnt18)\n",
        "sum19=sum(cnt19)\n",
        "sum20=sum(cnt20)\n",
        "sum21=sum(cnt21)\n",
        "for i in range(5):\n",
        "  cnt17[i]=round((cnt17[i]/sum17)*100,1)\n",
        "  cnt18[i]=round((cnt18[i]/sum18)*100,1)\n",
        "  cnt19[i]=round((cnt19[i]/sum19)*100,1)\n",
        "  cnt20[i]=round((cnt20[i]/sum20)*100,1)\n",
        "  cnt21[i]=round((cnt21[i]/sum21)*100,1)"
      ]
    },
    {
      "cell_type": "code",
      "execution_count": null,
      "metadata": {
        "colab": {
          "base_uri": "https://localhost:8080/"
        },
        "id": "c9QUgEhxcTWt",
        "outputId": "6e4e8db6-99ca-47af-827e-18d703f32331"
      },
      "outputs": [
        {
          "ename": "",
          "evalue": "",
          "output_type": "error",
          "traceback": [
            "\u001b[1;31mJupyter cannot be started. Error attempting to locate Jupyter: Running cells with 'Python 3.10.6 64-bit' requires notebook package.\n",
            "\u001b[1;31mRun the following command to install 'jupyter and notebook' into the Python environment. \n",
            "\u001b[1;31mCommand: 'python -m pip install jupyter notebook -U\n",
            "\u001b[1;31mor\n",
            "\u001b[1;31mconda install jupyter notebook -U'\n",
            "Click <a href='https://aka.ms/installJupyterForVSCode'>here</a> for more info."
          ]
        }
      ],
      "source": [
        "print(cnt17)\n",
        "print(cnt18)\n",
        "print(cnt19)\n",
        "print(cnt20)\n",
        "print(cnt21)"
      ]
    },
    {
      "cell_type": "code",
      "execution_count": null,
      "metadata": {
        "id": "1RLlo44rbwNu"
      },
      "outputs": [
        {
          "ename": "",
          "evalue": "",
          "output_type": "error",
          "traceback": [
            "\u001b[1;31mJupyter cannot be started. Error attempting to locate Jupyter: Running cells with 'Python 3.10.6 64-bit' requires notebook package.\n",
            "\u001b[1;31mRun the following command to install 'jupyter and notebook' into the Python environment. \n",
            "\u001b[1;31mCommand: 'python -m pip install jupyter notebook -U\n",
            "\u001b[1;31mor\n",
            "\u001b[1;31mconda install jupyter notebook -U'\n",
            "Click <a href='https://aka.ms/installJupyterForVSCode'>here</a> for more info."
          ]
        }
      ],
      "source": [
        "\n",
        "Rating=['1', '2', '3', '4', '5']\n",
        "rate_data= np.array([cnt17, cnt18, cnt19, cnt20, cnt21]).T\n",
        "rate_data_list=rate_data.tolist()"
      ]
    },
    {
      "cell_type": "code",
      "execution_count": null,
      "metadata": {
        "colab": {
          "base_uri": "https://localhost:8080/",
          "height": 542
        },
        "id": "3Q-Nimb9tm4P",
        "outputId": "9baae4c6-1ea7-4d88-f48f-b58b21871005"
      },
      "outputs": [
        {
          "ename": "",
          "evalue": "",
          "output_type": "error",
          "traceback": [
            "\u001b[1;31mJupyter cannot be started. Error attempting to locate Jupyter: Running cells with 'Python 3.10.6 64-bit' requires notebook package.\n",
            "\u001b[1;31mRun the following command to install 'jupyter and notebook' into the Python environment. \n",
            "\u001b[1;31mCommand: 'python -m pip install jupyter notebook -U\n",
            "\u001b[1;31mor\n",
            "\u001b[1;31mconda install jupyter notebook -U'\n",
            "Click <a href='https://aka.ms/installJupyterForVSCode'>here</a> for more info."
          ]
        }
      ],
      "source": [
        "import plotly.graph_objects as go\n",
        "x = ['2017', '2018', '2019', '2020', '2021']\n",
        "p=\"%\"\n",
        "fig = go.Figure()\n",
        "fig.add_trace(go.Bar(x=x, y=rate_data_list[0], name='1',text=[str(x)+\"%\" for x in rate_data_list[0]]))\n",
        "fig.add_trace(go.Bar(x=x, y=rate_data_list[1],name='2',text=[str(x)+\"%\"  for x in rate_data_list[1]]))\n",
        "fig.add_trace(go.Bar(x=x, y=rate_data_list[2],name='3',text=[str(x)+\"%\"  for x in rate_data_list[2]]))\n",
        "fig.add_trace(go.Bar(x=x, y=rate_data_list[3],name='4',text=[str(x)+\"%\"  for x in rate_data_list[3]]))\n",
        "fig.add_trace(go.Bar(x=x, y=rate_data_list[4],name='5',text=[str(x)+\"%\"  for x in rate_data_list[4]]))\n",
        "fig.update_layout(barmode='stack', xaxis_title='Year', yaxis_title='Rating (on a scale of 1-5)')\n",
        "#fig.savefig('rating_tech_supp.jpg')\n",
        "fig.show()"
      ]
    },
    {
      "cell_type": "markdown",
      "metadata": {
        "id": "aGkXxtfjoJCd"
      },
      "source": [
        "EASE OF GETTING A MEDICAL LEAVE FOR A MENTAL HEALTH ISSUE"
      ]
    },
    {
      "cell_type": "code",
      "execution_count": null,
      "metadata": {
        "id": "x4lGkvRkPS0E"
      },
      "outputs": [
        {
          "ename": "",
          "evalue": "",
          "output_type": "error",
          "traceback": [
            "\u001b[1;31mJupyter cannot be started. Error attempting to locate Jupyter: Running cells with 'Python 3.10.6 64-bit' requires notebook package.\n",
            "\u001b[1;31mRun the following command to install 'jupyter and notebook' into the Python environment. \n",
            "\u001b[1;31mCommand: 'python -m pip install jupyter notebook -U\n",
            "\u001b[1;31mor\n",
            "\u001b[1;31mconda install jupyter notebook -U'\n",
            "Click <a href='https://aka.ms/installJupyterForVSCode'>here</a> for more info."
          ]
        }
      ],
      "source": [
        "leave17=df17['If a mental health issue prompted you to request a medical leave from work, how easy or difficult would it be to ask for that leave?']\n",
        "leave18=df18['If a mental health issue prompted you to request a medical leave from work, how easy or difficult would it be to ask for that leave?']\n",
        "leave19=df19['If a mental health issue prompted you to request a medical leave from work, how easy or difficult would it be to ask for that leave?']\n",
        "leave20=df20['If a mental health issue prompted you to request a medical leave from work, how easy or difficult would it be to ask for that leave?']\n",
        "leave21=df21['If a mental health issue prompted you to request a medical leave from work, how easy or difficult would it be to ask for that leave?']\n",
        "\n",
        "          "
      ]
    },
    {
      "cell_type": "code",
      "execution_count": null,
      "metadata": {
        "id": "P0KT58OPpBd0"
      },
      "outputs": [
        {
          "ename": "",
          "evalue": "",
          "output_type": "error",
          "traceback": [
            "\u001b[1;31mJupyter cannot be started. Error attempting to locate Jupyter: Running cells with 'Python 3.10.6 64-bit' requires notebook package.\n",
            "\u001b[1;31mRun the following command to install 'jupyter and notebook' into the Python environment. \n",
            "\u001b[1;31mCommand: 'python -m pip install jupyter notebook -U\n",
            "\u001b[1;31mor\n",
            "\u001b[1;31mconda install jupyter notebook -U'\n",
            "Click <a href='https://aka.ms/installJupyterForVSCode'>here</a> for more info."
          ]
        }
      ],
      "source": [
        "lv_cnt17=[0 for i in range(6)]\n",
        "lv_cnt18=[0 for i in range(6)]\n",
        "lv_cnt19=[0 for i in range(6)]\n",
        "lv_cnt20=[0 for i in range(6)]\n",
        "lv_cnt21=[0 for i in range(6)]\n"
      ]
    },
    {
      "cell_type": "code",
      "execution_count": null,
      "metadata": {
        "id": "l5470J0HpLrJ"
      },
      "outputs": [
        {
          "ename": "",
          "evalue": "",
          "output_type": "error",
          "traceback": [
            "\u001b[1;31mJupyter cannot be started. Error attempting to locate Jupyter: Running cells with 'Python 3.10.6 64-bit' requires notebook package.\n",
            "\u001b[1;31mRun the following command to install 'jupyter and notebook' into the Python environment. \n",
            "\u001b[1;31mCommand: 'python -m pip install jupyter notebook -U\n",
            "\u001b[1;31mor\n",
            "\u001b[1;31mconda install jupyter notebook -U'\n",
            "Click <a href='https://aka.ms/installJupyterForVSCode'>here</a> for more info."
          ]
        }
      ],
      "source": [
        "for t in leave17:\n",
        "  if(t=='Very easy'):\n",
        "    lv_cnt17[0]+=1\n",
        "  elif(t=='Somewhat easy'):\n",
        "    lv_cnt17[1]+=1\n",
        "  elif(t=='Neither easy nor difficult'):\n",
        "    lv_cnt17[2]+=1\n",
        "  elif(t==\"I don't know\"):\n",
        "    lv_cnt17[3]+= 1\n",
        "  elif(t=='Somewhat difficult'):\n",
        "    lv_cnt17[4]+=1 \n",
        "  elif(t=='Difficult'):\n",
        "    lv_cnt17[5]+=1 \n",
        "\n",
        "for t in leave18:\n",
        "  if(t=='Very easy'):\n",
        "    lv_cnt18[0]+=1\n",
        "  elif(t=='Somewhat easy'):\n",
        "    lv_cnt18[1]+=1\n",
        "  elif(t=='Neither easy nor difficult'):\n",
        "    lv_cnt18[2]+=1\n",
        "  elif(t==\"I don't know\"):\n",
        "    lv_cnt18[3]+= 1\n",
        "  elif(t=='Somewhat difficult'):\n",
        "    lv_cnt18[4]+=1 \n",
        "  elif(t=='Difficult'):\n",
        "    lv_cnt18[5]+=1 \n",
        "\n",
        "for t in leave19:\n",
        "  if(t=='Very easy'):\n",
        "    lv_cnt19[0]+=1\n",
        "  elif(t=='Somewhat easy'):\n",
        "    lv_cnt19[1]+=1\n",
        "  elif(t=='Neither easy nor difficult'):\n",
        "    lv_cnt19[2]+=1\n",
        "  elif(t==\"I don't know\"):\n",
        "    lv_cnt19[3]+= 1\n",
        "  elif(t=='Somewhat difficult'):\n",
        "    lv_cnt19[4]+=1 \n",
        "  elif(t=='Difficult'):\n",
        "    lv_cnt19[5]+=1 \n",
        "\n",
        "for t in leave20:\n",
        "  if(t=='Very easy'):\n",
        "    lv_cnt20[0]+=1\n",
        "  elif(t=='Somewhat easy'):\n",
        "    lv_cnt20[1]+=1\n",
        "  elif(t=='Neither easy nor difficult'):\n",
        "    lv_cnt20[2]+=1\n",
        "  elif(t==\"I don't know\"):\n",
        "    lv_cnt20[3]+= 1\n",
        "  elif(t=='Somewhat difficult'):\n",
        "    lv_cnt20[4]+=1 \n",
        "  elif(t=='Difficult'):\n",
        "    lv_cnt20[5]+=1 \n",
        "\n",
        "for t in leave21:\n",
        "  if(t=='Very easy'):\n",
        "    lv_cnt21[0]+=1\n",
        "  elif(t=='Somewhat easy'):\n",
        "    lv_cnt21[1]+=1\n",
        "  elif(t=='Neither easy nor difficult'):\n",
        "    lv_cnt21[2]+=1\n",
        "  elif(t==\"I don't know\"):\n",
        "    lv_cnt21[3]+= 1\n",
        "  elif(t=='Somewhat difficult'):\n",
        "    lv_cnt21[4]+=1 \n",
        "  elif(t=='Difficult'):\n",
        "    lv_cnt21[5]+=1 "
      ]
    },
    {
      "cell_type": "code",
      "execution_count": null,
      "metadata": {
        "id": "rtaCwa2OqZ1U"
      },
      "outputs": [
        {
          "ename": "",
          "evalue": "",
          "output_type": "error",
          "traceback": [
            "\u001b[1;31mJupyter cannot be started. Error attempting to locate Jupyter: Running cells with 'Python 3.10.6 64-bit' requires notebook package.\n",
            "\u001b[1;31mRun the following command to install 'jupyter and notebook' into the Python environment. \n",
            "\u001b[1;31mCommand: 'python -m pip install jupyter notebook -U\n",
            "\u001b[1;31mor\n",
            "\u001b[1;31mconda install jupyter notebook -U'\n",
            "Click <a href='https://aka.ms/installJupyterForVSCode'>here</a> for more info."
          ]
        }
      ],
      "source": [
        "lv_sum17=sum(lv_cnt17)\n",
        "lv_sum18=sum(lv_cnt18)\n",
        "lv_sum19=sum(lv_cnt19)\n",
        "lv_sum20=sum(lv_cnt20)\n",
        "lv_sum21=sum(lv_cnt21)"
      ]
    },
    {
      "cell_type": "code",
      "execution_count": null,
      "metadata": {
        "id": "9Pq0qGL-rbYH"
      },
      "outputs": [
        {
          "ename": "",
          "evalue": "",
          "output_type": "error",
          "traceback": [
            "\u001b[1;31mJupyter cannot be started. Error attempting to locate Jupyter: Running cells with 'Python 3.10.6 64-bit' requires notebook package.\n",
            "\u001b[1;31mRun the following command to install 'jupyter and notebook' into the Python environment. \n",
            "\u001b[1;31mCommand: 'python -m pip install jupyter notebook -U\n",
            "\u001b[1;31mor\n",
            "\u001b[1;31mconda install jupyter notebook -U'\n",
            "Click <a href='https://aka.ms/installJupyterForVSCode'>here</a> for more info."
          ]
        }
      ],
      "source": [
        "# cal %\n",
        "for i in range(6):\n",
        "  lv_cnt17[i]=round((lv_cnt17[i]/lv_sum17)*100,1)\n",
        "  lv_cnt18[i]=round((lv_cnt18[i]/lv_sum18)*100,1)\n",
        "  lv_cnt19[i]=round((lv_cnt19[i]/lv_sum19)*100,1)\n",
        "  lv_cnt20[i]=round((lv_cnt20[i]/lv_sum20)*100,1)\n",
        "  lv_cnt21[i]=round((lv_cnt21[i]/lv_sum21)*100,1)"
      ]
    },
    {
      "cell_type": "code",
      "execution_count": null,
      "metadata": {
        "colab": {
          "base_uri": "https://localhost:8080/"
        },
        "id": "p8N9096ztKY1",
        "outputId": "91ed671e-b709-41a9-e669-f59218bf3bb5"
      },
      "outputs": [
        {
          "ename": "",
          "evalue": "",
          "output_type": "error",
          "traceback": [
            "\u001b[1;31mJupyter cannot be started. Error attempting to locate Jupyter: Running cells with 'Python 3.10.6 64-bit' requires notebook package.\n",
            "\u001b[1;31mRun the following command to install 'jupyter and notebook' into the Python environment. \n",
            "\u001b[1;31mCommand: 'python -m pip install jupyter notebook -U\n",
            "\u001b[1;31mor\n",
            "\u001b[1;31mconda install jupyter notebook -U'\n",
            "Click <a href='https://aka.ms/installJupyterForVSCode'>here</a> for more info."
          ]
        }
      ],
      "source": [
        "print(lv_cnt17)\n",
        "print(lv_cnt18)\n",
        "print(lv_cnt19)\n",
        "print(lv_cnt20)\n",
        "print(lv_cnt21)"
      ]
    },
    {
      "cell_type": "code",
      "execution_count": null,
      "metadata": {
        "id": "4lsnvJlLt_u-"
      },
      "outputs": [
        {
          "ename": "",
          "evalue": "",
          "output_type": "error",
          "traceback": [
            "\u001b[1;31mJupyter cannot be started. Error attempting to locate Jupyter: Running cells with 'Python 3.10.6 64-bit' requires notebook package.\n",
            "\u001b[1;31mRun the following command to install 'jupyter and notebook' into the Python environment. \n",
            "\u001b[1;31mCommand: 'python -m pip install jupyter notebook -U\n",
            "\u001b[1;31mor\n",
            "\u001b[1;31mconda install jupyter notebook -U'\n",
            "Click <a href='https://aka.ms/installJupyterForVSCode'>here</a> for more info."
          ]
        }
      ],
      "source": [
        "# import plotly.express as px\n",
        "# df = px.data.stocks()\n",
        "# fig = px.line(df, x=\"date\", y=[lv_cnt17[0], lv_cnt18[0], lv_cnt19[0], lv_cnt20[0], lv_cnt21[0]], title='Ease of getting a medical leave for a mental health issue')\n",
        "# fig.show()\n",
        "leave_ease=[lv_cnt17[0], lv_cnt18[0], lv_cnt19[0], lv_cnt20[0], lv_cnt21[0]]\n",
        "leave_diff=[lv_cnt17[5], lv_cnt18[5], lv_cnt19[5], lv_cnt20[5], lv_cnt21[5]]\n",
        "leave_som_wat_diff=[lv_cnt17[4], lv_cnt18[4], lv_cnt19[4], lv_cnt20[4], lv_cnt21[4]]\n",
        "leave_som_wat_ease=[lv_cnt17[1], lv_cnt18[1], lv_cnt19[1], lv_cnt20[1], lv_cnt21[1]]\n",
        "leave_df=[lv_cnt17[5]+lv_cnt17[4], lv_cnt18[5]+lv_cnt18[5], lv_cnt19[5]+lv_cnt19[4], lv_cnt20[5]+lv_cnt20[4], lv_cnt21[5]+lv_cnt21[4]]\n",
        "leave_es=[lv_cnt17[0]+lv_cnt17[1], lv_cnt18[0]+lv_cnt18[1], lv_cnt19[0]+lv_cnt19[1], lv_cnt20[0]+lv_cnt20[1], lv_cnt21[0]+lv_cnt21[1]]\n",
        "years = ['2017', '2018', '2019', '2020', '2021']"
      ]
    },
    {
      "cell_type": "code",
      "execution_count": null,
      "metadata": {
        "colab": {
          "base_uri": "https://localhost:8080/",
          "height": 542
        },
        "id": "NOsA5FaYaX2C",
        "outputId": "909ee50d-a540-4e4c-f693-267ead9128df"
      },
      "outputs": [
        {
          "ename": "",
          "evalue": "",
          "output_type": "error",
          "traceback": [
            "\u001b[1;31mJupyter cannot be started. Error attempting to locate Jupyter: Running cells with 'Python 3.10.6 64-bit' requires notebook package.\n",
            "\u001b[1;31mRun the following command to install 'jupyter and notebook' into the Python environment. \n",
            "\u001b[1;31mCommand: 'python -m pip install jupyter notebook -U\n",
            "\u001b[1;31mor\n",
            "\u001b[1;31mconda install jupyter notebook -U'\n",
            "Click <a href='https://aka.ms/installJupyterForVSCode'>here</a> for more info."
          ]
        }
      ],
      "source": [
        "import plotly.graph_objects as go\n",
        "years = ['2017', '2018', '2019', '2020', '2021']\n",
        "fig = go.Figure()\n",
        "fig.add_trace(go.Bar(x=years, y=leave_es,text=[str(round(x,1))+\"%\" for x in leave_es]))\n",
        "# fig.add_trace(go.Bar(x=x, y=neg_cons_list[1],name='Maybe',text=[str(x)+\"%\"  for x in neg_cons_list[1]]))\n",
        "# fig.add_trace(go.Bar(x=x, y=neg_cons_list[2],name='No',text=[str(x)+\"%\"  for x in neg_cons_list[2]]))\n",
        "\n",
        "fig.update_layout(xaxis_title='Year', yaxis_title='Fraction of employees who feel<br>asking a medical leave from work<br>due to a mental health issue is easy')\n",
        "fig.show()\n",
        "#fig.savefig('mh_res.jpg')"
      ]
    },
    {
      "cell_type": "code",
      "execution_count": null,
      "metadata": {
        "colab": {
          "base_uri": "https://localhost:8080/",
          "height": 458
        },
        "id": "eh716ylp3j-u",
        "outputId": "24a9a8cb-b1f3-4e69-f52b-4ff8adffabce"
      },
      "outputs": [
        {
          "ename": "",
          "evalue": "",
          "output_type": "error",
          "traceback": [
            "\u001b[1;31mJupyter cannot be started. Error attempting to locate Jupyter: Running cells with 'Python 3.10.6 64-bit' requires notebook package.\n",
            "\u001b[1;31mRun the following command to install 'jupyter and notebook' into the Python environment. \n",
            "\u001b[1;31mCommand: 'python -m pip install jupyter notebook -U\n",
            "\u001b[1;31mor\n",
            "\u001b[1;31mconda install jupyter notebook -U'\n",
            "Click <a href='https://aka.ms/installJupyterForVSCode'>here</a> for more info."
          ]
        }
      ],
      "source": [
        "import matplotlib.ticker as mtick\n",
        "from matplotlib.ticker import PercentFormatter\n",
        "fig, ax = plt.subplots(figsize=(11,7))\n",
        "ax.plot(years,leave_es, label='Easy')  # Plot some data on the axes.\n",
        "ax.plot(years,leave_df, label='Difficult')  # Plot more data on the axes...\n",
        "#ax.plot(years,leave_som_wat_diff, label='Somewhat Difficult')\n",
        "ax.yaxis.set_major_formatter(mtick.PercentFormatter(100))\n",
        "\n",
        "ax.set_xlabel('Year')  # Add an x-label to the axes.\n",
        "ax.set_ylabel('Fraction of employees getting mental health related\\n medical leave with ease/difficulty')  # Add a y-label to the axes.\n",
        "ax.set_title(\"Getting a medical leave for a mental health issue\")  # Add a title to the axes.\n",
        "\n",
        "ax.legend(); \n",
        "plt.savefig('ease_leave.jpg')"
      ]
    },
    {
      "cell_type": "markdown",
      "metadata": {
        "id": "yR-Pl8vOEZ1e"
      },
      "source": [
        "Unsupportiveness towards a mental health issue in workplace"
      ]
    },
    {
      "cell_type": "code",
      "execution_count": null,
      "metadata": {
        "id": "yav1Q7OQ57Vw"
      },
      "outputs": [
        {
          "ename": "",
          "evalue": "",
          "output_type": "error",
          "traceback": [
            "\u001b[1;31mJupyter cannot be started. Error attempting to locate Jupyter: Running cells with 'Python 3.10.6 64-bit' requires notebook package.\n",
            "\u001b[1;31mRun the following command to install 'jupyter and notebook' into the Python environment. \n",
            "\u001b[1;31mCommand: 'python -m pip install jupyter notebook -U\n",
            "\u001b[1;31mor\n",
            "\u001b[1;31mconda install jupyter notebook -U'\n",
            "Click <a href='https://aka.ms/installJupyterForVSCode'>here</a> for more info."
          ]
        }
      ],
      "source": [
        "unsup17=df17['<strong>Have you observed or experienced an unsupportive or badly handled response to a mental health issue in your current or previous workplace?</strong>']\n",
        "unsup18=df18['<strong>Have you observed or experienced an unsupportive or badly handled response to a mental health issue in your current or previous workplace?</strong>']\n",
        "unsup19=df19['Have you observed or experienced an *unsupportive or badly handled response* to a mental health issue in your current or previous workplace?']\n",
        "unsup20=df20['Have you observed or experienced an *unsupportive or badly handled response* to a mental health issue in your current or previous workplace?']\n",
        "unsup21=df21['Have you observed or experienced an *unsupportive or badly handled response* to a mental health issue in your current or previous workplace?']       \n"
      ]
    },
    {
      "cell_type": "code",
      "execution_count": null,
      "metadata": {
        "colab": {
          "base_uri": "https://localhost:8080/",
          "height": 52
        },
        "id": "ute-MSx7E-vP",
        "outputId": "0369a6bd-01e8-4963-e67e-61f7bea068f1"
      },
      "outputs": [
        {
          "ename": "",
          "evalue": "",
          "output_type": "error",
          "traceback": [
            "\u001b[1;31mJupyter cannot be started. Error attempting to locate Jupyter: Running cells with 'Python 3.10.6 64-bit' requires notebook package.\n",
            "\u001b[1;31mRun the following command to install 'jupyter and notebook' into the Python environment. \n",
            "\u001b[1;31mCommand: 'python -m pip install jupyter notebook -U\n",
            "\u001b[1;31mor\n",
            "\u001b[1;31mconda install jupyter notebook -U'\n",
            "Click <a href='https://aka.ms/installJupyterForVSCode'>here</a> for more info."
          ]
        }
      ],
      "source": [
        "df17.columns[104]"
      ]
    },
    {
      "cell_type": "code",
      "execution_count": null,
      "metadata": {
        "colab": {
          "base_uri": "https://localhost:8080/"
        },
        "id": "CquOkdExFTRk",
        "outputId": "7b46db0b-8d7d-44f8-91cb-04073be50436"
      },
      "outputs": [
        {
          "ename": "",
          "evalue": "",
          "output_type": "error",
          "traceback": [
            "\u001b[1;31mJupyter cannot be started. Error attempting to locate Jupyter: Running cells with 'Python 3.10.6 64-bit' requires notebook package.\n",
            "\u001b[1;31mRun the following command to install 'jupyter and notebook' into the Python environment. \n",
            "\u001b[1;31mCommand: 'python -m pip install jupyter notebook -U\n",
            "\u001b[1;31mor\n",
            "\u001b[1;31mconda install jupyter notebook -U'\n",
            "Click <a href='https://aka.ms/installJupyterForVSCode'>here</a> for more info."
          ]
        }
      ],
      "source": [
        "print(unsup17.unique())\n",
        "print(unsup18.unique())\n",
        "print(unsup19.unique())\n",
        "print(unsup20.unique())\n",
        "print(unsup21.unique())"
      ]
    },
    {
      "cell_type": "code",
      "execution_count": null,
      "metadata": {
        "id": "RQsGxzGLGEDu"
      },
      "outputs": [
        {
          "ename": "",
          "evalue": "",
          "output_type": "error",
          "traceback": [
            "\u001b[1;31mJupyter cannot be started. Error attempting to locate Jupyter: Running cells with 'Python 3.10.6 64-bit' requires notebook package.\n",
            "\u001b[1;31mRun the following command to install 'jupyter and notebook' into the Python environment. \n",
            "\u001b[1;31mCommand: 'python -m pip install jupyter notebook -U\n",
            "\u001b[1;31mor\n",
            "\u001b[1;31mconda install jupyter notebook -U'\n",
            "Click <a href='https://aka.ms/installJupyterForVSCode'>here</a> for more info."
          ]
        }
      ],
      "source": [
        "unsup_cnt17=[0 for i in range(3)]\n",
        "unsup_cnt18=[0 for i in range(3)]\n",
        "unsup_cnt19=[0 for i in range(3)]\n",
        "unsup_cnt20=[0 for i in range(3)]\n",
        "unsup_cnt21=[0 for i in range(3)]"
      ]
    },
    {
      "cell_type": "code",
      "execution_count": null,
      "metadata": {
        "id": "dWLzUNkcGbdX"
      },
      "outputs": [
        {
          "ename": "",
          "evalue": "",
          "output_type": "error",
          "traceback": [
            "\u001b[1;31mJupyter cannot be started. Error attempting to locate Jupyter: Running cells with 'Python 3.10.6 64-bit' requires notebook package.\n",
            "\u001b[1;31mRun the following command to install 'jupyter and notebook' into the Python environment. \n",
            "\u001b[1;31mCommand: 'python -m pip install jupyter notebook -U\n",
            "\u001b[1;31mor\n",
            "\u001b[1;31mconda install jupyter notebook -U'\n",
            "Click <a href='https://aka.ms/installJupyterForVSCode'>here</a> for more info."
          ]
        }
      ],
      "source": [
        "for t in unsup17:\n",
        "  if(t=='Yes, I experienced'):\n",
        "    unsup_cnt17[0]+=1\n",
        "  elif(t=='Yes, I observed'):\n",
        "    unsup_cnt17[1]+=1\n",
        "  elif(t=='No'):\n",
        "    unsup_cnt17[2]+=1\n",
        "  \n",
        "\n",
        "for t in unsup18:\n",
        "  if(t=='Yes, I experienced'):\n",
        "    unsup_cnt18[0]+=1\n",
        "  elif(t=='Yes, I observed'):\n",
        "    unsup_cnt18[1]+=1\n",
        "  elif(t=='No'):\n",
        "    unsup_cnt18[2]+=1\n",
        "\n",
        "for t in unsup19:\n",
        "  if(t=='Yes, I experienced'):\n",
        "    unsup_cnt19[0]+=1\n",
        "  elif(t=='Yes, I observed'):\n",
        "    unsup_cnt19[1]+=1\n",
        "  elif(t=='No'):\n",
        "    unsup_cnt19[2]+=1\n",
        "\n",
        "for t in unsup20:\n",
        "  if(t=='Yes, I experienced'):\n",
        "    unsup_cnt20[0]+=1\n",
        "  elif(t=='Yes, I observed'):\n",
        "    unsup_cnt20[1]+=1\n",
        "  elif(t=='No'):\n",
        "    unsup_cnt20[2]+=1\n",
        "\n",
        "for t in unsup21:\n",
        "  if(t=='Yes, I experienced'):\n",
        "    unsup_cnt21[0]+=1\n",
        "  elif(t=='Yes, I observed'):\n",
        "    unsup_cnt21[1]+=1\n",
        "  elif(t=='No'):\n",
        "    unsup_cnt21[2]+=1"
      ]
    },
    {
      "cell_type": "code",
      "execution_count": null,
      "metadata": {
        "id": "ZIz7MEoRG8vi"
      },
      "outputs": [
        {
          "ename": "",
          "evalue": "",
          "output_type": "error",
          "traceback": [
            "\u001b[1;31mJupyter cannot be started. Error attempting to locate Jupyter: Running cells with 'Python 3.10.6 64-bit' requires notebook package.\n",
            "\u001b[1;31mRun the following command to install 'jupyter and notebook' into the Python environment. \n",
            "\u001b[1;31mCommand: 'python -m pip install jupyter notebook -U\n",
            "\u001b[1;31mor\n",
            "\u001b[1;31mconda install jupyter notebook -U'\n",
            "Click <a href='https://aka.ms/installJupyterForVSCode'>here</a> for more info."
          ]
        }
      ],
      "source": [
        "unsup_sum17=sum(unsup_cnt17)\n",
        "unsup_sum18=sum(unsup_cnt18)\n",
        "unsup_sum19=sum(unsup_cnt19)\n",
        "unsup_sum20=sum(unsup_cnt20)\n",
        "unsup_sum21=sum(unsup_cnt21)\n",
        "# cal %\n",
        "for i in range(3):\n",
        "  unsup_cnt17[i]=round((unsup_cnt17[i]/unsup_sum17)*100,1)\n",
        "  unsup_cnt18[i]=round((unsup_cnt18[i]/unsup_sum18)*100,1)\n",
        "  unsup_cnt19[i]=round((unsup_cnt19[i]/unsup_sum19)*100,1)\n",
        "  unsup_cnt20[i]=round((unsup_cnt20[i]/unsup_sum20)*100,1)\n",
        "  unsup_cnt21[i]=round((unsup_cnt21[i]/unsup_sum21)*100,1)"
      ]
    },
    {
      "cell_type": "code",
      "execution_count": null,
      "metadata": {
        "colab": {
          "base_uri": "https://localhost:8080/"
        },
        "id": "NygCI_AGKMxg",
        "outputId": "093befc9-e641-4061-f004-d19a71749170"
      },
      "outputs": [
        {
          "ename": "",
          "evalue": "",
          "output_type": "error",
          "traceback": [
            "\u001b[1;31mJupyter cannot be started. Error attempting to locate Jupyter: Running cells with 'Python 3.10.6 64-bit' requires notebook package.\n",
            "\u001b[1;31mRun the following command to install 'jupyter and notebook' into the Python environment. \n",
            "\u001b[1;31mCommand: 'python -m pip install jupyter notebook -U\n",
            "\u001b[1;31mor\n",
            "\u001b[1;31mconda install jupyter notebook -U'\n",
            "Click <a href='https://aka.ms/installJupyterForVSCode'>here</a> for more info."
          ]
        }
      ],
      "source": [
        "print(unsup_cnt21[0])\n",
        "print(unsup_cnt21[1])\n",
        "#print(unsup_cnt21[0]+unsup_cnt21[1])\n",
        "print(9.9+20.9)"
      ]
    },
    {
      "cell_type": "code",
      "execution_count": null,
      "metadata": {
        "id": "WP5RRpOnHOLT"
      },
      "outputs": [
        {
          "ename": "",
          "evalue": "",
          "output_type": "error",
          "traceback": [
            "\u001b[1;31mJupyter cannot be started. Error attempting to locate Jupyter: Running cells with 'Python 3.10.6 64-bit' requires notebook package.\n",
            "\u001b[1;31mRun the following command to install 'jupyter and notebook' into the Python environment. \n",
            "\u001b[1;31mCommand: 'python -m pip install jupyter notebook -U\n",
            "\u001b[1;31mor\n",
            "\u001b[1;31mconda install jupyter notebook -U'\n",
            "Click <a href='https://aka.ms/installJupyterForVSCode'>here</a> for more info."
          ]
        }
      ],
      "source": [
        "unsup_exp=[unsup_cnt17[0], unsup_cnt18[0], unsup_cnt19[0], unsup_cnt20[0], unsup_cnt21[0]]\n",
        "unsup_obs=[unsup_cnt17[1], unsup_cnt18[1], unsup_cnt19[1], unsup_cnt20[1], unsup_cnt21[1]]\n",
        "unsup_no= [unsup_cnt17[2], unsup_cnt18[2], unsup_cnt19[2], unsup_cnt20[2], unsup_cnt21[2]]\n",
        "unsup=[unsup_cnt17[0]+unsup_cnt17[1], unsup_cnt18[0]+unsup_cnt18[1], unsup_cnt19[0]+unsup_cnt19[1], unsup_cnt20[0]+unsup_cnt20[1], unsup_cnt21[0]+unsup_cnt21[1]]"
      ]
    },
    {
      "cell_type": "code",
      "execution_count": null,
      "metadata": {
        "id": "1vfmsRgCJ_p5"
      },
      "outputs": [
        {
          "ename": "",
          "evalue": "",
          "output_type": "error",
          "traceback": [
            "\u001b[1;31mJupyter cannot be started. Error attempting to locate Jupyter: Running cells with 'Python 3.10.6 64-bit' requires notebook package.\n",
            "\u001b[1;31mRun the following command to install 'jupyter and notebook' into the Python environment. \n",
            "\u001b[1;31mCommand: 'python -m pip install jupyter notebook -U\n",
            "\u001b[1;31mor\n",
            "\u001b[1;31mconda install jupyter notebook -U'\n",
            "Click <a href='https://aka.ms/installJupyterForVSCode'>here</a> for more info."
          ]
        }
      ],
      "source": [
        "unsup=[39.8, 42.6, 46.4, 43.5, 30.8]"
      ]
    },
    {
      "cell_type": "code",
      "execution_count": null,
      "metadata": {
        "colab": {
          "base_uri": "https://localhost:8080/",
          "height": 542
        },
        "id": "J51UiA6_K8ln",
        "outputId": "542f99ba-fe68-4fb9-9138-a55f5d8bcef0"
      },
      "outputs": [
        {
          "ename": "",
          "evalue": "",
          "output_type": "error",
          "traceback": [
            "\u001b[1;31mJupyter cannot be started. Error attempting to locate Jupyter: Running cells with 'Python 3.10.6 64-bit' requires notebook package.\n",
            "\u001b[1;31mRun the following command to install 'jupyter and notebook' into the Python environment. \n",
            "\u001b[1;31mCommand: 'python -m pip install jupyter notebook -U\n",
            "\u001b[1;31mor\n",
            "\u001b[1;31mconda install jupyter notebook -U'\n",
            "Click <a href='https://aka.ms/installJupyterForVSCode'>here</a> for more info."
          ]
        }
      ],
      "source": [
        "import plotly.graph_objects as go\n",
        "years = ['2017', '2018', '2019', '2020', '2021']\n",
        "fig = go.Figure()\n",
        "fig.add_trace(go.Bar(x=years, y=unsup,text=[str(x)+\"%\" for x in unsup]))\n",
        "# fig.add_trace(go.Bar(x=x, y=neg_cons_list[1],name='Maybe',text=[str(x)+\"%\"  for x in neg_cons_list[1]]))\n",
        "# fig.add_trace(go.Bar(x=x, y=neg_cons_list[2],name='No',text=[str(x)+\"%\"  for x in neg_cons_list[2]]))\n",
        "\n",
        "fig.update_layout(xaxis_title='Year', yaxis_title='Fraction of employees who\\'ve observed or<br>experienced unsupportive response to<br>mental health issues in their workplace ')\n",
        "fig.show()\n",
        "#fig.savefig('mh_res.jpg')"
      ]
    },
    {
      "cell_type": "code",
      "execution_count": null,
      "metadata": {
        "colab": {
          "base_uri": "https://localhost:8080/",
          "height": 458
        },
        "id": "QD9SG2TcINI5",
        "outputId": "2eb5fd28-29f1-445f-f90e-4d82df61cee2"
      },
      "outputs": [
        {
          "ename": "",
          "evalue": "",
          "output_type": "error",
          "traceback": [
            "\u001b[1;31mJupyter cannot be started. Error attempting to locate Jupyter: Running cells with 'Python 3.10.6 64-bit' requires notebook package.\n",
            "\u001b[1;31mRun the following command to install 'jupyter and notebook' into the Python environment. \n",
            "\u001b[1;31mCommand: 'python -m pip install jupyter notebook -U\n",
            "\u001b[1;31mor\n",
            "\u001b[1;31mconda install jupyter notebook -U'\n",
            "Click <a href='https://aka.ms/installJupyterForVSCode'>here</a> for more info."
          ]
        }
      ],
      "source": [
        "import matplotlib.ticker as mtick\n",
        "from matplotlib.ticker import PercentFormatter\n",
        "fig, ax = plt.subplots(figsize=(11,7))\n",
        "ax.plot(years,unsup_exp, label='Yes, I experienced')  # Plot some data on the axes.\n",
        "ax.plot(years,unsup_obs, label='Yes, I observed')  # Plot more data on the axes...\n",
        "#ax.plot(years,unsup_no, label='No')\n",
        "ax.yaxis.set_major_formatter(mtick.PercentFormatter(100))\n",
        "\n",
        "ax.set_xlabel('Year')  # Add an x-label to the axes.\n",
        "ax.set_ylabel('Fraction of employees observing/experiencing\\nunsupportiveness towards a mental health issue')  # Add a y-label to the axes.\n",
        "ax.set_title(\"Unsupportiveness towards a mental health issue in workplace\")  # Add a title to the axes.\n",
        "\n",
        "ax.legend(); \n",
        "plt.savefig('unsup_mh.jpg')"
      ]
    },
    {
      "cell_type": "code",
      "execution_count": null,
      "metadata": {
        "colab": {
          "base_uri": "https://localhost:8080/",
          "height": 458
        },
        "id": "o4NB3_zegGWo",
        "outputId": "18eebee6-beb4-4713-b280-b512c30fbf4b"
      },
      "outputs": [
        {
          "ename": "",
          "evalue": "",
          "output_type": "error",
          "traceback": [
            "\u001b[1;31mJupyter cannot be started. Error attempting to locate Jupyter: Running cells with 'Python 3.10.6 64-bit' requires notebook package.\n",
            "\u001b[1;31mRun the following command to install 'jupyter and notebook' into the Python environment. \n",
            "\u001b[1;31mCommand: 'python -m pip install jupyter notebook -U\n",
            "\u001b[1;31mor\n",
            "\u001b[1;31mconda install jupyter notebook -U'\n",
            "Click <a href='https://aka.ms/installJupyterForVSCode'>here</a> for more info."
          ]
        }
      ],
      "source": [
        "import matplotlib.ticker as mtick\n",
        "from matplotlib.ticker import PercentFormatter\n",
        "fig, ax = plt.subplots(figsize=(11,7))\n",
        "ax.plot(years,unsup_exp, label='Yes, I experienced')  # Plot some data on the axes.\n",
        "ax.plot(years,unsup_obs, label='Yes, I observed')  # Plot more data on the axes...\n",
        "ax.plot(years,unsup_no, label='No')\n",
        "ax.yaxis.set_major_formatter(mtick.PercentFormatter(100))\n",
        "\n",
        "ax.set_xlabel('Year')  # Add an x-label to the axes.\n",
        "ax.set_ylabel('Fraction of employees observing/experiencing\\nunsupportiveness towards a mental health issue')  # Add a y-label to the axes.\n",
        "ax.set_title(\"Unsupportiveness towards a mental health issue in workplace\")  # Add a title to the axes.\n",
        "\n",
        "ax.legend(); \n",
        "plt.savefig('unsup_mh1.jpg')"
      ]
    },
    {
      "cell_type": "code",
      "execution_count": null,
      "metadata": {
        "colab": {
          "base_uri": "https://localhost:8080/"
        },
        "id": "aigomlqbJC1a",
        "outputId": "4d96e47e-ec7b-4adf-c077-2fe14d4d331a"
      },
      "outputs": [
        {
          "ename": "",
          "evalue": "",
          "output_type": "error",
          "traceback": [
            "\u001b[1;31mJupyter cannot be started. Error attempting to locate Jupyter: Running cells with 'Python 3.10.6 64-bit' requires notebook package.\n",
            "\u001b[1;31mRun the following command to install 'jupyter and notebook' into the Python environment. \n",
            "\u001b[1;31mCommand: 'python -m pip install jupyter notebook -U\n",
            "\u001b[1;31mor\n",
            "\u001b[1;31mconda install jupyter notebook -U'\n",
            "Click <a href='https://aka.ms/installJupyterForVSCode'>here</a> for more info."
          ]
        }
      ],
      "source": [
        "print(unsup_cnt17)\n",
        "print(unsup_cnt18)\n",
        "print(unsup_cnt19)\n",
        "print(unsup_cnt20)\n",
        "print(unsup_cnt21)"
      ]
    },
    {
      "cell_type": "markdown",
      "metadata": {
        "id": "Gvg1FkAAsPal"
      },
      "source": [
        "Unsupportiveness experienced by employees with mental health issues"
      ]
    },
    {
      "cell_type": "code",
      "execution_count": null,
      "metadata": {
        "id": "oB-kyZz1sVJN"
      },
      "outputs": [
        {
          "ename": "",
          "evalue": "",
          "output_type": "error",
          "traceback": [
            "\u001b[1;31mJupyter cannot be started. Error attempting to locate Jupyter: Running cells with 'Python 3.10.6 64-bit' requires notebook package.\n",
            "\u001b[1;31mRun the following command to install 'jupyter and notebook' into the Python environment. \n",
            "\u001b[1;31mCommand: 'python -m pip install jupyter notebook -U\n",
            "\u001b[1;31mor\n",
            "\u001b[1;31mconda install jupyter notebook -U'\n",
            "Click <a href='https://aka.ms/installJupyterForVSCode'>here</a> for more info."
          ]
        }
      ],
      "source": [
        "unsup_mh_exp_cnt17=0\n",
        "unsup_mh_exp_cnt18=0\n",
        "unsup_mh_exp_cnt19=0\n",
        "unsup_mh_exp_cnt20=0\n",
        "unsup_mh_exp_cnt21=0"
      ]
    },
    {
      "cell_type": "code",
      "execution_count": null,
      "metadata": {
        "id": "JfCGM801JK0G"
      },
      "outputs": [
        {
          "ename": "",
          "evalue": "",
          "output_type": "error",
          "traceback": [
            "\u001b[1;31mJupyter cannot be started. Error attempting to locate Jupyter: Running cells with 'Python 3.10.6 64-bit' requires notebook package.\n",
            "\u001b[1;31mRun the following command to install 'jupyter and notebook' into the Python environment. \n",
            "\u001b[1;31mCommand: 'python -m pip install jupyter notebook -U\n",
            "\u001b[1;31mor\n",
            "\u001b[1;31mconda install jupyter notebook -U'\n",
            "Click <a href='https://aka.ms/installJupyterForVSCode'>here</a> for more info."
          ]
        }
      ],
      "source": [
        "sup_mh_exp_cnt17=0\n",
        "sup_mh_exp_cnt18=0\n",
        "sup_mh_exp_cnt19=0\n",
        "sup_mh_exp_cnt20=0\n",
        "sup_mh_exp_cnt21=0"
      ]
    },
    {
      "cell_type": "code",
      "execution_count": null,
      "metadata": {
        "colab": {
          "base_uri": "https://localhost:8080/"
        },
        "id": "fj38FPWrtxDU",
        "outputId": "701f2194-c35a-4682-8809-8ad6ff5ea63f"
      },
      "outputs": [
        {
          "ename": "",
          "evalue": "",
          "output_type": "error",
          "traceback": [
            "\u001b[1;31mJupyter cannot be started. Error attempting to locate Jupyter: Running cells with 'Python 3.10.6 64-bit' requires notebook package.\n",
            "\u001b[1;31mRun the following command to install 'jupyter and notebook' into the Python environment. \n",
            "\u001b[1;31mCommand: 'python -m pip install jupyter notebook -U\n",
            "\u001b[1;31mor\n",
            "\u001b[1;31mconda install jupyter notebook -U'\n",
            "Click <a href='https://aka.ms/installJupyterForVSCode'>here</a> for more info."
          ]
        }
      ],
      "source": [
        "print(df17.columns[106])\n",
        "print(df18.columns[106])\n",
        "print(df19.columns[69])\n",
        "print(df20.columns[106])\n",
        "print(df21.columns[106])"
      ]
    },
    {
      "cell_type": "code",
      "execution_count": null,
      "metadata": {
        "colab": {
          "base_uri": "https://localhost:8080/"
        },
        "id": "vp4y3xLOIy0T",
        "outputId": "57322766-59bd-4576-a5ea-0aacbaa231d1"
      },
      "outputs": [
        {
          "ename": "",
          "evalue": "",
          "output_type": "error",
          "traceback": [
            "\u001b[1;31mJupyter cannot be started. Error attempting to locate Jupyter: Running cells with 'Python 3.10.6 64-bit' requires notebook package.\n",
            "\u001b[1;31mRun the following command to install 'jupyter and notebook' into the Python environment. \n",
            "\u001b[1;31mCommand: 'python -m pip install jupyter notebook -U\n",
            "\u001b[1;31mor\n",
            "\u001b[1;31mconda install jupyter notebook -U'\n",
            "Click <a href='https://aka.ms/installJupyterForVSCode'>here</a> for more info."
          ]
        }
      ],
      "source": [
        "print(df17.columns[49])\n",
        "print(df18.columns[49])\n",
        "print(df19.columns[48])\n",
        "print(df20.columns[49])\n",
        "print(df21.columns[49])"
      ]
    },
    {
      "cell_type": "code",
      "execution_count": null,
      "metadata": {
        "id": "L2XkNZGOsVMa"
      },
      "outputs": [
        {
          "ename": "",
          "evalue": "",
          "output_type": "error",
          "traceback": [
            "\u001b[1;31mJupyter cannot be started. Error attempting to locate Jupyter: Running cells with 'Python 3.10.6 64-bit' requires notebook package.\n",
            "\u001b[1;31mRun the following command to install 'jupyter and notebook' into the Python environment. \n",
            "\u001b[1;31mCommand: 'python -m pip install jupyter notebook -U\n",
            "\u001b[1;31mor\n",
            "\u001b[1;31mconda install jupyter notebook -U'\n",
            "Click <a href='https://aka.ms/installJupyterForVSCode'>here</a> for more info."
          ]
        }
      ],
      "source": [
        "for i in range(len(df17.columns)):\n",
        "  if(df17.iloc[i,104]=='Yes, I experienced' and df17.iloc[i,49]=='Yes'):\n",
        "    unsup_mh_exp_cnt17 +=1\n",
        "\n",
        "for i in range(len(df18.columns)):\n",
        "  if(df18.iloc[i,104]=='Yes, I experienced' and df18.iloc[i,49]=='Yes'):\n",
        "    unsup_mh_exp_cnt18 +=1\n",
        " \n",
        "for i in range(len(df19.columns)):\n",
        "  if(df19.iloc[i,67]=='Yes, I experienced' and df19.iloc[i,48]=='Yes'):\n",
        "    unsup_mh_exp_cnt19 +=1\n",
        "\n",
        "for i in range(len(df20.columns)):\n",
        "  if(df20.iloc[i,104]=='Yes, I experienced' and df20.iloc[i,49]=='Yes'):\n",
        "    unsup_mh_exp_cnt20 +=1\n",
        "\n",
        "for i in range(len(df21.columns)):\n",
        "  if(df21.iloc[i,104]=='Yes, I experienced' and df21.iloc[i,49]=='Yes'):\n",
        "    unsup_mh_exp_cnt21 +=1\n",
        "\n",
        "  "
      ]
    },
    {
      "cell_type": "code",
      "execution_count": null,
      "metadata": {
        "id": "W2H8oTmxsVPf"
      },
      "outputs": [
        {
          "ename": "",
          "evalue": "",
          "output_type": "error",
          "traceback": [
            "\u001b[1;31mJupyter cannot be started. Error attempting to locate Jupyter: Running cells with 'Python 3.10.6 64-bit' requires notebook package.\n",
            "\u001b[1;31mRun the following command to install 'jupyter and notebook' into the Python environment. \n",
            "\u001b[1;31mCommand: 'python -m pip install jupyter notebook -U\n",
            "\u001b[1;31mor\n",
            "\u001b[1;31mconda install jupyter notebook -U'\n",
            "Click <a href='https://aka.ms/installJupyterForVSCode'>here</a> for more info."
          ]
        }
      ],
      "source": [
        "from collections import Counter\n",
        "mh_diag_cnt17=Counter(df17[df17.columns[49]])['Yes']\n",
        "mh_diag_cnt18=Counter(df18[df18.columns[49]])['Yes']\n",
        "mh_diag_cnt19=Counter(df19[df19.columns[48]])['Yes']\n",
        "mh_diag_cnt20=Counter(df20[df20.columns[49]])['Yes']\n",
        "mh_diag_cnt21=Counter(df21[df21.columns[49]])['Yes']"
      ]
    },
    {
      "cell_type": "code",
      "execution_count": null,
      "metadata": {
        "id": "SsZSzOQKL88V"
      },
      "outputs": [
        {
          "ename": "",
          "evalue": "",
          "output_type": "error",
          "traceback": [
            "\u001b[1;31mJupyter cannot be started. Error attempting to locate Jupyter: Running cells with 'Python 3.10.6 64-bit' requires notebook package.\n",
            "\u001b[1;31mRun the following command to install 'jupyter and notebook' into the Python environment. \n",
            "\u001b[1;31mCommand: 'python -m pip install jupyter notebook -U\n",
            "\u001b[1;31mor\n",
            "\u001b[1;31mconda install jupyter notebook -U'\n",
            "Click <a href='https://aka.ms/installJupyterForVSCode'>here</a> for more info."
          ]
        }
      ],
      "source": [
        "unsup_mh_exp = [round(unsup_mh_exp_cnt17/mh_diag_cnt17*100,1),round(unsup_mh_exp_cnt18/mh_diag_cnt18*100,1),round(unsup_mh_exp_cnt19/mh_diag_cnt19*100,1),round(unsup_mh_exp_cnt20/mh_diag_cnt20*100,1),round(unsup_mh_exp_cnt21/mh_diag_cnt21*100,1)]"
      ]
    },
    {
      "cell_type": "code",
      "execution_count": null,
      "metadata": {
        "id": "wp9YAb88Is35"
      },
      "outputs": [
        {
          "ename": "",
          "evalue": "",
          "output_type": "error",
          "traceback": [
            "\u001b[1;31mJupyter cannot be started. Error attempting to locate Jupyter: Running cells with 'Python 3.10.6 64-bit' requires notebook package.\n",
            "\u001b[1;31mRun the following command to install 'jupyter and notebook' into the Python environment. \n",
            "\u001b[1;31mCommand: 'python -m pip install jupyter notebook -U\n",
            "\u001b[1;31mor\n",
            "\u001b[1;31mconda install jupyter notebook -U'\n",
            "Click <a href='https://aka.ms/installJupyterForVSCode'>here</a> for more info."
          ]
        }
      ],
      "source": [
        "for i in range(len(df17.columns)):\n",
        "  if(df17.iloc[i,106]=='Yes, I experienced' and df17.iloc[i,49]=='Yes'):\n",
        "    sup_mh_exp_cnt17 +=1\n",
        "\n",
        "for i in range(len(df18.columns)):\n",
        "  if(df18.iloc[i,106]=='Yes, I experienced' and df18.iloc[i,49]=='Yes'):\n",
        "    sup_mh_exp_cnt18 +=1\n",
        " \n",
        "for i in range(len(df19.columns)):\n",
        "  if(df19.iloc[i,69]=='Yes, I experienced' and df19.iloc[i,48]=='Yes'):\n",
        "    sup_mh_exp_cnt19 +=1\n",
        "\n",
        "for i in range(len(df20.columns)):\n",
        "  if(df20.iloc[i,106]=='Yes, I experienced' and df20.iloc[i,49]=='Yes'):\n",
        "    sup_mh_exp_cnt20 +=1\n",
        "\n",
        "for i in range(len(df21.columns)):\n",
        "  if(df21.iloc[i,106]=='Yes, I experienced' and df21.iloc[i,49]=='Yes'):\n",
        "    sup_mh_exp_cnt21 +=1\n",
        "  "
      ]
    },
    {
      "cell_type": "code",
      "execution_count": null,
      "metadata": {
        "id": "jGcmbRerIs6e"
      },
      "outputs": [
        {
          "ename": "",
          "evalue": "",
          "output_type": "error",
          "traceback": [
            "\u001b[1;31mJupyter cannot be started. Error attempting to locate Jupyter: Running cells with 'Python 3.10.6 64-bit' requires notebook package.\n",
            "\u001b[1;31mRun the following command to install 'jupyter and notebook' into the Python environment. \n",
            "\u001b[1;31mCommand: 'python -m pip install jupyter notebook -U\n",
            "\u001b[1;31mor\n",
            "\u001b[1;31mconda install jupyter notebook -U'\n",
            "Click <a href='https://aka.ms/installJupyterForVSCode'>here</a> for more info."
          ]
        }
      ],
      "source": [
        "sup_mh_exp = [round(sup_mh_exp_cnt17/mh_diag_cnt17*100,1),round(sup_mh_exp_cnt18/mh_diag_cnt18*100,1),round(sup_mh_exp_cnt19/mh_diag_cnt19*100,1),round(sup_mh_exp_cnt20/mh_diag_cnt20*100,1),round(sup_mh_exp_cnt21/mh_diag_cnt21*100,1)]"
      ]
    },
    {
      "cell_type": "code",
      "execution_count": null,
      "metadata": {
        "colab": {
          "base_uri": "https://localhost:8080/"
        },
        "id": "yhgPfU9YIs-K",
        "outputId": "d3ccd9c0-cad3-417c-95a7-ae352e5862ca"
      },
      "outputs": [
        {
          "ename": "",
          "evalue": "",
          "output_type": "error",
          "traceback": [
            "\u001b[1;31mJupyter cannot be started. Error attempting to locate Jupyter: Running cells with 'Python 3.10.6 64-bit' requires notebook package.\n",
            "\u001b[1;31mRun the following command to install 'jupyter and notebook' into the Python environment. \n",
            "\u001b[1;31mCommand: 'python -m pip install jupyter notebook -U\n",
            "\u001b[1;31mor\n",
            "\u001b[1;31mconda install jupyter notebook -U'\n",
            "Click <a href='https://aka.ms/installJupyterForVSCode'>here</a> for more info."
          ]
        }
      ],
      "source": [
        "sup_mh_exp"
      ]
    },
    {
      "cell_type": "code",
      "execution_count": null,
      "metadata": {
        "colab": {
          "base_uri": "https://localhost:8080/",
          "height": 542
        },
        "id": "ATX47D68JvPi",
        "outputId": "d4fcdd8b-0e24-40ff-ba86-8ace5ee9d78e"
      },
      "outputs": [
        {
          "ename": "",
          "evalue": "",
          "output_type": "error",
          "traceback": [
            "\u001b[1;31mJupyter cannot be started. Error attempting to locate Jupyter: Running cells with 'Python 3.10.6 64-bit' requires notebook package.\n",
            "\u001b[1;31mRun the following command to install 'jupyter and notebook' into the Python environment. \n",
            "\u001b[1;31mCommand: 'python -m pip install jupyter notebook -U\n",
            "\u001b[1;31mor\n",
            "\u001b[1;31mconda install jupyter notebook -U'\n",
            "Click <a href='https://aka.ms/installJupyterForVSCode'>here</a> for more info."
          ]
        }
      ],
      "source": [
        "import plotly.graph_objects as go\n",
        "years = ['2017', '2018', '2019', '2020', '2021']\n",
        "fig = go.Figure()\n",
        "fig.add_trace(go.Bar(x=years, y=sup_mh_exp,text=[str(x)+\"%\" for x in sup_mh_exp]))\n",
        "# fig.add_trace(go.Bar(x=x, y=neg_cons_list[1],name='Maybe',text=[str(x)+\"%\"  for x in neg_cons_list[1]]))\n",
        "# fig.add_trace(go.Bar(x=x, y=neg_cons_list[2],name='No',text=[str(x)+\"%\"  for x in neg_cons_list[2]]))\n",
        "\n",
        "fig.update_layout(xaxis_title='Year', yaxis_title='Fraction of employees who\\'ve observed or<br>experienced supportive response to<br>mental health issues in their workplace ')\n",
        "fig.show()\n",
        "#fig.savefig('mh_res.jpg')"
      ]
    },
    {
      "cell_type": "code",
      "execution_count": null,
      "metadata": {
        "colab": {
          "base_uri": "https://localhost:8080/",
          "height": 475
        },
        "id": "wo7qUdI8L8_-",
        "outputId": "64f54182-1299-4786-c12d-81d00444cb46"
      },
      "outputs": [
        {
          "ename": "",
          "evalue": "",
          "output_type": "error",
          "traceback": [
            "\u001b[1;31mJupyter cannot be started. Error attempting to locate Jupyter: Running cells with 'Python 3.10.6 64-bit' requires notebook package.\n",
            "\u001b[1;31mRun the following command to install 'jupyter and notebook' into the Python environment. \n",
            "\u001b[1;31mCommand: 'python -m pip install jupyter notebook -U\n",
            "\u001b[1;31mor\n",
            "\u001b[1;31mconda install jupyter notebook -U'\n",
            "Click <a href='https://aka.ms/installJupyterForVSCode'>here</a> for more info."
          ]
        }
      ],
      "source": [
        "import matplotlib.ticker as mtick\n",
        "from matplotlib.ticker import PercentFormatter\n",
        "years = ['2017', '2018', '2019', '2020', '2021']\n",
        "fig, ax = plt.subplots(figsize=(11,7))\n",
        "ax.plot(years,unsup_mh_exp)  # Plot some data on the axes.\n",
        "\n",
        "ax.yaxis.set_major_formatter(mtick.PercentFormatter(100))\n",
        "\n",
        "ax.set_xlabel('Year')  # Add an x-label to the axes.\n",
        "ax.set_ylabel('Fraction of employees experiencing\\nunsupportiveness towards their mental health issue')  # Add a y-label to the axes.\n",
        "ax.set_title(\"Unsupportiveness towards employees with mental health issue in workplace\")  # Add a title to the axes.\n",
        "\n",
        "ax.legend(); \n",
        "#plt.savefig('unsup_mh1.jpg')"
      ]
    },
    {
      "cell_type": "markdown",
      "metadata": {
        "id": "Ts_oEOq1QvKu"
      },
      "source": [
        "SUPPORTIVENESS TOWARDS A MENTAL HEALTH ISSUE IN WORKPLACE"
      ]
    },
    {
      "cell_type": "code",
      "execution_count": null,
      "metadata": {
        "id": "HwFAtr16Jyu1"
      },
      "outputs": [
        {
          "ename": "",
          "evalue": "",
          "output_type": "error",
          "traceback": [
            "\u001b[1;31mJupyter cannot be started. Error attempting to locate Jupyter: Running cells with 'Python 3.10.6 64-bit' requires notebook package.\n",
            "\u001b[1;31mRun the following command to install 'jupyter and notebook' into the Python environment. \n",
            "\u001b[1;31mCommand: 'python -m pip install jupyter notebook -U\n",
            "\u001b[1;31mor\n",
            "\u001b[1;31mconda install jupyter notebook -U'\n",
            "Click <a href='https://aka.ms/installJupyterForVSCode'>here</a> for more info."
          ]
        }
      ],
      "source": [
        "sup17=df17['<strong>Have you observed or experienced supportive or well handled response to a mental health issue in your current or previous workplace?</strong>']\n",
        "sup18=df18['<strong>Have you observed or experienced supportive or well handled response to a mental health issue in your current or previous workplace?</strong>']\n",
        "sup19=df19['Have you observed or experienced a *supportive or well handled response* to a mental health issue in your current or previous workplace?']\n",
        "sup20=df20['Have you observed or experienced a *supportive or well handled response* to a mental health issue in your current or previous workplace?']\n",
        "sup21=df21['Have you observed or experienced a *supportive or well handled response* to a mental health issue in your current or previous workplace?']       \n"
      ]
    },
    {
      "cell_type": "code",
      "execution_count": null,
      "metadata": {
        "colab": {
          "base_uri": "https://localhost:8080/"
        },
        "id": "TUPVduHIXVoN",
        "outputId": "8842daa8-340a-4518-820b-4dbea68b00e1"
      },
      "outputs": [
        {
          "ename": "",
          "evalue": "",
          "output_type": "error",
          "traceback": [
            "\u001b[1;31mJupyter cannot be started. Error attempting to locate Jupyter: Running cells with 'Python 3.10.6 64-bit' requires notebook package.\n",
            "\u001b[1;31mRun the following command to install 'jupyter and notebook' into the Python environment. \n",
            "\u001b[1;31mCommand: 'python -m pip install jupyter notebook -U\n",
            "\u001b[1;31mor\n",
            "\u001b[1;31mconda install jupyter notebook -U'\n",
            "Click <a href='https://aka.ms/installJupyterForVSCode'>here</a> for more info."
          ]
        }
      ],
      "source": [
        "print(sup17.unique())\n",
        "print(sup18.unique())\n",
        "print(sup19.unique())\n",
        "print(sup20.unique())\n",
        "print(sup21.unique())"
      ]
    },
    {
      "cell_type": "code",
      "execution_count": null,
      "metadata": {
        "id": "iOXlJTTrXYGT"
      },
      "outputs": [
        {
          "ename": "",
          "evalue": "",
          "output_type": "error",
          "traceback": [
            "\u001b[1;31mJupyter cannot be started. Error attempting to locate Jupyter: Running cells with 'Python 3.10.6 64-bit' requires notebook package.\n",
            "\u001b[1;31mRun the following command to install 'jupyter and notebook' into the Python environment. \n",
            "\u001b[1;31mCommand: 'python -m pip install jupyter notebook -U\n",
            "\u001b[1;31mor\n",
            "\u001b[1;31mconda install jupyter notebook -U'\n",
            "Click <a href='https://aka.ms/installJupyterForVSCode'>here</a> for more info."
          ]
        }
      ],
      "source": [
        "sup_cnt17=[0 for i in range(3)]\n",
        "sup_cnt18=[0 for i in range(3)]\n",
        "sup_cnt19=[0 for i in range(3)]\n",
        "sup_cnt20=[0 for i in range(3)]\n",
        "sup_cnt21=[0 for i in range(3)]"
      ]
    },
    {
      "cell_type": "code",
      "execution_count": null,
      "metadata": {
        "id": "6KM2y5Z9XhUK"
      },
      "outputs": [
        {
          "ename": "",
          "evalue": "",
          "output_type": "error",
          "traceback": [
            "\u001b[1;31mJupyter cannot be started. Error attempting to locate Jupyter: Running cells with 'Python 3.10.6 64-bit' requires notebook package.\n",
            "\u001b[1;31mRun the following command to install 'jupyter and notebook' into the Python environment. \n",
            "\u001b[1;31mCommand: 'python -m pip install jupyter notebook -U\n",
            "\u001b[1;31mor\n",
            "\u001b[1;31mconda install jupyter notebook -U'\n",
            "Click <a href='https://aka.ms/installJupyterForVSCode'>here</a> for more info."
          ]
        }
      ],
      "source": [
        "for t in sup17:\n",
        "  if(t=='Yes, I experienced'):\n",
        "    sup_cnt17[0]+=1\n",
        "  elif(t=='Yes, I observed'):\n",
        "    sup_cnt17[1]+=1\n",
        "  elif(t=='No'):\n",
        "    sup_cnt17[2]+=1\n",
        "  \n",
        "\n",
        "for t in sup18:\n",
        "  if(t=='Yes, I experienced'):\n",
        "    sup_cnt18[0]+=1\n",
        "  elif(t=='Yes, I observed'):\n",
        "    sup_cnt18[1]+=1\n",
        "  elif(t=='No'):\n",
        "    sup_cnt18[2]+=1\n",
        "\n",
        "for t in sup19:\n",
        "  if(t=='Yes, I experienced'):\n",
        "    sup_cnt19[0]+=1\n",
        "  elif(t=='Yes, I observed'):\n",
        "    sup_cnt19[1]+=1\n",
        "  elif(t=='No'):\n",
        "    sup_cnt19[2]+=1\n",
        "\n",
        "for t in sup20:\n",
        "  if(t=='Yes, I experienced'):\n",
        "    sup_cnt20[0]+=1\n",
        "  elif(t=='Yes, I observed'):\n",
        "    sup_cnt20[1]+=1\n",
        "  elif(t=='No'):\n",
        "    sup_cnt20[2]+=1\n",
        "\n",
        "for t in sup21:\n",
        "  if(t=='Yes, I experienced'):\n",
        "    sup_cnt21[0]+=1\n",
        "  elif(t=='Yes, I observed'):\n",
        "    sup_cnt21[1]+=1\n",
        "  elif(t=='No'):\n",
        "    sup_cnt21[2]+=1"
      ]
    },
    {
      "cell_type": "code",
      "execution_count": null,
      "metadata": {
        "id": "GsSFTIDAXuyJ"
      },
      "outputs": [
        {
          "ename": "",
          "evalue": "",
          "output_type": "error",
          "traceback": [
            "\u001b[1;31mJupyter cannot be started. Error attempting to locate Jupyter: Running cells with 'Python 3.10.6 64-bit' requires notebook package.\n",
            "\u001b[1;31mRun the following command to install 'jupyter and notebook' into the Python environment. \n",
            "\u001b[1;31mCommand: 'python -m pip install jupyter notebook -U\n",
            "\u001b[1;31mor\n",
            "\u001b[1;31mconda install jupyter notebook -U'\n",
            "Click <a href='https://aka.ms/installJupyterForVSCode'>here</a> for more info."
          ]
        }
      ],
      "source": [
        "sup_sum17=sum(sup_cnt17)\n",
        "sup_sum18=sum(sup_cnt18)\n",
        "sup_sum19=sum(sup_cnt19)\n",
        "sup_sum20=sum(sup_cnt20)\n",
        "sup_sum21=sum(sup_cnt21)\n",
        "# cal %\n",
        "for i in range(3):\n",
        "  sup_cnt17[i]=round((sup_cnt17[i]/sup_sum17)*100,1)\n",
        "  sup_cnt18[i]=round((sup_cnt18[i]/sup_sum18)*100,1)\n",
        "  sup_cnt19[i]=round((sup_cnt19[i]/sup_sum19)*100,1)\n",
        "  sup_cnt20[i]=round((sup_cnt20[i]/sup_sum20)*100,1)\n",
        "  sup_cnt21[i]=round((sup_cnt21[i]/sup_sum21)*100,1)"
      ]
    },
    {
      "cell_type": "code",
      "execution_count": null,
      "metadata": {
        "id": "RBpuxpYmX9Hi"
      },
      "outputs": [
        {
          "ename": "",
          "evalue": "",
          "output_type": "error",
          "traceback": [
            "\u001b[1;31mJupyter cannot be started. Error attempting to locate Jupyter: Running cells with 'Python 3.10.6 64-bit' requires notebook package.\n",
            "\u001b[1;31mRun the following command to install 'jupyter and notebook' into the Python environment. \n",
            "\u001b[1;31mCommand: 'python -m pip install jupyter notebook -U\n",
            "\u001b[1;31mor\n",
            "\u001b[1;31mconda install jupyter notebook -U'\n",
            "Click <a href='https://aka.ms/installJupyterForVSCode'>here</a> for more info."
          ]
        }
      ],
      "source": [
        "sup_exp=[sup_cnt17[0], sup_cnt18[0], sup_cnt19[0], sup_cnt20[0], sup_cnt21[0]]\n",
        "sup_obs=[sup_cnt17[1], sup_cnt18[1], sup_cnt19[1], sup_cnt20[1], sup_cnt21[1]]\n",
        "sup=[sup_cnt17[0]+sup_cnt17[1], sup_cnt18[0]+sup_cnt18[1], sup_cnt19[0]+sup_cnt19[1], sup_cnt20[0]+sup_cnt20[1], sup_cnt21[0]+sup_cnt21[1]]\n",
        "sup_no= [sup_cnt17[2], sup_cnt18[2], sup_cnt19[2], sup_cnt20[2], sup_cnt21[2]]"
      ]
    },
    {
      "cell_type": "code",
      "execution_count": null,
      "metadata": {
        "colab": {
          "base_uri": "https://localhost:8080/",
          "height": 542
        },
        "id": "vI4UKJexLBdj",
        "outputId": "4ed0602a-a382-4ba8-e765-ab90138dc04e"
      },
      "outputs": [
        {
          "ename": "",
          "evalue": "",
          "output_type": "error",
          "traceback": [
            "\u001b[1;31mJupyter cannot be started. Error attempting to locate Jupyter: Running cells with 'Python 3.10.6 64-bit' requires notebook package.\n",
            "\u001b[1;31mRun the following command to install 'jupyter and notebook' into the Python environment. \n",
            "\u001b[1;31mCommand: 'python -m pip install jupyter notebook -U\n",
            "\u001b[1;31mor\n",
            "\u001b[1;31mconda install jupyter notebook -U'\n",
            "Click <a href='https://aka.ms/installJupyterForVSCode'>here</a> for more info."
          ]
        }
      ],
      "source": [
        "import plotly.graph_objects as go\n",
        "years = ['2017', '2018', '2019', '2020', '2021']\n",
        "fig = go.Figure()\n",
        "fig.add_trace(go.Bar(x=years, y=sup,text=[str(x)+\"%\" for x in sup]))\n",
        "# fig.add_trace(go.Bar(x=x, y=neg_cons_list[1],name='Maybe',text=[str(x)+\"%\"  for x in neg_cons_list[1]]))\n",
        "# fig.add_trace(go.Bar(x=x, y=neg_cons_list[2],name='No',text=[str(x)+\"%\"  for x in neg_cons_list[2]]))\n",
        "\n",
        "fig.update_layout(xaxis_title='Year', yaxis_title='Fraction of employees who\\'ve observed or<br>experienced supportive response to<br>mental health issue in their workplace ')\n",
        "fig.show()\n",
        "#fig.savefig('mh_res.jpg')"
      ]
    },
    {
      "cell_type": "code",
      "execution_count": null,
      "metadata": {
        "colab": {
          "base_uri": "https://localhost:8080/"
        },
        "id": "0NSGn5qyYSp9",
        "outputId": "76ad5e32-94cd-4fcf-cecf-41c4c0162887"
      },
      "outputs": [
        {
          "ename": "",
          "evalue": "",
          "output_type": "error",
          "traceback": [
            "\u001b[1;31mJupyter cannot be started. Error attempting to locate Jupyter: Running cells with 'Python 3.10.6 64-bit' requires notebook package.\n",
            "\u001b[1;31mRun the following command to install 'jupyter and notebook' into the Python environment. \n",
            "\u001b[1;31mCommand: 'python -m pip install jupyter notebook -U\n",
            "\u001b[1;31mor\n",
            "\u001b[1;31mconda install jupyter notebook -U'\n",
            "Click <a href='https://aka.ms/installJupyterForVSCode'>here</a> for more info."
          ]
        }
      ],
      "source": [
        "print(sup_cnt17)\n",
        "print(sup_cnt18)\n",
        "print(sup_cnt19)\n",
        "print(sup_cnt20)\n",
        "print(sup_cnt21)"
      ]
    },
    {
      "cell_type": "code",
      "execution_count": null,
      "metadata": {
        "id": "0ONe1dFXZ7V-"
      },
      "outputs": [
        {
          "ename": "",
          "evalue": "",
          "output_type": "error",
          "traceback": [
            "\u001b[1;31mJupyter cannot be started. Error attempting to locate Jupyter: Running cells with 'Python 3.10.6 64-bit' requires notebook package.\n",
            "\u001b[1;31mRun the following command to install 'jupyter and notebook' into the Python environment. \n",
            "\u001b[1;31mCommand: 'python -m pip install jupyter notebook -U\n",
            "\u001b[1;31mor\n",
            "\u001b[1;31mconda install jupyter notebook -U'\n",
            "Click <a href='https://aka.ms/installJupyterForVSCode'>here</a> for more info."
          ]
        }
      ],
      "source": [
        "\n",
        "#Rating=['1', '2', '3', '4', '5']\n",
        "sup_data= np.array([sup_cnt17, sup_cnt18, sup_cnt19, sup_cnt20, sup_cnt21]).T\n",
        "sup_data_list=sup_data.tolist()"
      ]
    },
    {
      "cell_type": "code",
      "execution_count": null,
      "metadata": {
        "colab": {
          "base_uri": "https://localhost:8080/"
        },
        "id": "_uu13SoBarRv",
        "outputId": "fb6c97ba-dbeb-4788-c779-10863fafaa62"
      },
      "outputs": [
        {
          "ename": "",
          "evalue": "",
          "output_type": "error",
          "traceback": [
            "\u001b[1;31mJupyter cannot be started. Error attempting to locate Jupyter: Running cells with 'Python 3.10.6 64-bit' requires notebook package.\n",
            "\u001b[1;31mRun the following command to install 'jupyter and notebook' into the Python environment. \n",
            "\u001b[1;31mCommand: 'python -m pip install jupyter notebook -U\n",
            "\u001b[1;31mor\n",
            "\u001b[1;31mconda install jupyter notebook -U'\n",
            "Click <a href='https://aka.ms/installJupyterForVSCode'>here</a> for more info."
          ]
        }
      ],
      "source": [
        "sup_data_list"
      ]
    },
    {
      "cell_type": "code",
      "execution_count": null,
      "metadata": {
        "colab": {
          "base_uri": "https://localhost:8080/",
          "height": 542
        },
        "id": "AR3-Xgq0ad0N",
        "outputId": "36c1eaf2-12c6-4cf9-e418-65c6c28b1fc7"
      },
      "outputs": [
        {
          "ename": "",
          "evalue": "",
          "output_type": "error",
          "traceback": [
            "\u001b[1;31mJupyter cannot be started. Error attempting to locate Jupyter: Running cells with 'Python 3.10.6 64-bit' requires notebook package.\n",
            "\u001b[1;31mRun the following command to install 'jupyter and notebook' into the Python environment. \n",
            "\u001b[1;31mCommand: 'python -m pip install jupyter notebook -U\n",
            "\u001b[1;31mor\n",
            "\u001b[1;31mconda install jupyter notebook -U'\n",
            "Click <a href='https://aka.ms/installJupyterForVSCode'>here</a> for more info."
          ]
        }
      ],
      "source": [
        "import plotly.graph_objects as go\n",
        "x = ['2017', '2018', '2019', '2020', '2021']\n",
        "\n",
        "fig = go.Figure()\n",
        "fig.add_trace(go.Bar(x=x, y=sup_data_list[0], name='Supportiveness experienced',text=[str(x)+\"%\" for x in sup_data_list[0]]))\n",
        "fig.add_trace(go.Bar(x=x, y=sup_data_list[1],name='Supportiveness observed',text=[str(x)+\"%\"  for x in sup_data_list[1]]))\n",
        "fig.add_trace(go.Bar(x=x, y=sup_data_list[2],name='Supportiveness neither<br>observed nor experienced',text=[str(x)+\"%\"  for x in sup_data_list[2]]))\n",
        "\n",
        "fig.update_layout(barmode='stack', xaxis_title='Year', yaxis_title='Fraction of employees who\\'ve observed or<br>experienced supportive response to<br>mental health issues in their workplace ')\n",
        "#fig.savefig('rating_tech_supp.jpg')\n",
        "fig.show()\n"
      ]
    },
    {
      "cell_type": "markdown",
      "metadata": {
        "id": "tQXhh_08G8cb"
      },
      "source": [
        "Importance placed on physical and mental health by employer "
      ]
    },
    {
      "cell_type": "code",
      "execution_count": null,
      "metadata": {
        "id": "ru2W8rGVHIl3"
      },
      "outputs": [
        {
          "ename": "",
          "evalue": "",
          "output_type": "error",
          "traceback": [
            "\u001b[1;31mJupyter cannot be started. Error attempting to locate Jupyter: Running cells with 'Python 3.10.6 64-bit' requires notebook package.\n",
            "\u001b[1;31mRun the following command to install 'jupyter and notebook' into the Python environment. \n",
            "\u001b[1;31mCommand: 'python -m pip install jupyter notebook -U\n",
            "\u001b[1;31mor\n",
            "\u001b[1;31mconda install jupyter notebook -U'\n",
            "Click <a href='https://aka.ms/installJupyterForVSCode'>here</a> for more info."
          ]
        }
      ],
      "source": [
        "imp_ph17=df17['Overall, how much importance does your employer place on physical health?']\n",
        "imp_ph18=df18['Overall, how much importance does your employer place on physical health?']\n",
        "imp_ph19=df19['Overall, how much importance does your employer place on physical health?']\n",
        "imp_ph20=df20['Overall, how much importance does your employer place on physical health?']\n",
        "imp_ph21=df21['Overall, how much importance does your employer place on physical health?']       \n"
      ]
    },
    {
      "cell_type": "code",
      "execution_count": null,
      "metadata": {
        "id": "g2y9Lk4THIiN"
      },
      "outputs": [
        {
          "ename": "",
          "evalue": "",
          "output_type": "error",
          "traceback": [
            "\u001b[1;31mJupyter cannot be started. Error attempting to locate Jupyter: Running cells with 'Python 3.10.6 64-bit' requires notebook package.\n",
            "\u001b[1;31mRun the following command to install 'jupyter and notebook' into the Python environment. \n",
            "\u001b[1;31mCommand: 'python -m pip install jupyter notebook -U\n",
            "\u001b[1;31mor\n",
            "\u001b[1;31mconda install jupyter notebook -U'\n",
            "Click <a href='https://aka.ms/installJupyterForVSCode'>here</a> for more info."
          ]
        }
      ],
      "source": [
        "imp_mh17=df17['Overall, how much importance does your employer place on mental health?']\n",
        "imp_mh18=df18['Overall, how much importance does your employer place on mental health?']\n",
        "imp_mh19=df19['Overall, how much importance does your employer place on mental health?']\n",
        "imp_mh20=df20['Overall, how much importance does your employer place on mental health?']\n",
        "imp_mh21=df21['Overall, how much importance does your employer place on mental health?']       \n"
      ]
    },
    {
      "cell_type": "code",
      "execution_count": null,
      "metadata": {
        "id": "MmEOqDRMHIf7"
      },
      "outputs": [
        {
          "ename": "",
          "evalue": "",
          "output_type": "error",
          "traceback": [
            "\u001b[1;31mJupyter cannot be started. Error attempting to locate Jupyter: Running cells with 'Python 3.10.6 64-bit' requires notebook package.\n",
            "\u001b[1;31mRun the following command to install 'jupyter and notebook' into the Python environment. \n",
            "\u001b[1;31mCommand: 'python -m pip install jupyter notebook -U\n",
            "\u001b[1;31mor\n",
            "\u001b[1;31mconda install jupyter notebook -U'\n",
            "Click <a href='https://aka.ms/installJupyterForVSCode'>here</a> for more info."
          ]
        }
      ],
      "source": [
        "imp_ph_avg17 = round(np.nanmean(np.array(imp_ph17)),1)\n",
        "imp_ph_avg18=round(np.nanmean(np.array(imp_ph18)),1)\n",
        "imp_ph_avg19=round(np.nanmean(np.array(imp_ph19)),1)\n",
        "imp_ph_avg20=round(np.nanmean(np.array(imp_ph20)),1)\n",
        "imp_ph_avg21=round(np.nanmean(np.array(imp_ph21)),1)\n",
        "imp_mh_avg17=round(np.nanmean(np.array(imp_mh17)),1)\n",
        "imp_mh_avg18=round(np.nanmean(np.array(imp_mh18)),1)\n",
        "imp_mh_avg19=round(np.nanmean(np.array(imp_mh19)),1)\n",
        "imp_mh_avg20=round(np.nanmean(np.array(imp_mh20)),1)\n",
        "imp_mh_avg21=round(np.nanmean(np.array(imp_mh21)),1)\n"
      ]
    },
    {
      "cell_type": "code",
      "execution_count": null,
      "metadata": {
        "id": "iqSeQ2DUK_fG"
      },
      "outputs": [
        {
          "ename": "",
          "evalue": "",
          "output_type": "error",
          "traceback": [
            "\u001b[1;31mJupyter cannot be started. Error attempting to locate Jupyter: Running cells with 'Python 3.10.6 64-bit' requires notebook package.\n",
            "\u001b[1;31mRun the following command to install 'jupyter and notebook' into the Python environment. \n",
            "\u001b[1;31mCommand: 'python -m pip install jupyter notebook -U\n",
            "\u001b[1;31mor\n",
            "\u001b[1;31mconda install jupyter notebook -U'\n",
            "Click <a href='https://aka.ms/installJupyterForVSCode'>here</a> for more info."
          ]
        }
      ],
      "source": [
        "imp_ph_data= [imp_ph_avg17, imp_ph_avg18, imp_ph_avg19, imp_ph_avg20, imp_ph_avg21]\n",
        "imp_mh_data= [imp_mh_avg17, imp_mh_avg18, imp_mh_avg19, imp_mh_avg20, imp_mh_avg21]\n",
        "#rate_data_list=rate_data.tolist()"
      ]
    },
    {
      "cell_type": "code",
      "execution_count": null,
      "metadata": {
        "colab": {
          "base_uri": "https://localhost:8080/",
          "height": 464
        },
        "id": "1Ul6ZQP_a-sT",
        "outputId": "3fcdf938-d6b7-4aa6-faea-c6d61c1fbb3f"
      },
      "outputs": [
        {
          "ename": "",
          "evalue": "",
          "output_type": "error",
          "traceback": [
            "\u001b[1;31mJupyter cannot be started. Error attempting to locate Jupyter: Running cells with 'Python 3.10.6 64-bit' requires notebook package.\n",
            "\u001b[1;31mRun the following command to install 'jupyter and notebook' into the Python environment. \n",
            "\u001b[1;31mCommand: 'python -m pip install jupyter notebook -U\n",
            "\u001b[1;31mor\n",
            "\u001b[1;31mconda install jupyter notebook -U'\n",
            "Click <a href='https://aka.ms/installJupyterForVSCode'>here</a> for more info."
          ]
        }
      ],
      "source": [
        "width = 0.40\n",
        "years = ['2017', '2018', '2019', '2020', '2021']\n",
        "x = np.arange(5)  \n",
        "# plot data in grouped manner of bar type\n",
        "fig, ax = plt.subplots(figsize=(12,7))\n",
        "ph=plt.bar(x-0.2, imp_ph_data, width)\n",
        "mh=plt.bar(x+0.2, imp_mh_data, width)\n",
        "plt.xticks(x, years)\n",
        "plt.xlabel(\"Year\")\n",
        "plt.ylabel(\"Averge rating of importance placed on\\nphysical and mental health by employers\")\n",
        "# ph.bar_label(ph.containers[0])\n",
        "# mh.bar_label(mh.containers[0])\n",
        "plt.legend([\"Physical Health\", \"Mental Health\"],bbox_to_anchor =(0.62, 1.07), ncol = 2)\n",
        "for p in ax.patches:\n",
        "    ax.annotate(s=np.round(p.get_height(), decimals=2),xy=(p.get_x()+p.get_width()/2., p.get_height()),ha='center',va='center',xytext=(0, 10),textcoords='offset points')\n",
        "#plt.title(\"Rating the importance placed by employers on physical and mental health on scale of 1-10\")\n",
        "plt.savefig('imp_ph_mh1.jpg')\n",
        "plt.show()"
      ]
    },
    {
      "cell_type": "code",
      "execution_count": null,
      "metadata": {
        "colab": {
          "base_uri": "https://localhost:8080/",
          "height": 458
        },
        "id": "XkcD4GWhI3_L",
        "outputId": "4cfca3c7-5160-468b-cf64-7d3c867ab10f"
      },
      "outputs": [
        {
          "ename": "",
          "evalue": "",
          "output_type": "error",
          "traceback": [
            "\u001b[1;31mJupyter cannot be started. Error attempting to locate Jupyter: Running cells with 'Python 3.10.6 64-bit' requires notebook package.\n",
            "\u001b[1;31mRun the following command to install 'jupyter and notebook' into the Python environment. \n",
            "\u001b[1;31mCommand: 'python -m pip install jupyter notebook -U\n",
            "\u001b[1;31mor\n",
            "\u001b[1;31mconda install jupyter notebook -U'\n",
            "Click <a href='https://aka.ms/installJupyterForVSCode'>here</a> for more info."
          ]
        }
      ],
      "source": [
        "years = ['2017', '2018', '2019', '2020', '2021']\n",
        "fig, ax = plt.subplots(figsize=(11,7))\n",
        "ax.plot(years,imp_ph_data, label='Physical Health')  # Plot some data on the axes.\n",
        "ax.plot(years,imp_mh_data, label='Mental Health')  # Plot more data on the axes...\n",
        "#ax.yaxis.set_major_formatter(mtick.PercentFormatter(100))\n",
        "\n",
        "ax.set_xlabel('Year')  # Add an x-label to the axes.\n",
        "ax.set_ylabel(\"Averge rating of employer's importance on\\nphysical and mental health\")  # Add a y-label to the axes.\n",
        "ax.set_title(\"Rating the importance placed by employers on physical and mental health on a scale of 1-10\")  # Add a title to the axes.\n",
        "ax.legend(); \n",
        "plt.savefig('imp_ph_mh.jpg')"
      ]
    },
    {
      "cell_type": "markdown",
      "metadata": {
        "id": "g0JXQXEsPT_z"
      },
      "source": [
        "Employees' openness to discuss mental health issues"
      ]
    },
    {
      "cell_type": "code",
      "execution_count": null,
      "metadata": {
        "id": "Ngg1k2VMJEbt"
      },
      "outputs": [
        {
          "ename": "",
          "evalue": "",
          "output_type": "error",
          "traceback": [
            "\u001b[1;31mJupyter cannot be started. Error attempting to locate Jupyter: Running cells with 'Python 3.10.6 64-bit' requires notebook package.\n",
            "\u001b[1;31mRun the following command to install 'jupyter and notebook' into the Python environment. \n",
            "\u001b[1;31mCommand: 'python -m pip install jupyter notebook -U\n",
            "\u001b[1;31mor\n",
            "\u001b[1;31mconda install jupyter notebook -U'\n",
            "Click <a href='https://aka.ms/installJupyterForVSCode'>here</a> for more info."
          ]
        }
      ],
      "source": [
        "dis_emp17=df17['Have you ever discussed your mental health with your employer?']\n",
        "dis_emp18=df18['Have you ever discussed your mental health with your employer?']\n",
        "dis_emp19=df19['Have you ever discussed your mental health with your employer?']\n",
        "dis_emp20=df20['Have you ever discussed your mental health with your employer?']\n",
        "dis_emp21=df21['Have you ever discussed your mental health with your employer?']       \n",
        "dis_cow17=df17['Have you ever discussed your mental health with coworkers?']\n",
        "dis_cow18=df18['Have you ever discussed your mental health with coworkers?']\n",
        "dis_cow19=df19['Have you ever discussed your mental health with coworkers?']\n",
        "dis_cow20=df20['Have you ever discussed your mental health with coworkers?']\n",
        "dis_cow21=df21['Have you ever discussed your mental health with coworkers?']       \n",
        "dis_cow_an_cow17=df17[\"Have you ever had a coworker discuss their or another coworker's mental health with you?\"]\n",
        "dis_cow_an_cow18=df18[\"Have you ever had a coworker discuss their or another coworker's mental health with you?\"]\n",
        "dis_cow_an_cow19=df19[\"Have you ever had a coworker discuss their or another coworker's mental health with you?\"]\n",
        "dis_cow_an_cow20=df20[\"Have you ever had a coworker discuss their or another coworker's mental health with you?\"]\n",
        "dis_cow_an_cow21=df21[\"Have you ever had a coworker discuss their or another coworker's mental health with you?\"] "
      ]
    },
    {
      "cell_type": "code",
      "execution_count": null,
      "metadata": {
        "id": "v_IZQPzz3YX3"
      },
      "outputs": [
        {
          "ename": "",
          "evalue": "",
          "output_type": "error",
          "traceback": [
            "\u001b[1;31mJupyter cannot be started. Error attempting to locate Jupyter: Running cells with 'Python 3.10.6 64-bit' requires notebook package.\n",
            "\u001b[1;31mRun the following command to install 'jupyter and notebook' into the Python environment. \n",
            "\u001b[1;31mCommand: 'python -m pip install jupyter notebook -U\n",
            "\u001b[1;31mor\n",
            "\u001b[1;31mconda install jupyter notebook -U'\n",
            "Click <a href='https://aka.ms/installJupyterForVSCode'>here</a> for more info."
          ]
        }
      ],
      "source": [
        "dis_emp_cnt17=round(np.nansum(np.array(dis_emp17))/len(dis_emp17)*100,1)\n",
        "dis_emp_cnt18=round(np.nansum(np.array(dis_emp18))/len(dis_emp18)*100,1)\n",
        "dis_emp_cnt19=round(np.nansum(np.array(dis_emp19))/len(dis_emp19)*100,1)\n",
        "dis_emp_cnt20=round(np.nansum(np.array(dis_emp20))/len(dis_emp20)*100,1)\n",
        "dis_emp_cnt21=round(np.nansum(np.array(dis_emp21))/len(dis_emp21)*100,1)\n",
        "dis_cow_cnt17=round(np.nansum(np.array(dis_cow17))/len(dis_cow17)*100,1)\n",
        "dis_cow_cnt18=round(np.nansum(np.array(dis_cow18))/len(dis_cow18)*100,1)\n",
        "dis_cow_cnt19=round(np.nansum(np.array(dis_cow19))/len(dis_cow19)*100,1)\n",
        "dis_cow_cnt20=round(np.nansum(np.array(dis_cow20))/len(dis_cow20)*100,1)\n",
        "dis_cow_cnt21=round(np.nansum(np.array(dis_cow21))/len(dis_cow21)*100,1)\n",
        "dis_cow_an_cow_cnt17=round(np.nansum(np.array(dis_cow_an_cow17))/len(dis_cow_an_cow17)*100,1)\n",
        "dis_cow_an_cow_cnt18=round(np.nansum(np.array(dis_cow_an_cow18))/len(dis_cow_an_cow18)*100,1)\n",
        "dis_cow_an_cow_cnt19=round(np.nansum(np.array(dis_cow_an_cow19))/len(dis_cow_an_cow19)*100,1)\n",
        "dis_cow_an_cow_cnt20=round(np.nansum(np.array(dis_cow_an_cow20))/len(dis_cow_an_cow20)*100,1)\n",
        "dis_cow_an_cow_cnt21=round(np.nansum(np.array(dis_cow_an_cow21))/len(dis_cow_an_cow21)*100,1)\n"
      ]
    },
    {
      "cell_type": "code",
      "execution_count": null,
      "metadata": {
        "id": "oLANpLZ-7s0N"
      },
      "outputs": [
        {
          "ename": "",
          "evalue": "",
          "output_type": "error",
          "traceback": [
            "\u001b[1;31mJupyter cannot be started. Error attempting to locate Jupyter: Running cells with 'Python 3.10.6 64-bit' requires notebook package.\n",
            "\u001b[1;31mRun the following command to install 'jupyter and notebook' into the Python environment. \n",
            "\u001b[1;31mCommand: 'python -m pip install jupyter notebook -U\n",
            "\u001b[1;31mor\n",
            "\u001b[1;31mconda install jupyter notebook -U'\n",
            "Click <a href='https://aka.ms/installJupyterForVSCode'>here</a> for more info."
          ]
        }
      ],
      "source": [
        "dis_emp=[dis_emp_cnt17,dis_emp_cnt18,dis_emp_cnt19,dis_emp_cnt20,dis_emp_cnt21]\n",
        "dis_cow=[dis_cow_cnt17,dis_cow_cnt18,dis_cow_cnt19,dis_cow_cnt20,dis_cow_cnt21]\n",
        "dis_cow_an_cow=[dis_cow_an_cow_cnt17,dis_cow_an_cow_cnt18,dis_cow_an_cow_cnt19,dis_cow_an_cow_cnt20,dis_cow_an_cow_cnt21]"
      ]
    },
    {
      "cell_type": "code",
      "execution_count": null,
      "metadata": {
        "colab": {
          "base_uri": "https://localhost:8080/",
          "height": 458
        },
        "id": "IHTaWbsc6t2a",
        "outputId": "650707bd-4bfb-4ca9-fe3e-79365f4d9bdd"
      },
      "outputs": [
        {
          "ename": "",
          "evalue": "",
          "output_type": "error",
          "traceback": [
            "\u001b[1;31mJupyter cannot be started. Error attempting to locate Jupyter: Running cells with 'Python 3.10.6 64-bit' requires notebook package.\n",
            "\u001b[1;31mRun the following command to install 'jupyter and notebook' into the Python environment. \n",
            "\u001b[1;31mCommand: 'python -m pip install jupyter notebook -U\n",
            "\u001b[1;31mor\n",
            "\u001b[1;31mconda install jupyter notebook -U'\n",
            "Click <a href='https://aka.ms/installJupyterForVSCode'>here</a> for more info."
          ]
        }
      ],
      "source": [
        "import matplotlib.ticker as mtick\n",
        "from matplotlib.ticker import PercentFormatter\n",
        "years = ['2017', '2018', '2019', '2020', '2021']\n",
        "fig, ax = plt.subplots(figsize=(11,7))\n",
        "ax.plot(years,dis_emp, label='Discussion with employer')  # Plot some data on the axes.\n",
        "ax.plot(years,dis_cow, label='Discussion with coworker')  # Plot more data on the axes...\n",
        "#ax.plot(years,dis_cow_an_cow, label=\"Coworker discussing another coworker's mental health\")\n",
        "ax.yaxis.set_major_formatter(mtick.PercentFormatter(100))\n",
        "\n",
        "ax.set_xlabel('Year')  # Add an x-label to the axes.\n",
        "ax.set_ylabel('Fraction of employees discussing mental health issues in workplace')  # Add a y-label to the axes.\n",
        "ax.set_title(\"Employees' openness to discuss mental health issues\")  # Add a title to the axes.\n",
        "#plt.savefig('unsup_mh.jpg')\n",
        "ax.legend(); \n"
      ]
    },
    {
      "cell_type": "code",
      "execution_count": null,
      "metadata": {
        "colab": {
          "base_uri": "https://localhost:8080/",
          "height": 542
        },
        "id": "t9ruXqP0OVQU",
        "outputId": "7f643d32-618f-4837-f1fb-98010fa5f4bb"
      },
      "outputs": [
        {
          "ename": "",
          "evalue": "",
          "output_type": "error",
          "traceback": [
            "\u001b[1;31mJupyter cannot be started. Error attempting to locate Jupyter: Running cells with 'Python 3.10.6 64-bit' requires notebook package.\n",
            "\u001b[1;31mRun the following command to install 'jupyter and notebook' into the Python environment. \n",
            "\u001b[1;31mCommand: 'python -m pip install jupyter notebook -U\n",
            "\u001b[1;31mor\n",
            "\u001b[1;31mconda install jupyter notebook -U'\n",
            "Click <a href='https://aka.ms/installJupyterForVSCode'>here</a> for more info."
          ]
        }
      ],
      "source": [
        "import plotly.graph_objects as go\n",
        "\n",
        "\n",
        "fig = go.Figure(data=[\n",
        "    go.Bar(name='Discussion with employer', x=years, y=dis_emp,text=[str(x)+\"%\" for x in dis_emp]),\n",
        "    go.Bar(name='Discussion with co-worker', x=years, y=dis_cow,text=[str(x)+\"%\" for x in dis_cow])])\n",
        "# Change the bar mode\n",
        "\n",
        "fig.update_layout(barmode='group', xaxis_title='Year', yaxis_title='Fraction of employees discussing<br>mental health issues in workplace')\n",
        "fig.show()"
      ]
    },
    {
      "cell_type": "code",
      "execution_count": null,
      "metadata": {
        "colab": {
          "base_uri": "https://localhost:8080/"
        },
        "id": "u-Le4Cum8lBm",
        "outputId": "7c7795bd-c0cb-4d20-e235-c10d192a2fd5"
      },
      "outputs": [
        {
          "ename": "",
          "evalue": "",
          "output_type": "error",
          "traceback": [
            "\u001b[1;31mJupyter cannot be started. Error attempting to locate Jupyter: Running cells with 'Python 3.10.6 64-bit' requires notebook package.\n",
            "\u001b[1;31mRun the following command to install 'jupyter and notebook' into the Python environment. \n",
            "\u001b[1;31mCommand: 'python -m pip install jupyter notebook -U\n",
            "\u001b[1;31mor\n",
            "\u001b[1;31mconda install jupyter notebook -U'\n",
            "Click <a href='https://aka.ms/installJupyterForVSCode'>here</a> for more info."
          ]
        }
      ],
      "source": [
        "print(dis_emp)\n",
        "print(dis_cow)\n",
        "print(dis_cow_an_cow)"
      ]
    },
    {
      "cell_type": "code",
      "execution_count": null,
      "metadata": {
        "colab": {
          "base_uri": "https://localhost:8080/"
        },
        "id": "v7IC5KDr8z8U",
        "outputId": "06bc4c0c-7e17-40fe-edff-aca9771752d6"
      },
      "outputs": [
        {
          "ename": "",
          "evalue": "",
          "output_type": "error",
          "traceback": [
            "\u001b[1;31mJupyter cannot be started. Error attempting to locate Jupyter: Running cells with 'Python 3.10.6 64-bit' requires notebook package.\n",
            "\u001b[1;31mRun the following command to install 'jupyter and notebook' into the Python environment. \n",
            "\u001b[1;31mCommand: 'python -m pip install jupyter notebook -U\n",
            "\u001b[1;31mor\n",
            "\u001b[1;31mconda install jupyter notebook -U'\n",
            "Click <a href='https://aka.ms/installJupyterForVSCode'>here</a> for more info."
          ]
        }
      ],
      "source": [
        "dis_cow_an_cow_cnt21"
      ]
    },
    {
      "cell_type": "markdown",
      "metadata": {
        "id": "8TT07c1nG0li"
      },
      "source": [
        "Steps taken by employers towards mental healthcare in workplace"
      ]
    },
    {
      "cell_type": "code",
      "execution_count": null,
      "metadata": {
        "id": "hdl98aF_8_UN"
      },
      "outputs": [
        {
          "ename": "",
          "evalue": "",
          "output_type": "error",
          "traceback": [
            "\u001b[1;31mJupyter cannot be started. Error attempting to locate Jupyter: Running cells with 'Python 3.10.6 64-bit' requires notebook package.\n",
            "\u001b[1;31mRun the following command to install 'jupyter and notebook' into the Python environment. \n",
            "\u001b[1;31mCommand: 'python -m pip install jupyter notebook -U\n",
            "\u001b[1;31mor\n",
            "\u001b[1;31mconda install jupyter notebook -U'\n",
            "Click <a href='https://aka.ms/installJupyterForVSCode'>here</a> for more info."
          ]
        }
      ],
      "source": [
        "ben_emp17=df17['Does your employer provide mental health benefits as part of healthcare coverage?']\n",
        "ben_emp18=df18['Does your employer provide mental health benefits as part of healthcare coverage?']\n",
        "ben_emp19=df19['Does your employer provide mental health benefits as part of healthcare coverage?']\n",
        "ben_emp20=df20['Does your employer provide mental health benefits as part of healthcare coverage?']\n",
        "ben_emp21=df21['Does your employer provide mental health benefits as part of healthcare coverage?']     \n",
        "dis_form17=df17['Has your employer ever formally discussed mental health (for example, as part of a wellness campaign or other official communication)?']\n",
        "dis_form18=df18['Has your employer ever formally discussed mental health (for example, as part of a wellness campaign or other official communication)?']\n",
        "dis_form19=df19['Has your employer ever formally discussed mental health (for example, as part of a wellness campaign or other official communication)?']\n",
        "dis_form20=df20['Has your employer ever formally discussed mental health (for example, as part of a wellness campaign or other official communication)?']\n",
        "dis_form21=df21['Has your employer ever formally discussed mental health (for example, as part of a wellness campaign or other official communication)?']       \n",
        "res17=df17[\"Does your employer offer resources to learn more about mental health disorders and options for seeking help?\"]\n",
        "res18=df18[\"Does your employer offer resources to learn more about mental health disorders and options for seeking help?\"]\n",
        "res19=df19[\"Does your employer offer resources to learn more about mental health disorders and options for seeking help?\"]\n",
        "res20=df20[\"Does your employer offer resources to learn more about mental health disorders and options for seeking help?\"]\n",
        "res21=df21[\"Does your employer offer resources to learn more about mental health disorders and options for seeking help?\"] "
      ]
    },
    {
      "cell_type": "code",
      "execution_count": null,
      "metadata": {
        "id": "WsNYAwzNIBJt"
      },
      "outputs": [
        {
          "ename": "",
          "evalue": "",
          "output_type": "error",
          "traceback": [
            "\u001b[1;31mJupyter cannot be started. Error attempting to locate Jupyter: Running cells with 'Python 3.10.6 64-bit' requires notebook package.\n",
            "\u001b[1;31mRun the following command to install 'jupyter and notebook' into the Python environment. \n",
            "\u001b[1;31mCommand: 'python -m pip install jupyter notebook -U\n",
            "\u001b[1;31mor\n",
            "\u001b[1;31mconda install jupyter notebook -U'\n",
            "Click <a href='https://aka.ms/installJupyterForVSCode'>here</a> for more info."
          ]
        }
      ],
      "source": [
        "from collections import Counter\n",
        "ben_emp_cnt17=round(Counter(ben_emp17)['Yes']/len(ben_emp17)*100,1)\n",
        "ben_emp_cnt18=round(Counter(ben_emp18)['Yes']/len(ben_emp18)*100,1)\n",
        "ben_emp_cnt19=round(Counter(ben_emp19)['Yes']/len(ben_emp19)*100,1)\n",
        "ben_emp_cnt20=round(Counter(ben_emp20)['Yes']/len(ben_emp20)*100,1)\n",
        "ben_emp_cnt21=round(Counter(ben_emp21)['Yes']/len(ben_emp21)*100,1)     \n",
        "dis_form_cnt17=round(Counter(dis_form17)['Yes']/len(dis_form17)*100,1) \n",
        "dis_form_cnt18=round(Counter(dis_form18)['Yes']/len(dis_form18)*100,1) \n",
        "dis_form_cnt19=round(Counter(dis_form19)['Yes']/len(dis_form19)*100,1) \n",
        "dis_form_cnt20=round(Counter(dis_form20)['Yes']/len(dis_form20)*100,1) \n",
        "dis_form_cnt21=round(Counter(dis_form21)['Yes']/len(dis_form21)*100,1) \n",
        "res_cnt17=round(Counter(res17)['Yes']/len(res17)*100,1)\n",
        "res_cnt18=round(Counter(res18)['Yes']/len(res18)*100,1)\n",
        "res_cnt19=round(Counter(res19)['Yes']/len(res19)*100,1)\n",
        "res_cnt20=round(Counter(res20)['Yes']/len(res20)*100,1)\n",
        "res_cnt21=round(Counter(res21)['Yes']/len(res21)*100,1)"
      ]
    },
    {
      "cell_type": "code",
      "execution_count": null,
      "metadata": {
        "colab": {
          "base_uri": "https://localhost:8080/"
        },
        "id": "lFOHgESznePR",
        "outputId": "3b2e9020-7cd7-47c8-f9ea-75255326722b"
      },
      "outputs": [
        {
          "ename": "",
          "evalue": "",
          "output_type": "error",
          "traceback": [
            "\u001b[1;31mJupyter cannot be started. Error attempting to locate Jupyter: Running cells with 'Python 3.10.6 64-bit' requires notebook package.\n",
            "\u001b[1;31mRun the following command to install 'jupyter and notebook' into the Python environment. \n",
            "\u001b[1;31mCommand: 'python -m pip install jupyter notebook -U\n",
            "\u001b[1;31mor\n",
            "\u001b[1;31mconda install jupyter notebook -U'\n",
            "Click <a href='https://aka.ms/installJupyterForVSCode'>here</a> for more info."
          ]
        }
      ],
      "source": [
        "employers17=df17[df17['<strong>Are you self-employed?</strong>']==0]['<strong>Are you self-employed?</strong>'].count()\n",
        "employers18=df18[df18['<strong>Are you self-employed?</strong>']==0]['<strong>Are you self-employed?</strong>'].count()\n",
        "employers19=df19[df19['*Are you self-employed?*']==0]['*Are you self-employed?*'].count()\n",
        "employers20=df20[df20['*Are you self-employed?*']==0]['*Are you self-employed?*'].count()\n",
        "employers21=df21[df21['*Are you self-employed?*']==0]['*Are you self-employed?*'].count()\n",
        "print(employers17)\n",
        "print(employers18)\n",
        "print(employers19)\n",
        "print(employers20)\n",
        "print(employers21)"
      ]
    },
    {
      "cell_type": "code",
      "execution_count": null,
      "metadata": {
        "colab": {
          "base_uri": "https://localhost:8080/"
        },
        "id": "yq7og56Rmu7I",
        "outputId": "29deb05c-1c70-48d0-fc54-04eb669c42e9"
      },
      "outputs": [
        {
          "ename": "",
          "evalue": "",
          "output_type": "error",
          "traceback": [
            "\u001b[1;31mJupyter cannot be started. Error attempting to locate Jupyter: Running cells with 'Python 3.10.6 64-bit' requires notebook package.\n",
            "\u001b[1;31mRun the following command to install 'jupyter and notebook' into the Python environment. \n",
            "\u001b[1;31mCommand: 'python -m pip install jupyter notebook -U\n",
            "\u001b[1;31mor\n",
            "\u001b[1;31mconda install jupyter notebook -U'\n",
            "Click <a href='https://aka.ms/installJupyterForVSCode'>here</a> for more info."
          ]
        }
      ],
      "source": [
        "ben_emp1_cnt17=round(df17[(df17['Does your employer provide mental health benefits as part of healthcare coverage?']=='Yes') & (df17['<strong>Are you self-employed?</strong>']==0)]['<strong>Are you self-employed?</strong>'].count()/employers17*100,1)\n",
        "ben_emp1_cnt18=round(df18[(df18['Does your employer provide mental health benefits as part of healthcare coverage?']=='Yes') & (df18['<strong>Are you self-employed?</strong>']==0)]['<strong>Are you self-employed?</strong>'].count()/employers18*100,1)\n",
        "ben_emp1_cnt19=round(df19[(df19['Does your employer provide mental health benefits as part of healthcare coverage?']=='Yes') & (df19['*Are you self-employed?*']==0)]['*Are you self-employed?*'].count()/employers19*100,1)\n",
        "ben_emp1_cnt20=round(df20[(df20['Does your employer provide mental health benefits as part of healthcare coverage?']=='Yes') & (df20['*Are you self-employed?*']==0)]['*Are you self-employed?*'].count()/employers20*100,1)\n",
        "ben_emp1_cnt21=round(df21[(df21['Does your employer provide mental health benefits as part of healthcare coverage?']=='Yes') & (df21['*Are you self-employed?*']==0)]['*Are you self-employed?*'].count()/employers21*100,1)\n",
        "print(ben_emp1_cnt17)\n",
        "print(ben_emp1_cnt18)\n",
        "print(ben_emp1_cnt19)\n",
        "print(ben_emp1_cnt20)\n",
        "print(ben_emp1_cnt21)"
      ]
    },
    {
      "cell_type": "code",
      "execution_count": null,
      "metadata": {
        "id": "71Rd4y5SmjWg"
      },
      "outputs": [
        {
          "ename": "",
          "evalue": "",
          "output_type": "error",
          "traceback": [
            "\u001b[1;31mJupyter cannot be started. Error attempting to locate Jupyter: Running cells with 'Python 3.10.6 64-bit' requires notebook package.\n",
            "\u001b[1;31mRun the following command to install 'jupyter and notebook' into the Python environment. \n",
            "\u001b[1;31mCommand: 'python -m pip install jupyter notebook -U\n",
            "\u001b[1;31mor\n",
            "\u001b[1;31mconda install jupyter notebook -U'\n",
            "Click <a href='https://aka.ms/installJupyterForVSCode'>here</a> for more info."
          ]
        }
      ],
      "source": []
    },
    {
      "cell_type": "code",
      "execution_count": null,
      "metadata": {
        "id": "uo4ncpp8IUIM"
      },
      "outputs": [
        {
          "ename": "",
          "evalue": "",
          "output_type": "error",
          "traceback": [
            "\u001b[1;31mJupyter cannot be started. Error attempting to locate Jupyter: Running cells with 'Python 3.10.6 64-bit' requires notebook package.\n",
            "\u001b[1;31mRun the following command to install 'jupyter and notebook' into the Python environment. \n",
            "\u001b[1;31mCommand: 'python -m pip install jupyter notebook -U\n",
            "\u001b[1;31mor\n",
            "\u001b[1;31mconda install jupyter notebook -U'\n",
            "Click <a href='https://aka.ms/installJupyterForVSCode'>here</a> for more info."
          ]
        }
      ],
      "source": [
        "ben_emp=[ben_emp_cnt17,ben_emp_cnt18,ben_emp_cnt19,ben_emp_cnt20,ben_emp_cnt21]\n",
        "dis_form=[dis_form_cnt17,dis_form_cnt18,dis_form_cnt19,dis_form_cnt20,dis_form_cnt21]\n",
        "res=[res_cnt17,res_cnt18,res_cnt19,res_cnt20,res_cnt21]"
      ]
    },
    {
      "cell_type": "code",
      "execution_count": null,
      "metadata": {
        "colab": {
          "base_uri": "https://localhost:8080/",
          "height": 458
        },
        "id": "heh1KrxcJ4ow",
        "outputId": "350a8c00-2610-49fa-977c-925b2f88b934"
      },
      "outputs": [
        {
          "ename": "",
          "evalue": "",
          "output_type": "error",
          "traceback": [
            "\u001b[1;31mJupyter cannot be started. Error attempting to locate Jupyter: Running cells with 'Python 3.10.6 64-bit' requires notebook package.\n",
            "\u001b[1;31mRun the following command to install 'jupyter and notebook' into the Python environment. \n",
            "\u001b[1;31mCommand: 'python -m pip install jupyter notebook -U\n",
            "\u001b[1;31mor\n",
            "\u001b[1;31mconda install jupyter notebook -U'\n",
            "Click <a href='https://aka.ms/installJupyterForVSCode'>here</a> for more info."
          ]
        }
      ],
      "source": [
        "import matplotlib.ticker as mtick\n",
        "from matplotlib.ticker import PercentFormatter\n",
        "years = ['2017', '2018', '2019', '2020', '2021']\n",
        "fig, ax = plt.subplots(figsize=(11,7))\n",
        "#ax.plot(years,ben_emp, label='Mental health benfits by employer')  # Plot some data on the axes.\n",
        "#ax.plot(years,dis_form, label='Formal discussion on mental health by employer')  # Plot more data on the axes...\n",
        "ax.plot(years,res, label=\"Mental healthcare related resources offered by employer\")\n",
        "ax.yaxis.set_major_formatter(mtick.PercentFormatter(100))\n",
        "\n",
        "ax.set_xlabel('Year')  # Add an x-label to the axes.\n",
        "ax.set_ylabel('Fraction of employers taking steps towards mental healthcare in workplace')  # Add a y-label to the axes.\n",
        "ax.set_title(\"Steps taken by employers towards mental healthcare in workplace\")  # Add a title to the axes.\n",
        "#plt.savefig('unsup_mh.jpg')\n",
        "ax.legend(); \n"
      ]
    },
    {
      "cell_type": "code",
      "execution_count": null,
      "metadata": {
        "colab": {
          "base_uri": "https://localhost:8080/",
          "height": 542
        },
        "id": "_dwS2SDulouY",
        "outputId": "510e0648-0027-4321-8f93-8f9f42101897"
      },
      "outputs": [
        {
          "ename": "",
          "evalue": "",
          "output_type": "error",
          "traceback": [
            "\u001b[1;31mJupyter cannot be started. Error attempting to locate Jupyter: Running cells with 'Python 3.10.6 64-bit' requires notebook package.\n",
            "\u001b[1;31mRun the following command to install 'jupyter and notebook' into the Python environment. \n",
            "\u001b[1;31mCommand: 'python -m pip install jupyter notebook -U\n",
            "\u001b[1;31mor\n",
            "\u001b[1;31mconda install jupyter notebook -U'\n",
            "Click <a href='https://aka.ms/installJupyterForVSCode'>here</a> for more info."
          ]
        }
      ],
      "source": [
        "import plotly.graph_objects as go\n",
        "years = ['2017', '2018', '2019', '2020', '2021']\n",
        "fig = go.Figure()\n",
        "fig.add_trace(go.Bar(x=years, y=ben_emp,text=[str(x)+\"%\" for x in ben_emp]))\n",
        "# fig.add_trace(go.Bar(x=x, y=neg_cons_list[1],name='Maybe',text=[str(x)+\"%\"  for x in neg_cons_list[1]]))\n",
        "# fig.add_trace(go.Bar(x=x, y=neg_cons_list[2],name='No',text=[str(x)+\"%\"  for x in neg_cons_list[2]]))\n",
        "\n",
        "fig.update_layout(xaxis_title='Year', yaxis_title='Fraction of employers providing employees<br> mental health benefits as<br>part of healthcare coverage')\n",
        "fig.show()\n",
        "#fig.savefig('mh_res.jpg')"
      ]
    },
    {
      "cell_type": "code",
      "execution_count": null,
      "metadata": {
        "colab": {
          "base_uri": "https://localhost:8080/",
          "height": 542
        },
        "id": "a9tfds2FLoas",
        "outputId": "997317fb-6b57-478c-f76b-2122a9a98fb7"
      },
      "outputs": [
        {
          "ename": "",
          "evalue": "",
          "output_type": "error",
          "traceback": [
            "\u001b[1;31mJupyter cannot be started. Error attempting to locate Jupyter: Running cells with 'Python 3.10.6 64-bit' requires notebook package.\n",
            "\u001b[1;31mRun the following command to install 'jupyter and notebook' into the Python environment. \n",
            "\u001b[1;31mCommand: 'python -m pip install jupyter notebook -U\n",
            "\u001b[1;31mor\n",
            "\u001b[1;31mconda install jupyter notebook -U'\n",
            "Click <a href='https://aka.ms/installJupyterForVSCode'>here</a> for more info."
          ]
        }
      ],
      "source": [
        "import plotly.graph_objects as go\n",
        "years = ['2017', '2018', '2019', '2020', '2021']\n",
        "fig = go.Figure()\n",
        "fig.add_trace(go.Bar(x=years, y=res,text=[str(x)+\"%\" for x in res]))\n",
        "# fig.add_trace(go.Bar(x=x, y=neg_cons_list[1],name='Maybe',text=[str(x)+\"%\"  for x in neg_cons_list[1]]))\n",
        "# fig.add_trace(go.Bar(x=x, y=neg_cons_list[2],name='No',text=[str(x)+\"%\"  for x in neg_cons_list[2]]))\n",
        "\n",
        "fig.update_layout(xaxis_title='Year', yaxis_title='Fraction of employers providing employees<br>with mental healthcare related resources<br>and options to seek help')\n",
        "fig.show()\n",
        "#fig.savefig('mh_res.jpg')"
      ]
    },
    {
      "cell_type": "code",
      "execution_count": null,
      "metadata": {
        "colab": {
          "base_uri": "https://localhost:8080/",
          "height": 542
        },
        "id": "17rsGLHnIuwX",
        "outputId": "e03d6872-9a6e-40a9-d015-5b9c4e0f443b"
      },
      "outputs": [
        {
          "ename": "",
          "evalue": "",
          "output_type": "error",
          "traceback": [
            "\u001b[1;31mJupyter cannot be started. Error attempting to locate Jupyter: Running cells with 'Python 3.10.6 64-bit' requires notebook package.\n",
            "\u001b[1;31mRun the following command to install 'jupyter and notebook' into the Python environment. \n",
            "\u001b[1;31mCommand: 'python -m pip install jupyter notebook -U\n",
            "\u001b[1;31mor\n",
            "\u001b[1;31mconda install jupyter notebook -U'\n",
            "Click <a href='https://aka.ms/installJupyterForVSCode'>here</a> for more info."
          ]
        }
      ],
      "source": [
        "import plotly.graph_objects as go\n",
        "years = ['2017', '2018', '2019', '2020', '2021']\n",
        "fig = go.Figure()\n",
        "fig.add_trace(go.Bar(x=years, y=dis_form,text=[str(x)+\"%\" for x in dis_form]))\n",
        "# fig.add_trace(go.Bar(x=x, y=neg_cons_list[1],name='Maybe',text=[str(x)+\"%\"  for x in neg_cons_list[1]]))\n",
        "# fig.add_trace(go.Bar(x=x, y=neg_cons_list[2],name='No',text=[str(x)+\"%\"  for x in neg_cons_list[2]]))\n",
        "\n",
        "fig.update_layout(xaxis_title='Year', yaxis_title='Fraction of employers formally discussing<br>about mental health with employees')\n",
        "fig.show()\n",
        "#fig.savefig('mh_res.jpg')"
      ]
    },
    {
      "cell_type": "code",
      "execution_count": null,
      "metadata": {
        "colab": {
          "base_uri": "https://localhost:8080/"
        },
        "id": "1n8YeNDTJLfP",
        "outputId": "800d8731-1c96-43fd-b7f2-daa83bc5c925"
      },
      "outputs": [
        {
          "ename": "",
          "evalue": "",
          "output_type": "error",
          "traceback": [
            "\u001b[1;31mJupyter cannot be started. Error attempting to locate Jupyter: Running cells with 'Python 3.10.6 64-bit' requires notebook package.\n",
            "\u001b[1;31mRun the following command to install 'jupyter and notebook' into the Python environment. \n",
            "\u001b[1;31mCommand: 'python -m pip install jupyter notebook -U\n",
            "\u001b[1;31mor\n",
            "\u001b[1;31mconda install jupyter notebook -U'\n",
            "Click <a href='https://aka.ms/installJupyterForVSCode'>here</a> for more info."
          ]
        }
      ],
      "source": [
        "dis_form"
      ]
    },
    {
      "cell_type": "code",
      "execution_count": null,
      "metadata": {
        "colab": {
          "base_uri": "https://localhost:8080/"
        },
        "id": "U0p-iaOyJ8Jx",
        "outputId": "944be96c-5f2b-43bb-a8f6-d6fc9e3a443d"
      },
      "outputs": [
        {
          "ename": "",
          "evalue": "",
          "output_type": "error",
          "traceback": [
            "\u001b[1;31mJupyter cannot be started. Error attempting to locate Jupyter: Running cells with 'Python 3.10.6 64-bit' requires notebook package.\n",
            "\u001b[1;31mRun the following command to install 'jupyter and notebook' into the Python environment. \n",
            "\u001b[1;31mCommand: 'python -m pip install jupyter notebook -U\n",
            "\u001b[1;31mor\n",
            "\u001b[1;31mconda install jupyter notebook -U'\n",
            "Click <a href='https://aka.ms/installJupyterForVSCode'>here</a> for more info."
          ]
        }
      ],
      "source": [
        "print(ben_emp)\n",
        "print(dis_form)\n",
        "print(res)"
      ]
    },
    {
      "cell_type": "code",
      "execution_count": null,
      "metadata": {
        "id": "gRDv1kEGLjSG"
      },
      "outputs": [
        {
          "ename": "",
          "evalue": "",
          "output_type": "error",
          "traceback": [
            "\u001b[1;31mJupyter cannot be started. Error attempting to locate Jupyter: Running cells with 'Python 3.10.6 64-bit' requires notebook package.\n",
            "\u001b[1;31mRun the following command to install 'jupyter and notebook' into the Python environment. \n",
            "\u001b[1;31mCommand: 'python -m pip install jupyter notebook -U\n",
            "\u001b[1;31mor\n",
            "\u001b[1;31mconda install jupyter notebook -U'\n",
            "Click <a href='https://aka.ms/installJupyterForVSCode'>here</a> for more info."
          ]
        }
      ],
      "source": [
        "no_res_cnt17=round(Counter(res17)['No']/len(res17)*100,1)\n",
        "no_res_cnt18=round(Counter(res18)['No']/len(res18)*100,1)\n",
        "no_res_cnt19=round(Counter(res19)['No']/len(res19)*100,1)\n",
        "no_res_cnt20=round(Counter(res20)['No']/len(res20)*100,1)\n",
        "no_res_cnt21=round(Counter(res21)['No']/len(res21)*100,1)\n",
        "no_res=[no_res_cnt17,no_res_cnt18,no_res_cnt19,no_res_cnt20,no_res_cnt21]"
      ]
    },
    {
      "cell_type": "code",
      "execution_count": null,
      "metadata": {
        "colab": {
          "base_uri": "https://localhost:8080/"
        },
        "id": "X9dCgjqCNaNT",
        "outputId": "31ee05ce-c454-4466-8434-05c2de59f4f1"
      },
      "outputs": [
        {
          "ename": "",
          "evalue": "",
          "output_type": "error",
          "traceback": [
            "\u001b[1;31mJupyter cannot be started. Error attempting to locate Jupyter: Running cells with 'Python 3.10.6 64-bit' requires notebook package.\n",
            "\u001b[1;31mRun the following command to install 'jupyter and notebook' into the Python environment. \n",
            "\u001b[1;31mCommand: 'python -m pip install jupyter notebook -U\n",
            "\u001b[1;31mor\n",
            "\u001b[1;31mconda install jupyter notebook -U'\n",
            "Click <a href='https://aka.ms/installJupyterForVSCode'>here</a> for more info."
          ]
        }
      ],
      "source": [
        "no_res"
      ]
    },
    {
      "cell_type": "code",
      "execution_count": null,
      "metadata": {
        "colab": {
          "base_uri": "https://localhost:8080/",
          "height": 458
        },
        "id": "ExDRRap0NbJ2",
        "outputId": "02533533-7dca-48b9-9b36-f56350d5a68f"
      },
      "outputs": [
        {
          "ename": "",
          "evalue": "",
          "output_type": "error",
          "traceback": [
            "\u001b[1;31mJupyter cannot be started. Error attempting to locate Jupyter: Running cells with 'Python 3.10.6 64-bit' requires notebook package.\n",
            "\u001b[1;31mRun the following command to install 'jupyter and notebook' into the Python environment. \n",
            "\u001b[1;31mCommand: 'python -m pip install jupyter notebook -U\n",
            "\u001b[1;31mor\n",
            "\u001b[1;31mconda install jupyter notebook -U'\n",
            "Click <a href='https://aka.ms/installJupyterForVSCode'>here</a> for more info."
          ]
        }
      ],
      "source": [
        "import matplotlib.ticker as mtick\n",
        "from matplotlib.ticker import PercentFormatter\n",
        "years = ['2017', '2018', '2019', '2020', '2021']\n",
        "fig, ax = plt.subplots(figsize=(11,7))\n",
        "ax.plot(years,ben_emp, label='Mental health benfits by employer')  # Plot some data on the axes.\n",
        "ax.plot(years,dis_form, label='Formal discussion on mental health by employer')  # Plot more data on the axes...\n",
        "ax.plot(years,res, label=\"Mental healthcare related resources offered by employer\")\n",
        "ax.plot(years,no_res, label=\"No mental healthcare related resources offered by employer\")\n",
        "ax.yaxis.set_major_formatter(mtick.PercentFormatter(100))\n",
        "\n",
        "ax.set_xlabel('Year')  # Add an x-label to the axes.\n",
        "ax.set_ylabel('Fraction of employers taking steps towards mental healthcare in workplace')  # Add a y-label to the axes.\n",
        "ax.set_title(\"Steps taken by employers towards mental healthcare in workplace\")  # Add a title to the axes.\n",
        "#plt.savefig('unsup_mh.jpg')\n",
        "ax.legend(); \n"
      ]
    },
    {
      "cell_type": "markdown",
      "metadata": {
        "id": "p2svE284gCR5"
      },
      "source": [
        "fraction of employees currently having mental health disorder"
      ]
    },
    {
      "cell_type": "code",
      "execution_count": null,
      "metadata": {
        "id": "Je-_mbtYgGfD"
      },
      "outputs": [
        {
          "ename": "",
          "evalue": "",
          "output_type": "error",
          "traceback": [
            "\u001b[1;31mJupyter cannot be started. Error attempting to locate Jupyter: Running cells with 'Python 3.10.6 64-bit' requires notebook package.\n",
            "\u001b[1;31mRun the following command to install 'jupyter and notebook' into the Python environment. \n",
            "\u001b[1;31mCommand: 'python -m pip install jupyter notebook -U\n",
            "\u001b[1;31mor\n",
            "\u001b[1;31mconda install jupyter notebook -U'\n",
            "Click <a href='https://aka.ms/installJupyterForVSCode'>here</a> for more info."
          ]
        }
      ],
      "source": [
        "cur_dis17=df17['Do you currently have a mental health disorder?']\n",
        "cur_dis18=df18['Do you currently have a mental health disorder?']\n",
        "cur_dis19=df19['Do you *currently* have a mental health disorder?']\n",
        "cur_dis20=df20['Do you *currently* have a mental health disorder?']\n",
        "cur_dis21=df21['Do you *currently* have a mental health disorder?']       \n",
        "from collections import Counter\n",
        "cur_dis_cnt17=round(Counter(cur_dis17)['Yes']/len(cur_dis17)*100,1)\n",
        "cur_dis_cnt18=round(Counter(cur_dis18)['Yes']/len(cur_dis18)*100,1)\n",
        "cur_dis_cnt19=round(Counter(cur_dis19)['Yes']/len(cur_dis19)*100,1)\n",
        "cur_dis_cnt20=round(Counter(cur_dis20)['Yes']/len(cur_dis20)*100,1)\n",
        "cur_dis_cnt21=round(Counter(cur_dis21)['Yes']/len(cur_dis21)*100,1) "
      ]
    },
    {
      "cell_type": "code",
      "execution_count": null,
      "metadata": {
        "colab": {
          "base_uri": "https://localhost:8080/"
        },
        "id": "PO77MmI-sBs2",
        "outputId": "08bcba55-d646-4c86-d8f9-18e6fc45e131"
      },
      "outputs": [
        {
          "ename": "",
          "evalue": "",
          "output_type": "error",
          "traceback": [
            "\u001b[1;31mJupyter cannot be started. Error attempting to locate Jupyter: Running cells with 'Python 3.10.6 64-bit' requires notebook package.\n",
            "\u001b[1;31mRun the following command to install 'jupyter and notebook' into the Python environment. \n",
            "\u001b[1;31mCommand: 'python -m pip install jupyter notebook -U\n",
            "\u001b[1;31mor\n",
            "\u001b[1;31mconda install jupyter notebook -U'\n",
            "Click <a href='https://aka.ms/installJupyterForVSCode'>here</a> for more info."
          ]
        }
      ],
      "source": [
        "cnt=0\n",
        "age_cnt=0\n",
        "for i in range(len(df17['What is your age?'])):\n",
        "  if (df17.iloc[i,48]=='Yes' and (df17.iloc[i,112]>=18 and df17.iloc[i,112]<=24 )):\n",
        "    cnt+=1\n",
        "  if (df17.iloc[i,112]>=18 and df17.iloc[i,112]<=24):\n",
        "    age_cnt+=1\n",
        "print(cnt/age_cnt)\n",
        "# for i in range(df17.shape[1]):\n",
        "#   print(i, df17.columns[i])"
      ]
    },
    {
      "cell_type": "code",
      "execution_count": null,
      "metadata": {
        "colab": {
          "base_uri": "https://localhost:8080/",
          "height": 53
        },
        "id": "7wnV-nxKuhlj",
        "outputId": "455f59ff-cd49-4942-ccc2-707579d4c500"
      },
      "outputs": [
        {
          "ename": "",
          "evalue": "",
          "output_type": "error",
          "traceback": [
            "\u001b[1;31mJupyter cannot be started. Error attempting to locate Jupyter: Running cells with 'Python 3.10.6 64-bit' requires notebook package.\n",
            "\u001b[1;31mRun the following command to install 'jupyter and notebook' into the Python environment. \n",
            "\u001b[1;31mCommand: 'python -m pip install jupyter notebook -U\n",
            "\u001b[1;31mor\n",
            "\u001b[1;31mconda install jupyter notebook -U'\n",
            "Click <a href='https://aka.ms/installJupyterForVSCode'>here</a> for more info."
          ]
        }
      ],
      "source": [
        "print(df17.iloc[0,112])\n",
        "df17.columns[112]"
      ]
    },
    {
      "cell_type": "code",
      "execution_count": null,
      "metadata": {
        "id": "QT8JAzZNLn51"
      },
      "outputs": [
        {
          "ename": "",
          "evalue": "",
          "output_type": "error",
          "traceback": [
            "\u001b[1;31mJupyter cannot be started. Error attempting to locate Jupyter: Running cells with 'Python 3.10.6 64-bit' requires notebook package.\n",
            "\u001b[1;31mRun the following command to install 'jupyter and notebook' into the Python environment. \n",
            "\u001b[1;31mCommand: 'python -m pip install jupyter notebook -U\n",
            "\u001b[1;31mor\n",
            "\u001b[1;31mconda install jupyter notebook -U'\n",
            "Click <a href='https://aka.ms/installJupyterForVSCode'>here</a> for more info."
          ]
        }
      ],
      "source": [
        "cur1_dis17=df17[(df17['Do you currently have a mental health disorder?']=='Yes') & (df17['What is your age?'] >=18) & (df17['What is your age?']<=24)]['What is your age?'].count()/df17[(df17['What is your age?'] >=18) & (df17['What is your age?']<=24)]['What is your age?'].count()\n",
        "cur1_dis18=df18[(df18['Do you currently have a mental health disorder?']=='Yes') & (df18['What is your age?'] >=18) & (df18['What is your age?']<=24)]['What is your age?'].count()/df18[(df18['What is your age?'] >=18) & (df18['What is your age?']<=24)]['What is your age?'].count()\n",
        "cur1_dis19=df19[(df19['Do you *currently* have a mental health disorder?']=='Yes') & (df19['What is your age?'] >=18) & (df19['What is your age?']<=24)]['What is your age?'].count()/df19[(df19['What is your age?'] >=18) & (df19['What is your age?']<=24)]['What is your age?'].count()\n",
        "cur1_dis20=df20[(df20['Do you *currently* have a mental health disorder?']=='Yes') & (df20['What is your age?'] >=18) & (df20['What is your age?']<=24)]['What is your age?'].count()/df20[(df20['What is your age?'] >=18) & (df20['What is your age?']<=24)]['What is your age?'].count()\n",
        "cur1_dis21=df21[(df21['Do you *currently* have a mental health disorder?']=='Yes') & (df21['What is your age?'] >=18) & (df21['What is your age?']<=24)]['What is your age?'].count()/df21[(df21['What is your age?'] >=18) & (df21['What is your age?']<=24)]['What is your age?'].count()"
      ]
    },
    {
      "cell_type": "code",
      "execution_count": null,
      "metadata": {
        "colab": {
          "base_uri": "https://localhost:8080/"
        },
        "id": "rkR-tJ6zs3oX",
        "outputId": "c5cbcbf7-6785-4448-8f60-efafcf57c068"
      },
      "outputs": [
        {
          "ename": "",
          "evalue": "",
          "output_type": "error",
          "traceback": [
            "\u001b[1;31mJupyter cannot be started. Error attempting to locate Jupyter: Running cells with 'Python 3.10.6 64-bit' requires notebook package.\n",
            "\u001b[1;31mRun the following command to install 'jupyter and notebook' into the Python environment. \n",
            "\u001b[1;31mCommand: 'python -m pip install jupyter notebook -U\n",
            "\u001b[1;31mor\n",
            "\u001b[1;31mconda install jupyter notebook -U'\n",
            "Click <a href='https://aka.ms/installJupyterForVSCode'>here</a> for more info."
          ]
        }
      ],
      "source": [
        "print(round(cur1_dis17*100,1))\n",
        "print(round(cur1_dis18*100,1))\n",
        "print(round(cur1_dis19*100,1))\n",
        "print(round(cur1_dis20*100,1))\n",
        "print(round(cur1_dis21*100,1))"
      ]
    },
    {
      "cell_type": "code",
      "execution_count": null,
      "metadata": {
        "id": "quZVs4hAs3rH"
      },
      "outputs": [
        {
          "ename": "",
          "evalue": "",
          "output_type": "error",
          "traceback": [
            "\u001b[1;31mJupyter cannot be started. Error attempting to locate Jupyter: Running cells with 'Python 3.10.6 64-bit' requires notebook package.\n",
            "\u001b[1;31mRun the following command to install 'jupyter and notebook' into the Python environment. \n",
            "\u001b[1;31mCommand: 'python -m pip install jupyter notebook -U\n",
            "\u001b[1;31mor\n",
            "\u001b[1;31mconda install jupyter notebook -U'\n",
            "Click <a href='https://aka.ms/installJupyterForVSCode'>here</a> for more info."
          ]
        }
      ],
      "source": [
        "cur1_dis17=df17[(df17['Do you currently have a mental health disorder?']=='Yes') & (df17['What is your age?'] >=18) & (df17['What is your age?']<=25)]['What is your age?'].count()/df17[(df17['What is your age?'] >=18) & (df17['What is your age?']<=25)]['What is your age?'].count()\n",
        "cur1_dis18=df18[(df18['Do you currently have a mental health disorder?']=='Yes') & (df18['What is your age?'] >=18) & (df18['What is your age?']<=25)]['What is your age?'].count()/df18[(df18['What is your age?'] >=18) & (df18['What is your age?']<=25)]['What is your age?'].count()\n",
        "cur1_dis19=df19[(df19['Do you *currently* have a mental health disorder?']=='Yes') & (df19['What is your age?'] >=18) & (df19['What is your age?']<=25)]['What is your age?'].count()/df19[(df19['What is your age?'] >=18) & (df19['What is your age?']<=25)]['What is your age?'].count()\n",
        "cur1_dis20=df20[(df20['Do you *currently* have a mental health disorder?']=='Yes') & (df20['What is your age?'] >=18) & (df20['What is your age?']<=25)]['What is your age?'].count()/df20[(df20['What is your age?'] >=18) & (df20['What is your age?']<=25)]['What is your age?'].count()\n",
        "cur1_dis21=df21[(df21['Do you *currently* have a mental health disorder?']=='Yes') & (df21['What is your age?'] >=18) & (df21['What is your age?']<=25)]['What is your age?'].count()/df21[(df21['What is your age?'] >=18) & (df21['What is your age?']<=25)]['What is your age?'].count()"
      ]
    },
    {
      "cell_type": "code",
      "execution_count": null,
      "metadata": {
        "id": "EH6-N-TYs3u3"
      },
      "outputs": [
        {
          "ename": "",
          "evalue": "",
          "output_type": "error",
          "traceback": [
            "\u001b[1;31mJupyter cannot be started. Error attempting to locate Jupyter: Running cells with 'Python 3.10.6 64-bit' requires notebook package.\n",
            "\u001b[1;31mRun the following command to install 'jupyter and notebook' into the Python environment. \n",
            "\u001b[1;31mCommand: 'python -m pip install jupyter notebook -U\n",
            "\u001b[1;31mor\n",
            "\u001b[1;31mconda install jupyter notebook -U'\n",
            "Click <a href='https://aka.ms/installJupyterForVSCode'>here</a> for more info."
          ]
        }
      ],
      "source": [
        "cur2_dis17=df17[(df17['Do you currently have a mental health disorder?']=='Yes') & (df17['What is your age?'] >=26) & (df17['What is your age?']<=45)]['What is your age?'].count()/df17[(df17['What is your age?'] >=26) & (df17['What is your age?']<=45)]['What is your age?'].count()\n",
        "cur2_dis18=df18[(df18['Do you currently have a mental health disorder?']=='Yes') & (df18['What is your age?'] >=26) & (df18['What is your age?']<=45)]['What is your age?'].count()/df18[(df18['What is your age?'] >=26) & (df18['What is your age?']<=45)]['What is your age?'].count()\n",
        "cur2_dis19=df19[(df19['Do you *currently* have a mental health disorder?']=='Yes') & (df19['What is your age?'] >=26) & (df19['What is your age?']<=45)]['What is your age?'].count()/df19[(df19['What is your age?'] >=26) & (df19['What is your age?']<=45)]['What is your age?'].count()\n",
        "cur2_dis20=df20[(df20['Do you *currently* have a mental health disorder?']=='Yes') & (df20['What is your age?'] >=26) & (df20['What is your age?']<=45)]['What is your age?'].count()/df20[(df20['What is your age?'] >=26) & (df20['What is your age?']<=45)]['What is your age?'].count()\n",
        "cur2_dis21=df21[(df21['Do you *currently* have a mental health disorder?']=='Yes') & (df21['What is your age?'] >=26) & (df21['What is your age?']<=45)]['What is your age?'].count()/df21[(df21['What is your age?'] >=26) & (df21['What is your age?']<=45)]['What is your age?'].count()"
      ]
    },
    {
      "cell_type": "code",
      "execution_count": null,
      "metadata": {
        "id": "S-fY5nDXv-67"
      },
      "outputs": [
        {
          "ename": "",
          "evalue": "",
          "output_type": "error",
          "traceback": [
            "\u001b[1;31mJupyter cannot be started. Error attempting to locate Jupyter: Running cells with 'Python 3.10.6 64-bit' requires notebook package.\n",
            "\u001b[1;31mRun the following command to install 'jupyter and notebook' into the Python environment. \n",
            "\u001b[1;31mCommand: 'python -m pip install jupyter notebook -U\n",
            "\u001b[1;31mor\n",
            "\u001b[1;31mconda install jupyter notebook -U'\n",
            "Click <a href='https://aka.ms/installJupyterForVSCode'>here</a> for more info."
          ]
        }
      ],
      "source": [
        "cur3_dis17=df17[(df17['Do you currently have a mental health disorder?']=='Yes') & (df17['What is your age?'] >=46) & (df17['What is your age?']<=65)]['What is your age?'].count()/df17[(df17['What is your age?'] >=46) & (df17['What is your age?']<=65)]['What is your age?'].count()\n",
        "cur3_dis18=df18[(df18['Do you currently have a mental health disorder?']=='Yes') & (df18['What is your age?'] >=46) & (df18['What is your age?']<=65)]['What is your age?'].count()/df18[(df18['What is your age?'] >=46) & (df18['What is your age?']<=65)]['What is your age?'].count()\n",
        "cur3_dis19=df19[(df19['Do you *currently* have a mental health disorder?']=='Yes') & (df19['What is your age?'] >=46) & (df19['What is your age?']<=65)]['What is your age?'].count()/df19[(df19['What is your age?'] >=46) & (df19['What is your age?']<=65)]['What is your age?'].count()\n",
        "cur3_dis20=df20[(df20['Do you *currently* have a mental health disorder?']=='Yes') & (df20['What is your age?'] >=46) & (df20['What is your age?']<=65)]['What is your age?'].count()/df20[(df20['What is your age?'] >=46) & (df20['What is your age?']<=65)]['What is your age?'].count()\n",
        "cur3_dis21=df21[(df21['Do you *currently* have a mental health disorder?']=='Yes') & (df21['What is your age?'] >=46) & (df21['What is your age?']<=65)]['What is your age?'].count()/df21[(df21['What is your age?'] >=46) & (df21['What is your age?']<=65)]['What is your age?'].count()"
      ]
    },
    {
      "cell_type": "code",
      "execution_count": null,
      "metadata": {
        "id": "plV0_1n7v--n"
      },
      "outputs": [
        {
          "ename": "",
          "evalue": "",
          "output_type": "error",
          "traceback": [
            "\u001b[1;31mJupyter cannot be started. Error attempting to locate Jupyter: Running cells with 'Python 3.10.6 64-bit' requires notebook package.\n",
            "\u001b[1;31mRun the following command to install 'jupyter and notebook' into the Python environment. \n",
            "\u001b[1;31mCommand: 'python -m pip install jupyter notebook -U\n",
            "\u001b[1;31mor\n",
            "\u001b[1;31mconda install jupyter notebook -U'\n",
            "Click <a href='https://aka.ms/installJupyterForVSCode'>here</a> for more info."
          ]
        }
      ],
      "source": [
        "cur4_dis17=df17[(df17['Do you currently have a mental health disorder?']=='Yes') & (df17['What is your age?'] >=66) & (df17['What is your age?']<=75)]['What is your age?'].count()/df17[(df17['What is your age?'] >=66) & (df17['What is your age?']<=75)]['What is your age?'].count()\n",
        "cur4_dis18=df18[(df18['Do you currently have a mental health disorder?']=='Yes') & (df18['What is your age?'] >=66) & (df18['What is your age?']<=75)]['What is your age?'].count()/df18[(df18['What is your age?'] >=66) & (df18['What is your age?']<=75)]['What is your age?'].count()\n",
        "cur4_dis19=df19[(df19['Do you *currently* have a mental health disorder?']=='Yes') & (df19['What is your age?'] >=66) & (df19['What is your age?']<=75)]['What is your age?'].count()/df19[(df19['What is your age?'] >=66) & (df19['What is your age?']<=75)]['What is your age?'].count()\n",
        "cur4_dis20=df20[(df20['Do you *currently* have a mental health disorder?']=='Yes') & (df20['What is your age?'] >=66) & (df20['What is your age?']<=75)]['What is your age?'].count()/df20[(df20['What is your age?'] >=66) & (df20['What is your age?']<=75)]['What is your age?'].count()\n",
        "cur4_dis21=df21[(df21['Do you *currently* have a mental health disorder?']=='Yes') & (df21['What is your age?'] >=66) & (df21['What is your age?']<=75)]['What is your age?'].count()/df21[(df21['What is your age?'] >=66) & (df21['What is your age?']<=75)]['What is your age?'].count()"
      ]
    },
    {
      "cell_type": "code",
      "execution_count": null,
      "metadata": {
        "id": "RE01mI1Awg_-"
      },
      "outputs": [
        {
          "ename": "",
          "evalue": "",
          "output_type": "error",
          "traceback": [
            "\u001b[1;31mJupyter cannot be started. Error attempting to locate Jupyter: Running cells with 'Python 3.10.6 64-bit' requires notebook package.\n",
            "\u001b[1;31mRun the following command to install 'jupyter and notebook' into the Python environment. \n",
            "\u001b[1;31mCommand: 'python -m pip install jupyter notebook -U\n",
            "\u001b[1;31mor\n",
            "\u001b[1;31mconda install jupyter notebook -U'\n",
            "Click <a href='https://aka.ms/installJupyterForVSCode'>here</a> for more info."
          ]
        }
      ],
      "source": [
        "age1=[cur1_dis17,cur1_dis18,cur1_dis19,cur1_dis20,cur1_dis21]\n",
        "age2=[cur2_dis17,cur2_dis18,cur2_dis19,cur1_dis20,cur2_dis21]\n",
        "age3=[cur3_dis17,cur3_dis18,cur3_dis19,cur1_dis20,cur3_dis21]\n",
        "age4=[cur4_dis17,cur4_dis18,cur4_dis19,cur1_dis20,cur4_dis21]"
      ]
    },
    {
      "cell_type": "code",
      "execution_count": null,
      "metadata": {
        "colab": {
          "base_uri": "https://localhost:8080/",
          "height": 542
        },
        "id": "Duqb0GfwwhJC",
        "outputId": "a6416566-dc03-4808-dbf3-241090ef9afd"
      },
      "outputs": [
        {
          "ename": "",
          "evalue": "",
          "output_type": "error",
          "traceback": [
            "\u001b[1;31mJupyter cannot be started. Error attempting to locate Jupyter: Running cells with 'Python 3.10.6 64-bit' requires notebook package.\n",
            "\u001b[1;31mRun the following command to install 'jupyter and notebook' into the Python environment. \n",
            "\u001b[1;31mCommand: 'python -m pip install jupyter notebook -U\n",
            "\u001b[1;31mor\n",
            "\u001b[1;31mconda install jupyter notebook -U'\n",
            "Click <a href='https://aka.ms/installJupyterForVSCode'>here</a> for more info."
          ]
        }
      ],
      "source": [
        "import plotly.graph_objects as go\n",
        "x = ['2017', '2018', '2019', '2020', '2021']\n",
        "\n",
        "fig = go.Figure()\n",
        "fig.add_trace(go.Bar(x=x, y=age1, name='18-25',text=[str(round(x*100,1))+\"%\" for x in age1]))\n",
        "fig.add_trace(go.Bar(x=x, y=age2,name='26-45',text=[str(round(x*100,1))+\"%\"  for x in age2]))\n",
        "fig.add_trace(go.Bar(x=x, y=age3,name='46-65',text=[str(round(x*100,1))+\"%\"  for x in age3]))\n",
        "fig.add_trace(go.Bar(x=x, y=age4,name='66-75',text=[str(round(x*100,1))+\"%\"  for x in age4]))\n",
        "\n",
        "fig.update_layout(barmode='stack', xaxis_title='Year', yaxis_title='Fraction of employees who\\'ve a mental helath disorder')\n",
        "#fig.savefig('rating_tech_supp.jpg')\n",
        "fig.show()\n"
      ]
    },
    {
      "cell_type": "code",
      "execution_count": null,
      "metadata": {
        "id": "akfs_jJWhlO-"
      },
      "outputs": [
        {
          "ename": "",
          "evalue": "",
          "output_type": "error",
          "traceback": [
            "\u001b[1;31mJupyter cannot be started. Error attempting to locate Jupyter: Running cells with 'Python 3.10.6 64-bit' requires notebook package.\n",
            "\u001b[1;31mRun the following command to install 'jupyter and notebook' into the Python environment. \n",
            "\u001b[1;31mCommand: 'python -m pip install jupyter notebook -U\n",
            "\u001b[1;31mor\n",
            "\u001b[1;31mconda install jupyter notebook -U'\n",
            "Click <a href='https://aka.ms/installJupyterForVSCode'>here</a> for more info."
          ]
        }
      ],
      "source": [
        "cur_dis_cnt17=round((Counter(cur_dis17)['Yes']+Counter(cur_dis17)['Possibly'])/len(cur_dis17)*100,1)\n",
        "cur_dis_cnt18=round((Counter(cur_dis18)['Yes']+Counter(cur_dis18)['Possibly'])/len(cur_dis18)*100,1)\n",
        "cur_dis_cnt19=round((Counter(cur_dis19)['Yes']+Counter(cur_dis19)['Possibly'])/len(cur_dis19)*100,1)\n",
        "cur_dis_cnt20=round((Counter(cur_dis20)['Yes']+Counter(cur_dis20)['Possibly'])/len(cur_dis20)*100,1)\n",
        "cur_dis_cnt21=round((Counter(cur_dis21)['Yes']+Counter(cur_dis21)['Possibly'])/len(cur_dis21)*100,1) "
      ]
    },
    {
      "cell_type": "code",
      "execution_count": null,
      "metadata": {
        "id": "WjPZfxsqgGha"
      },
      "outputs": [
        {
          "ename": "",
          "evalue": "",
          "output_type": "error",
          "traceback": [
            "\u001b[1;31mJupyter cannot be started. Error attempting to locate Jupyter: Running cells with 'Python 3.10.6 64-bit' requires notebook package.\n",
            "\u001b[1;31mRun the following command to install 'jupyter and notebook' into the Python environment. \n",
            "\u001b[1;31mCommand: 'python -m pip install jupyter notebook -U\n",
            "\u001b[1;31mor\n",
            "\u001b[1;31mconda install jupyter notebook -U'\n",
            "Click <a href='https://aka.ms/installJupyterForVSCode'>here</a> for more info."
          ]
        }
      ],
      "source": [
        "years = ['2017', '2018', '2019', '2020', '2021']\n",
        "cur_dis = [cur_dis_cnt17, cur_dis_cnt18, cur_dis_cnt19, cur_dis_cnt20, cur_dis_cnt21]"
      ]
    },
    {
      "cell_type": "code",
      "execution_count": null,
      "metadata": {
        "colab": {
          "base_uri": "https://localhost:8080/",
          "height": 542
        },
        "id": "aVfCz0ZVgGk9",
        "outputId": "15b363be-76aa-4661-ffe3-b8cba61f2ddc"
      },
      "outputs": [
        {
          "ename": "",
          "evalue": "",
          "output_type": "error",
          "traceback": [
            "\u001b[1;31mJupyter cannot be started. Error attempting to locate Jupyter: Running cells with 'Python 3.10.6 64-bit' requires notebook package.\n",
            "\u001b[1;31mRun the following command to install 'jupyter and notebook' into the Python environment. \n",
            "\u001b[1;31mCommand: 'python -m pip install jupyter notebook -U\n",
            "\u001b[1;31mor\n",
            "\u001b[1;31mconda install jupyter notebook -U'\n",
            "Click <a href='https://aka.ms/installJupyterForVSCode'>here</a> for more info."
          ]
        }
      ],
      "source": [
        "import plotly.graph_objects as go\n",
        "\n",
        "fig = go.Figure()\n",
        "fig.add_trace(go.Bar(x=years, y=cur_dis,text=[str(x)+\"%\" for x in cur_dis]))\n",
        "# fig.add_trace(go.Bar(x=x, y=neg_cons_list[1],name='Maybe',text=[str(x)+\"%\"  for x in neg_cons_list[1]]))\n",
        "# fig.add_trace(go.Bar(x=x, y=neg_cons_list[2],name='No',text=[str(x)+\"%\"  for x in neg_cons_list[2]]))\n",
        "\n",
        "fig.update_layout(xaxis_title='Year', yaxis_title='Employees diagnosed<br>with a mental health issue')\n",
        "fig.show()\n",
        "#fig.savefig('mh_res.jpg')"
      ]
    },
    {
      "cell_type": "markdown",
      "metadata": {
        "id": "OHVvbiGZjSz4"
      },
      "source": [
        "Average of employees who are diagnosed with mental health disorder"
      ]
    },
    {
      "cell_type": "code",
      "execution_count": null,
      "metadata": {
        "id": "3xswbXhajSFW"
      },
      "outputs": [
        {
          "ename": "",
          "evalue": "",
          "output_type": "error",
          "traceback": [
            "\u001b[1;31mJupyter cannot be started. Error attempting to locate Jupyter: Running cells with 'Python 3.10.6 64-bit' requires notebook package.\n",
            "\u001b[1;31mRun the following command to install 'jupyter and notebook' into the Python environment. \n",
            "\u001b[1;31mCommand: 'python -m pip install jupyter notebook -U\n",
            "\u001b[1;31mor\n",
            "\u001b[1;31mconda install jupyter notebook -U'\n",
            "Click <a href='https://aka.ms/installJupyterForVSCode'>here</a> for more info."
          ]
        }
      ],
      "source": [
        "age_mh_diag17=df17[df17['Have you ever been diagnosed with a mental health disorder?']=='Yes']['What is your age?'].mean()\n",
        "age_mh_diag18=df18[df18['Have you ever been diagnosed with a mental health disorder?']=='Yes']['What is your age?'].mean()\n",
        "age_mh_diag19=df19[df19['Have you ever been *diagnosed* with a mental health disorder?']=='Yes']['What is your age?'].mean()\n",
        "age_mh_diag20=df20[df20['Have you ever been *diagnosed* with a mental health disorder?']=='Yes']['What is your age?'].mean()\n",
        "age_mh_diag21=df21[df21['Have you ever been *diagnosed* with a mental health disorder?']=='Yes']['What is your age?'].mean()\n",
        "# mh_diag18=df18['Have you ever been diagnosed with a mental health disorder?']\n",
        "# mh_diag19=df19['Have you ever been *diagnosed* with a mental health disorder?']\n",
        "# mh_diag20=df20['Have you ever been *diagnosed* with a mental health disorder?']\n",
        "# mh_diag21=df21['Have you ever been *diagnosed* with a mental health disorder?']       \n"
      ]
    },
    {
      "cell_type": "code",
      "execution_count": null,
      "metadata": {
        "id": "9cprTDOJNRKs"
      },
      "outputs": [
        {
          "ename": "",
          "evalue": "",
          "output_type": "error",
          "traceback": [
            "\u001b[1;31mJupyter cannot be started. Error attempting to locate Jupyter: Running cells with 'Python 3.10.6 64-bit' requires notebook package.\n",
            "\u001b[1;31mRun the following command to install 'jupyter and notebook' into the Python environment. \n",
            "\u001b[1;31mCommand: 'python -m pip install jupyter notebook -U\n",
            "\u001b[1;31mor\n",
            "\u001b[1;31mconda install jupyter notebook -U'\n",
            "Click <a href='https://aka.ms/installJupyterForVSCode'>here</a> for more info."
          ]
        }
      ],
      "source": [
        "age_mh_diag17=df17[df17['Have you ever been diagnosed with a mental health disorder?']=='Yes']['What is your age?'].max()\n",
        "age_mh_diag18=df18[df18['Have you ever been diagnosed with a mental health disorder?']=='Yes']['What is your age?'].max()\n",
        "age_mh_diag19=df19[df19['Have you ever been *diagnosed* with a mental health disorder?']=='Yes']['What is your age?'].max()\n",
        "age_mh_diag20=df20[df20['Have you ever been *diagnosed* with a mental health disorder?']=='Yes']['What is your age?'].max()\n",
        "age_mh_diag21=df21[df21['Have you ever been *diagnosed* with a mental health disorder?']=='Yes']['What is your age?'].max()\n",
        "age_mh_diag17=df17[df17['Have you ever been diagnosed with a mental health disorder?']=='Yes']['What is your age?'].min()\n",
        "age_mh_diag18=df18[df18['Have you ever been diagnosed with a mental health disorder?']=='Yes']['What is your age?'].min()\n",
        "age_mh_diag19=df19[df19['Have you ever been *diagnosed* with a mental health disorder?']=='Yes']['What is your age?'].min()\n",
        "age_mh_diag20=df20[df20['Have you ever been *diagnosed* with a mental health disorder?']=='Yes']['What is your age?'].min()\n",
        "age_mh_diag21=df21[df21['Have you ever been *diagnosed* with a mental health disorder?']=='Yes']['What is your age?'].min()"
      ]
    },
    {
      "cell_type": "code",
      "execution_count": null,
      "metadata": {
        "colab": {
          "base_uri": "https://localhost:8080/"
        },
        "id": "rJHdSp5zNhGR",
        "outputId": "f42c614f-7873-4eb7-89a6-986da09ca360"
      },
      "outputs": [
        {
          "ename": "",
          "evalue": "",
          "output_type": "error",
          "traceback": [
            "\u001b[1;31mJupyter cannot be started. Error attempting to locate Jupyter: Running cells with 'Python 3.10.6 64-bit' requires notebook package.\n",
            "\u001b[1;31mRun the following command to install 'jupyter and notebook' into the Python environment. \n",
            "\u001b[1;31mCommand: 'python -m pip install jupyter notebook -U\n",
            "\u001b[1;31mor\n",
            "\u001b[1;31mconda install jupyter notebook -U'\n",
            "Click <a href='https://aka.ms/installJupyterForVSCode'>here</a> for more info."
          ]
        }
      ],
      "source": [
        "print(age_mh_diag17)\n",
        "print(age_mh_diag18)\n",
        "print(age_mh_diag19)\n",
        "print(age_mh_diag20)\n",
        "print(age_mh_diag21)"
      ]
    },
    {
      "cell_type": "code",
      "execution_count": null,
      "metadata": {
        "colab": {
          "base_uri": "https://localhost:8080/"
        },
        "id": "6dK68lEfke7-",
        "outputId": "9a315d77-fffd-424f-f5fa-412c6cd07b54"
      },
      "outputs": [
        {
          "ename": "",
          "evalue": "",
          "output_type": "error",
          "traceback": [
            "\u001b[1;31mJupyter cannot be started. Error attempting to locate Jupyter: Running cells with 'Python 3.10.6 64-bit' requires notebook package.\n",
            "\u001b[1;31mRun the following command to install 'jupyter and notebook' into the Python environment. \n",
            "\u001b[1;31mCommand: 'python -m pip install jupyter notebook -U\n",
            "\u001b[1;31mor\n",
            "\u001b[1;31mconda install jupyter notebook -U'\n",
            "Click <a href='https://aka.ms/installJupyterForVSCode'>here</a> for more info."
          ]
        }
      ],
      "source": [
        "print(age_mh_diag17)\n",
        "print(age_mh_diag18)\n",
        "print(age_mh_diag19)\n",
        "print(age_mh_diag20)\n",
        "print(age_mh_diag21)"
      ]
    },
    {
      "cell_type": "markdown",
      "metadata": {
        "id": "_BKfZZnPkxgE"
      },
      "source": [
        "average of employees with a current mental health disorder"
      ]
    },
    {
      "cell_type": "code",
      "execution_count": null,
      "metadata": {
        "colab": {
          "base_uri": "https://localhost:8080/"
        },
        "id": "zdGcoJy5ke_V",
        "outputId": "f749390e-e521-47bd-c08e-9a04b7dfbe46"
      },
      "outputs": [
        {
          "ename": "",
          "evalue": "",
          "output_type": "error",
          "traceback": [
            "\u001b[1;31mJupyter cannot be started. Error attempting to locate Jupyter: Running cells with 'Python 3.10.6 64-bit' requires notebook package.\n",
            "\u001b[1;31mRun the following command to install 'jupyter and notebook' into the Python environment. \n",
            "\u001b[1;31mCommand: 'python -m pip install jupyter notebook -U\n",
            "\u001b[1;31mor\n",
            "\u001b[1;31mconda install jupyter notebook -U'\n",
            "Click <a href='https://aka.ms/installJupyterForVSCode'>here</a> for more info."
          ]
        }
      ],
      "source": [
        "age_mh_cur17=df17[df17['Do you currently have a mental health disorder?']=='Yes']['What is your age?'].mean()\n",
        "age_mh_cur18=df18[df18['Do you currently have a mental health disorder?']=='Yes']['What is your age?'].mean()\n",
        "age_mh_cur19=df19[df19['Do you *currently* have a mental health disorder?']=='Yes']['What is your age?'].mean()\n",
        "age_mh_cur20=df20[df20['Do you *currently* have a mental health disorder?']=='Yes']['What is your age?'].mean()\n",
        "age_mh_cur21=df21[df21['Do you *currently* have a mental health disorder?']=='Yes']['What is your age?'].mean()\n",
        "print(age_mh_cur17)\n",
        "print(age_mh_cur18)\n",
        "print(age_mh_cur19)\n",
        "print(age_mh_cur20)\n",
        "print(age_mh_cur21)\n"
      ]
    },
    {
      "cell_type": "markdown",
      "metadata": {
        "id": "aSU8eBi4lcVY"
      },
      "source": [
        "fraction of females and males diagnosed with a mental health issue"
      ]
    },
    {
      "cell_type": "code",
      "execution_count": null,
      "metadata": {
        "colab": {
          "base_uri": "https://localhost:8080/"
        },
        "id": "LTgN_Pf3lhuN",
        "outputId": "6d33a16d-bbd8-4bf4-d262-22d8136b601d"
      },
      "outputs": [
        {
          "ename": "",
          "evalue": "",
          "output_type": "error",
          "traceback": [
            "\u001b[1;31mJupyter cannot be started. Error attempting to locate Jupyter: Running cells with 'Python 3.10.6 64-bit' requires notebook package.\n",
            "\u001b[1;31mRun the following command to install 'jupyter and notebook' into the Python environment. \n",
            "\u001b[1;31mCommand: 'python -m pip install jupyter notebook -U\n",
            "\u001b[1;31mor\n",
            "\u001b[1;31mconda install jupyter notebook -U'\n",
            "Click <a href='https://aka.ms/installJupyterForVSCode'>here</a> for more info."
          ]
        }
      ],
      "source": [
        "print(df17['What is your gender?'].unique())\n",
        "print(df18['What is your gender?'].unique())\n",
        "print(df19['What is your gender?'].unique())\n",
        "print(df20['What is your gender?'].unique())\n",
        "print(df21['What is your gender?'].unique())"
      ]
    },
    {
      "cell_type": "code",
      "execution_count": null,
      "metadata": {
        "colab": {
          "base_uri": "https://localhost:8080/"
        },
        "id": "Cy4NIWOglhw6",
        "outputId": "f6e1c87a-0bae-4e28-edbe-b77a9f634fae"
      },
      "outputs": [
        {
          "ename": "",
          "evalue": "",
          "output_type": "error",
          "traceback": [
            "\u001b[1;31mJupyter cannot be started. Error attempting to locate Jupyter: Running cells with 'Python 3.10.6 64-bit' requires notebook package.\n",
            "\u001b[1;31mRun the following command to install 'jupyter and notebook' into the Python environment. \n",
            "\u001b[1;31mCommand: 'python -m pip install jupyter notebook -U\n",
            "\u001b[1;31mor\n",
            "\u001b[1;31mconda install jupyter notebook -U'\n",
            "Click <a href='https://aka.ms/installJupyterForVSCode'>here</a> for more info."
          ]
        }
      ],
      "source": [
        "#gender has 70 different classes. Encoding them to fewer classes for ease of calculation:\n",
        "#male:1, female:2, anything else:3\n",
        "df18['What is your gender?'].replace(to_replace = ['male','Male','Ostensibly Male','male, born with xy chromosoms','Malel', 'M', 'MALE',\n",
        "'m','Cis-male','cis male','Cis Male','Man','SWM','Cisgender male'], value = 'm', inplace = True)\n",
        "df18['What is your gender?'].replace(to_replace = ['Female','female','Woman','woman', 'F', 'f' ,'I identify as female' ,'*shrug emoji* (F)',\n",
        "'Cis woman','Female (cisgender)' ,'Cis-Female','Cisgendered woman','She/her/they/them','Cis female','cisgender female','gender non-conforming woman'], value = 'f', inplace = True)\n",
        "df18['What is your gender?'].replace(to_replace = ['Agender','Nonbinary' ,'Male (or female, or both)', 'Trans man','transgender',\n",
        "'non binary', 'Female/gender non-binary.','non-binary','Other','NB','Genderfluid','Nonbinary/femme','Trans woman','genderfluid',\n",
        "'Genderqueer','none','Trans female','Demiguy'], value = 'oth', inplace = True)\n",
        "print(df18['What is your gender?'].unique())"
      ]
    },
    {
      "cell_type": "code",
      "execution_count": null,
      "metadata": {
        "colab": {
          "base_uri": "https://localhost:8080/"
        },
        "id": "9sIc6I079BH3",
        "outputId": "de4ce2ff-8979-4172-fee2-f82a1c50db91"
      },
      "outputs": [
        {
          "ename": "",
          "evalue": "",
          "output_type": "error",
          "traceback": [
            "\u001b[1;31mJupyter cannot be started. Error attempting to locate Jupyter: Running cells with 'Python 3.10.6 64-bit' requires notebook package.\n",
            "\u001b[1;31mRun the following command to install 'jupyter and notebook' into the Python environment. \n",
            "\u001b[1;31mCommand: 'python -m pip install jupyter notebook -U\n",
            "\u001b[1;31mor\n",
            "\u001b[1;31mconda install jupyter notebook -U'\n",
            "Click <a href='https://aka.ms/installJupyterForVSCode'>here</a> for more info."
          ]
        }
      ],
      "source": [
        "m_cnt18=df18[df18['What is your gender?']=='m']['What is your gender?'].count()\n",
        "f_cnt18=df18[df18['What is your gender?']=='f']['What is your gender?'].count()\n",
        "oth_cnt18=df18[df18['What is your gender?']=='oth']['What is your gender?'].count()\n",
        "print(m_cnt18)\n",
        "print(f_cnt18)\n",
        "print(oth_cnt18)\n",
        "m_diag_cnt18=df18[(df18['What is your gender?']=='m') & (df18['Have you ever been diagnosed with a mental health disorder?']=='Yes')]['What is your gender?'].count()\n",
        "f_diag_cnt18=df18[(df18['What is your gender?']=='f') & (df18['Have you ever been diagnosed with a mental health disorder?']=='Yes')]['What is your gender?'].count()\n",
        "oth_diag_cnt18=df18[(df18['What is your gender?']=='oth') & (df18['Have you ever been diagnosed with a mental health disorder?']=='Yes')]['What is your gender?'].count()\n",
        "print(m_diag_cnt18)\n",
        "print(f_diag_cnt18)\n",
        "print(oth_diag_cnt18)"
      ]
    },
    {
      "cell_type": "code",
      "execution_count": null,
      "metadata": {
        "colab": {
          "base_uri": "https://localhost:8080/"
        },
        "id": "b268zRd09dlF",
        "outputId": "1b09a1f8-be86-4abf-9d18-5b0060340ccf"
      },
      "outputs": [
        {
          "ename": "",
          "evalue": "",
          "output_type": "error",
          "traceback": [
            "\u001b[1;31mJupyter cannot be started. Error attempting to locate Jupyter: Running cells with 'Python 3.10.6 64-bit' requires notebook package.\n",
            "\u001b[1;31mRun the following command to install 'jupyter and notebook' into the Python environment. \n",
            "\u001b[1;31mCommand: 'python -m pip install jupyter notebook -U\n",
            "\u001b[1;31mor\n",
            "\u001b[1;31mconda install jupyter notebook -U'\n",
            "Click <a href='https://aka.ms/installJupyterForVSCode'>here</a> for more info."
          ]
        }
      ],
      "source": [
        "print(m_diag_cnt18/m_cnt18*100)\n",
        "print(f_diag_cnt18/f_cnt18*100)\n",
        "print(oth_diag_cnt18/oth_cnt18*100)"
      ]
    },
    {
      "cell_type": "code",
      "execution_count": null,
      "metadata": {
        "colab": {
          "base_uri": "https://localhost:8080/"
        },
        "id": "5RacQZX_5nZJ",
        "outputId": "e884fa3e-77bd-4081-edd0-0b154257d95c"
      },
      "outputs": [
        {
          "ename": "",
          "evalue": "",
          "output_type": "error",
          "traceback": [
            "\u001b[1;31mJupyter cannot be started. Error attempting to locate Jupyter: Running cells with 'Python 3.10.6 64-bit' requires notebook package.\n",
            "\u001b[1;31mRun the following command to install 'jupyter and notebook' into the Python environment. \n",
            "\u001b[1;31mCommand: 'python -m pip install jupyter notebook -U\n",
            "\u001b[1;31mor\n",
            "\u001b[1;31mconda install jupyter notebook -U'\n",
            "Click <a href='https://aka.ms/installJupyterForVSCode'>here</a> for more info."
          ]
        }
      ],
      "source": [
        "df17['What is your gender?'].replace(to_replace = ['male','Male', 'M', 'Man', 'cis-male', 'Mail', 'male/androgynous', 'cis hetero male','m',\n",
        "'Male (cis)',\"male (hey this is the tech industry you're talking about)\",'Cis male','man','Cis-male','Male, cis','cis male','Male, cis',\n",
        "'cis male','Male-ish','Cis Male','dude'], value = 'm', inplace = True)\n",
        "df17['What is your gender?'].replace(to_replace = ['Woman','female (cisgender)','Female (cis)','Female', 'female','F', 'f', 'femalw','femail','female (cis)','My sex is female.','woman','female (cisgender)'\n",
        "'Female (cis)','Woman-identified','cis-Female','cis female','F, cisgender','Female-ish'], value = 'f', inplace = True)\n",
        "df17['What is your gender?'].replace(to_replace = ['Genderfluid','Nonbinary','uhhhhhhhhh fem genderqueer?','Non-binary','Agender/genderfluid',\n",
        "'Contextual','Non binary','Genderqueer demigirl','Genderqueer/non-binary','nonbinary','trans woman','None','Transfeminine',\n",
        "'Agender/genderfluid','sometimes','Contextual'], value = 'oth', inplace = True)\n",
        "print(df17['What is your gender?'].unique())"
      ]
    },
    {
      "cell_type": "code",
      "execution_count": null,
      "metadata": {
        "id": "VzWYI2xAlh0u"
      },
      "outputs": [
        {
          "ename": "",
          "evalue": "",
          "output_type": "error",
          "traceback": [
            "\u001b[1;31mJupyter cannot be started. Error attempting to locate Jupyter: Running cells with 'Python 3.10.6 64-bit' requires notebook package.\n",
            "\u001b[1;31mRun the following command to install 'jupyter and notebook' into the Python environment. \n",
            "\u001b[1;31mCommand: 'python -m pip install jupyter notebook -U\n",
            "\u001b[1;31mor\n",
            "\u001b[1;31mconda install jupyter notebook -U'\n",
            "Click <a href='https://aka.ms/installJupyterForVSCode'>here</a> for more info."
          ]
        }
      ],
      "source": [
        "m_cnt17=df17[df17['What is your gender?']=='m']['What is your gender?'].count()\n",
        "f_cnt17=df17[df17['What is your gender?']=='f']['What is your gender?'].count()\n",
        "oth_cnt17=df17[df17['What is your gender?']=='oth']['What is your gender?'].count()"
      ]
    },
    {
      "cell_type": "code",
      "execution_count": null,
      "metadata": {
        "colab": {
          "base_uri": "https://localhost:8080/"
        },
        "id": "OIXKfUAusQxj",
        "outputId": "b2573410-f52c-4a63-82e0-c5091e2c01c3"
      },
      "outputs": [
        {
          "ename": "",
          "evalue": "",
          "output_type": "error",
          "traceback": [
            "\u001b[1;31mJupyter cannot be started. Error attempting to locate Jupyter: Running cells with 'Python 3.10.6 64-bit' requires notebook package.\n",
            "\u001b[1;31mRun the following command to install 'jupyter and notebook' into the Python environment. \n",
            "\u001b[1;31mCommand: 'python -m pip install jupyter notebook -U\n",
            "\u001b[1;31mor\n",
            "\u001b[1;31mconda install jupyter notebook -U'\n",
            "Click <a href='https://aka.ms/installJupyterForVSCode'>here</a> for more info."
          ]
        }
      ],
      "source": [
        "print(m_cnt17)\n",
        "print(f_cnt17)\n",
        "print(oth_cnt17)"
      ]
    },
    {
      "cell_type": "code",
      "execution_count": null,
      "metadata": {
        "colab": {
          "base_uri": "https://localhost:8080/"
        },
        "id": "QVid3YKJ1Dno",
        "outputId": "0b95cd54-5d0e-469a-c1af-b197ff2c7f26"
      },
      "outputs": [
        {
          "ename": "",
          "evalue": "",
          "output_type": "error",
          "traceback": [
            "\u001b[1;31mJupyter cannot be started. Error attempting to locate Jupyter: Running cells with 'Python 3.10.6 64-bit' requires notebook package.\n",
            "\u001b[1;31mRun the following command to install 'jupyter and notebook' into the Python environment. \n",
            "\u001b[1;31mCommand: 'python -m pip install jupyter notebook -U\n",
            "\u001b[1;31mor\n",
            "\u001b[1;31mconda install jupyter notebook -U'\n",
            "Click <a href='https://aka.ms/installJupyterForVSCode'>here</a> for more info."
          ]
        }
      ],
      "source": [
        "m_diag_cnt17=df17[(df17['What is your gender?']=='m') & (df17['Have you ever been diagnosed with a mental health disorder?']=='Yes')]['What is your gender?'].count()\n",
        "f_diag_cnt17=df17[(df17['What is your gender?']=='f') & (df17['Have you ever been diagnosed with a mental health disorder?']=='Yes')]['What is your gender?'].count()\n",
        "oth_diag_cnt17=df17[(df17['What is your gender?']=='oth') & (df17['Have you ever been diagnosed with a mental health disorder?']=='Yes')]['What is your gender?'].count()\n",
        "print(m_diag_cnt17)\n",
        "print(f_diag_cnt17)\n",
        "print(oth_diag_cnt17)"
      ]
    },
    {
      "cell_type": "code",
      "execution_count": null,
      "metadata": {
        "colab": {
          "base_uri": "https://localhost:8080/"
        },
        "id": "TwqprldQ1DrD",
        "outputId": "0369b358-3920-4092-be19-6e70ecd07df7"
      },
      "outputs": [
        {
          "ename": "",
          "evalue": "",
          "output_type": "error",
          "traceback": [
            "\u001b[1;31mJupyter cannot be started. Error attempting to locate Jupyter: Running cells with 'Python 3.10.6 64-bit' requires notebook package.\n",
            "\u001b[1;31mRun the following command to install 'jupyter and notebook' into the Python environment. \n",
            "\u001b[1;31mCommand: 'python -m pip install jupyter notebook -U\n",
            "\u001b[1;31mor\n",
            "\u001b[1;31mconda install jupyter notebook -U'\n",
            "Click <a href='https://aka.ms/installJupyterForVSCode'>here</a> for more info."
          ]
        }
      ],
      "source": [
        "print(m_diag_cnt17/m_cnt17*100)\n",
        "print(f_diag_cnt17/f_cnt17*100)\n",
        "print(oth_diag_cnt17/oth_cnt17*100)"
      ]
    },
    {
      "cell_type": "markdown",
      "metadata": {
        "id": "QKrJ1_n5sd09"
      },
      "source": [
        "***2016 data visualizations***"
      ]
    },
    {
      "cell_type": "markdown",
      "metadata": {
        "id": "b4r97CGStIhX"
      },
      "source": [
        "2016- Fear of negative consequences on discussing mental health issues with employer"
      ]
    },
    {
      "cell_type": "code",
      "execution_count": null,
      "metadata": {
        "colab": {
          "base_uri": "https://localhost:8080/"
        },
        "id": "RPrPiPqDFl26",
        "outputId": "b996e630-43b9-4787-a247-636b459c1d7a"
      },
      "outputs": [
        {
          "ename": "",
          "evalue": "",
          "output_type": "error",
          "traceback": [
            "\u001b[1;31mJupyter cannot be started. Error attempting to locate Jupyter: Running cells with 'Python 3.10.6 64-bit' requires notebook package.\n",
            "\u001b[1;31mRun the following command to install 'jupyter and notebook' into the Python environment. \n",
            "\u001b[1;31mCommand: 'python -m pip install jupyter notebook -U\n",
            "\u001b[1;31mor\n",
            "\u001b[1;31mconda install jupyter notebook -U'\n",
            "Click <a href='https://aka.ms/installJupyterForVSCode'>here</a> for more info."
          ]
        }
      ],
      "source": [
        "for i in range(len(df.columns)):\n",
        "  print(i,df.columns[i])"
      ]
    },
    {
      "cell_type": "code",
      "execution_count": null,
      "metadata": {
        "id": "an_u1gUESo4b"
      },
      "outputs": [
        {
          "ename": "",
          "evalue": "",
          "output_type": "error",
          "traceback": [
            "\u001b[1;31mJupyter cannot be started. Error attempting to locate Jupyter: Running cells with 'Python 3.10.6 64-bit' requires notebook package.\n",
            "\u001b[1;31mRun the following command to install 'jupyter and notebook' into the Python environment. \n",
            "\u001b[1;31mCommand: 'python -m pip install jupyter notebook -U\n",
            "\u001b[1;31mor\n",
            "\u001b[1;31mconda install jupyter notebook -U'\n",
            "Click <a href='https://aka.ms/installJupyterForVSCode'>here</a> for more info."
          ]
        }
      ],
      "source": [
        "'Discussing_mental_health_neg_consequences' : [['No', 'Yes', 'Maybe'],[2,0,1]]\n",
        "gender  :  [1. 2. 3.] (male, female)"
      ]
    },
    {
      "cell_type": "code",
      "execution_count": null,
      "metadata": {
        "colab": {
          "base_uri": "https://localhost:8080/"
        },
        "id": "4ns0ixDJxT35",
        "outputId": "6f1640e8-4079-4016-ac59-4aef63fa6d78"
      },
      "outputs": [
        {
          "ename": "",
          "evalue": "",
          "output_type": "error",
          "traceback": [
            "\u001b[1;31mJupyter cannot be started. Error attempting to locate Jupyter: Running cells with 'Python 3.10.6 64-bit' requires notebook package.\n",
            "\u001b[1;31mRun the following command to install 'jupyter and notebook' into the Python environment. \n",
            "\u001b[1;31mCommand: 'python -m pip install jupyter notebook -U\n",
            "\u001b[1;31mor\n",
            "\u001b[1;31mconda install jupyter notebook -U'\n",
            "Click <a href='https://aka.ms/installJupyterForVSCode'>here</a> for more info."
          ]
        }
      ],
      "source": [
        "df['Discussing_mental_health_neg_consequences']"
      ]
    },
    {
      "cell_type": "code",
      "execution_count": null,
      "metadata": {
        "id": "vqr9VF3ds5DS"
      },
      "outputs": [
        {
          "ename": "",
          "evalue": "",
          "output_type": "error",
          "traceback": [
            "\u001b[1;31mJupyter cannot be started. Error attempting to locate Jupyter: Running cells with 'Python 3.10.6 64-bit' requires notebook package.\n",
            "\u001b[1;31mRun the following command to install 'jupyter and notebook' into the Python environment. \n",
            "\u001b[1;31mCommand: 'python -m pip install jupyter notebook -U\n",
            "\u001b[1;31mor\n",
            "\u001b[1;31mconda install jupyter notebook -U'\n",
            "Click <a href='https://aka.ms/installJupyterForVSCode'>here</a> for more info."
          ]
        }
      ],
      "source": [
        "male_neg_cons=[0 for i in range(3)]\n",
        "female_neg_cons=[0 for i in range(3)]\n",
        "for i in range(len(df['Discussing_mental_health_neg_consequences'])):\n",
        "        if(df.iloc[i,9]==0 and df.iloc[i,41]==1): \n",
        "            male_neg_cons[0]+=1\n",
        "        if(df.iloc[i,9]==1 and df.iloc[i,41]==1): \n",
        "            male_neg_cons[1]+=1\n",
        "        if(df.iloc[i,9]==2 and df.iloc[i,41]==1): \n",
        "            male_neg_cons[2]+=1\n",
        "        if(df.iloc[i,9]==0 and df.iloc[i,41]==2): \n",
        "            female_neg_cons[0]+=1\n",
        "        if(df.iloc[i,9]==1 and df.iloc[i,41]==2): \n",
        "            female_neg_cons[1]+=1\n",
        "        if(df.iloc[i,9]==2 and df.iloc[i,41]==2): \n",
        "            female_neg_cons[2]+=1  \n"
      ]
    },
    {
      "cell_type": "code",
      "execution_count": null,
      "metadata": {
        "colab": {
          "base_uri": "https://localhost:8080/"
        },
        "id": "sKUrqK2IwUD8",
        "outputId": "e7471ae2-3a2e-420a-931b-18707e7d1b34"
      },
      "outputs": [
        {
          "ename": "",
          "evalue": "",
          "output_type": "error",
          "traceback": [
            "\u001b[1;31mJupyter cannot be started. Error attempting to locate Jupyter: Running cells with 'Python 3.10.6 64-bit' requires notebook package.\n",
            "\u001b[1;31mRun the following command to install 'jupyter and notebook' into the Python environment. \n",
            "\u001b[1;31mCommand: 'python -m pip install jupyter notebook -U\n",
            "\u001b[1;31mor\n",
            "\u001b[1;31mconda install jupyter notebook -U'\n",
            "Click <a href='https://aka.ms/installJupyterForVSCode'>here</a> for more info."
          ]
        }
      ],
      "source": [
        "print(male_neg_cons)\n",
        "print(female_neg_cons)"
      ]
    },
    {
      "cell_type": "code",
      "execution_count": null,
      "metadata": {
        "colab": {
          "base_uri": "https://localhost:8080/"
        },
        "id": "XcndxYUe0XUT",
        "outputId": "638d1618-c448-408e-e1a9-0f9d2a9a79b2"
      },
      "outputs": [
        {
          "ename": "",
          "evalue": "",
          "output_type": "error",
          "traceback": [
            "\u001b[1;31mJupyter cannot be started. Error attempting to locate Jupyter: Running cells with 'Python 3.10.6 64-bit' requires notebook package.\n",
            "\u001b[1;31mRun the following command to install 'jupyter and notebook' into the Python environment. \n",
            "\u001b[1;31mCommand: 'python -m pip install jupyter notebook -U\n",
            "\u001b[1;31mor\n",
            "\u001b[1;31mconda install jupyter notebook -U'\n",
            "Click <a href='https://aka.ms/installJupyterForVSCode'>here</a> for more info."
          ]
        }
      ],
      "source": [
        "neg_cons_male_sum=sum(male_neg_cons)\n",
        "neg_cons_fem_sum=sum(female_neg_cons)\n",
        "\n",
        "# cal %\n",
        "for i in range(3):\n",
        "  male_neg_cons[i]=round((male_neg_cons[i]/neg_cons_male_sum)*100,1)\n",
        "  female_neg_cons[i]=round((female_neg_cons[i]/neg_cons_fem_sum)*100,1)\n",
        "print(male_neg_cons)\n",
        "print(female_neg_cons)"
      ]
    },
    {
      "cell_type": "code",
      "execution_count": null,
      "metadata": {
        "id": "Gpt0j3uy1bP3"
      },
      "outputs": [
        {
          "ename": "",
          "evalue": "",
          "output_type": "error",
          "traceback": [
            "\u001b[1;31mJupyter cannot be started. Error attempting to locate Jupyter: Running cells with 'Python 3.10.6 64-bit' requires notebook package.\n",
            "\u001b[1;31mRun the following command to install 'jupyter and notebook' into the Python environment. \n",
            "\u001b[1;31mCommand: 'python -m pip install jupyter notebook -U\n",
            "\u001b[1;31mor\n",
            "\u001b[1;31mconda install jupyter notebook -U'\n",
            "Click <a href='https://aka.ms/installJupyterForVSCode'>here</a> for more info."
          ]
        }
      ],
      "source": [
        "neg_con=np.array([male_neg_cons,female_neg_cons]).T\n",
        "neg_cons_list=neg_con.tolist()"
      ]
    },
    {
      "cell_type": "code",
      "execution_count": null,
      "metadata": {
        "colab": {
          "base_uri": "https://localhost:8080/"
        },
        "id": "CSMParMD2GOQ",
        "outputId": "b6f6cadc-4f2b-41ba-82dc-8dfd941a59f1"
      },
      "outputs": [
        {
          "ename": "",
          "evalue": "",
          "output_type": "error",
          "traceback": [
            "\u001b[1;31mJupyter cannot be started. Error attempting to locate Jupyter: Running cells with 'Python 3.10.6 64-bit' requires notebook package.\n",
            "\u001b[1;31mRun the following command to install 'jupyter and notebook' into the Python environment. \n",
            "\u001b[1;31mCommand: 'python -m pip install jupyter notebook -U\n",
            "\u001b[1;31mor\n",
            "\u001b[1;31mconda install jupyter notebook -U'\n",
            "Click <a href='https://aka.ms/installJupyterForVSCode'>here</a> for more info."
          ]
        }
      ],
      "source": [
        "neg_cons_list"
      ]
    },
    {
      "cell_type": "code",
      "execution_count": null,
      "metadata": {
        "colab": {
          "base_uri": "https://localhost:8080/",
          "height": 542
        },
        "id": "XgBFnzEvs5Fu",
        "outputId": "b4ca3fd6-43b1-4b07-aee0-9d0ab1c0e59b"
      },
      "outputs": [
        {
          "ename": "",
          "evalue": "",
          "output_type": "error",
          "traceback": [
            "\u001b[1;31mJupyter cannot be started. Error attempting to locate Jupyter: Running cells with 'Python 3.10.6 64-bit' requires notebook package.\n",
            "\u001b[1;31mRun the following command to install 'jupyter and notebook' into the Python environment. \n",
            "\u001b[1;31mCommand: 'python -m pip install jupyter notebook -U\n",
            "\u001b[1;31mor\n",
            "\u001b[1;31mconda install jupyter notebook -U'\n",
            "Click <a href='https://aka.ms/installJupyterForVSCode'>here</a> for more info."
          ]
        }
      ],
      "source": [
        "import plotly.graph_objects as go\n",
        "x = ['Male', 'Female']\n",
        "fig = go.Figure()\n",
        "fig.add_trace(go.Bar(x=x, y=neg_cons_list[0], name=\"Discussion would've negative consequences\",text=[str(x)+\"%\" for x in neg_cons_list[0]]))\n",
        "fig.add_trace(go.Bar(x=x, y=neg_cons_list[1],name=\"Discussion might've negative consequences\",text=[str(x)+\"%\"  for x in neg_cons_list[1]]))\n",
        "fig.add_trace(go.Bar(x=x, y=neg_cons_list[2],name=\"Discussion won't have negative consequences\",text=[str(x)+\"%\"  for x in neg_cons_list[2]]))\n",
        "\n",
        "fig.update_layout(barmode='stack', xaxis_title='Gender', yaxis_title='Fraction of employees<br>fearing negative consequences')\n",
        "#fig.savefig('rating_tech_supp.jpg')\n",
        "fig.show()"
      ]
    },
    {
      "cell_type": "markdown",
      "metadata": {
        "id": "EdYYx1npCsSd"
      },
      "source": [
        "2016 - effect of company's size on provision of mental health benefits"
      ]
    },
    {
      "cell_type": "code",
      "execution_count": null,
      "metadata": {
        "colab": {
          "base_uri": "https://localhost:8080/"
        },
        "id": "NTSYbLh5C3LY",
        "outputId": "4bdafcc4-0f03-46e2-a231-0ede5564d5dc"
      },
      "outputs": [
        {
          "ename": "",
          "evalue": "",
          "output_type": "error",
          "traceback": [
            "\u001b[1;31mJupyter cannot be started. Error attempting to locate Jupyter: Running cells with 'Python 3.10.6 64-bit' requires notebook package.\n",
            "\u001b[1;31mRun the following command to install 'jupyter and notebook' into the Python environment. \n",
            "\u001b[1;31mCommand: 'python -m pip install jupyter notebook -U\n",
            "\u001b[1;31mor\n",
            "\u001b[1;31mconda install jupyter notebook -U'\n",
            "Click <a href='https://aka.ms/installJupyterForVSCode'>here</a> for more info."
          ]
        }
      ],
      "source": [
        "df['Mental_health_coverage'].unique()"
      ]
    },
    {
      "cell_type": "code",
      "execution_count": null,
      "metadata": {
        "colab": {
          "base_uri": "https://localhost:8080/"
        },
        "id": "74e95WysC3OX",
        "outputId": "74966cb1-2db1-4e08-b81e-2a0c79e474d7"
      },
      "outputs": [
        {
          "ename": "",
          "evalue": "",
          "output_type": "error",
          "traceback": [
            "\u001b[1;31mJupyter cannot be started. Error attempting to locate Jupyter: Running cells with 'Python 3.10.6 64-bit' requires notebook package.\n",
            "\u001b[1;31mRun the following command to install 'jupyter and notebook' into the Python environment. \n",
            "\u001b[1;31mCommand: 'python -m pip install jupyter notebook -U\n",
            "\u001b[1;31mor\n",
            "\u001b[1;31mconda install jupyter notebook -U'\n",
            "Click <a href='https://aka.ms/installJupyterForVSCode'>here</a> for more info."
          ]
        }
      ],
      "source": [
        "df['Total_employees'].unique()"
      ]
    },
    {
      "cell_type": "code",
      "execution_count": null,
      "metadata": {
        "id": "JdPX985SKv8h"
      },
      "outputs": [
        {
          "ename": "",
          "evalue": "",
          "output_type": "error",
          "traceback": [
            "\u001b[1;31mJupyter cannot be started. Error attempting to locate Jupyter: Running cells with 'Python 3.10.6 64-bit' requires notebook package.\n",
            "\u001b[1;31mRun the following command to install 'jupyter and notebook' into the Python environment. \n",
            "\u001b[1;31mCommand: 'python -m pip install jupyter notebook -U\n",
            "\u001b[1;31mor\n",
            "\u001b[1;31mconda install jupyter notebook -U'\n",
            "Click <a href='https://aka.ms/installJupyterForVSCode'>here</a> for more info."
          ]
        }
      ],
      "source": [
        "from collections import Counter\n",
        "tot_emp=[0 for i in range(6)]\n",
        "for i in range(len(df['Total_employees'])):\n",
        "        if(df.iloc[i,1]==1): \n",
        "           tot_emp[0]+=1\n",
        "        if(df.iloc[i,1]==2): \n",
        "           tot_emp[1]+=1\n",
        "        if(df.iloc[i,1]==3): \n",
        "           tot_emp[2]+=1\n",
        "        if(df.iloc[i,1]==4): \n",
        "           tot_emp[3]+=1\n",
        "        if(df.iloc[i,1]==5): \n",
        "           tot_emp[4]+=1\n",
        "        if(df.iloc[i,1]==6): \n",
        "           tot_emp[5]+=1"
      ]
    },
    {
      "cell_type": "code",
      "execution_count": null,
      "metadata": {
        "colab": {
          "base_uri": "https://localhost:8080/"
        },
        "id": "91OJKzDZUEeA",
        "outputId": "e80af6ab-ac9a-42d2-a1c7-080df98cb08a"
      },
      "outputs": [
        {
          "ename": "",
          "evalue": "",
          "output_type": "error",
          "traceback": [
            "\u001b[1;31mJupyter cannot be started. Error attempting to locate Jupyter: Running cells with 'Python 3.10.6 64-bit' requires notebook package.\n",
            "\u001b[1;31mRun the following command to install 'jupyter and notebook' into the Python environment. \n",
            "\u001b[1;31mCommand: 'python -m pip install jupyter notebook -U\n",
            "\u001b[1;31mor\n",
            "\u001b[1;31mconda install jupyter notebook -U'\n",
            "Click <a href='https://aka.ms/installJupyterForVSCode'>here</a> for more info."
          ]
        }
      ],
      "source": [
        "tot_emp"
      ]
    },
    {
      "cell_type": "code",
      "execution_count": null,
      "metadata": {
        "id": "Za8J8ZJtC3Rg"
      },
      "outputs": [
        {
          "ename": "",
          "evalue": "",
          "output_type": "error",
          "traceback": [
            "\u001b[1;31mJupyter cannot be started. Error attempting to locate Jupyter: Running cells with 'Python 3.10.6 64-bit' requires notebook package.\n",
            "\u001b[1;31mRun the following command to install 'jupyter and notebook' into the Python environment. \n",
            "\u001b[1;31mCommand: 'python -m pip install jupyter notebook -U\n",
            "\u001b[1;31mor\n",
            "\u001b[1;31mconda install jupyter notebook -U'\n",
            "Click <a href='https://aka.ms/installJupyterForVSCode'>here</a> for more info."
          ]
        }
      ],
      "source": [
        "mh_cov=[0 for i in range(6)]\n",
        "for i in range(len(df['Total_employees'])):\n",
        "        if(df.iloc[i,1]==1 and df.iloc[i,3]==3): \n",
        "            mh_cov[0]+=1\n",
        "        if(df.iloc[i,1]==2 and df.iloc[i,3]==3): \n",
        "            mh_cov[1]+=1\n",
        "        if(df.iloc[i,1]==3 and df.iloc[i,3]==3): \n",
        "            mh_cov[2]+=1\n",
        "        if(df.iloc[i,1]==4 and df.iloc[i,3]==3): \n",
        "            mh_cov[3]+=1\n",
        "        if(df.iloc[i,1]==5 and df.iloc[i,3]==3): \n",
        "            mh_cov[4]+=1\n",
        "        if(df.iloc[i,1]==6 and df.iloc[i,3]==3): \n",
        "            mh_cov[5]+=1  "
      ]
    },
    {
      "cell_type": "code",
      "execution_count": null,
      "metadata": {
        "id": "tokVb8hqC3Ul"
      },
      "outputs": [
        {
          "ename": "",
          "evalue": "",
          "output_type": "error",
          "traceback": [
            "\u001b[1;31mJupyter cannot be started. Error attempting to locate Jupyter: Running cells with 'Python 3.10.6 64-bit' requires notebook package.\n",
            "\u001b[1;31mRun the following command to install 'jupyter and notebook' into the Python environment. \n",
            "\u001b[1;31mCommand: 'python -m pip install jupyter notebook -U\n",
            "\u001b[1;31mor\n",
            "\u001b[1;31mconda install jupyter notebook -U'\n",
            "Click <a href='https://aka.ms/installJupyterForVSCode'>here</a> for more info."
          ]
        }
      ],
      "source": [
        "mh_cov_per=[0 for i in range(6)]\n",
        "mh_cov_per[0]=round(mh_cov[0]/tot_emp[0]*100,1)\n",
        "mh_cov_per[1]=round(mh_cov[1]/tot_emp[1]*100,1)\n",
        "mh_cov_per[2]=round(mh_cov[2]/tot_emp[2]*100,1)\n",
        "mh_cov_per[3]=round(mh_cov[3]/tot_emp[3]*100,1)\n",
        "mh_cov_per[4]=round(mh_cov[4]/tot_emp[4]*100,1)\n",
        "mh_cov_per[5]=round(mh_cov[5]/tot_emp[5]*100,1)"
      ]
    },
    {
      "cell_type": "code",
      "execution_count": null,
      "metadata": {
        "colab": {
          "base_uri": "https://localhost:8080/"
        },
        "id": "OOLLTSaZC3XY",
        "outputId": "dada5516-4e36-4f9e-b91c-7ed379b62d98"
      },
      "outputs": [
        {
          "ename": "",
          "evalue": "",
          "output_type": "error",
          "traceback": [
            "\u001b[1;31mJupyter cannot be started. Error attempting to locate Jupyter: Running cells with 'Python 3.10.6 64-bit' requires notebook package.\n",
            "\u001b[1;31mRun the following command to install 'jupyter and notebook' into the Python environment. \n",
            "\u001b[1;31mCommand: 'python -m pip install jupyter notebook -U\n",
            "\u001b[1;31mor\n",
            "\u001b[1;31mconda install jupyter notebook -U'\n",
            "Click <a href='https://aka.ms/installJupyterForVSCode'>here</a> for more info."
          ]
        }
      ],
      "source": [
        "mh_cov_per"
      ]
    },
    {
      "cell_type": "code",
      "execution_count": null,
      "metadata": {
        "colab": {
          "base_uri": "https://localhost:8080/",
          "height": 411
        },
        "id": "EeVRHM70C3a5",
        "outputId": "bb2762bd-f352-44ad-f4d2-ffb93ab7dbd8"
      },
      "outputs": [
        {
          "ename": "",
          "evalue": "",
          "output_type": "error",
          "traceback": [
            "\u001b[1;31mJupyter cannot be started. Error attempting to locate Jupyter: Running cells with 'Python 3.10.6 64-bit' requires notebook package.\n",
            "\u001b[1;31mRun the following command to install 'jupyter and notebook' into the Python environment. \n",
            "\u001b[1;31mCommand: 'python -m pip install jupyter notebook -U\n",
            "\u001b[1;31mor\n",
            "\u001b[1;31mconda install jupyter notebook -U'\n",
            "Click <a href='https://aka.ms/installJupyterForVSCode'>here</a> for more info."
          ]
        }
      ],
      "source": [
        "# emp_cnt = ['1-5', '6-25', '26-100','100-500', '500-1000', 'More than 1000' ]\n",
        "# fig = plt.figure(figsize =(10, 7))\n",
        "# colors = ['red','gold', 'yellowgreen', 'lightcoral', 'lightskyblue','orange']\n",
        "# plt.pie(mh_cov_per, labels = emp_cnt, colors= colors,autopct='%1.1f%%')\n",
        "# # show plot\n",
        "# plt.title('Fraction of employees')\n",
        "# plt.savefig('mh_ben_comp_size.png')\n",
        "# plt.show()"
      ]
    },
    {
      "cell_type": "code",
      "execution_count": null,
      "metadata": {
        "colab": {
          "base_uri": "https://localhost:8080/",
          "height": 542
        },
        "id": "rJ04Z4_OohjD",
        "outputId": "43391b43-3d75-4738-ae56-b0f6614aad95"
      },
      "outputs": [
        {
          "ename": "",
          "evalue": "",
          "output_type": "error",
          "traceback": [
            "\u001b[1;31mJupyter cannot be started. Error attempting to locate Jupyter: Running cells with 'Python 3.10.6 64-bit' requires notebook package.\n",
            "\u001b[1;31mRun the following command to install 'jupyter and notebook' into the Python environment. \n",
            "\u001b[1;31mCommand: 'python -m pip install jupyter notebook -U\n",
            "\u001b[1;31mor\n",
            "\u001b[1;31mconda install jupyter notebook -U'\n",
            "Click <a href='https://aka.ms/installJupyterForVSCode'>here</a> for more info."
          ]
        }
      ],
      "source": [
        "import plotly.graph_objects as go\n",
        "emp_cnt = ['1-5', '6-25', '26-100','100-500', '500-1000', 'More than 1000' ]\n",
        "fig = go.Figure()\n",
        "fig.add_trace(go.Bar(x=emp_cnt, y=mh_cov_per,text=[str(x)+\"%\" for x in mh_cov_per]))\n",
        "# fig.add_trace(go.Bar(x=x, y=neg_cons_list[1],name='Maybe',text=[str(x)+\"%\"  for x in neg_cons_list[1]]))\n",
        "# fig.add_trace(go.Bar(x=x, y=neg_cons_list[2],name='No',text=[str(x)+\"%\"  for x in neg_cons_list[2]]))\n",
        "\n",
        "fig.update_layout(xaxis_title='Number of employees in the company', yaxis_title='Fraction of employees provided with mental<br>health benefits as part of healthcare coverage')\n",
        "fig.show()"
      ]
    },
    {
      "cell_type": "markdown",
      "metadata": {
        "id": "vRQTx40lu-T_"
      },
      "source": [
        "2016 - Aware of mental health care options provided by employer "
      ]
    },
    {
      "cell_type": "code",
      "execution_count": null,
      "metadata": {
        "colab": {
          "base_uri": "https://localhost:8080/"
        },
        "id": "c5TdTi8gvYrR",
        "outputId": "c8036052-67a4-489b-a617-3e743bf3c871"
      },
      "outputs": [
        {
          "ename": "",
          "evalue": "",
          "output_type": "error",
          "traceback": [
            "\u001b[1;31mJupyter cannot be started. Error attempting to locate Jupyter: Running cells with 'Python 3.10.6 64-bit' requires notebook package.\n",
            "\u001b[1;31mRun the following command to install 'jupyter and notebook' into the Python environment. \n",
            "\u001b[1;31mCommand: 'python -m pip install jupyter notebook -U\n",
            "\u001b[1;31mor\n",
            "\u001b[1;31mconda install jupyter notebook -U'\n",
            "Click <a href='https://aka.ms/installJupyterForVSCode'>here</a> for more info."
          ]
        }
      ],
      "source": [
        "df['Awareness_of_options_under_coverage'].unique()"
      ]
    },
    {
      "cell_type": "code",
      "execution_count": null,
      "metadata": {
        "id": "REfozUCpvYbe"
      },
      "outputs": [
        {
          "ename": "",
          "evalue": "",
          "output_type": "error",
          "traceback": [
            "\u001b[1;31mJupyter cannot be started. Error attempting to locate Jupyter: Running cells with 'Python 3.10.6 64-bit' requires notebook package.\n",
            "\u001b[1;31mRun the following command to install 'jupyter and notebook' into the Python environment. \n",
            "\u001b[1;31mCommand: 'python -m pip install jupyter notebook -U\n",
            "\u001b[1;31mor\n",
            "\u001b[1;31mconda install jupyter notebook -U'\n",
            "Click <a href='https://aka.ms/installJupyterForVSCode'>here</a> for more info."
          ]
        }
      ],
      "source": []
    },
    {
      "cell_type": "code",
      "execution_count": null,
      "metadata": {
        "colab": {
          "base_uri": "https://localhost:8080/",
          "height": 542
        },
        "id": "vGYZuHbxu9by",
        "outputId": "ed335305-e209-471f-d506-258b9e1cadde"
      },
      "outputs": [
        {
          "ename": "",
          "evalue": "",
          "output_type": "error",
          "traceback": [
            "\u001b[1;31mJupyter cannot be started. Error attempting to locate Jupyter: Running cells with 'Python 3.10.6 64-bit' requires notebook package.\n",
            "\u001b[1;31mRun the following command to install 'jupyter and notebook' into the Python environment. \n",
            "\u001b[1;31mCommand: 'python -m pip install jupyter notebook -U\n",
            "\u001b[1;31mor\n",
            "\u001b[1;31mconda install jupyter notebook -U'\n",
            "Click <a href='https://aka.ms/installJupyterForVSCode'>here</a> for more info."
          ]
        }
      ],
      "source": [
        "awareness = ['Not Sure', 'Not Aware','Aware']\n",
        "# fig = plt.figure(figsize =(10, 7))\n",
        "# colors = ['gold','lightskyblue','orange']\n",
        "# plt.pie(mh_cov_per, labels = awareness, colors= colors,autopct='%1.1f%%')\n",
        "# # show plot\n",
        "# plt.title('Fraction of employees')\n",
        "# plt.savefig('mh_ben_comp_size.png')\n",
        "# plt.show()\n",
        "aware_values=[]\n",
        "labels = list(set(df['Awareness_of_options_under_coverage'].values))\n",
        "for i in labels:\n",
        "    new=df[df.Awareness_of_options_under_coverage==i]\n",
        "    aware_values.append(new.shape[0])\n",
        "fig = go.Figure(data=[go.Pie(labels=labels, values=aware_values)])\n",
        "fig.update_traces(labels=awareness,textinfo='percent+label')\n",
        "# fig.savefig('emp_aware_mh_options.png')\n",
        "fig.show()\n",
        "\n"
      ]
    },
    {
      "cell_type": "markdown",
      "metadata": {
        "id": "8L4nqLIE2tfh"
      },
      "source": [
        "2016 - Gender proportions in different regions"
      ]
    },
    {
      "cell_type": "code",
      "execution_count": null,
      "metadata": {
        "colab": {
          "base_uri": "https://localhost:8080/"
        },
        "id": "kU3pCel8hLXX",
        "outputId": "6ca9cab6-e1b4-4688-e115-8372da0f49e5"
      },
      "outputs": [
        {
          "ename": "",
          "evalue": "",
          "output_type": "error",
          "traceback": [
            "\u001b[1;31mJupyter cannot be started. Error attempting to locate Jupyter: Running cells with 'Python 3.10.6 64-bit' requires notebook package.\n",
            "\u001b[1;31mRun the following command to install 'jupyter and notebook' into the Python environment. \n",
            "\u001b[1;31mCommand: 'python -m pip install jupyter notebook -U\n",
            "\u001b[1;31mor\n",
            "\u001b[1;31mconda install jupyter notebook -U'\n",
            "Click <a href='https://aka.ms/installJupyterForVSCode'>here</a> for more info."
          ]
        }
      ],
      "source": [
        "labels"
      ]
    },
    {
      "cell_type": "code",
      "execution_count": null,
      "metadata": {
        "id": "yUrufwQANePz"
      },
      "outputs": [
        {
          "ename": "",
          "evalue": "",
          "output_type": "error",
          "traceback": [
            "\u001b[1;31mJupyter cannot be started. Error attempting to locate Jupyter: Running cells with 'Python 3.10.6 64-bit' requires notebook package.\n",
            "\u001b[1;31mRun the following command to install 'jupyter and notebook' into the Python environment. \n",
            "\u001b[1;31mCommand: 'python -m pip install jupyter notebook -U\n",
            "\u001b[1;31mor\n",
            "\u001b[1;31mconda install jupyter notebook -U'\n",
            "Click <a href='https://aka.ms/installJupyterForVSCode'>here</a> for more info."
          ]
        }
      ],
      "source": [
        "df_no_drp['country_live'].replace(to_replace = ['USA','Canada','Brazil','Chile','Colombia','Mexico','Argentina','Guatemala','Costa Rica','Venezuela','Ecuador'], value = \"North South and central America\", inplace = True)\n",
        "df_no_drp['country_live'].replace(to_replace = ['New Zealand','Australia','UK','Germany','Netherlands','Sweden','France','Ireland','Switzerland','Finland','Denmark','Bulgaria','Italy','Belgium','Spain','Poland','Austria','Romania','Czech Republic','Norway','Estonia','Bosnia and Herzegovina','Lithuania','Slovakia','Serbia','Greece','Hungary'], value = \"Europe and Australia\", inplace = True)\n",
        "df_no_drp['country_live'].replace(to_replace = ['Other','India','Russia','South Africa','Pakistan','Afghanistan','Israel','Japan','Algeria','Taiwan','Bangladesh','Brunei','China','Iran','Vietnam'], value = \"Asia and Africa\", inplace = True)"
      ]
    },
    {
      "cell_type": "code",
      "execution_count": null,
      "metadata": {
        "colab": {
          "base_uri": "https://localhost:8080/"
        },
        "id": "d6zBlOEp7LUa",
        "outputId": "7080e236-ed25-4c88-8b4a-31c152c7185f"
      },
      "outputs": [
        {
          "ename": "",
          "evalue": "",
          "output_type": "error",
          "traceback": [
            "\u001b[1;31mJupyter cannot be started. Error attempting to locate Jupyter: Running cells with 'Python 3.10.6 64-bit' requires notebook package.\n",
            "\u001b[1;31mRun the following command to install 'jupyter and notebook' into the Python environment. \n",
            "\u001b[1;31mCommand: 'python -m pip install jupyter notebook -U\n",
            "\u001b[1;31mor\n",
            "\u001b[1;31mconda install jupyter notebook -U'\n",
            "Click <a href='https://aka.ms/installJupyterForVSCode'>here</a> for more info."
          ]
        }
      ],
      "source": [
        "# df_no_drp['country_live'].unique()\n",
        "sizes"
      ]
    },
    {
      "cell_type": "code",
      "execution_count": null,
      "metadata": {
        "colab": {
          "base_uri": "https://localhost:8080/",
          "height": 391
        },
        "id": "RLglXDvk2skY",
        "outputId": "c18aaa53-fb0a-494c-e57f-2f5b01f8412f"
      },
      "outputs": [
        {
          "ename": "",
          "evalue": "",
          "output_type": "error",
          "traceback": [
            "\u001b[1;31mJupyter cannot be started. Error attempting to locate Jupyter: Running cells with 'Python 3.10.6 64-bit' requires notebook package.\n",
            "\u001b[1;31mRun the following command to install 'jupyter and notebook' into the Python environment. \n",
            "\u001b[1;31mCommand: 'python -m pip install jupyter notebook -U\n",
            "\u001b[1;31mor\n",
            "\u001b[1;31mconda install jupyter notebook -U'\n",
            "Click <a href='https://aka.ms/installJupyterForVSCode'>here</a> for more info."
          ]
        }
      ],
      "source": [
        "#Proportions of gender based on region\n",
        "# Pie Chart\n",
        "plt.rcParams['font.size'] = 15\n",
        "plt.figure(figsize = (16,5))\n",
        "fig, (ax1,ax2,ax3) = plt.subplots(1,3)\n",
        "fig.set_figheight(5)\n",
        "fig.set_figwidth(20)\n",
        "plt.subplots_adjust(wspace = 0)\n",
        "fig.suptitle('Gender proportions of employees in different regions', fontsize = 25, y=1.08)\n",
        "\n",
        "#For Eurpoe and Australia\n",
        "all_techs = df_no_drp[df_no_drp['country_live'] == 'Europe and Australia']['gender'].count()\n",
        "males = df_no_drp[(df_no_drp['country_live'] == 'Europe and Australia') & (df_no_drp['gender'] == 1.0)]['gender'].count()\n",
        "females = df_no_drp[(df_no_drp['country_live'] == 'Europe and Australia') & (df_no_drp['gender'] == 2.0)]['gender'].count()\n",
        "other = df_no_drp[(df_no_drp['country_live'] == 'Europe and Australia') & (df_no_drp['gender'] == 3.0)]['gender'].count()\n",
        "labels = ['Male', 'Female', 'Other']\n",
        "sizes = [males/all_techs, females/all_techs, other/all_techs]\n",
        "colors = ['#73C6B6', '#F0B27A', '#7FB3D5']\n",
        "explode = (0.03, 0, 0)  # explode 1st slice\n",
        "ax1.pie(sizes, explode=explode, labels=labels, colors=colors, autopct='%1.1f%%', shadow=False, startangle=140)\n",
        "ax1.axis('equal')\n",
        "ax1.set_title('Europe and Australia', pad = 20, fontsize = 20)\n",
        "\n",
        "\n",
        "#For America\n",
        "all_techs = df_no_drp[df_no_drp['country_live'] == 'North South and central America']['gender'].count()\n",
        "males = df_no_drp[(df_no_drp['country_live'] == 'North South and central America') & (df_no_drp['gender'] == 1.0)]['gender'].count()\n",
        "females = df_no_drp[(df_no_drp['country_live'] == 'North South and central America') & (df_no_drp['gender'] == 2.0)]['gender'].count()\n",
        "other = df_no_drp[(df_no_drp['country_live'] == 'North South and central America') & (df_no_drp['gender'] == 3.0)]['gender'].count()\n",
        "\n",
        "labels = ['Male', 'Female', 'Other']\n",
        "sizes = [males/all_techs, females/all_techs, other/all_techs]\n",
        "colors = ['#73C6B6', '#F0B27A', '#7FB3D5']\n",
        "explode = (0.03, 0, 0)  # explode 1st slice\n",
        "\n",
        "ax2.pie(sizes, explode=explode, labels=labels, colors=colors, autopct='%1.1f%%', shadow=False, startangle=140)\n",
        "ax2.axis('equal')\n",
        "ax2.set_title('North, South and central America', pad = 20, fontsize = 20)\n",
        "\n",
        "#For Asia Africa and Australia\n",
        "all_techs = df_no_drp[df_no_drp['country_live'] == 'Asia and Africa']['gender'].count()\n",
        "males = df_no_drp[(df_no_drp['country_live'] == 'Asia and Africa') & (df_no_drp['gender'] == 1.0)]['gender'].count()\n",
        "females = df_no_drp[(df_no_drp['country_live'] == 'Asia and Africa') & (df_no_drp['gender'] == 2.0)]['gender'].count()\n",
        "other = df_no_drp[(df_no_drp['country_live'] == 'Asia and Africa') & (df_no_drp['gender'] == 3.0)]['gender'].count()\n",
        "\n",
        "labels = ['Male', 'Female', 'Other']\n",
        "sizes = [males/all_techs, females/all_techs, other/all_techs]\n",
        "colors = ['#73C6B6', '#F0B27A', '#7FB3D5']\n",
        "explode = (0.03, 0, 0)  # explode 1st slice\n",
        "\n",
        "legends = ['Male', 'Female', 'Other']\n",
        "ax3.pie(sizes, explode=explode, labels=labels, colors=colors, autopct='%1.1f%%', shadow=False, startangle=140)\n",
        "ax3.axis('equal')\n",
        "ax3.set_title('Asia and Africa', pad = 20, fontsize = 20)\n",
        "ax3.legend(labels, loc=\"best\")\n",
        "plt.savefig('gen_prop.png')"
      ]
    },
    {
      "cell_type": "markdown",
      "metadata": {
        "id": "yQgNKuQZTYC3"
      },
      "source": [
        "Openness wrt country"
      ]
    },
    {
      "cell_type": "code",
      "execution_count": null,
      "metadata": {
        "colab": {
          "base_uri": "https://localhost:8080/"
        },
        "id": "ovasCIkDWaYG",
        "outputId": "82aef8c6-cfc4-425a-db39-c71d5ca7718f"
      },
      "outputs": [
        {
          "ename": "",
          "evalue": "",
          "output_type": "error",
          "traceback": [
            "\u001b[1;31mJupyter cannot be started. Error attempting to locate Jupyter: Running cells with 'Python 3.10.6 64-bit' requires notebook package.\n",
            "\u001b[1;31mRun the following command to install 'jupyter and notebook' into the Python environment. \n",
            "\u001b[1;31mCommand: 'python -m pip install jupyter notebook -U\n",
            "\u001b[1;31mor\n",
            "\u001b[1;31mconda install jupyter notebook -U'\n",
            "Click <a href='https://aka.ms/installJupyterForVSCode'>here</a> for more info."
          ]
        }
      ],
      "source": [
        "print(df_no_drp['share_w_friends_fam'].unique())\n",
        "print(df_no_drp[(df_no_drp['country_live'] == 'Europe and Australia') & (df_no_drp['share_w_friends_fam'] == 'Somewhat open')]['share_w_friends_fam'])"
      ]
    },
    {
      "cell_type": "code",
      "execution_count": null,
      "metadata": {
        "colab": {
          "base_uri": "https://localhost:8080/",
          "height": 346
        },
        "id": "EBaOGJusTuPL",
        "outputId": "d4b2beae-e172-44f7-ab56-d5c87aac0448"
      },
      "outputs": [
        {
          "ename": "",
          "evalue": "",
          "output_type": "error",
          "traceback": [
            "\u001b[1;31mJupyter cannot be started. Error attempting to locate Jupyter: Running cells with 'Python 3.10.6 64-bit' requires notebook package.\n",
            "\u001b[1;31mRun the following command to install 'jupyter and notebook' into the Python environment. \n",
            "\u001b[1;31mCommand: 'python -m pip install jupyter notebook -U\n",
            "\u001b[1;31mor\n",
            "\u001b[1;31mconda install jupyter notebook -U'\n",
            "Click <a href='https://aka.ms/installJupyterForVSCode'>here</a> for more info."
          ]
        }
      ],
      "source": [
        "#Proportions of gender based on region\n",
        "# Pie Chart\n",
        "plt.rcParams['font.size'] = 12\n",
        "plt.figure(figsize = (16,5))\n",
        "fig, (ax1,ax2,ax3) = plt.subplots(1,3)\n",
        "fig.set_figheight(5)\n",
        "fig.set_figwidth(20)\n",
        "plt.subplots_adjust(wspace =-0)\n",
        "fig.suptitle('Willingness to share mental illness with friends and family in different regions', fontsize = 20, y=1.08)\n",
        "\n",
        "#For Eurpoe\n",
        "all_techs = df_no_drp[df_no_drp['country_live'] == 'Europe and Australia']['share_w_friends_fam'].count()\n",
        "somewhat_op = df_no_drp[(df_no_drp['country_live'] == 'Europe and Australia') & (df_no_drp['share_w_friends_fam'] == 'Somewhat open')]['share_w_friends_fam'].count()\n",
        "neutral = df_no_drp[(df_no_drp['country_live'] == 'Europe and Australia') & (df_no_drp['share_w_friends_fam'] == 'Neutral')]['share_w_friends_fam'].count()\n",
        "v_open = df_no_drp[(df_no_drp['country_live'] == 'Europe and Australia') & (df_no_drp['share_w_friends_fam'] == 'Very open')]['share_w_friends_fam'].count()\n",
        "not_op = df_no_drp[(df_no_drp['country_live'] == 'Europe and Australia') & (df_no_drp['share_w_friends_fam'] == 'Not open at all')]['share_w_friends_fam'].count()\n",
        "somewhat_not_op = df_no_drp[(df_no_drp['country_live'] == 'Europe and Australia') & (df_no_drp['share_w_friends_fam'] == 'Somewhat not open')]['share_w_friends_fam'].count()\n",
        "not_app = df_no_drp[(df_no_drp['country_live'] == 'Europe and Australia') & (df_no_drp['share_w_friends_fam'] == 'Not applicable to me (I do not have a mental illness)')]['share_w_friends_fam'].count()\n",
        "labels = ['Somewhat open to share','Neutral','Not open to share','Very open to share','Somewhat not open to share',\"Not applicable(don't have mental illness)\"]\n",
        "sizes = [somewhat_op/all_techs, neutral/all_techs, not_op/all_techs,v_open/all_techs, somewhat_not_op/all_techs, not_app/all_techs]\n",
        "#colors = ['#73C6B6', '#F0B27A', '#7FB3D5']\n",
        "explode = (0.03, 0, 0,0,0,0)  # explode 1st slice\n",
        "ax1.pie(sizes, explode=explode, autopct='%1.1f%%', shadow=False, startangle=140)\n",
        "ax1.axis('equal')\n",
        "ax1.set_title('Europe and Australia', pad =3, fontsize =15)\n",
        "\n",
        "\n",
        "#For America\n",
        "all_techs = df_no_drp[df_no_drp['country_live'] == 'North South and central America']['share_w_friends_fam'].count()\n",
        "somewhat_op = df_no_drp[(df_no_drp['country_live'] == 'North South and central America') & (df_no_drp['share_w_friends_fam'] == 'Somewhat open')]['share_w_friends_fam'].count()\n",
        "neutral = df_no_drp[(df_no_drp['country_live'] == 'North South and central America') & (df_no_drp['share_w_friends_fam'] == 'Neutral')]['share_w_friends_fam'].count()\n",
        "v_open = df_no_drp[(df_no_drp['country_live'] == 'North South and central America') & (df_no_drp['share_w_friends_fam'] == 'Very open')]['share_w_friends_fam'].count()\n",
        "not_op = df_no_drp[(df_no_drp['country_live'] == 'North South and central America') & (df_no_drp['share_w_friends_fam'] == 'Not open at all')]['share_w_friends_fam'].count()\n",
        "somewhat_not_op = df_no_drp[(df_no_drp['country_live'] == 'North South and central America') & (df_no_drp['share_w_friends_fam'] == 'Somewhat not open')]['share_w_friends_fam'].count()\n",
        "not_app = df_no_drp[(df_no_drp['country_live'] == 'North South and central America') & (df_no_drp['share_w_friends_fam'] == 'Not applicable to me (I do not have a mental illness)')]['share_w_friends_fam'].count()\n",
        "#labels = ['Somewhat open','Neutral',\"Not applicable(don't have mental illness)\",'Very open','Not open at all','Somewhat not open']\n",
        "sizes = [somewhat_op/all_techs, neutral/all_techs, not_op/all_techs, v_open/all_techs, somewhat_not_op/all_techs, not_app/all_techs]\n",
        "#colors = ['#73C6B6', '#F0B27A', '#7FB3D5']\n",
        "explode = (0.03, 0, 0,0,0,0)  # explode 1st slice\n",
        "ax2.pie(sizes, explode=explode, autopct='%1.1f%%', shadow=False, startangle=140)\n",
        "ax2.axis('equal')\n",
        "ax2.set_title('North, South and central America', pad =3, fontsize =15)\n",
        "\n",
        "#For Asia Africa and Australia\n",
        "all_techs = df_no_drp[df_no_drp['country_live'] == 'Asia and Africa']['share_w_friends_fam'].count()\n",
        "somewhat_op = df_no_drp[(df_no_drp['country_live'] == 'Asia and Africa') & (df_no_drp['share_w_friends_fam'] == 'Somewhat open')]['share_w_friends_fam'].count()\n",
        "neutral = df_no_drp[(df_no_drp['country_live'] == 'Asia and Africa') & (df_no_drp['share_w_friends_fam'] == 'Neutral')]['share_w_friends_fam'].count()\n",
        "v_open = df_no_drp[(df_no_drp['country_live'] == 'Asia and Africa') & (df_no_drp['share_w_friends_fam'] == 'Very open')]['share_w_friends_fam'].count()\n",
        "not_op = df_no_drp[(df_no_drp['country_live'] == 'Asia and Africa') & (df_no_drp['share_w_friends_fam'] == 'Not open at all')]['share_w_friends_fam'].count()\n",
        "somewhat_not_op = df_no_drp[(df_no_drp['country_live'] == 'Asia and Africa') & (df_no_drp['share_w_friends_fam'] == 'Somewhat not open')]['share_w_friends_fam'].count()\n",
        "not_app = df_no_drp[(df_no_drp['country_live'] == 'Asia and Africa') & (df_no_drp['share_w_friends_fam'] == 'Not applicable to me (I do not have a mental illness)')]['share_w_friends_fam'].count()\n",
        "#labels = ['Somewhat open','Neutral',\"Not applicable(don't have mental illness)\",'Very open','Not open at all','Somewhat not open']\n",
        "sizes = [somewhat_op/all_techs, neutral/all_techs, not_op/all_techs, v_open/all_techs, somewhat_not_op/all_techs, not_app/all_techs]\n",
        "#colors = ['#73C6B6', '#F0B27A', '#7FB3D5']\n",
        "explode = (0.03, 0, 0,0,0,0)  # explode 1st slice\n",
        "ax3.pie(sizes, explode=explode, autopct='%1.1f%%', shadow=False, startangle=140)\n",
        "ax3.axis('equal')\n",
        "ax3.set_title('Asia and Africa', pad =3, fontsize = 15)\n",
        "ax3.legend(labels=labels, loc=(-2.4,0.5),prop={'size': 11})\n",
        "plt.savefig('will_share_mh.png')"
      ]
    },
    {
      "cell_type": "markdown",
      "metadata": {
        "id": "emEI7q2kojF7"
      },
      "source": [
        "Effect of formal discussion of mental health by employers on the employees' comfort in discussing mental health issues with their supervisors."
      ]
    },
    {
      "cell_type": "code",
      "execution_count": null,
      "metadata": {
        "colab": {
          "base_uri": "https://localhost:8080/",
          "height": 283
        },
        "id": "Zb9EhZJVTuS6",
        "outputId": "6e17aef9-6989-427c-bbfc-3155d22dfbb2"
      },
      "outputs": [
        {
          "ename": "",
          "evalue": "",
          "output_type": "error",
          "traceback": [
            "\u001b[1;31mJupyter cannot be started. Error attempting to locate Jupyter: Running cells with 'Python 3.10.6 64-bit' requires notebook package.\n",
            "\u001b[1;31mRun the following command to install 'jupyter and notebook' into the Python environment. \n",
            "\u001b[1;31mCommand: 'python -m pip install jupyter notebook -U\n",
            "\u001b[1;31mor\n",
            "\u001b[1;31mconda install jupyter notebook -U'\n",
            "Click <a href='https://aka.ms/installJupyterForVSCode'>here</a> for more info."
          ]
        }
      ],
      "source": [
        "plt.rcParams['font.size'] = 12\n",
        "plt.figure(figsize = (16,5))\n",
        "fig, (ax1,ax2) = plt.subplots(1,2)\n",
        "fig.set_figheight(5)\n",
        "fig.set_figwidth(20)\n",
        "plt.subplots_adjust(wspace =0)\n",
        "fig.suptitle(\"Effect of formal discussion of mental health by employers on the employees' comfort in discussing mental health issues with their supervisors and co-workers\", fontsize = 20, y=1.08)\n",
        "\n",
        "#comfort with supervisor\n",
        "all_techs = df_no_drp[df_no_drp['Employers_discussion_on_mental_health'] == 'Yes']['Comfort_discussing_with_supervisor'].count()\n",
        "comf = df_no_drp[(df_no_drp['Employers_discussion_on_mental_health'] == 'Yes') & (df_no_drp['Comfort_discussing_with_supervisor'] == 'Yes')]['Comfort_discussing_with_supervisor'].count()\n",
        "not_comf = df_no_drp[(df_no_drp['Employers_discussion_on_mental_health'] == 'Yes') & (df_no_drp['Comfort_discussing_with_supervisor'] == 'No')]['Comfort_discussing_with_supervisor'].count()\n",
        "maybe_comf = df_no_drp[(df_no_drp['Employers_discussion_on_mental_health'] == 'Yes') & (df_no_drp['Comfort_discussing_with_supervisor'] == 'Maybe')]['Comfort_discussing_with_supervisor'].count()\n",
        "sizes = [comf/all_techs, not_comf/all_techs, maybe_comf/all_techs]\n",
        "emp_cnt = ['Comfortable', 'Not comfortable', 'Might be comfortable']\n",
        "colors = ['yellowgreen', 'lightcoral', 'lightskyblue']\n",
        "ax1.pie(sizes, labels = emp_cnt, colors= colors,autopct='%1.1f%%')\n",
        "ax1.set_title('Discussion with supervisors', pad =3, fontsize = 15)\n",
        "#plt.title('Fraction of employees')\n",
        "\n",
        "#comfort with co-workers\n",
        "all_techs = df_no_drp[df_no_drp['Employers_discussion_on_mental_health'] == 'Yes']['Comfort_discussing_with_coworkers'].count()\n",
        "comf = df_no_drp[(df_no_drp['Employers_discussion_on_mental_health'] == 'Yes') & (df_no_drp['Comfort_discussing_with_coworkers'] == 'Yes')]['Comfort_discussing_with_coworkers'].count()\n",
        "not_comf = df_no_drp[(df_no_drp['Employers_discussion_on_mental_health'] == 'Yes') & (df_no_drp['Comfort_discussing_with_coworkers'] == 'No')]['Comfort_discussing_with_coworkers'].count()\n",
        "maybe_comf = df_no_drp[(df_no_drp['Employers_discussion_on_mental_health'] == 'Yes') & (df_no_drp['Comfort_discussing_with_coworkers'] == 'Maybe')]['Comfort_discussing_with_coworkers'].count()\n",
        "sizes = [comf/all_techs, not_comf/all_techs, maybe_comf/all_techs]\n",
        "emp_cnt = ['Comfortable', 'Not comfortable', 'Might be comfortable']\n",
        "colors = ['yellowgreen', 'lightcoral', 'lightskyblue']\n",
        "ax2.pie(sizes, labels = emp_cnt, colors= colors,autopct='%1.1f%%')\n",
        "ax2.set_title('Discussion with co-workers', pad =3, fontsize = 15)\n",
        "\n",
        "plt.savefig('disc_eff_comf.png')"
      ]
    },
    {
      "cell_type": "code",
      "execution_count": null,
      "metadata": {
        "colab": {
          "base_uri": "https://localhost:8080/"
        },
        "id": "0WHxR-3QwFN7",
        "outputId": "7cf742b6-080a-44d0-bdd6-220f7292054c"
      },
      "outputs": [
        {
          "ename": "",
          "evalue": "",
          "output_type": "error",
          "traceback": [
            "\u001b[1;31mJupyter cannot be started. Error attempting to locate Jupyter: Running cells with 'Python 3.10.6 64-bit' requires notebook package.\n",
            "\u001b[1;31mRun the following command to install 'jupyter and notebook' into the Python environment. \n",
            "\u001b[1;31mCommand: 'python -m pip install jupyter notebook -U\n",
            "\u001b[1;31mor\n",
            "\u001b[1;31mconda install jupyter notebook -U'\n",
            "Click <a href='https://aka.ms/installJupyterForVSCode'>here</a> for more info."
          ]
        }
      ],
      "source": [
        "print(comf, not_comf, maybe_comf)\n",
        "print(all_techs)"
      ]
    },
    {
      "cell_type": "code",
      "execution_count": null,
      "metadata": {
        "colab": {
          "base_uri": "https://localhost:8080/",
          "height": 392
        },
        "id": "nBXTQP1ByyTU",
        "outputId": "335dbe4e-f1e5-4d6c-df7a-8ba059b53aa2"
      },
      "outputs": [
        {
          "ename": "",
          "evalue": "",
          "output_type": "error",
          "traceback": [
            "\u001b[1;31mJupyter cannot be started. Error attempting to locate Jupyter: Running cells with 'Python 3.10.6 64-bit' requires notebook package.\n",
            "\u001b[1;31mRun the following command to install 'jupyter and notebook' into the Python environment. \n",
            "\u001b[1;31mCommand: 'python -m pip install jupyter notebook -U\n",
            "\u001b[1;31mor\n",
            "\u001b[1;31mconda install jupyter notebook -U'\n",
            "Click <a href='https://aka.ms/installJupyterForVSCode'>here</a> for more info."
          ]
        }
      ],
      "source": [
        "plt.rcParams['font.size'] = 12\n",
        "plt.figure(figsize = (16,5))\n",
        "fig, (ax1,ax2) = plt.subplots(1,2)\n",
        "fig.set_figheight(5)\n",
        "fig.set_figwidth(20)\n",
        "plt.subplots_adjust(wspace =0)\n",
        "fig.suptitle(\"Employees' comfort in discussing mental health issues with their supervisors\", fontsize = 20, y=1.08)\n",
        "\n",
        "\n",
        "all_techs = df_no_drp[df_no_drp['Employers_discussion_on_mental_health'] == 'Yes']['Comfort_discussing_with_supervisor'].count()\n",
        "comf = df_no_drp[(df_no_drp['Employers_discussion_on_mental_health'] == 'Yes') & (df_no_drp['Comfort_discussing_with_supervisor'] == 'Yes')]['Comfort_discussing_with_supervisor'].count()\n",
        "not_comf = df_no_drp[(df_no_drp['Employers_discussion_on_mental_health'] == 'Yes') & (df_no_drp['Comfort_discussing_with_supervisor'] == 'No')]['Comfort_discussing_with_supervisor'].count()\n",
        "maybe_comf = df_no_drp[(df_no_drp['Employers_discussion_on_mental_health'] == 'Yes') & (df_no_drp['Comfort_discussing_with_supervisor'] == 'Maybe')]['Comfort_discussing_with_supervisor'].count()\n",
        "sizes = [comf/all_techs, not_comf/all_techs, maybe_comf/all_techs]\n",
        "emp_cnt = ['Comfortable', 'Not comfortable', 'Might be comfortable']\n",
        "colors = ['yellowgreen', 'lightcoral', 'lightskyblue']\n",
        "ax1.pie(sizes, labels = emp_cnt, colors= colors,autopct='%1.1f%%')\n",
        "ax1.set_title('Comfortableness with employers who\\nformally discuss mental health', pad =3, fontsize = 15)\n",
        "#plt.title(\"Effect of formal discussion of mental health by employers on the employees' comfort in discussing mental health issues with their supervisors\", pad =3, fontsize = 15)\n",
        "\n",
        "\n",
        "all_techs = df_no_drp[df_no_drp['Employers_discussion_on_mental_health'] == 'No']['Comfort_discussing_with_supervisor'].count()\n",
        "comf = df_no_drp[(df_no_drp['Employers_discussion_on_mental_health'] == 'No') & (df_no_drp['Comfort_discussing_with_supervisor'] == 'Yes')]['Comfort_discussing_with_supervisor'].count()\n",
        "not_comf = df_no_drp[(df_no_drp['Employers_discussion_on_mental_health'] == 'No') & (df_no_drp['Comfort_discussing_with_supervisor'] == 'No')]['Comfort_discussing_with_supervisor'].count()\n",
        "maybe_comf = df_no_drp[(df_no_drp['Employers_discussion_on_mental_health'] == 'No') & (df_no_drp['Comfort_discussing_with_supervisor'] == 'Maybe')]['Comfort_discussing_with_supervisor'].count()\n",
        "sizes = [comf/all_techs, not_comf/all_techs, maybe_comf/all_techs]\n",
        "emp_cnt = ['Comfortable', 'Not comfortable', 'Might be comfortable']\n",
        "colors = ['yellowgreen', 'lightcoral', 'lightskyblue']\n",
        "ax2.pie(sizes, labels = emp_cnt, colors= colors,autopct='%1.1f%%')\n",
        "ax2.set_title('Comfortableness with employers who\\ndon\\'t formally discuss mental health', pad =3, fontsize = 15)\n",
        "#plt.title(\"Effect of formal discussion of mental health by employers on the employees' comfort in discussing mental health issues with their supervisors\", pad =3, fontsize = 15)\n",
        "plt.savefig('disc_eff_comf.png')\n",
        "\n"
      ]
    },
    {
      "cell_type": "code",
      "execution_count": null,
      "metadata": {
        "colab": {
          "base_uri": "https://localhost:8080/",
          "height": 411
        },
        "id": "jKNaU_s5NN2m",
        "outputId": "7d28142d-d547-43b9-ffd6-1201ac1e7364"
      },
      "outputs": [
        {
          "ename": "",
          "evalue": "",
          "output_type": "error",
          "traceback": [
            "\u001b[1;31mJupyter cannot be started. Error attempting to locate Jupyter: Running cells with 'Python 3.10.6 64-bit' requires notebook package.\n",
            "\u001b[1;31mRun the following command to install 'jupyter and notebook' into the Python environment. \n",
            "\u001b[1;31mCommand: 'python -m pip install jupyter notebook -U\n",
            "\u001b[1;31mor\n",
            "\u001b[1;31mconda install jupyter notebook -U'\n",
            "Click <a href='https://aka.ms/installJupyterForVSCode'>here</a> for more info."
          ]
        }
      ],
      "source": [
        "fig = plt.figure(figsize =(10, 7))\n",
        "all_techs = df_no_drp[df_no_drp['Employers_discussion_on_mental_health'] == 'No']['Comfort_discussing_with_supervisor'].count()\n",
        "comf = df_no_drp[(df_no_drp['Employers_discussion_on_mental_health'] == 'No') & (df_no_drp['Comfort_discussing_with_supervisor'] == 'Yes')]['Comfort_discussing_with_supervisor'].count()\n",
        "not_comf = df_no_drp[(df_no_drp['Employers_discussion_on_mental_health'] == 'No') & (df_no_drp['Comfort_discussing_with_supervisor'] == 'No')]['Comfort_discussing_with_supervisor'].count()\n",
        "maybe_comf = df_no_drp[(df_no_drp['Employers_discussion_on_mental_health'] == 'No') & (df_no_drp['Comfort_discussing_with_supervisor'] == 'Maybe')]['Comfort_discussing_with_supervisor'].count()\n",
        "sizes = [comf/all_techs, not_comf/all_techs, maybe_comf/all_techs]\n",
        "emp_cnt = ['Comfortable', 'Not comfortable', 'Might be comfortable']\n",
        "colors = ['yellowgreen', 'lightcoral', 'lightskyblue']\n",
        "plt.pie(sizes, labels = emp_cnt, colors= colors,autopct='%1.1f%%')\n",
        "#plt.title(\"Effect of formal discussion of mental health by employers on the employees' comfort in discussing mental health issues with their supervisors\", pad =3, fontsize = 15)\n",
        "#plt.savefig('disc_eff_comf.png')\n",
        "plt.show()"
      ]
    },
    {
      "cell_type": "markdown",
      "metadata": {
        "id": "gPPoClKSx5Yn"
      },
      "source": [
        "fraction of male and female employees with a mental health issue"
      ]
    },
    {
      "cell_type": "code",
      "execution_count": null,
      "metadata": {
        "id": "uXELO9Kkx4qb"
      },
      "outputs": [
        {
          "ename": "",
          "evalue": "",
          "output_type": "error",
          "traceback": [
            "\u001b[1;31mJupyter cannot be started. Error attempting to locate Jupyter: Running cells with 'Python 3.10.6 64-bit' requires notebook package.\n",
            "\u001b[1;31mRun the following command to install 'jupyter and notebook' into the Python environment. \n",
            "\u001b[1;31mCommand: 'python -m pip install jupyter notebook -U\n",
            "\u001b[1;31mor\n",
            "\u001b[1;31mconda install jupyter notebook -U'\n",
            "Click <a href='https://aka.ms/installJupyterForVSCode'>here</a> for more info."
          ]
        }
      ],
      "source": [
        "#fig = plt.figure(figsize =(10, 7))\n",
        "all_ = df_no_drp[df_no_drp['diagnosed_prof'] == 'Yes']['gender'].count()\n",
        "comf = df_no_drp[(df_no_drp['diagnosed_prof'] == 'Yes') & (df_no_drp['gender'] == 'Yes')]['Comfort_discussing_with_supervisor'].count()\n",
        "not_comf = df_no_drp[(df_no_drp['Employers_discussion_on_mental_health'] == 'No') & (df_no_drp['Comfort_discussing_with_supervisor'] == 'No')]['Comfort_discussing_with_supervisor'].count()\n",
        "maybe_comf = df_no_drp[(df_no_drp['Employers_discussion_on_mental_health'] == 'No') & (df_no_drp['Comfort_discussing_with_supervisor'] == 'Maybe')]['Comfort_discussing_with_supervisor'].count()\n",
        "sizes = [comf/all_techs, not_comf/all_techs, maybe_comf/all_techs]\n",
        "# emp_cnt = ['Comfortable', 'Not comfortable', 'Might be comfortable']\n",
        "# colors = ['yellowgreen', 'lightcoral', 'lightskyblue']\n",
        "# plt.pie(sizes, labels = emp_cnt, colors= colors,autopct='%1.1f%%')\n",
        "# #plt.title(\"Effect of formal discussion of mental health by employers on the employees' comfort in discussing mental health issues with their supervisors\", pad =3, fontsize = 15)\n",
        "# #plt.savefig('disc_eff_comf.png')\n",
        "# plt.show()"
      ]
    },
    {
      "cell_type": "markdown",
      "metadata": {
        "id": "sBdQYKeo9GcU"
      },
      "source": [
        "Fraction of employees diagnosed with a mental health issue"
      ]
    },
    {
      "cell_type": "code",
      "execution_count": null,
      "metadata": {
        "id": "05HIA2sFs5JE"
      },
      "outputs": [
        {
          "ename": "",
          "evalue": "",
          "output_type": "error",
          "traceback": [
            "\u001b[1;31mJupyter cannot be started. Error attempting to locate Jupyter: Running cells with 'Python 3.10.6 64-bit' requires notebook package.\n",
            "\u001b[1;31mRun the following command to install 'jupyter and notebook' into the Python environment. \n",
            "\u001b[1;31mCommand: 'python -m pip install jupyter notebook -U\n",
            "\u001b[1;31mor\n",
            "\u001b[1;31mconda install jupyter notebook -U'\n",
            "Click <a href='https://aka.ms/installJupyterForVSCode'>here</a> for more info."
          ]
        }
      ],
      "source": [
        "mh_diag17=df17['Have you ever been diagnosed with a mental health disorder?']\n",
        "mh_diag18=df18['Have you ever been diagnosed with a mental health disorder?']\n",
        "mh_diag19=df19['Have you ever been *diagnosed* with a mental health disorder?']\n",
        "mh_diag20=df20['Have you ever been *diagnosed* with a mental health disorder?']\n",
        "mh_diag21=df21['Have you ever been *diagnosed* with a mental health disorder?']       \n"
      ]
    },
    {
      "cell_type": "code",
      "execution_count": null,
      "metadata": {
        "id": "SCBdTicwYH2T"
      },
      "outputs": [
        {
          "ename": "",
          "evalue": "",
          "output_type": "error",
          "traceback": [
            "\u001b[1;31mJupyter cannot be started. Error attempting to locate Jupyter: Running cells with 'Python 3.10.6 64-bit' requires notebook package.\n",
            "\u001b[1;31mRun the following command to install 'jupyter and notebook' into the Python environment. \n",
            "\u001b[1;31mCommand: 'python -m pip install jupyter notebook -U\n",
            "\u001b[1;31mor\n",
            "\u001b[1;31mconda install jupyter notebook -U'\n",
            "Click <a href='https://aka.ms/installJupyterForVSCode'>here</a> for more info."
          ]
        }
      ],
      "source": [
        "from collections import Counter\n",
        "mh_diag_cnt17=round(Counter(mh_diag17)['Yes']/len(mh_diag17)*100,1)\n",
        "mh_diag_cnt18=round(Counter(mh_diag18)['Yes']/len(mh_diag18)*100,1)\n",
        "mh_diag_cnt19=round(Counter(mh_diag19)['Yes']/len(mh_diag19)*100,1)\n",
        "mh_diag_cnt20=round(Counter(mh_diag20)['Yes']/len(mh_diag20)*100,1)\n",
        "mh_diag_cnt21=round(Counter(mh_diag21)['Yes']/len(mh_diag21)*100,1) "
      ]
    },
    {
      "cell_type": "code",
      "execution_count": null,
      "metadata": {
        "id": "ceiLhWPpZTO6"
      },
      "outputs": [
        {
          "ename": "",
          "evalue": "",
          "output_type": "error",
          "traceback": [
            "\u001b[1;31mJupyter cannot be started. Error attempting to locate Jupyter: Running cells with 'Python 3.10.6 64-bit' requires notebook package.\n",
            "\u001b[1;31mRun the following command to install 'jupyter and notebook' into the Python environment. \n",
            "\u001b[1;31mCommand: 'python -m pip install jupyter notebook -U\n",
            "\u001b[1;31mor\n",
            "\u001b[1;31mconda install jupyter notebook -U'\n",
            "Click <a href='https://aka.ms/installJupyterForVSCode'>here</a> for more info."
          ]
        }
      ],
      "source": [
        "years = ['2017', '2018', '2019', '2020', '2021']\n",
        "mh_diag = [mh_diag_cnt17, mh_diag_cnt18, mh_diag_cnt19, mh_diag_cnt20, mh_diag_cnt21]"
      ]
    },
    {
      "cell_type": "code",
      "execution_count": null,
      "metadata": {
        "colab": {
          "base_uri": "https://localhost:8080/",
          "height": 542
        },
        "id": "Nua6QoB9ZEFA",
        "outputId": "6cbd1b5f-6082-4fac-8847-5f9dd7f66136"
      },
      "outputs": [
        {
          "ename": "",
          "evalue": "",
          "output_type": "error",
          "traceback": [
            "\u001b[1;31mJupyter cannot be started. Error attempting to locate Jupyter: Running cells with 'Python 3.10.6 64-bit' requires notebook package.\n",
            "\u001b[1;31mRun the following command to install 'jupyter and notebook' into the Python environment. \n",
            "\u001b[1;31mCommand: 'python -m pip install jupyter notebook -U\n",
            "\u001b[1;31mor\n",
            "\u001b[1;31mconda install jupyter notebook -U'\n",
            "Click <a href='https://aka.ms/installJupyterForVSCode'>here</a> for more info."
          ]
        }
      ],
      "source": [
        "import plotly.graph_objects as go\n",
        "\n",
        "fig = go.Figure()\n",
        "fig.add_trace(go.Bar(x=years, y=mh_diag, name='Employees diagnosed with a mental health issue',text=[str(x)+\"%\" for x in mh_diag]))\n",
        "# fig.add_trace(go.Bar(x=x, y=neg_cons_list[1],name='Maybe',text=[str(x)+\"%\"  for x in neg_cons_list[1]]))\n",
        "# fig.add_trace(go.Bar(x=x, y=neg_cons_list[2],name='No',text=[str(x)+\"%\"  for x in neg_cons_list[2]]))\n",
        "\n",
        "fig.update_layout(xaxis_title='Year', yaxis_title='Employees diagnosed<br>with a mental health issue', title_text=\"Mental healthcare related resources offered by employer\")\n",
        "fig.show()\n",
        "#fig.savefig('mh_res.jpg')"
      ]
    },
    {
      "cell_type": "markdown",
      "metadata": {
        "id": "og1ZI-ZAoLIp"
      },
      "source": [
        "Fraction of employees currently having a mental health disorder"
      ]
    },
    {
      "cell_type": "code",
      "execution_count": null,
      "metadata": {
        "id": "tbT6wRXsoXKo"
      },
      "outputs": [
        {
          "ename": "",
          "evalue": "",
          "output_type": "error",
          "traceback": [
            "\u001b[1;31mJupyter cannot be started. Error attempting to locate Jupyter: Running cells with 'Python 3.10.6 64-bit' requires notebook package.\n",
            "\u001b[1;31mRun the following command to install 'jupyter and notebook' into the Python environment. \n",
            "\u001b[1;31mCommand: 'python -m pip install jupyter notebook -U\n",
            "\u001b[1;31mor\n",
            "\u001b[1;31mconda install jupyter notebook -U'\n",
            "Click <a href='https://aka.ms/installJupyterForVSCode'>here</a> for more info."
          ]
        }
      ],
      "source": [
        "mh_cur17=df17['Do you currently have a mental health disorder?']\n",
        "mh_cur18=df18['Do you currently have a mental health disorder?']\n",
        "mh_cur19=df19['Do you *currently* have a mental health disorder?']\n",
        "mh_cur20=df20['Do you *currently* have a mental health disorder?']\n",
        "mh_cur21=df21['Do you *currently* have a mental health disorder?']       \n"
      ]
    },
    {
      "cell_type": "code",
      "execution_count": null,
      "metadata": {
        "id": "buKncFm0oXRI"
      },
      "outputs": [
        {
          "ename": "",
          "evalue": "",
          "output_type": "error",
          "traceback": [
            "\u001b[1;31mJupyter cannot be started. Error attempting to locate Jupyter: Running cells with 'Python 3.10.6 64-bit' requires notebook package.\n",
            "\u001b[1;31mRun the following command to install 'jupyter and notebook' into the Python environment. \n",
            "\u001b[1;31mCommand: 'python -m pip install jupyter notebook -U\n",
            "\u001b[1;31mor\n",
            "\u001b[1;31mconda install jupyter notebook -U'\n",
            "Click <a href='https://aka.ms/installJupyterForVSCode'>here</a> for more info."
          ]
        }
      ],
      "source": []
    },
    {
      "cell_type": "code",
      "execution_count": null,
      "metadata": {
        "id": "QWzrCmProXUi"
      },
      "outputs": [
        {
          "ename": "",
          "evalue": "",
          "output_type": "error",
          "traceback": [
            "\u001b[1;31mJupyter cannot be started. Error attempting to locate Jupyter: Running cells with 'Python 3.10.6 64-bit' requires notebook package.\n",
            "\u001b[1;31mRun the following command to install 'jupyter and notebook' into the Python environment. \n",
            "\u001b[1;31mCommand: 'python -m pip install jupyter notebook -U\n",
            "\u001b[1;31mor\n",
            "\u001b[1;31mconda install jupyter notebook -U'\n",
            "Click <a href='https://aka.ms/installJupyterForVSCode'>here</a> for more info."
          ]
        }
      ],
      "source": []
    },
    {
      "cell_type": "markdown",
      "metadata": {
        "id": "pGDFqvLqdeLE"
      },
      "source": [
        "Hesitation to discuss mental health issues based on race"
      ]
    },
    {
      "cell_type": "code",
      "execution_count": null,
      "metadata": {
        "id": "qpU2Nq8dZuVf"
      },
      "outputs": [
        {
          "ename": "",
          "evalue": "",
          "output_type": "error",
          "traceback": [
            "\u001b[1;31mJupyter cannot be started. Error attempting to locate Jupyter: Running cells with 'Python 3.10.6 64-bit' requires notebook package.\n",
            "\u001b[1;31mRun the following command to install 'jupyter and notebook' into the Python environment. \n",
            "\u001b[1;31mCommand: 'python -m pip install jupyter notebook -U\n",
            "\u001b[1;31mor\n",
            "\u001b[1;31mconda install jupyter notebook -U'\n",
            "Click <a href='https://aka.ms/installJupyterForVSCode'>here</a> for more info."
          ]
        }
      ],
      "source": [
        "race_17=df17['What is your race?']\n",
        "race_18=df18['What is your race?']\n",
        "race_19=df19['What is your race?']\n",
        "race_20=df20['What is your race?']\n",
        "race_21=df21['What is your race?']\n",
        "\n",
        "dis_emp17=df17['Have you ever discussed your mental health with your employer?']\n",
        "dis_emp18=df18['Have you ever discussed your mental health with your employer?']\n",
        "dis_emp19=df19['Have you ever discussed your mental health with your employer?']\n",
        "dis_emp20=df20['Have you ever discussed your mental health with your employer?']\n",
        "dis_emp21=df21['Have you ever discussed your mental health with your employer?']       \n",
        "dis_cow17=df17['Have you ever discussed your mental health with coworkers?']\n",
        "dis_cow18=df18['Have you ever discussed your mental health with coworkers?']\n",
        "dis_cow19=df19['Have you ever discussed your mental health with coworkers?']\n",
        "dis_cow20=df20['Have you ever discussed your mental health with coworkers?']\n",
        "dis_cow21=df21['Have you ever discussed your mental health with coworkers?']"
      ]
    },
    {
      "cell_type": "code",
      "execution_count": null,
      "metadata": {
        "colab": {
          "base_uri": "https://localhost:8080/"
        },
        "id": "a-PE3pKvd3xW",
        "outputId": "aa0e5599-f36f-4fbe-a9f9-d3240d7032c7"
      },
      "outputs": [
        {
          "ename": "",
          "evalue": "",
          "output_type": "error",
          "traceback": [
            "\u001b[1;31mJupyter cannot be started. Error attempting to locate Jupyter: Running cells with 'Python 3.10.6 64-bit' requires notebook package.\n",
            "\u001b[1;31mRun the following command to install 'jupyter and notebook' into the Python environment. \n",
            "\u001b[1;31mCommand: 'python -m pip install jupyter notebook -U\n",
            "\u001b[1;31mor\n",
            "\u001b[1;31mconda install jupyter notebook -U'\n",
            "Click <a href='https://aka.ms/installJupyterForVSCode'>here</a> for more info."
          ]
        }
      ],
      "source": [
        "print(race_17.unique())\n",
        "print(race_18.unique())\n",
        "print(race_19.unique())\n",
        "print(race_20.unique())\n",
        "print(race_21.unique())\n"
      ]
    },
    {
      "cell_type": "code",
      "execution_count": null,
      "metadata": {
        "id": "5qFLRcufd5oX"
      },
      "outputs": [
        {
          "ename": "",
          "evalue": "",
          "output_type": "error",
          "traceback": [
            "\u001b[1;31mJupyter cannot be started. Error attempting to locate Jupyter: Running cells with 'Python 3.10.6 64-bit' requires notebook package.\n",
            "\u001b[1;31mRun the following command to install 'jupyter and notebook' into the Python environment. \n",
            "\u001b[1;31mCommand: 'python -m pip install jupyter notebook -U\n",
            "\u001b[1;31mor\n",
            "\u001b[1;31mconda install jupyter notebook -U'\n",
            "Click <a href='https://aka.ms/installJupyterForVSCode'>here</a> for more info."
          ]
        }
      ],
      "source": [
        "race=['White', 'Black or African American', 'Asian']\n",
        "#race=['White', 'Black or African American', 'Asian', 'Caucasian','American Indian or Alaska Native', 'Hispanic', 'White Hispanic','European American']"
      ]
    },
    {
      "cell_type": "code",
      "execution_count": null,
      "metadata": {
        "colab": {
          "base_uri": "https://localhost:8080/",
          "height": 36
        },
        "id": "ONuvZu8hf0cy",
        "outputId": "ce9c1298-e32c-44fc-c969-194bdc28e40f"
      },
      "outputs": [
        {
          "ename": "",
          "evalue": "",
          "output_type": "error",
          "traceback": [
            "\u001b[1;31mJupyter cannot be started. Error attempting to locate Jupyter: Running cells with 'Python 3.10.6 64-bit' requires notebook package.\n",
            "\u001b[1;31mRun the following command to install 'jupyter and notebook' into the Python environment. \n",
            "\u001b[1;31mCommand: 'python -m pip install jupyter notebook -U\n",
            "\u001b[1;31mor\n",
            "\u001b[1;31mconda install jupyter notebook -U'\n",
            "Click <a href='https://aka.ms/installJupyterForVSCode'>here</a> for more info."
          ]
        }
      ],
      "source": [
        "df18.columns[-7]"
      ]
    },
    {
      "cell_type": "code",
      "execution_count": null,
      "metadata": {
        "colab": {
          "base_uri": "https://localhost:8080/",
          "height": 36
        },
        "id": "A4zdb59YgNxc",
        "outputId": "b1a1795d-4109-43fb-917b-e8c0f3ef0afa"
      },
      "outputs": [
        {
          "ename": "",
          "evalue": "",
          "output_type": "error",
          "traceback": [
            "\u001b[1;31mJupyter cannot be started. Error attempting to locate Jupyter: Running cells with 'Python 3.10.6 64-bit' requires notebook package.\n",
            "\u001b[1;31mRun the following command to install 'jupyter and notebook' into the Python environment. \n",
            "\u001b[1;31mCommand: 'python -m pip install jupyter notebook -U\n",
            "\u001b[1;31mor\n",
            "\u001b[1;31mconda install jupyter notebook -U'\n",
            "Click <a href='https://aka.ms/installJupyterForVSCode'>here</a> for more info."
          ]
        }
      ],
      "source": [
        "df19.columns[-3]"
      ]
    },
    {
      "cell_type": "code",
      "execution_count": null,
      "metadata": {
        "colab": {
          "base_uri": "https://localhost:8080/",
          "height": 36
        },
        "id": "Gw_GzvSVgZtB",
        "outputId": "5589196d-debf-48e8-d49b-86985b8c9a9a"
      },
      "outputs": [
        {
          "ename": "",
          "evalue": "",
          "output_type": "error",
          "traceback": [
            "\u001b[1;31mJupyter cannot be started. Error attempting to locate Jupyter: Running cells with 'Python 3.10.6 64-bit' requires notebook package.\n",
            "\u001b[1;31mRun the following command to install 'jupyter and notebook' into the Python environment. \n",
            "\u001b[1;31mCommand: 'python -m pip install jupyter notebook -U\n",
            "\u001b[1;31mor\n",
            "\u001b[1;31mconda install jupyter notebook -U'\n",
            "Click <a href='https://aka.ms/installJupyterForVSCode'>here</a> for more info."
          ]
        }
      ],
      "source": [
        "df20.columns[-4]"
      ]
    },
    {
      "cell_type": "code",
      "execution_count": null,
      "metadata": {
        "colab": {
          "base_uri": "https://localhost:8080/",
          "height": 36
        },
        "id": "1N7nmR4MguDB",
        "outputId": "ea83f508-dbdd-462e-ffd6-bbe02e91b8fc"
      },
      "outputs": [
        {
          "ename": "",
          "evalue": "",
          "output_type": "error",
          "traceback": [
            "\u001b[1;31mJupyter cannot be started. Error attempting to locate Jupyter: Running cells with 'Python 3.10.6 64-bit' requires notebook package.\n",
            "\u001b[1;31mRun the following command to install 'jupyter and notebook' into the Python environment. \n",
            "\u001b[1;31mCommand: 'python -m pip install jupyter notebook -U\n",
            "\u001b[1;31mor\n",
            "\u001b[1;31mconda install jupyter notebook -U'\n",
            "Click <a href='https://aka.ms/installJupyterForVSCode'>here</a> for more info."
          ]
        }
      ],
      "source": [
        "df21.columns[-8]"
      ]
    },
    {
      "cell_type": "code",
      "execution_count": null,
      "metadata": {
        "id": "SDYr-VFTef76"
      },
      "outputs": [
        {
          "ename": "",
          "evalue": "",
          "output_type": "error",
          "traceback": [
            "\u001b[1;31mJupyter cannot be started. Error attempting to locate Jupyter: Running cells with 'Python 3.10.6 64-bit' requires notebook package.\n",
            "\u001b[1;31mRun the following command to install 'jupyter and notebook' into the Python environment. \n",
            "\u001b[1;31mCommand: 'python -m pip install jupyter notebook -U\n",
            "\u001b[1;31mor\n",
            "\u001b[1;31mconda install jupyter notebook -U'\n",
            "Click <a href='https://aka.ms/installJupyterForVSCode'>here</a> for more info."
          ]
        }
      ],
      "source": [
        "dis_ec_white17=0\n",
        "dis_ec_black17=0\n",
        "dis_ec_asian17=0\n",
        "dis_ec_white18=0\n",
        "dis_ec_black18=0\n",
        "dis_ec_asian18=0\n",
        "dis_ec_white19=0\n",
        "dis_ec_black19=0\n",
        "dis_ec_asian19=0\n",
        "dis_ec_white20=0\n",
        "dis_ec_black20=0\n",
        "dis_ec_asian20=0\n",
        "dis_ec_white21=0\n",
        "dis_ec_black21=0\n",
        "dis_ec_asian21=0\n",
        "for i in range(len(dis_emp17)):\n",
        "  if((df17.iloc[i,13]==0 or df17.iloc[i,16]==0) and df17.iloc[i,-7]=='White'):\n",
        "    dis_ec_white17 +=1\n",
        "  if((df17.iloc[i,13]==0 or df17.iloc[i,16]==0) and df17.iloc[i,-7]=='Black or African American'):\n",
        "    dis_ec_black17 +=1\n",
        "  if((df17.iloc[i,13]==0 or df17.iloc[i,16]==0) and df17.iloc[i,-7]=='Asian'):\n",
        "    dis_ec_asian17 +=1\n",
        "for i in range(len(dis_emp18)):\n",
        "  if((df18.iloc[i,13]==0 or df18.iloc[i,16]==0) and df18.iloc[i,-7]=='White'):\n",
        "    dis_ec_white18 +=1\n",
        "  if((df18.iloc[i,13]==0 or df18.iloc[i,16]==0) and df18.iloc[i,-7]=='Black or African American'):\n",
        "    dis_ec_black18 +=1\n",
        "  if((df18.iloc[i,13]==0 or df18.iloc[i,16]==0) and df18.iloc[i,-7]=='Asian'):\n",
        "    dis_ec_asian18 +=1\n",
        "for i in range(len(dis_emp19)):\n",
        "  if((df19.iloc[i,12]==0 or df19.iloc[i,15]==0) and df19.iloc[i,-3]=='White'):\n",
        "    dis_ec_white19 +=1\n",
        "  if((df19.iloc[i,12]==0 or df19.iloc[i,15]==0) and df19.iloc[i,-3]=='Black or African American'):\n",
        "    dis_ec_black19 +=1\n",
        "  if((df19.iloc[i,12]==0 or df19.iloc[i,15]==0) and df19.iloc[i,-3]=='Asian'):\n",
        "    dis_ec_asian19 +=1\n",
        "for i in range(len(dis_emp20)):\n",
        "  if((df20.iloc[i,13]==0 or df20.iloc[i,16]==0) and df20.iloc[i,-4]=='White'):\n",
        "    dis_ec_white20 +=1\n",
        "  if((df20.iloc[i,13]==0 or df20.iloc[i,16]==0) and df20.iloc[i,-4]=='Black or African American'):\n",
        "    dis_ec_black20 +=1\n",
        "  if((df20.iloc[i,13]==0 or df20.iloc[i,16]==0) and df20.iloc[i,-4]=='Asian'):\n",
        "    dis_ec_asian20 +=1\n",
        "for i in range(len(dis_emp21)):\n",
        "  if((df21.iloc[i,13]==0 or df21.iloc[i,16]==0) and df21.iloc[i,-8]=='White'):\n",
        "    dis_ec_white21 +=1\n",
        "  if((df21.iloc[i,13]==0 or df21.iloc[i,16]==0) and df21.iloc[i,-8]=='Black or African American'):\n",
        "    dis_ec_black21 +=1\n",
        "  if((df21.iloc[i,13]==0 or df21.iloc[i,16]==0) and df21.iloc[i,-8]=='Asian'):\n",
        "    dis_ec_asian21 +=1\n",
        "  "
      ]
    },
    {
      "cell_type": "code",
      "execution_count": null,
      "metadata": {
        "id": "OVB7UBvdi6th"
      },
      "outputs": [
        {
          "ename": "",
          "evalue": "",
          "output_type": "error",
          "traceback": [
            "\u001b[1;31mJupyter cannot be started. Error attempting to locate Jupyter: Running cells with 'Python 3.10.6 64-bit' requires notebook package.\n",
            "\u001b[1;31mRun the following command to install 'jupyter and notebook' into the Python environment. \n",
            "\u001b[1;31mCommand: 'python -m pip install jupyter notebook -U\n",
            "\u001b[1;31mor\n",
            "\u001b[1;31mconda install jupyter notebook -U'\n",
            "Click <a href='https://aka.ms/installJupyterForVSCode'>here</a> for more info."
          ]
        }
      ],
      "source": [
        "from collections import Counter\n",
        "white_cnt17=Counter(race_17)['White']\n",
        "asian_cnt17=Counter(race_17)['Asian']\n",
        "black_cnt17=Counter(race_17)['Black or African American']\n",
        "white_cnt18=Counter(race_18)['White']\n",
        "asian_cnt18=Counter(race_18)['Asian']\n",
        "black_cnt18=Counter(race_18)['Black or African American']\n",
        "white_cnt19=Counter(race_19)['White']\n",
        "asian_cnt19=Counter(race_19)['Asian']\n",
        "black_cnt19=Counter(race_19)['Black or African American']\n",
        "white_cnt20=Counter(race_20)['White']\n",
        "asian_cnt20=Counter(race_20)['Asian']\n",
        "black_cnt20=Counter(race_20)['Black or African American']\n",
        "white_cnt21=Counter(race_21)['White']\n",
        "asian_cnt21=Counter(race_21)['Asian']\n",
        "black_cnt21=Counter(race_21)['Black or African American']"
      ]
    },
    {
      "cell_type": "code",
      "execution_count": null,
      "metadata": {
        "colab": {
          "base_uri": "https://localhost:8080/"
        },
        "id": "IVFkkvQDhs9p",
        "outputId": "bb8ee0e1-2568-4cc2-d7a1-58e0860be917"
      },
      "outputs": [
        {
          "ename": "",
          "evalue": "",
          "output_type": "error",
          "traceback": [
            "\u001b[1;31mJupyter cannot be started. Error attempting to locate Jupyter: Running cells with 'Python 3.10.6 64-bit' requires notebook package.\n",
            "\u001b[1;31mRun the following command to install 'jupyter and notebook' into the Python environment. \n",
            "\u001b[1;31mCommand: 'python -m pip install jupyter notebook -U\n",
            "\u001b[1;31mor\n",
            "\u001b[1;31mconda install jupyter notebook -U'\n",
            "Click <a href='https://aka.ms/installJupyterForVSCode'>here</a> for more info."
          ]
        }
      ],
      "source": [
        "dis_ec_black19"
      ]
    },
    {
      "cell_type": "code",
      "execution_count": null,
      "metadata": {
        "id": "7YV359EIcidt"
      },
      "outputs": [
        {
          "ename": "",
          "evalue": "",
          "output_type": "error",
          "traceback": [
            "\u001b[1;31mJupyter cannot be started. Error attempting to locate Jupyter: Running cells with 'Python 3.10.6 64-bit' requires notebook package.\n",
            "\u001b[1;31mRun the following command to install 'jupyter and notebook' into the Python environment. \n",
            "\u001b[1;31mCommand: 'python -m pip install jupyter notebook -U\n",
            "\u001b[1;31mor\n",
            "\u001b[1;31mconda install jupyter notebook -U'\n",
            "Click <a href='https://aka.ms/installJupyterForVSCode'>here</a> for more info."
          ]
        }
      ],
      "source": [
        "dis_race_white=[round((dis_ec_white17/len(df17['What is your race?']))*100,1),round((dis_ec_white18/len(df18['What is your race?']))*100,1),round((dis_ec_white19/len(df19['What is your race?']))*100,1),round((dis_ec_white20/len(df20['What is your race?']))*100,1),round((dis_ec_white21/len(df21['What is your race?']))*100,1)]\n",
        "dis_race_asian=[round((dis_ec_asian17/len(df17['What is your race?']))*100,1),round((dis_ec_asian18/len(df18['What is your race?']))*100,1),round((dis_ec_asian19/len(df19['What is your race?']))*100,1),round((dis_ec_asian20/len(df20['What is your race?']))*100,1),round((dis_ec_asian21/len(df21['What is your race?']))*100,1)]\n",
        "dis_race_black=[round((dis_ec_black17/len(df17['What is your race?']))*100,1),round((dis_ec_black18/len(df18['What is your race?']))*100,1),round((dis_ec_black19/len(df19['What is your race?']))*100,1),round((dis_ec_black20/len(df20['What is your race?']))*100,1),round((dis_ec_black21/len(df21['What is your race?']))*100,1)]"
      ]
    },
    {
      "cell_type": "code",
      "execution_count": null,
      "metadata": {
        "colab": {
          "base_uri": "https://localhost:8080/"
        },
        "id": "_5-bhzA6dvto",
        "outputId": "deae4f0e-7669-43ea-f31c-fe78eb26add8"
      },
      "outputs": [
        {
          "ename": "",
          "evalue": "",
          "output_type": "error",
          "traceback": [
            "\u001b[1;31mJupyter cannot be started. Error attempting to locate Jupyter: Running cells with 'Python 3.10.6 64-bit' requires notebook package.\n",
            "\u001b[1;31mRun the following command to install 'jupyter and notebook' into the Python environment. \n",
            "\u001b[1;31mCommand: 'python -m pip install jupyter notebook -U\n",
            "\u001b[1;31mor\n",
            "\u001b[1;31mconda install jupyter notebook -U'\n",
            "Click <a href='https://aka.ms/installJupyterForVSCode'>here</a> for more info."
          ]
        }
      ],
      "source": [
        "print(dis_race_white)\n",
        "print(dis_race_asian)\n",
        "print(dis_race_black)"
      ]
    },
    {
      "cell_type": "code",
      "execution_count": null,
      "metadata": {
        "colab": {
          "base_uri": "https://localhost:8080/"
        },
        "id": "x1-NRfsrhwGP",
        "outputId": "15e79da7-efae-4fa8-d15d-2cc538b9c5dd"
      },
      "outputs": [
        {
          "ename": "",
          "evalue": "",
          "output_type": "error",
          "traceback": [
            "\u001b[1;31mJupyter cannot be started. Error attempting to locate Jupyter: Running cells with 'Python 3.10.6 64-bit' requires notebook package.\n",
            "\u001b[1;31mRun the following command to install 'jupyter and notebook' into the Python environment. \n",
            "\u001b[1;31mCommand: 'python -m pip install jupyter notebook -U\n",
            "\u001b[1;31mor\n",
            "\u001b[1;31mconda install jupyter notebook -U'\n",
            "Click <a href='https://aka.ms/installJupyterForVSCode'>here</a> for more info."
          ]
        }
      ],
      "source": [
        "print(df21.columns[13])\n",
        "print(df21.columns[16])"
      ]
    },
    {
      "cell_type": "code",
      "execution_count": null,
      "metadata": {
        "colab": {
          "base_uri": "https://localhost:8080/",
          "height": 542
        },
        "id": "iHSYcZ_FIp7w",
        "outputId": "f7d0daa8-5029-4e83-8cdd-71569d21588a"
      },
      "outputs": [
        {
          "ename": "",
          "evalue": "",
          "output_type": "error",
          "traceback": [
            "\u001b[1;31mJupyter cannot be started. Error attempting to locate Jupyter: Running cells with 'Python 3.10.6 64-bit' requires notebook package.\n",
            "\u001b[1;31mRun the following command to install 'jupyter and notebook' into the Python environment. \n",
            "\u001b[1;31mCommand: 'python -m pip install jupyter notebook -U\n",
            "\u001b[1;31mor\n",
            "\u001b[1;31mconda install jupyter notebook -U'\n",
            "Click <a href='https://aka.ms/installJupyterForVSCode'>here</a> for more info."
          ]
        }
      ],
      "source": [
        "import plotly.graph_objects as go\n",
        "years = ['2017', '2018', '2019', '2020', '2021']\n",
        "\n",
        "fig = go.Figure(data=[\n",
        "    go.Bar(name='White', x=years, y=dis_race_white,text=[str(x)+\"%\" for x in dis_race_white]),\n",
        "    go.Bar(name='Asian', x=years, y=dis_race_asian,text=[str(x)+\"%\" for x in dis_race_asian]),\n",
        "    go.Bar(name='Black or African American', x=years, y=dis_race_black,text=[str(x)+\"%\" for x in dis_race_black])])\n",
        "# Change the bar mode\n",
        "\n",
        "fig.update_layout(barmode='group', xaxis_title='Year', yaxis_title='Fraction of employees not discussing<br>their mental health with employers/coworkers')\n",
        "fig.show()"
      ]
    },
    {
      "cell_type": "code",
      "execution_count": null,
      "metadata": {
        "colab": {
          "base_uri": "https://localhost:8080/",
          "height": 542
        },
        "id": "LcJrohROdupb",
        "outputId": "c0a944f2-53e6-47ac-a1c5-ed993f1c32b9"
      },
      "outputs": [
        {
          "ename": "",
          "evalue": "",
          "output_type": "error",
          "traceback": [
            "\u001b[1;31mJupyter cannot be started. Error attempting to locate Jupyter: Running cells with 'Python 3.10.6 64-bit' requires notebook package.\n",
            "\u001b[1;31mRun the following command to install 'jupyter and notebook' into the Python environment. \n",
            "\u001b[1;31mCommand: 'python -m pip install jupyter notebook -U\n",
            "\u001b[1;31mor\n",
            "\u001b[1;31mconda install jupyter notebook -U'\n",
            "Click <a href='https://aka.ms/installJupyterForVSCode'>here</a> for more info."
          ]
        }
      ],
      "source": [
        "import plotly.graph_objects as go\n",
        "years = ['2017', '2018', '2019', '2020', '2021']\n",
        "fig = go.Figure()\n",
        "fig.add_trace(go.Bar(x=years, y=dis_race_white, name='White',text=[str(x)+\"%\" for x in dis_race_white]))\n",
        "fig.add_trace(go.Bar(x=years, y=dis_race_asian,name='Asian',text=[str(x)+\"%\"  for x in dis_race_asian]))\n",
        "fig.add_trace(go.Bar(x=years, y=dis_race_black,name='Black or African American',text=[str(x)+\"%\"  for x in dis_race_black]))\n",
        "\n",
        "fig.update_layout(barmode='stack', xaxis_title='Year', yaxis_title='Fraction of employees not discussing<br>their mental health with employers/coworkers', title_text=\"Hesitation of employees of different races to discuss their mental health with employers/coworkers\")\n",
        "\n",
        "fig.show()"
      ]
    },
    {
      "cell_type": "code",
      "execution_count": null,
      "metadata": {
        "colab": {
          "base_uri": "https://localhost:8080/",
          "height": 36
        },
        "id": "le4-H-B1hyNj",
        "outputId": "93f39f06-bc45-4afa-e4ce-c4db4287c4c7"
      },
      "outputs": [
        {
          "ename": "",
          "evalue": "",
          "output_type": "error",
          "traceback": [
            "\u001b[1;31mJupyter cannot be started. Error attempting to locate Jupyter: Running cells with 'Python 3.10.6 64-bit' requires notebook package.\n",
            "\u001b[1;31mRun the following command to install 'jupyter and notebook' into the Python environment. \n",
            "\u001b[1;31mCommand: 'python -m pip install jupyter notebook -U\n",
            "\u001b[1;31mor\n",
            "\u001b[1;31mconda install jupyter notebook -U'\n",
            "Click <a href='https://aka.ms/installJupyterForVSCode'>here</a> for more info."
          ]
        }
      ],
      "source": [
        "df17.columns[16]"
      ]
    },
    {
      "cell_type": "markdown",
      "metadata": {
        "id": "ONnV2JLgFYmi"
      },
      "source": [
        "Willingness to dicuss with friends and family"
      ]
    },
    {
      "cell_type": "code",
      "execution_count": null,
      "metadata": {
        "id": "-AvfRgb7h23T"
      },
      "outputs": [
        {
          "ename": "",
          "evalue": "",
          "output_type": "error",
          "traceback": [
            "\u001b[1;31mJupyter cannot be started. Error attempting to locate Jupyter: Running cells with 'Python 3.10.6 64-bit' requires notebook package.\n",
            "\u001b[1;31mRun the following command to install 'jupyter and notebook' into the Python environment. \n",
            "\u001b[1;31mCommand: 'python -m pip install jupyter notebook -U\n",
            "\u001b[1;31mor\n",
            "\u001b[1;31mconda install jupyter notebook -U'\n",
            "Click <a href='https://aka.ms/installJupyterForVSCode'>here</a> for more info."
          ]
        }
      ],
      "source": [
        "will_sh_wh17=df17[df17['What is your race?'] == 'White']['How willing would you be to share with friends and family that you have a mental illness?'].mean()\n",
        "will_sh_as17=df17[df17['What is your race?']=='Asian']['How willing would you be to share with friends and family that you have a mental illness?'].mean()\n",
        "will_sh_bl17=df17[df17['What is your race?']=='Black or African American']['How willing would you be to share with friends and family that you have a mental illness?'].mean()\n",
        "\n",
        "will_sh_wh18=df18[df18['What is your race?'] == 'White']['How willing would you be to share with friends and family that you have a mental illness?'].mean()\n",
        "will_sh_as18=df18[df18['What is your race?']=='Asian']['How willing would you be to share with friends and family that you have a mental illness?'].mean()\n",
        "will_sh_bl18=df18[df18['What is your race?']=='Black or African American']['How willing would you be to share with friends and family that you have a mental illness?'].mean()\n",
        "\n",
        "will_sh_wh19=df19[df19['What is your race?'] == 'White']['How willing would you be to share with friends and family that you have a mental illness?'].mean()\n",
        "will_sh_as19=df19[df19['What is your race?']=='Asian']['How willing would you be to share with friends and family that you have a mental illness?'].mean()\n",
        "will_sh_bl19=df19[df19['What is your race?']=='Black or African American']['How willing would you be to share with friends and family that you have a mental illness?'].mean()\n",
        "\n",
        "will_sh_wh20=df20[df20['What is your race?'] == 'White']['How willing would you be to share with friends and family that you have a mental illness?'].mean()\n",
        "will_sh_as20=df20[df20['What is your race?']=='Asian']['How willing would you be to share with friends and family that you have a mental illness?'].mean()\n",
        "will_sh_bl20=df20[df20['What is your race?']=='Black or African American']['How willing would you be to share with friends and family that you have a mental illness?'].mean()\n",
        "\n",
        "will_sh_wh21=df21[df21['What is your race?'] == 'White']['How willing would you be to share with friends and family that you have a mental illness?'].mean()\n",
        "will_sh_as21=df21[df21['What is your race?']=='Asian']['How willing would you be to share with friends and family that you have a mental illness?'].mean()\n",
        "will_sh_bl21=df21[df21['What is your race?']=='Black or African American']['How willing would you be to share with friends and family that you have a mental illness?'].mean()"
      ]
    },
    {
      "cell_type": "code",
      "execution_count": null,
      "metadata": {
        "id": "633usrDYI9Vg"
      },
      "outputs": [
        {
          "ename": "",
          "evalue": "",
          "output_type": "error",
          "traceback": [
            "\u001b[1;31mJupyter cannot be started. Error attempting to locate Jupyter: Running cells with 'Python 3.10.6 64-bit' requires notebook package.\n",
            "\u001b[1;31mRun the following command to install 'jupyter and notebook' into the Python environment. \n",
            "\u001b[1;31mCommand: 'python -m pip install jupyter notebook -U\n",
            "\u001b[1;31mor\n",
            "\u001b[1;31mconda install jupyter notebook -U'\n",
            "Click <a href='https://aka.ms/installJupyterForVSCode'>here</a> for more info."
          ]
        }
      ],
      "source": [
        "will_sh_wh=[will_sh_wh17,will_sh_wh18,will_sh_wh19,will_sh_wh20,will_sh_wh21]\n",
        "will_sh_as=[will_sh_as17,will_sh_as18,will_sh_as19,will_sh_as20,will_sh_as21]\n",
        "will_sh_bl=[will_sh_bl17,will_sh_bl18,will_sh_bl19,will_sh_bl20,will_sh_bl21]"
      ]
    },
    {
      "cell_type": "code",
      "execution_count": null,
      "metadata": {
        "colab": {
          "base_uri": "https://localhost:8080/",
          "height": 542
        },
        "id": "yfXnWmXKGWWd",
        "outputId": "9e824c70-4c86-46cd-ad5d-80ff5237499a"
      },
      "outputs": [
        {
          "ename": "",
          "evalue": "",
          "output_type": "error",
          "traceback": [
            "\u001b[1;31mJupyter cannot be started. Error attempting to locate Jupyter: Running cells with 'Python 3.10.6 64-bit' requires notebook package.\n",
            "\u001b[1;31mRun the following command to install 'jupyter and notebook' into the Python environment. \n",
            "\u001b[1;31mCommand: 'python -m pip install jupyter notebook -U\n",
            "\u001b[1;31mor\n",
            "\u001b[1;31mconda install jupyter notebook -U'\n",
            "Click <a href='https://aka.ms/installJupyterForVSCode'>here</a> for more info."
          ]
        }
      ],
      "source": [
        "import plotly.graph_objects as go\n",
        "years = ['2017', '2018', '2019', '2020', '2021']\n",
        "\n",
        "fig = go.Figure(data=[\n",
        "    go.Bar(name='White', x=years, y=will_sh_wh,text=[round(x,1) for x in will_sh_wh]),\n",
        "    go.Bar(name='Asian', x=years, y=will_sh_as,text=[round(x,1) for x in will_sh_as]),\n",
        "    go.Bar(name='Black or African American', x=years, y=will_sh_bl,text=[round(x,1) for x in will_sh_bl])])\n",
        "# Change the bar mode\n",
        "\n",
        "fig.update_layout(barmode='group', xaxis_title='Year', yaxis_title='Fraction of employees not discussing<br>their mental health with employers/coworkers')\n",
        "fig.show()"
      ]
    },
    {
      "cell_type": "code",
      "execution_count": null,
      "metadata": {
        "id": "jW9ilq0dLtIB"
      },
      "outputs": [
        {
          "ename": "",
          "evalue": "",
          "output_type": "error",
          "traceback": [
            "\u001b[1;31mJupyter cannot be started. Error attempting to locate Jupyter: Running cells with 'Python 3.10.6 64-bit' requires notebook package.\n",
            "\u001b[1;31mRun the following command to install 'jupyter and notebook' into the Python environment. \n",
            "\u001b[1;31mCommand: 'python -m pip install jupyter notebook -U\n",
            "\u001b[1;31mor\n",
            "\u001b[1;31mconda install jupyter notebook -U'\n",
            "Click <a href='https://aka.ms/installJupyterForVSCode'>here</a> for more info."
          ]
        }
      ],
      "source": [
        "will_sh17=df17['How willing would you be to share with friends and family that you have a mental illness?'].mean()\n",
        "will_sh18=df18['How willing would you be to share with friends and family that you have a mental illness?'].mean()\n",
        "will_sh19=df19['How willing would you be to share with friends and family that you have a mental illness?'].mean()\n",
        "will_sh20=df20['How willing would you be to share with friends and family that you have a mental illness?'].mean()\n",
        "will_sh21=df21['How willing would you be to share with friends and family that you have a mental illness?'].mean()"
      ]
    },
    {
      "cell_type": "code",
      "execution_count": null,
      "metadata": {
        "colab": {
          "base_uri": "https://localhost:8080/"
        },
        "id": "JC2IE4HEL76e",
        "outputId": "651a1e6c-e30c-40e9-cb59-3f80f6b4919e"
      },
      "outputs": [
        {
          "ename": "",
          "evalue": "",
          "output_type": "error",
          "traceback": [
            "\u001b[1;31mJupyter cannot be started. Error attempting to locate Jupyter: Running cells with 'Python 3.10.6 64-bit' requires notebook package.\n",
            "\u001b[1;31mRun the following command to install 'jupyter and notebook' into the Python environment. \n",
            "\u001b[1;31mCommand: 'python -m pip install jupyter notebook -U\n",
            "\u001b[1;31mor\n",
            "\u001b[1;31mconda install jupyter notebook -U'\n",
            "Click <a href='https://aka.ms/installJupyterForVSCode'>here</a> for more info."
          ]
        }
      ],
      "source": [
        "print(will_sh17,will_sh18,will_sh19,will_sh20,will_sh21)"
      ]
    },
    {
      "cell_type": "code",
      "execution_count": null,
      "metadata": {
        "colab": {
          "base_uri": "https://localhost:8080/",
          "height": 36
        },
        "id": "LlzK4aUEGf8e",
        "outputId": "779851c5-3108-4b59-f535-6e3a87d5b1d9"
      },
      "outputs": [
        {
          "ename": "",
          "evalue": "",
          "output_type": "error",
          "traceback": [
            "\u001b[1;31mJupyter cannot be started. Error attempting to locate Jupyter: Running cells with 'Python 3.10.6 64-bit' requires notebook package.\n",
            "\u001b[1;31mRun the following command to install 'jupyter and notebook' into the Python environment. \n",
            "\u001b[1;31mCommand: 'python -m pip install jupyter notebook -U\n",
            "\u001b[1;31mor\n",
            "\u001b[1;31mconda install jupyter notebook -U'\n",
            "Click <a href='https://aka.ms/installJupyterForVSCode'>here</a> for more info."
          ]
        }
      ],
      "source": [
        "df21.columns[13]"
      ]
    },
    {
      "cell_type": "markdown",
      "metadata": {
        "id": "cIslmIS2Ks0d"
      },
      "source": [
        "Identified as mentally ill"
      ]
    },
    {
      "cell_type": "code",
      "execution_count": null,
      "metadata": {
        "id": "4ENpEA0bKcVx"
      },
      "outputs": [
        {
          "ename": "",
          "evalue": "",
          "output_type": "error",
          "traceback": [
            "\u001b[1;31mJupyter cannot be started. Error attempting to locate Jupyter: Running cells with 'Python 3.10.6 64-bit' requires notebook package.\n",
            "\u001b[1;31mRun the following command to install 'jupyter and notebook' into the Python environment. \n",
            "\u001b[1;31mCommand: 'python -m pip install jupyter notebook -U\n",
            "\u001b[1;31mor\n",
            "\u001b[1;31mconda install jupyter notebook -U'\n",
            "Click <a href='https://aka.ms/installJupyterForVSCode'>here</a> for more info."
          ]
        }
      ],
      "source": [
        "id_mh17=df17[df17['Are you openly identified at work as a person with a mental health issue?']==1]['Are you openly identified at work as a person with a mental health issue?'].count()\n",
        "id_mh18=df18[df18['Are you openly identified at work as a person with a mental health issue?']==1]['Are you openly identified at work as a person with a mental health issue?'].count()\n",
        "id_mh19=df19[df19['Are you openly identified at work as a person with a mental health issue?']==1]['Are you openly identified at work as a person with a mental health issue?'].count()\n",
        "id_mh20=df20[df20['Are you openly identified at work as a person with a mental health issue?']==1]['Are you openly identified at work as a person with a mental health issue?'].count()\n",
        "id_mh21=df21[df21['Are you openly identified at work as a person with a mental health issue?']==1]['Are you openly identified at work as a person with a mental health issue?'].count()"
      ]
    },
    {
      "cell_type": "code",
      "execution_count": null,
      "metadata": {
        "colab": {
          "base_uri": "https://localhost:8080/"
        },
        "id": "KO6cE_9ULAsA",
        "outputId": "a9dd9f2b-997d-4f51-e0dc-049684b28d4a"
      },
      "outputs": [
        {
          "ename": "",
          "evalue": "",
          "output_type": "error",
          "traceback": [
            "\u001b[1;31mJupyter cannot be started. Error attempting to locate Jupyter: Running cells with 'Python 3.10.6 64-bit' requires notebook package.\n",
            "\u001b[1;31mRun the following command to install 'jupyter and notebook' into the Python environment. \n",
            "\u001b[1;31mCommand: 'python -m pip install jupyter notebook -U\n",
            "\u001b[1;31mor\n",
            "\u001b[1;31mconda install jupyter notebook -U'\n",
            "Click <a href='https://aka.ms/installJupyterForVSCode'>here</a> for more info."
          ]
        }
      ],
      "source": [
        "print(id_mh17/len(df17['Are you openly identified at work as a person with a mental health issue?']),id_mh18/len(df18['Are you openly identified at work as a person with a mental health issue?']),id_mh19/len(df19['Are you openly identified at work as a person with a mental health issue?']),id_mh20/len(df20['Are you openly identified at work as a person with a mental health issue?']),id_mh21/len(df21['Are you openly identified at work as a person with a mental health issue?']))"
      ]
    },
    {
      "cell_type": "markdown",
      "metadata": {
        "id": "qmjg4sQMMr5K"
      },
      "source": [
        "seek mh treatment"
      ]
    },
    {
      "cell_type": "code",
      "execution_count": null,
      "metadata": {
        "id": "k2gA_D9tLHp_"
      },
      "outputs": [
        {
          "ename": "",
          "evalue": "",
          "output_type": "error",
          "traceback": [
            "\u001b[1;31mJupyter cannot be started. Error attempting to locate Jupyter: Running cells with 'Python 3.10.6 64-bit' requires notebook package.\n",
            "\u001b[1;31mRun the following command to install 'jupyter and notebook' into the Python environment. \n",
            "\u001b[1;31mCommand: 'python -m pip install jupyter notebook -U\n",
            "\u001b[1;31mor\n",
            "\u001b[1;31mconda install jupyter notebook -U'\n",
            "Click <a href='https://aka.ms/installJupyterForVSCode'>here</a> for more info."
          ]
        }
      ],
      "source": [
        "mh_treat17=df17[df17['Have you ever sought treatment for a mental health disorder from a mental health professional?']==1]['Have you ever sought treatment for a mental health disorder from a mental health professional?'].count()/len(df17['Have you ever sought treatment for a mental health disorder from a mental health professional?'])\n",
        "mh_treat18=df18[df18['Have you ever sought treatment for a mental health disorder from a mental health professional?']==1]['Have you ever sought treatment for a mental health disorder from a mental health professional?'].count()/len(df18['Have you ever sought treatment for a mental health disorder from a mental health professional?'])\n",
        "mh_treat19=df19[df19['Have you ever sought treatment for a mental health disorder from a mental health professional?']==1]['Have you ever sought treatment for a mental health disorder from a mental health professional?'].count()/len(df19['Have you ever sought treatment for a mental health disorder from a mental health professional?'])\n",
        "mh_treat20=df20[df20['Have you ever sought treatment for a mental health disorder from a mental health professional?']==1]['Have you ever sought treatment for a mental health disorder from a mental health professional?'].count()/len(df20['Have you ever sought treatment for a mental health disorder from a mental health professional?'])\n",
        "mh_treat21=df21[df21['Have you ever sought treatment for a mental health disorder from a mental health professional?']==1]['Have you ever sought treatment for a mental health disorder from a mental health professional?'].count()/len(df21['Have you ever sought treatment for a mental health disorder from a mental health professional?'])"
      ]
    },
    {
      "cell_type": "code",
      "execution_count": null,
      "metadata": {
        "colab": {
          "base_uri": "https://localhost:8080/"
        },
        "id": "qkN4XVU7NC1t",
        "outputId": "17a538f0-a335-4334-eb11-25dd33f288e5"
      },
      "outputs": [
        {
          "ename": "",
          "evalue": "",
          "output_type": "error",
          "traceback": [
            "\u001b[1;31mJupyter cannot be started. Error attempting to locate Jupyter: Running cells with 'Python 3.10.6 64-bit' requires notebook package.\n",
            "\u001b[1;31mRun the following command to install 'jupyter and notebook' into the Python environment. \n",
            "\u001b[1;31mCommand: 'python -m pip install jupyter notebook -U\n",
            "\u001b[1;31mor\n",
            "\u001b[1;31mconda install jupyter notebook -U'\n",
            "Click <a href='https://aka.ms/installJupyterForVSCode'>here</a> for more info."
          ]
        }
      ],
      "source": [
        "print(mh_treat17,mh_treat18,mh_treat19,mh_treat20,mh_treat21)"
      ]
    },
    {
      "cell_type": "code",
      "execution_count": null,
      "metadata": {
        "id": "9G9Ohvd0NFyd"
      },
      "outputs": [
        {
          "ename": "",
          "evalue": "",
          "output_type": "error",
          "traceback": [
            "\u001b[1;31mJupyter cannot be started. Error attempting to locate Jupyter: Running cells with 'Python 3.10.6 64-bit' requires notebook package.\n",
            "\u001b[1;31mRun the following command to install 'jupyter and notebook' into the Python environment. \n",
            "\u001b[1;31mCommand: 'python -m pip install jupyter notebook -U\n",
            "\u001b[1;31mor\n",
            "\u001b[1;31mconda install jupyter notebook -U'\n",
            "Click <a href='https://aka.ms/installJupyterForVSCode'>here</a> for more info."
          ]
        }
      ],
      "source": []
    }
  ],
  "metadata": {
    "colab": {
      "collapsed_sections": [],
      "provenance": []
    },
    "kernelspec": {
      "display_name": "Python 3.10.6 ('env': venv)",
      "language": "python",
      "name": "python3"
    },
    "language_info": {
      "name": "python",
      "version": "3.10.6"
    },
    "vscode": {
      "interpreter": {
        "hash": "c9918be59cbcc294616933db71a0026f61087b4830d3eafd4aa1bf9a4a811aa6"
      }
    }
  },
  "nbformat": 4,
  "nbformat_minor": 0
}
